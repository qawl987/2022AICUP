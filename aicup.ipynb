{
  "nbformat": 4,
  "nbformat_minor": 0,
  "metadata": {
    "colab": {
      "provenance": [],
      "collapsed_sections": [
        "U-O0ShLN5PY5",
        "VGfziDMh6iOP",
        "GK0TzJU52cCt",
        "p8Siw79Z55JZ",
        "1561w4Zl6hmH",
        "VrzZZGNu_0CJ",
        "5SUC-vq-70Ye"
      ]
    },
    "kernelspec": {
      "name": "python3",
      "display_name": "Python 3"
    },
    "accelerator": "GPU",
    "gpuClass": "standard",
    "widgets": {
      "application/vnd.jupyter.widget-state+json": {
        "7bb3a4c4eba04cdcb0eb06aef75b5a53": {
          "model_module": "@jupyter-widgets/controls",
          "model_name": "HBoxModel",
          "model_module_version": "1.5.0",
          "state": {
            "_dom_classes": [],
            "_model_module": "@jupyter-widgets/controls",
            "_model_module_version": "1.5.0",
            "_model_name": "HBoxModel",
            "_view_count": null,
            "_view_module": "@jupyter-widgets/controls",
            "_view_module_version": "1.5.0",
            "_view_name": "HBoxView",
            "box_style": "",
            "children": [
              "IPY_MODEL_5a68d732195f470fbbb1a7d7cf2cd709",
              "IPY_MODEL_136329c0a5d04a5a9b605ea28196b1a5",
              "IPY_MODEL_9f5a98ba07d34e299dc1b749b8ec1aea"
            ],
            "layout": "IPY_MODEL_56b2ddeb57c240b2931f81c9c75a6b4a"
          }
        },
        "5a68d732195f470fbbb1a7d7cf2cd709": {
          "model_module": "@jupyter-widgets/controls",
          "model_name": "HTMLModel",
          "model_module_version": "1.5.0",
          "state": {
            "_dom_classes": [],
            "_model_module": "@jupyter-widgets/controls",
            "_model_module_version": "1.5.0",
            "_model_name": "HTMLModel",
            "_view_count": null,
            "_view_module": "@jupyter-widgets/controls",
            "_view_module_version": "1.5.0",
            "_view_name": "HTMLView",
            "description": "",
            "description_tooltip": null,
            "layout": "IPY_MODEL_6fb23524a2354c7a92dde0d4ff6814b7",
            "placeholder": "​",
            "style": "IPY_MODEL_71fabd6ba0e043679557f05ecae95ba1",
            "value": "Downloading: 100%"
          }
        },
        "136329c0a5d04a5a9b605ea28196b1a5": {
          "model_module": "@jupyter-widgets/controls",
          "model_name": "FloatProgressModel",
          "model_module_version": "1.5.0",
          "state": {
            "_dom_classes": [],
            "_model_module": "@jupyter-widgets/controls",
            "_model_module_version": "1.5.0",
            "_model_name": "FloatProgressModel",
            "_view_count": null,
            "_view_module": "@jupyter-widgets/controls",
            "_view_module_version": "1.5.0",
            "_view_name": "ProgressView",
            "bar_style": "success",
            "description": "",
            "description_tooltip": null,
            "layout": "IPY_MODEL_9c1659f393964e558a32390a6443e28b",
            "max": 481,
            "min": 0,
            "orientation": "horizontal",
            "style": "IPY_MODEL_b7e42800dda14dd4972a50dcb8b72dd0",
            "value": 481
          }
        },
        "9f5a98ba07d34e299dc1b749b8ec1aea": {
          "model_module": "@jupyter-widgets/controls",
          "model_name": "HTMLModel",
          "model_module_version": "1.5.0",
          "state": {
            "_dom_classes": [],
            "_model_module": "@jupyter-widgets/controls",
            "_model_module_version": "1.5.0",
            "_model_name": "HTMLModel",
            "_view_count": null,
            "_view_module": "@jupyter-widgets/controls",
            "_view_module_version": "1.5.0",
            "_view_name": "HTMLView",
            "description": "",
            "description_tooltip": null,
            "layout": "IPY_MODEL_71efc814861c4407a0a78ce1efcf1040",
            "placeholder": "​",
            "style": "IPY_MODEL_e39989c65806417192f3689375406e00",
            "value": " 481/481 [00:00&lt;00:00, 17.0kB/s]"
          }
        },
        "56b2ddeb57c240b2931f81c9c75a6b4a": {
          "model_module": "@jupyter-widgets/base",
          "model_name": "LayoutModel",
          "model_module_version": "1.2.0",
          "state": {
            "_model_module": "@jupyter-widgets/base",
            "_model_module_version": "1.2.0",
            "_model_name": "LayoutModel",
            "_view_count": null,
            "_view_module": "@jupyter-widgets/base",
            "_view_module_version": "1.2.0",
            "_view_name": "LayoutView",
            "align_content": null,
            "align_items": null,
            "align_self": null,
            "border": null,
            "bottom": null,
            "display": null,
            "flex": null,
            "flex_flow": null,
            "grid_area": null,
            "grid_auto_columns": null,
            "grid_auto_flow": null,
            "grid_auto_rows": null,
            "grid_column": null,
            "grid_gap": null,
            "grid_row": null,
            "grid_template_areas": null,
            "grid_template_columns": null,
            "grid_template_rows": null,
            "height": null,
            "justify_content": null,
            "justify_items": null,
            "left": null,
            "margin": null,
            "max_height": null,
            "max_width": null,
            "min_height": null,
            "min_width": null,
            "object_fit": null,
            "object_position": null,
            "order": null,
            "overflow": null,
            "overflow_x": null,
            "overflow_y": null,
            "padding": null,
            "right": null,
            "top": null,
            "visibility": null,
            "width": null
          }
        },
        "6fb23524a2354c7a92dde0d4ff6814b7": {
          "model_module": "@jupyter-widgets/base",
          "model_name": "LayoutModel",
          "model_module_version": "1.2.0",
          "state": {
            "_model_module": "@jupyter-widgets/base",
            "_model_module_version": "1.2.0",
            "_model_name": "LayoutModel",
            "_view_count": null,
            "_view_module": "@jupyter-widgets/base",
            "_view_module_version": "1.2.0",
            "_view_name": "LayoutView",
            "align_content": null,
            "align_items": null,
            "align_self": null,
            "border": null,
            "bottom": null,
            "display": null,
            "flex": null,
            "flex_flow": null,
            "grid_area": null,
            "grid_auto_columns": null,
            "grid_auto_flow": null,
            "grid_auto_rows": null,
            "grid_column": null,
            "grid_gap": null,
            "grid_row": null,
            "grid_template_areas": null,
            "grid_template_columns": null,
            "grid_template_rows": null,
            "height": null,
            "justify_content": null,
            "justify_items": null,
            "left": null,
            "margin": null,
            "max_height": null,
            "max_width": null,
            "min_height": null,
            "min_width": null,
            "object_fit": null,
            "object_position": null,
            "order": null,
            "overflow": null,
            "overflow_x": null,
            "overflow_y": null,
            "padding": null,
            "right": null,
            "top": null,
            "visibility": null,
            "width": null
          }
        },
        "71fabd6ba0e043679557f05ecae95ba1": {
          "model_module": "@jupyter-widgets/controls",
          "model_name": "DescriptionStyleModel",
          "model_module_version": "1.5.0",
          "state": {
            "_model_module": "@jupyter-widgets/controls",
            "_model_module_version": "1.5.0",
            "_model_name": "DescriptionStyleModel",
            "_view_count": null,
            "_view_module": "@jupyter-widgets/base",
            "_view_module_version": "1.2.0",
            "_view_name": "StyleView",
            "description_width": ""
          }
        },
        "9c1659f393964e558a32390a6443e28b": {
          "model_module": "@jupyter-widgets/base",
          "model_name": "LayoutModel",
          "model_module_version": "1.2.0",
          "state": {
            "_model_module": "@jupyter-widgets/base",
            "_model_module_version": "1.2.0",
            "_model_name": "LayoutModel",
            "_view_count": null,
            "_view_module": "@jupyter-widgets/base",
            "_view_module_version": "1.2.0",
            "_view_name": "LayoutView",
            "align_content": null,
            "align_items": null,
            "align_self": null,
            "border": null,
            "bottom": null,
            "display": null,
            "flex": null,
            "flex_flow": null,
            "grid_area": null,
            "grid_auto_columns": null,
            "grid_auto_flow": null,
            "grid_auto_rows": null,
            "grid_column": null,
            "grid_gap": null,
            "grid_row": null,
            "grid_template_areas": null,
            "grid_template_columns": null,
            "grid_template_rows": null,
            "height": null,
            "justify_content": null,
            "justify_items": null,
            "left": null,
            "margin": null,
            "max_height": null,
            "max_width": null,
            "min_height": null,
            "min_width": null,
            "object_fit": null,
            "object_position": null,
            "order": null,
            "overflow": null,
            "overflow_x": null,
            "overflow_y": null,
            "padding": null,
            "right": null,
            "top": null,
            "visibility": null,
            "width": null
          }
        },
        "b7e42800dda14dd4972a50dcb8b72dd0": {
          "model_module": "@jupyter-widgets/controls",
          "model_name": "ProgressStyleModel",
          "model_module_version": "1.5.0",
          "state": {
            "_model_module": "@jupyter-widgets/controls",
            "_model_module_version": "1.5.0",
            "_model_name": "ProgressStyleModel",
            "_view_count": null,
            "_view_module": "@jupyter-widgets/base",
            "_view_module_version": "1.2.0",
            "_view_name": "StyleView",
            "bar_color": null,
            "description_width": ""
          }
        },
        "71efc814861c4407a0a78ce1efcf1040": {
          "model_module": "@jupyter-widgets/base",
          "model_name": "LayoutModel",
          "model_module_version": "1.2.0",
          "state": {
            "_model_module": "@jupyter-widgets/base",
            "_model_module_version": "1.2.0",
            "_model_name": "LayoutModel",
            "_view_count": null,
            "_view_module": "@jupyter-widgets/base",
            "_view_module_version": "1.2.0",
            "_view_name": "LayoutView",
            "align_content": null,
            "align_items": null,
            "align_self": null,
            "border": null,
            "bottom": null,
            "display": null,
            "flex": null,
            "flex_flow": null,
            "grid_area": null,
            "grid_auto_columns": null,
            "grid_auto_flow": null,
            "grid_auto_rows": null,
            "grid_column": null,
            "grid_gap": null,
            "grid_row": null,
            "grid_template_areas": null,
            "grid_template_columns": null,
            "grid_template_rows": null,
            "height": null,
            "justify_content": null,
            "justify_items": null,
            "left": null,
            "margin": null,
            "max_height": null,
            "max_width": null,
            "min_height": null,
            "min_width": null,
            "object_fit": null,
            "object_position": null,
            "order": null,
            "overflow": null,
            "overflow_x": null,
            "overflow_y": null,
            "padding": null,
            "right": null,
            "top": null,
            "visibility": null,
            "width": null
          }
        },
        "e39989c65806417192f3689375406e00": {
          "model_module": "@jupyter-widgets/controls",
          "model_name": "DescriptionStyleModel",
          "model_module_version": "1.5.0",
          "state": {
            "_model_module": "@jupyter-widgets/controls",
            "_model_module_version": "1.5.0",
            "_model_name": "DescriptionStyleModel",
            "_view_count": null,
            "_view_module": "@jupyter-widgets/base",
            "_view_module_version": "1.2.0",
            "_view_name": "StyleView",
            "description_width": ""
          }
        },
        "467ed0b244704df6b630bfb5f5195040": {
          "model_module": "@jupyter-widgets/controls",
          "model_name": "HBoxModel",
          "model_module_version": "1.5.0",
          "state": {
            "_dom_classes": [],
            "_model_module": "@jupyter-widgets/controls",
            "_model_module_version": "1.5.0",
            "_model_name": "HBoxModel",
            "_view_count": null,
            "_view_module": "@jupyter-widgets/controls",
            "_view_module_version": "1.5.0",
            "_view_name": "HBoxView",
            "box_style": "",
            "children": [
              "IPY_MODEL_8db286a77dfb48bb93083bf9a51591a2",
              "IPY_MODEL_ae2760e05cf9463aa85dcdd1e9136698",
              "IPY_MODEL_2f4aa5ee990f4120bd2580001ba90f11"
            ],
            "layout": "IPY_MODEL_238078a2cf234234bb22824d5e736530"
          }
        },
        "8db286a77dfb48bb93083bf9a51591a2": {
          "model_module": "@jupyter-widgets/controls",
          "model_name": "HTMLModel",
          "model_module_version": "1.5.0",
          "state": {
            "_dom_classes": [],
            "_model_module": "@jupyter-widgets/controls",
            "_model_module_version": "1.5.0",
            "_model_name": "HTMLModel",
            "_view_count": null,
            "_view_module": "@jupyter-widgets/controls",
            "_view_module_version": "1.5.0",
            "_view_name": "HTMLView",
            "description": "",
            "description_tooltip": null,
            "layout": "IPY_MODEL_9d1f16eee8674099921cc5e24a5582c9",
            "placeholder": "​",
            "style": "IPY_MODEL_e3413041835f4f56b469a35af4f8009e",
            "value": "Downloading: 100%"
          }
        },
        "ae2760e05cf9463aa85dcdd1e9136698": {
          "model_module": "@jupyter-widgets/controls",
          "model_name": "FloatProgressModel",
          "model_module_version": "1.5.0",
          "state": {
            "_dom_classes": [],
            "_model_module": "@jupyter-widgets/controls",
            "_model_module_version": "1.5.0",
            "_model_name": "FloatProgressModel",
            "_view_count": null,
            "_view_module": "@jupyter-widgets/controls",
            "_view_module_version": "1.5.0",
            "_view_name": "ProgressView",
            "bar_style": "success",
            "description": "",
            "description_tooltip": null,
            "layout": "IPY_MODEL_59fc3e40b6a94ebb981db9e45fb5a263",
            "max": 898823,
            "min": 0,
            "orientation": "horizontal",
            "style": "IPY_MODEL_ae970d7a75534b7f8f890646b09c0fff",
            "value": 898823
          }
        },
        "2f4aa5ee990f4120bd2580001ba90f11": {
          "model_module": "@jupyter-widgets/controls",
          "model_name": "HTMLModel",
          "model_module_version": "1.5.0",
          "state": {
            "_dom_classes": [],
            "_model_module": "@jupyter-widgets/controls",
            "_model_module_version": "1.5.0",
            "_model_name": "HTMLModel",
            "_view_count": null,
            "_view_module": "@jupyter-widgets/controls",
            "_view_module_version": "1.5.0",
            "_view_name": "HTMLView",
            "description": "",
            "description_tooltip": null,
            "layout": "IPY_MODEL_031f1f02ead948d9909a9a284e3189c4",
            "placeholder": "​",
            "style": "IPY_MODEL_f6fbe4796e244264ba4775324c74d32d",
            "value": " 899k/899k [00:01&lt;00:00, 979kB/s]"
          }
        },
        "238078a2cf234234bb22824d5e736530": {
          "model_module": "@jupyter-widgets/base",
          "model_name": "LayoutModel",
          "model_module_version": "1.2.0",
          "state": {
            "_model_module": "@jupyter-widgets/base",
            "_model_module_version": "1.2.0",
            "_model_name": "LayoutModel",
            "_view_count": null,
            "_view_module": "@jupyter-widgets/base",
            "_view_module_version": "1.2.0",
            "_view_name": "LayoutView",
            "align_content": null,
            "align_items": null,
            "align_self": null,
            "border": null,
            "bottom": null,
            "display": null,
            "flex": null,
            "flex_flow": null,
            "grid_area": null,
            "grid_auto_columns": null,
            "grid_auto_flow": null,
            "grid_auto_rows": null,
            "grid_column": null,
            "grid_gap": null,
            "grid_row": null,
            "grid_template_areas": null,
            "grid_template_columns": null,
            "grid_template_rows": null,
            "height": null,
            "justify_content": null,
            "justify_items": null,
            "left": null,
            "margin": null,
            "max_height": null,
            "max_width": null,
            "min_height": null,
            "min_width": null,
            "object_fit": null,
            "object_position": null,
            "order": null,
            "overflow": null,
            "overflow_x": null,
            "overflow_y": null,
            "padding": null,
            "right": null,
            "top": null,
            "visibility": null,
            "width": null
          }
        },
        "9d1f16eee8674099921cc5e24a5582c9": {
          "model_module": "@jupyter-widgets/base",
          "model_name": "LayoutModel",
          "model_module_version": "1.2.0",
          "state": {
            "_model_module": "@jupyter-widgets/base",
            "_model_module_version": "1.2.0",
            "_model_name": "LayoutModel",
            "_view_count": null,
            "_view_module": "@jupyter-widgets/base",
            "_view_module_version": "1.2.0",
            "_view_name": "LayoutView",
            "align_content": null,
            "align_items": null,
            "align_self": null,
            "border": null,
            "bottom": null,
            "display": null,
            "flex": null,
            "flex_flow": null,
            "grid_area": null,
            "grid_auto_columns": null,
            "grid_auto_flow": null,
            "grid_auto_rows": null,
            "grid_column": null,
            "grid_gap": null,
            "grid_row": null,
            "grid_template_areas": null,
            "grid_template_columns": null,
            "grid_template_rows": null,
            "height": null,
            "justify_content": null,
            "justify_items": null,
            "left": null,
            "margin": null,
            "max_height": null,
            "max_width": null,
            "min_height": null,
            "min_width": null,
            "object_fit": null,
            "object_position": null,
            "order": null,
            "overflow": null,
            "overflow_x": null,
            "overflow_y": null,
            "padding": null,
            "right": null,
            "top": null,
            "visibility": null,
            "width": null
          }
        },
        "e3413041835f4f56b469a35af4f8009e": {
          "model_module": "@jupyter-widgets/controls",
          "model_name": "DescriptionStyleModel",
          "model_module_version": "1.5.0",
          "state": {
            "_model_module": "@jupyter-widgets/controls",
            "_model_module_version": "1.5.0",
            "_model_name": "DescriptionStyleModel",
            "_view_count": null,
            "_view_module": "@jupyter-widgets/base",
            "_view_module_version": "1.2.0",
            "_view_name": "StyleView",
            "description_width": ""
          }
        },
        "59fc3e40b6a94ebb981db9e45fb5a263": {
          "model_module": "@jupyter-widgets/base",
          "model_name": "LayoutModel",
          "model_module_version": "1.2.0",
          "state": {
            "_model_module": "@jupyter-widgets/base",
            "_model_module_version": "1.2.0",
            "_model_name": "LayoutModel",
            "_view_count": null,
            "_view_module": "@jupyter-widgets/base",
            "_view_module_version": "1.2.0",
            "_view_name": "LayoutView",
            "align_content": null,
            "align_items": null,
            "align_self": null,
            "border": null,
            "bottom": null,
            "display": null,
            "flex": null,
            "flex_flow": null,
            "grid_area": null,
            "grid_auto_columns": null,
            "grid_auto_flow": null,
            "grid_auto_rows": null,
            "grid_column": null,
            "grid_gap": null,
            "grid_row": null,
            "grid_template_areas": null,
            "grid_template_columns": null,
            "grid_template_rows": null,
            "height": null,
            "justify_content": null,
            "justify_items": null,
            "left": null,
            "margin": null,
            "max_height": null,
            "max_width": null,
            "min_height": null,
            "min_width": null,
            "object_fit": null,
            "object_position": null,
            "order": null,
            "overflow": null,
            "overflow_x": null,
            "overflow_y": null,
            "padding": null,
            "right": null,
            "top": null,
            "visibility": null,
            "width": null
          }
        },
        "ae970d7a75534b7f8f890646b09c0fff": {
          "model_module": "@jupyter-widgets/controls",
          "model_name": "ProgressStyleModel",
          "model_module_version": "1.5.0",
          "state": {
            "_model_module": "@jupyter-widgets/controls",
            "_model_module_version": "1.5.0",
            "_model_name": "ProgressStyleModel",
            "_view_count": null,
            "_view_module": "@jupyter-widgets/base",
            "_view_module_version": "1.2.0",
            "_view_name": "StyleView",
            "bar_color": null,
            "description_width": ""
          }
        },
        "031f1f02ead948d9909a9a284e3189c4": {
          "model_module": "@jupyter-widgets/base",
          "model_name": "LayoutModel",
          "model_module_version": "1.2.0",
          "state": {
            "_model_module": "@jupyter-widgets/base",
            "_model_module_version": "1.2.0",
            "_model_name": "LayoutModel",
            "_view_count": null,
            "_view_module": "@jupyter-widgets/base",
            "_view_module_version": "1.2.0",
            "_view_name": "LayoutView",
            "align_content": null,
            "align_items": null,
            "align_self": null,
            "border": null,
            "bottom": null,
            "display": null,
            "flex": null,
            "flex_flow": null,
            "grid_area": null,
            "grid_auto_columns": null,
            "grid_auto_flow": null,
            "grid_auto_rows": null,
            "grid_column": null,
            "grid_gap": null,
            "grid_row": null,
            "grid_template_areas": null,
            "grid_template_columns": null,
            "grid_template_rows": null,
            "height": null,
            "justify_content": null,
            "justify_items": null,
            "left": null,
            "margin": null,
            "max_height": null,
            "max_width": null,
            "min_height": null,
            "min_width": null,
            "object_fit": null,
            "object_position": null,
            "order": null,
            "overflow": null,
            "overflow_x": null,
            "overflow_y": null,
            "padding": null,
            "right": null,
            "top": null,
            "visibility": null,
            "width": null
          }
        },
        "f6fbe4796e244264ba4775324c74d32d": {
          "model_module": "@jupyter-widgets/controls",
          "model_name": "DescriptionStyleModel",
          "model_module_version": "1.5.0",
          "state": {
            "_model_module": "@jupyter-widgets/controls",
            "_model_module_version": "1.5.0",
            "_model_name": "DescriptionStyleModel",
            "_view_count": null,
            "_view_module": "@jupyter-widgets/base",
            "_view_module_version": "1.2.0",
            "_view_name": "StyleView",
            "description_width": ""
          }
        },
        "ea673c5754d34a77bc7968cd233449d4": {
          "model_module": "@jupyter-widgets/controls",
          "model_name": "HBoxModel",
          "model_module_version": "1.5.0",
          "state": {
            "_dom_classes": [],
            "_model_module": "@jupyter-widgets/controls",
            "_model_module_version": "1.5.0",
            "_model_name": "HBoxModel",
            "_view_count": null,
            "_view_module": "@jupyter-widgets/controls",
            "_view_module_version": "1.5.0",
            "_view_name": "HBoxView",
            "box_style": "",
            "children": [
              "IPY_MODEL_134fee50dbbe458881e05f8619dd3de7",
              "IPY_MODEL_bf86b4ad68ff4ccba2790348b33c8b93",
              "IPY_MODEL_bd87e9d8d5b54306afb23a2cea3d4e21"
            ],
            "layout": "IPY_MODEL_4923beb6a7bd41838dd05614c1d8fd63"
          }
        },
        "134fee50dbbe458881e05f8619dd3de7": {
          "model_module": "@jupyter-widgets/controls",
          "model_name": "HTMLModel",
          "model_module_version": "1.5.0",
          "state": {
            "_dom_classes": [],
            "_model_module": "@jupyter-widgets/controls",
            "_model_module_version": "1.5.0",
            "_model_name": "HTMLModel",
            "_view_count": null,
            "_view_module": "@jupyter-widgets/controls",
            "_view_module_version": "1.5.0",
            "_view_name": "HTMLView",
            "description": "",
            "description_tooltip": null,
            "layout": "IPY_MODEL_3da4d773416c43699ec9909a12744ddf",
            "placeholder": "​",
            "style": "IPY_MODEL_37316b14f90843cf9779f9b6052dfcee",
            "value": "Downloading: 100%"
          }
        },
        "bf86b4ad68ff4ccba2790348b33c8b93": {
          "model_module": "@jupyter-widgets/controls",
          "model_name": "FloatProgressModel",
          "model_module_version": "1.5.0",
          "state": {
            "_dom_classes": [],
            "_model_module": "@jupyter-widgets/controls",
            "_model_module_version": "1.5.0",
            "_model_name": "FloatProgressModel",
            "_view_count": null,
            "_view_module": "@jupyter-widgets/controls",
            "_view_module_version": "1.5.0",
            "_view_name": "ProgressView",
            "bar_style": "success",
            "description": "",
            "description_tooltip": null,
            "layout": "IPY_MODEL_7bcb543a1eef40bfb3bc9c894344d8ef",
            "max": 456318,
            "min": 0,
            "orientation": "horizontal",
            "style": "IPY_MODEL_001f62b8100643be9bdd3553145e0a38",
            "value": 456318
          }
        },
        "bd87e9d8d5b54306afb23a2cea3d4e21": {
          "model_module": "@jupyter-widgets/controls",
          "model_name": "HTMLModel",
          "model_module_version": "1.5.0",
          "state": {
            "_dom_classes": [],
            "_model_module": "@jupyter-widgets/controls",
            "_model_module_version": "1.5.0",
            "_model_name": "HTMLModel",
            "_view_count": null,
            "_view_module": "@jupyter-widgets/controls",
            "_view_module_version": "1.5.0",
            "_view_name": "HTMLView",
            "description": "",
            "description_tooltip": null,
            "layout": "IPY_MODEL_87fc1335f6f8485884d54d8150b1e4f0",
            "placeholder": "​",
            "style": "IPY_MODEL_ab90ce09d21d46ea99dca71ab4d2f5ee",
            "value": " 456k/456k [00:01&lt;00:00, 507kB/s]"
          }
        },
        "4923beb6a7bd41838dd05614c1d8fd63": {
          "model_module": "@jupyter-widgets/base",
          "model_name": "LayoutModel",
          "model_module_version": "1.2.0",
          "state": {
            "_model_module": "@jupyter-widgets/base",
            "_model_module_version": "1.2.0",
            "_model_name": "LayoutModel",
            "_view_count": null,
            "_view_module": "@jupyter-widgets/base",
            "_view_module_version": "1.2.0",
            "_view_name": "LayoutView",
            "align_content": null,
            "align_items": null,
            "align_self": null,
            "border": null,
            "bottom": null,
            "display": null,
            "flex": null,
            "flex_flow": null,
            "grid_area": null,
            "grid_auto_columns": null,
            "grid_auto_flow": null,
            "grid_auto_rows": null,
            "grid_column": null,
            "grid_gap": null,
            "grid_row": null,
            "grid_template_areas": null,
            "grid_template_columns": null,
            "grid_template_rows": null,
            "height": null,
            "justify_content": null,
            "justify_items": null,
            "left": null,
            "margin": null,
            "max_height": null,
            "max_width": null,
            "min_height": null,
            "min_width": null,
            "object_fit": null,
            "object_position": null,
            "order": null,
            "overflow": null,
            "overflow_x": null,
            "overflow_y": null,
            "padding": null,
            "right": null,
            "top": null,
            "visibility": null,
            "width": null
          }
        },
        "3da4d773416c43699ec9909a12744ddf": {
          "model_module": "@jupyter-widgets/base",
          "model_name": "LayoutModel",
          "model_module_version": "1.2.0",
          "state": {
            "_model_module": "@jupyter-widgets/base",
            "_model_module_version": "1.2.0",
            "_model_name": "LayoutModel",
            "_view_count": null,
            "_view_module": "@jupyter-widgets/base",
            "_view_module_version": "1.2.0",
            "_view_name": "LayoutView",
            "align_content": null,
            "align_items": null,
            "align_self": null,
            "border": null,
            "bottom": null,
            "display": null,
            "flex": null,
            "flex_flow": null,
            "grid_area": null,
            "grid_auto_columns": null,
            "grid_auto_flow": null,
            "grid_auto_rows": null,
            "grid_column": null,
            "grid_gap": null,
            "grid_row": null,
            "grid_template_areas": null,
            "grid_template_columns": null,
            "grid_template_rows": null,
            "height": null,
            "justify_content": null,
            "justify_items": null,
            "left": null,
            "margin": null,
            "max_height": null,
            "max_width": null,
            "min_height": null,
            "min_width": null,
            "object_fit": null,
            "object_position": null,
            "order": null,
            "overflow": null,
            "overflow_x": null,
            "overflow_y": null,
            "padding": null,
            "right": null,
            "top": null,
            "visibility": null,
            "width": null
          }
        },
        "37316b14f90843cf9779f9b6052dfcee": {
          "model_module": "@jupyter-widgets/controls",
          "model_name": "DescriptionStyleModel",
          "model_module_version": "1.5.0",
          "state": {
            "_model_module": "@jupyter-widgets/controls",
            "_model_module_version": "1.5.0",
            "_model_name": "DescriptionStyleModel",
            "_view_count": null,
            "_view_module": "@jupyter-widgets/base",
            "_view_module_version": "1.2.0",
            "_view_name": "StyleView",
            "description_width": ""
          }
        },
        "7bcb543a1eef40bfb3bc9c894344d8ef": {
          "model_module": "@jupyter-widgets/base",
          "model_name": "LayoutModel",
          "model_module_version": "1.2.0",
          "state": {
            "_model_module": "@jupyter-widgets/base",
            "_model_module_version": "1.2.0",
            "_model_name": "LayoutModel",
            "_view_count": null,
            "_view_module": "@jupyter-widgets/base",
            "_view_module_version": "1.2.0",
            "_view_name": "LayoutView",
            "align_content": null,
            "align_items": null,
            "align_self": null,
            "border": null,
            "bottom": null,
            "display": null,
            "flex": null,
            "flex_flow": null,
            "grid_area": null,
            "grid_auto_columns": null,
            "grid_auto_flow": null,
            "grid_auto_rows": null,
            "grid_column": null,
            "grid_gap": null,
            "grid_row": null,
            "grid_template_areas": null,
            "grid_template_columns": null,
            "grid_template_rows": null,
            "height": null,
            "justify_content": null,
            "justify_items": null,
            "left": null,
            "margin": null,
            "max_height": null,
            "max_width": null,
            "min_height": null,
            "min_width": null,
            "object_fit": null,
            "object_position": null,
            "order": null,
            "overflow": null,
            "overflow_x": null,
            "overflow_y": null,
            "padding": null,
            "right": null,
            "top": null,
            "visibility": null,
            "width": null
          }
        },
        "001f62b8100643be9bdd3553145e0a38": {
          "model_module": "@jupyter-widgets/controls",
          "model_name": "ProgressStyleModel",
          "model_module_version": "1.5.0",
          "state": {
            "_model_module": "@jupyter-widgets/controls",
            "_model_module_version": "1.5.0",
            "_model_name": "ProgressStyleModel",
            "_view_count": null,
            "_view_module": "@jupyter-widgets/base",
            "_view_module_version": "1.2.0",
            "_view_name": "StyleView",
            "bar_color": null,
            "description_width": ""
          }
        },
        "87fc1335f6f8485884d54d8150b1e4f0": {
          "model_module": "@jupyter-widgets/base",
          "model_name": "LayoutModel",
          "model_module_version": "1.2.0",
          "state": {
            "_model_module": "@jupyter-widgets/base",
            "_model_module_version": "1.2.0",
            "_model_name": "LayoutModel",
            "_view_count": null,
            "_view_module": "@jupyter-widgets/base",
            "_view_module_version": "1.2.0",
            "_view_name": "LayoutView",
            "align_content": null,
            "align_items": null,
            "align_self": null,
            "border": null,
            "bottom": null,
            "display": null,
            "flex": null,
            "flex_flow": null,
            "grid_area": null,
            "grid_auto_columns": null,
            "grid_auto_flow": null,
            "grid_auto_rows": null,
            "grid_column": null,
            "grid_gap": null,
            "grid_row": null,
            "grid_template_areas": null,
            "grid_template_columns": null,
            "grid_template_rows": null,
            "height": null,
            "justify_content": null,
            "justify_items": null,
            "left": null,
            "margin": null,
            "max_height": null,
            "max_width": null,
            "min_height": null,
            "min_width": null,
            "object_fit": null,
            "object_position": null,
            "order": null,
            "overflow": null,
            "overflow_x": null,
            "overflow_y": null,
            "padding": null,
            "right": null,
            "top": null,
            "visibility": null,
            "width": null
          }
        },
        "ab90ce09d21d46ea99dca71ab4d2f5ee": {
          "model_module": "@jupyter-widgets/controls",
          "model_name": "DescriptionStyleModel",
          "model_module_version": "1.5.0",
          "state": {
            "_model_module": "@jupyter-widgets/controls",
            "_model_module_version": "1.5.0",
            "_model_name": "DescriptionStyleModel",
            "_view_count": null,
            "_view_module": "@jupyter-widgets/base",
            "_view_module_version": "1.2.0",
            "_view_name": "StyleView",
            "description_width": ""
          }
        },
        "3a63bd68768e464880e0bc55957f3546": {
          "model_module": "@jupyter-widgets/controls",
          "model_name": "HBoxModel",
          "model_module_version": "1.5.0",
          "state": {
            "_dom_classes": [],
            "_model_module": "@jupyter-widgets/controls",
            "_model_module_version": "1.5.0",
            "_model_name": "HBoxModel",
            "_view_count": null,
            "_view_module": "@jupyter-widgets/controls",
            "_view_module_version": "1.5.0",
            "_view_name": "HBoxView",
            "box_style": "",
            "children": [
              "IPY_MODEL_8a3dfd311f7c4e77889dd39d274172f6",
              "IPY_MODEL_050805a2a05b440bb0e58aa84d4c2b18",
              "IPY_MODEL_9ccfc973cd844782ae4b08a9f48f818e"
            ],
            "layout": "IPY_MODEL_3d0193639dba4ff2bb1a7fcad4fcdc7c"
          }
        },
        "8a3dfd311f7c4e77889dd39d274172f6": {
          "model_module": "@jupyter-widgets/controls",
          "model_name": "HTMLModel",
          "model_module_version": "1.5.0",
          "state": {
            "_dom_classes": [],
            "_model_module": "@jupyter-widgets/controls",
            "_model_module_version": "1.5.0",
            "_model_name": "HTMLModel",
            "_view_count": null,
            "_view_module": "@jupyter-widgets/controls",
            "_view_module_version": "1.5.0",
            "_view_name": "HTMLView",
            "description": "",
            "description_tooltip": null,
            "layout": "IPY_MODEL_2f3bde9df1a8431b963c2473a1692fe5",
            "placeholder": "​",
            "style": "IPY_MODEL_7028f12da2f840acabced1d2ee5949ae",
            "value": "Downloading: 100%"
          }
        },
        "050805a2a05b440bb0e58aa84d4c2b18": {
          "model_module": "@jupyter-widgets/controls",
          "model_name": "FloatProgressModel",
          "model_module_version": "1.5.0",
          "state": {
            "_dom_classes": [],
            "_model_module": "@jupyter-widgets/controls",
            "_model_module_version": "1.5.0",
            "_model_name": "FloatProgressModel",
            "_view_count": null,
            "_view_module": "@jupyter-widgets/controls",
            "_view_module_version": "1.5.0",
            "_view_name": "ProgressView",
            "bar_style": "success",
            "description": "",
            "description_tooltip": null,
            "layout": "IPY_MODEL_29610c33a3714c2fa50d3e303af5f977",
            "max": 1355863,
            "min": 0,
            "orientation": "horizontal",
            "style": "IPY_MODEL_77351e80f76445cdbc7caa90e039785f",
            "value": 1355863
          }
        },
        "9ccfc973cd844782ae4b08a9f48f818e": {
          "model_module": "@jupyter-widgets/controls",
          "model_name": "HTMLModel",
          "model_module_version": "1.5.0",
          "state": {
            "_dom_classes": [],
            "_model_module": "@jupyter-widgets/controls",
            "_model_module_version": "1.5.0",
            "_model_name": "HTMLModel",
            "_view_count": null,
            "_view_module": "@jupyter-widgets/controls",
            "_view_module_version": "1.5.0",
            "_view_name": "HTMLView",
            "description": "",
            "description_tooltip": null,
            "layout": "IPY_MODEL_7352516e926b4edb91413472816dc065",
            "placeholder": "​",
            "style": "IPY_MODEL_4022078374e64926acee504ae6aaf6f2",
            "value": " 1.36M/1.36M [00:01&lt;00:00, 864kB/s]"
          }
        },
        "3d0193639dba4ff2bb1a7fcad4fcdc7c": {
          "model_module": "@jupyter-widgets/base",
          "model_name": "LayoutModel",
          "model_module_version": "1.2.0",
          "state": {
            "_model_module": "@jupyter-widgets/base",
            "_model_module_version": "1.2.0",
            "_model_name": "LayoutModel",
            "_view_count": null,
            "_view_module": "@jupyter-widgets/base",
            "_view_module_version": "1.2.0",
            "_view_name": "LayoutView",
            "align_content": null,
            "align_items": null,
            "align_self": null,
            "border": null,
            "bottom": null,
            "display": null,
            "flex": null,
            "flex_flow": null,
            "grid_area": null,
            "grid_auto_columns": null,
            "grid_auto_flow": null,
            "grid_auto_rows": null,
            "grid_column": null,
            "grid_gap": null,
            "grid_row": null,
            "grid_template_areas": null,
            "grid_template_columns": null,
            "grid_template_rows": null,
            "height": null,
            "justify_content": null,
            "justify_items": null,
            "left": null,
            "margin": null,
            "max_height": null,
            "max_width": null,
            "min_height": null,
            "min_width": null,
            "object_fit": null,
            "object_position": null,
            "order": null,
            "overflow": null,
            "overflow_x": null,
            "overflow_y": null,
            "padding": null,
            "right": null,
            "top": null,
            "visibility": null,
            "width": null
          }
        },
        "2f3bde9df1a8431b963c2473a1692fe5": {
          "model_module": "@jupyter-widgets/base",
          "model_name": "LayoutModel",
          "model_module_version": "1.2.0",
          "state": {
            "_model_module": "@jupyter-widgets/base",
            "_model_module_version": "1.2.0",
            "_model_name": "LayoutModel",
            "_view_count": null,
            "_view_module": "@jupyter-widgets/base",
            "_view_module_version": "1.2.0",
            "_view_name": "LayoutView",
            "align_content": null,
            "align_items": null,
            "align_self": null,
            "border": null,
            "bottom": null,
            "display": null,
            "flex": null,
            "flex_flow": null,
            "grid_area": null,
            "grid_auto_columns": null,
            "grid_auto_flow": null,
            "grid_auto_rows": null,
            "grid_column": null,
            "grid_gap": null,
            "grid_row": null,
            "grid_template_areas": null,
            "grid_template_columns": null,
            "grid_template_rows": null,
            "height": null,
            "justify_content": null,
            "justify_items": null,
            "left": null,
            "margin": null,
            "max_height": null,
            "max_width": null,
            "min_height": null,
            "min_width": null,
            "object_fit": null,
            "object_position": null,
            "order": null,
            "overflow": null,
            "overflow_x": null,
            "overflow_y": null,
            "padding": null,
            "right": null,
            "top": null,
            "visibility": null,
            "width": null
          }
        },
        "7028f12da2f840acabced1d2ee5949ae": {
          "model_module": "@jupyter-widgets/controls",
          "model_name": "DescriptionStyleModel",
          "model_module_version": "1.5.0",
          "state": {
            "_model_module": "@jupyter-widgets/controls",
            "_model_module_version": "1.5.0",
            "_model_name": "DescriptionStyleModel",
            "_view_count": null,
            "_view_module": "@jupyter-widgets/base",
            "_view_module_version": "1.2.0",
            "_view_name": "StyleView",
            "description_width": ""
          }
        },
        "29610c33a3714c2fa50d3e303af5f977": {
          "model_module": "@jupyter-widgets/base",
          "model_name": "LayoutModel",
          "model_module_version": "1.2.0",
          "state": {
            "_model_module": "@jupyter-widgets/base",
            "_model_module_version": "1.2.0",
            "_model_name": "LayoutModel",
            "_view_count": null,
            "_view_module": "@jupyter-widgets/base",
            "_view_module_version": "1.2.0",
            "_view_name": "LayoutView",
            "align_content": null,
            "align_items": null,
            "align_self": null,
            "border": null,
            "bottom": null,
            "display": null,
            "flex": null,
            "flex_flow": null,
            "grid_area": null,
            "grid_auto_columns": null,
            "grid_auto_flow": null,
            "grid_auto_rows": null,
            "grid_column": null,
            "grid_gap": null,
            "grid_row": null,
            "grid_template_areas": null,
            "grid_template_columns": null,
            "grid_template_rows": null,
            "height": null,
            "justify_content": null,
            "justify_items": null,
            "left": null,
            "margin": null,
            "max_height": null,
            "max_width": null,
            "min_height": null,
            "min_width": null,
            "object_fit": null,
            "object_position": null,
            "order": null,
            "overflow": null,
            "overflow_x": null,
            "overflow_y": null,
            "padding": null,
            "right": null,
            "top": null,
            "visibility": null,
            "width": null
          }
        },
        "77351e80f76445cdbc7caa90e039785f": {
          "model_module": "@jupyter-widgets/controls",
          "model_name": "ProgressStyleModel",
          "model_module_version": "1.5.0",
          "state": {
            "_model_module": "@jupyter-widgets/controls",
            "_model_module_version": "1.5.0",
            "_model_name": "ProgressStyleModel",
            "_view_count": null,
            "_view_module": "@jupyter-widgets/base",
            "_view_module_version": "1.2.0",
            "_view_name": "StyleView",
            "bar_color": null,
            "description_width": ""
          }
        },
        "7352516e926b4edb91413472816dc065": {
          "model_module": "@jupyter-widgets/base",
          "model_name": "LayoutModel",
          "model_module_version": "1.2.0",
          "state": {
            "_model_module": "@jupyter-widgets/base",
            "_model_module_version": "1.2.0",
            "_model_name": "LayoutModel",
            "_view_count": null,
            "_view_module": "@jupyter-widgets/base",
            "_view_module_version": "1.2.0",
            "_view_name": "LayoutView",
            "align_content": null,
            "align_items": null,
            "align_self": null,
            "border": null,
            "bottom": null,
            "display": null,
            "flex": null,
            "flex_flow": null,
            "grid_area": null,
            "grid_auto_columns": null,
            "grid_auto_flow": null,
            "grid_auto_rows": null,
            "grid_column": null,
            "grid_gap": null,
            "grid_row": null,
            "grid_template_areas": null,
            "grid_template_columns": null,
            "grid_template_rows": null,
            "height": null,
            "justify_content": null,
            "justify_items": null,
            "left": null,
            "margin": null,
            "max_height": null,
            "max_width": null,
            "min_height": null,
            "min_width": null,
            "object_fit": null,
            "object_position": null,
            "order": null,
            "overflow": null,
            "overflow_x": null,
            "overflow_y": null,
            "padding": null,
            "right": null,
            "top": null,
            "visibility": null,
            "width": null
          }
        },
        "4022078374e64926acee504ae6aaf6f2": {
          "model_module": "@jupyter-widgets/controls",
          "model_name": "DescriptionStyleModel",
          "model_module_version": "1.5.0",
          "state": {
            "_model_module": "@jupyter-widgets/controls",
            "_model_module_version": "1.5.0",
            "_model_name": "DescriptionStyleModel",
            "_view_count": null,
            "_view_module": "@jupyter-widgets/base",
            "_view_module_version": "1.2.0",
            "_view_name": "StyleView",
            "description_width": ""
          }
        },
        "bdf1a4bab1b34d36a9a74e03a7d389ff": {
          "model_module": "@jupyter-widgets/controls",
          "model_name": "HBoxModel",
          "model_module_version": "1.5.0",
          "state": {
            "_dom_classes": [],
            "_model_module": "@jupyter-widgets/controls",
            "_model_module_version": "1.5.0",
            "_model_name": "HBoxModel",
            "_view_count": null,
            "_view_module": "@jupyter-widgets/controls",
            "_view_module_version": "1.5.0",
            "_view_name": "HBoxView",
            "box_style": "",
            "children": [
              "IPY_MODEL_5ae1cac8d121492890a0148bb3fd53dc",
              "IPY_MODEL_81273e3fc67f4f41b5dc06ec33183e30",
              "IPY_MODEL_93694ed9f5714274add77a3fe4753553"
            ],
            "layout": "IPY_MODEL_350f9b4d95e847ae89c7bf38cd79444b"
          }
        },
        "5ae1cac8d121492890a0148bb3fd53dc": {
          "model_module": "@jupyter-widgets/controls",
          "model_name": "HTMLModel",
          "model_module_version": "1.5.0",
          "state": {
            "_dom_classes": [],
            "_model_module": "@jupyter-widgets/controls",
            "_model_module_version": "1.5.0",
            "_model_name": "HTMLModel",
            "_view_count": null,
            "_view_module": "@jupyter-widgets/controls",
            "_view_module_version": "1.5.0",
            "_view_name": "HTMLView",
            "description": "",
            "description_tooltip": null,
            "layout": "IPY_MODEL_ba8df2487786410884f3e46c0939051c",
            "placeholder": "​",
            "style": "IPY_MODEL_39f7fae91ef74c13b4f3d2704da51ff6",
            "value": "Downloading: 100%"
          }
        },
        "81273e3fc67f4f41b5dc06ec33183e30": {
          "model_module": "@jupyter-widgets/controls",
          "model_name": "FloatProgressModel",
          "model_module_version": "1.5.0",
          "state": {
            "_dom_classes": [],
            "_model_module": "@jupyter-widgets/controls",
            "_model_module_version": "1.5.0",
            "_model_name": "FloatProgressModel",
            "_view_count": null,
            "_view_module": "@jupyter-widgets/controls",
            "_view_module_version": "1.5.0",
            "_view_name": "ProgressView",
            "bar_style": "success",
            "description": "",
            "description_tooltip": null,
            "layout": "IPY_MODEL_72e92031d6a64b1fb334b16a1fc559bf",
            "max": 501200538,
            "min": 0,
            "orientation": "horizontal",
            "style": "IPY_MODEL_ea374ec8cd244cafa291550888826f17",
            "value": 501200538
          }
        },
        "93694ed9f5714274add77a3fe4753553": {
          "model_module": "@jupyter-widgets/controls",
          "model_name": "HTMLModel",
          "model_module_version": "1.5.0",
          "state": {
            "_dom_classes": [],
            "_model_module": "@jupyter-widgets/controls",
            "_model_module_version": "1.5.0",
            "_model_name": "HTMLModel",
            "_view_count": null,
            "_view_module": "@jupyter-widgets/controls",
            "_view_module_version": "1.5.0",
            "_view_name": "HTMLView",
            "description": "",
            "description_tooltip": null,
            "layout": "IPY_MODEL_22e751ad4ffe44c79d3b1be95157e1c2",
            "placeholder": "​",
            "style": "IPY_MODEL_f7aa1b5bf514487bb7b5494d9eedf690",
            "value": " 501M/501M [00:07&lt;00:00, 77.5MB/s]"
          }
        },
        "350f9b4d95e847ae89c7bf38cd79444b": {
          "model_module": "@jupyter-widgets/base",
          "model_name": "LayoutModel",
          "model_module_version": "1.2.0",
          "state": {
            "_model_module": "@jupyter-widgets/base",
            "_model_module_version": "1.2.0",
            "_model_name": "LayoutModel",
            "_view_count": null,
            "_view_module": "@jupyter-widgets/base",
            "_view_module_version": "1.2.0",
            "_view_name": "LayoutView",
            "align_content": null,
            "align_items": null,
            "align_self": null,
            "border": null,
            "bottom": null,
            "display": null,
            "flex": null,
            "flex_flow": null,
            "grid_area": null,
            "grid_auto_columns": null,
            "grid_auto_flow": null,
            "grid_auto_rows": null,
            "grid_column": null,
            "grid_gap": null,
            "grid_row": null,
            "grid_template_areas": null,
            "grid_template_columns": null,
            "grid_template_rows": null,
            "height": null,
            "justify_content": null,
            "justify_items": null,
            "left": null,
            "margin": null,
            "max_height": null,
            "max_width": null,
            "min_height": null,
            "min_width": null,
            "object_fit": null,
            "object_position": null,
            "order": null,
            "overflow": null,
            "overflow_x": null,
            "overflow_y": null,
            "padding": null,
            "right": null,
            "top": null,
            "visibility": null,
            "width": null
          }
        },
        "ba8df2487786410884f3e46c0939051c": {
          "model_module": "@jupyter-widgets/base",
          "model_name": "LayoutModel",
          "model_module_version": "1.2.0",
          "state": {
            "_model_module": "@jupyter-widgets/base",
            "_model_module_version": "1.2.0",
            "_model_name": "LayoutModel",
            "_view_count": null,
            "_view_module": "@jupyter-widgets/base",
            "_view_module_version": "1.2.0",
            "_view_name": "LayoutView",
            "align_content": null,
            "align_items": null,
            "align_self": null,
            "border": null,
            "bottom": null,
            "display": null,
            "flex": null,
            "flex_flow": null,
            "grid_area": null,
            "grid_auto_columns": null,
            "grid_auto_flow": null,
            "grid_auto_rows": null,
            "grid_column": null,
            "grid_gap": null,
            "grid_row": null,
            "grid_template_areas": null,
            "grid_template_columns": null,
            "grid_template_rows": null,
            "height": null,
            "justify_content": null,
            "justify_items": null,
            "left": null,
            "margin": null,
            "max_height": null,
            "max_width": null,
            "min_height": null,
            "min_width": null,
            "object_fit": null,
            "object_position": null,
            "order": null,
            "overflow": null,
            "overflow_x": null,
            "overflow_y": null,
            "padding": null,
            "right": null,
            "top": null,
            "visibility": null,
            "width": null
          }
        },
        "39f7fae91ef74c13b4f3d2704da51ff6": {
          "model_module": "@jupyter-widgets/controls",
          "model_name": "DescriptionStyleModel",
          "model_module_version": "1.5.0",
          "state": {
            "_model_module": "@jupyter-widgets/controls",
            "_model_module_version": "1.5.0",
            "_model_name": "DescriptionStyleModel",
            "_view_count": null,
            "_view_module": "@jupyter-widgets/base",
            "_view_module_version": "1.2.0",
            "_view_name": "StyleView",
            "description_width": ""
          }
        },
        "72e92031d6a64b1fb334b16a1fc559bf": {
          "model_module": "@jupyter-widgets/base",
          "model_name": "LayoutModel",
          "model_module_version": "1.2.0",
          "state": {
            "_model_module": "@jupyter-widgets/base",
            "_model_module_version": "1.2.0",
            "_model_name": "LayoutModel",
            "_view_count": null,
            "_view_module": "@jupyter-widgets/base",
            "_view_module_version": "1.2.0",
            "_view_name": "LayoutView",
            "align_content": null,
            "align_items": null,
            "align_self": null,
            "border": null,
            "bottom": null,
            "display": null,
            "flex": null,
            "flex_flow": null,
            "grid_area": null,
            "grid_auto_columns": null,
            "grid_auto_flow": null,
            "grid_auto_rows": null,
            "grid_column": null,
            "grid_gap": null,
            "grid_row": null,
            "grid_template_areas": null,
            "grid_template_columns": null,
            "grid_template_rows": null,
            "height": null,
            "justify_content": null,
            "justify_items": null,
            "left": null,
            "margin": null,
            "max_height": null,
            "max_width": null,
            "min_height": null,
            "min_width": null,
            "object_fit": null,
            "object_position": null,
            "order": null,
            "overflow": null,
            "overflow_x": null,
            "overflow_y": null,
            "padding": null,
            "right": null,
            "top": null,
            "visibility": null,
            "width": null
          }
        },
        "ea374ec8cd244cafa291550888826f17": {
          "model_module": "@jupyter-widgets/controls",
          "model_name": "ProgressStyleModel",
          "model_module_version": "1.5.0",
          "state": {
            "_model_module": "@jupyter-widgets/controls",
            "_model_module_version": "1.5.0",
            "_model_name": "ProgressStyleModel",
            "_view_count": null,
            "_view_module": "@jupyter-widgets/base",
            "_view_module_version": "1.2.0",
            "_view_name": "StyleView",
            "bar_color": null,
            "description_width": ""
          }
        },
        "22e751ad4ffe44c79d3b1be95157e1c2": {
          "model_module": "@jupyter-widgets/base",
          "model_name": "LayoutModel",
          "model_module_version": "1.2.0",
          "state": {
            "_model_module": "@jupyter-widgets/base",
            "_model_module_version": "1.2.0",
            "_model_name": "LayoutModel",
            "_view_count": null,
            "_view_module": "@jupyter-widgets/base",
            "_view_module_version": "1.2.0",
            "_view_name": "LayoutView",
            "align_content": null,
            "align_items": null,
            "align_self": null,
            "border": null,
            "bottom": null,
            "display": null,
            "flex": null,
            "flex_flow": null,
            "grid_area": null,
            "grid_auto_columns": null,
            "grid_auto_flow": null,
            "grid_auto_rows": null,
            "grid_column": null,
            "grid_gap": null,
            "grid_row": null,
            "grid_template_areas": null,
            "grid_template_columns": null,
            "grid_template_rows": null,
            "height": null,
            "justify_content": null,
            "justify_items": null,
            "left": null,
            "margin": null,
            "max_height": null,
            "max_width": null,
            "min_height": null,
            "min_width": null,
            "object_fit": null,
            "object_position": null,
            "order": null,
            "overflow": null,
            "overflow_x": null,
            "overflow_y": null,
            "padding": null,
            "right": null,
            "top": null,
            "visibility": null,
            "width": null
          }
        },
        "f7aa1b5bf514487bb7b5494d9eedf690": {
          "model_module": "@jupyter-widgets/controls",
          "model_name": "DescriptionStyleModel",
          "model_module_version": "1.5.0",
          "state": {
            "_model_module": "@jupyter-widgets/controls",
            "_model_module_version": "1.5.0",
            "_model_name": "DescriptionStyleModel",
            "_view_count": null,
            "_view_module": "@jupyter-widgets/base",
            "_view_module_version": "1.2.0",
            "_view_name": "StyleView",
            "description_width": ""
          }
        },
        "00236dcf13ee49f8a242bcf9badaed37": {
          "model_module": "@jupyter-widgets/controls",
          "model_name": "HBoxModel",
          "model_module_version": "1.5.0",
          "state": {
            "_dom_classes": [],
            "_model_module": "@jupyter-widgets/controls",
            "_model_module_version": "1.5.0",
            "_model_name": "HBoxModel",
            "_view_count": null,
            "_view_module": "@jupyter-widgets/controls",
            "_view_module_version": "1.5.0",
            "_view_name": "HBoxView",
            "box_style": "",
            "children": [
              "IPY_MODEL_a2d93fa9e09c450f9c5cb0c1a135495e",
              "IPY_MODEL_2a99eb92e7f84304a7e454453f64e0ff",
              "IPY_MODEL_9e4262eff4c94f739c8ecbd0496da75b"
            ],
            "layout": "IPY_MODEL_678f6c83ac5a45219ee643472cd91b8f"
          }
        },
        "a2d93fa9e09c450f9c5cb0c1a135495e": {
          "model_module": "@jupyter-widgets/controls",
          "model_name": "HTMLModel",
          "model_module_version": "1.5.0",
          "state": {
            "_dom_classes": [],
            "_model_module": "@jupyter-widgets/controls",
            "_model_module_version": "1.5.0",
            "_model_name": "HTMLModel",
            "_view_count": null,
            "_view_module": "@jupyter-widgets/controls",
            "_view_module_version": "1.5.0",
            "_view_name": "HTMLView",
            "description": "",
            "description_tooltip": null,
            "layout": "IPY_MODEL_45a72288cd9f46f4a5cfc64442ab27c2",
            "placeholder": "​",
            "style": "IPY_MODEL_02ad9f7454aa451fafacf01e53a3eb27",
            "value": "Downloading: 100%"
          }
        },
        "2a99eb92e7f84304a7e454453f64e0ff": {
          "model_module": "@jupyter-widgets/controls",
          "model_name": "FloatProgressModel",
          "model_module_version": "1.5.0",
          "state": {
            "_dom_classes": [],
            "_model_module": "@jupyter-widgets/controls",
            "_model_module_version": "1.5.0",
            "_model_name": "FloatProgressModel",
            "_view_count": null,
            "_view_module": "@jupyter-widgets/controls",
            "_view_module_version": "1.5.0",
            "_view_name": "ProgressView",
            "bar_style": "success",
            "description": "",
            "description_tooltip": null,
            "layout": "IPY_MODEL_4292755e8bfd4fbdb0685f3110822869",
            "max": 376,
            "min": 0,
            "orientation": "horizontal",
            "style": "IPY_MODEL_a457e703aacb4e57b939375f234e50e0",
            "value": 376
          }
        },
        "9e4262eff4c94f739c8ecbd0496da75b": {
          "model_module": "@jupyter-widgets/controls",
          "model_name": "HTMLModel",
          "model_module_version": "1.5.0",
          "state": {
            "_dom_classes": [],
            "_model_module": "@jupyter-widgets/controls",
            "_model_module_version": "1.5.0",
            "_model_name": "HTMLModel",
            "_view_count": null,
            "_view_module": "@jupyter-widgets/controls",
            "_view_module_version": "1.5.0",
            "_view_name": "HTMLView",
            "description": "",
            "description_tooltip": null,
            "layout": "IPY_MODEL_e90874127f0749e4a7505c155225ee05",
            "placeholder": "​",
            "style": "IPY_MODEL_53f056e4c28742dbbcff7fe5b76a14b9",
            "value": " 376/376 [00:00&lt;00:00, 10.6kB/s]"
          }
        },
        "678f6c83ac5a45219ee643472cd91b8f": {
          "model_module": "@jupyter-widgets/base",
          "model_name": "LayoutModel",
          "model_module_version": "1.2.0",
          "state": {
            "_model_module": "@jupyter-widgets/base",
            "_model_module_version": "1.2.0",
            "_model_name": "LayoutModel",
            "_view_count": null,
            "_view_module": "@jupyter-widgets/base",
            "_view_module_version": "1.2.0",
            "_view_name": "LayoutView",
            "align_content": null,
            "align_items": null,
            "align_self": null,
            "border": null,
            "bottom": null,
            "display": null,
            "flex": null,
            "flex_flow": null,
            "grid_area": null,
            "grid_auto_columns": null,
            "grid_auto_flow": null,
            "grid_auto_rows": null,
            "grid_column": null,
            "grid_gap": null,
            "grid_row": null,
            "grid_template_areas": null,
            "grid_template_columns": null,
            "grid_template_rows": null,
            "height": null,
            "justify_content": null,
            "justify_items": null,
            "left": null,
            "margin": null,
            "max_height": null,
            "max_width": null,
            "min_height": null,
            "min_width": null,
            "object_fit": null,
            "object_position": null,
            "order": null,
            "overflow": null,
            "overflow_x": null,
            "overflow_y": null,
            "padding": null,
            "right": null,
            "top": null,
            "visibility": null,
            "width": null
          }
        },
        "45a72288cd9f46f4a5cfc64442ab27c2": {
          "model_module": "@jupyter-widgets/base",
          "model_name": "LayoutModel",
          "model_module_version": "1.2.0",
          "state": {
            "_model_module": "@jupyter-widgets/base",
            "_model_module_version": "1.2.0",
            "_model_name": "LayoutModel",
            "_view_count": null,
            "_view_module": "@jupyter-widgets/base",
            "_view_module_version": "1.2.0",
            "_view_name": "LayoutView",
            "align_content": null,
            "align_items": null,
            "align_self": null,
            "border": null,
            "bottom": null,
            "display": null,
            "flex": null,
            "flex_flow": null,
            "grid_area": null,
            "grid_auto_columns": null,
            "grid_auto_flow": null,
            "grid_auto_rows": null,
            "grid_column": null,
            "grid_gap": null,
            "grid_row": null,
            "grid_template_areas": null,
            "grid_template_columns": null,
            "grid_template_rows": null,
            "height": null,
            "justify_content": null,
            "justify_items": null,
            "left": null,
            "margin": null,
            "max_height": null,
            "max_width": null,
            "min_height": null,
            "min_width": null,
            "object_fit": null,
            "object_position": null,
            "order": null,
            "overflow": null,
            "overflow_x": null,
            "overflow_y": null,
            "padding": null,
            "right": null,
            "top": null,
            "visibility": null,
            "width": null
          }
        },
        "02ad9f7454aa451fafacf01e53a3eb27": {
          "model_module": "@jupyter-widgets/controls",
          "model_name": "DescriptionStyleModel",
          "model_module_version": "1.5.0",
          "state": {
            "_model_module": "@jupyter-widgets/controls",
            "_model_module_version": "1.5.0",
            "_model_name": "DescriptionStyleModel",
            "_view_count": null,
            "_view_module": "@jupyter-widgets/base",
            "_view_module_version": "1.2.0",
            "_view_name": "StyleView",
            "description_width": ""
          }
        },
        "4292755e8bfd4fbdb0685f3110822869": {
          "model_module": "@jupyter-widgets/base",
          "model_name": "LayoutModel",
          "model_module_version": "1.2.0",
          "state": {
            "_model_module": "@jupyter-widgets/base",
            "_model_module_version": "1.2.0",
            "_model_name": "LayoutModel",
            "_view_count": null,
            "_view_module": "@jupyter-widgets/base",
            "_view_module_version": "1.2.0",
            "_view_name": "LayoutView",
            "align_content": null,
            "align_items": null,
            "align_self": null,
            "border": null,
            "bottom": null,
            "display": null,
            "flex": null,
            "flex_flow": null,
            "grid_area": null,
            "grid_auto_columns": null,
            "grid_auto_flow": null,
            "grid_auto_rows": null,
            "grid_column": null,
            "grid_gap": null,
            "grid_row": null,
            "grid_template_areas": null,
            "grid_template_columns": null,
            "grid_template_rows": null,
            "height": null,
            "justify_content": null,
            "justify_items": null,
            "left": null,
            "margin": null,
            "max_height": null,
            "max_width": null,
            "min_height": null,
            "min_width": null,
            "object_fit": null,
            "object_position": null,
            "order": null,
            "overflow": null,
            "overflow_x": null,
            "overflow_y": null,
            "padding": null,
            "right": null,
            "top": null,
            "visibility": null,
            "width": null
          }
        },
        "a457e703aacb4e57b939375f234e50e0": {
          "model_module": "@jupyter-widgets/controls",
          "model_name": "ProgressStyleModel",
          "model_module_version": "1.5.0",
          "state": {
            "_model_module": "@jupyter-widgets/controls",
            "_model_module_version": "1.5.0",
            "_model_name": "ProgressStyleModel",
            "_view_count": null,
            "_view_module": "@jupyter-widgets/base",
            "_view_module_version": "1.2.0",
            "_view_name": "StyleView",
            "bar_color": null,
            "description_width": ""
          }
        },
        "e90874127f0749e4a7505c155225ee05": {
          "model_module": "@jupyter-widgets/base",
          "model_name": "LayoutModel",
          "model_module_version": "1.2.0",
          "state": {
            "_model_module": "@jupyter-widgets/base",
            "_model_module_version": "1.2.0",
            "_model_name": "LayoutModel",
            "_view_count": null,
            "_view_module": "@jupyter-widgets/base",
            "_view_module_version": "1.2.0",
            "_view_name": "LayoutView",
            "align_content": null,
            "align_items": null,
            "align_self": null,
            "border": null,
            "bottom": null,
            "display": null,
            "flex": null,
            "flex_flow": null,
            "grid_area": null,
            "grid_auto_columns": null,
            "grid_auto_flow": null,
            "grid_auto_rows": null,
            "grid_column": null,
            "grid_gap": null,
            "grid_row": null,
            "grid_template_areas": null,
            "grid_template_columns": null,
            "grid_template_rows": null,
            "height": null,
            "justify_content": null,
            "justify_items": null,
            "left": null,
            "margin": null,
            "max_height": null,
            "max_width": null,
            "min_height": null,
            "min_width": null,
            "object_fit": null,
            "object_position": null,
            "order": null,
            "overflow": null,
            "overflow_x": null,
            "overflow_y": null,
            "padding": null,
            "right": null,
            "top": null,
            "visibility": null,
            "width": null
          }
        },
        "53f056e4c28742dbbcff7fe5b76a14b9": {
          "model_module": "@jupyter-widgets/controls",
          "model_name": "DescriptionStyleModel",
          "model_module_version": "1.5.0",
          "state": {
            "_model_module": "@jupyter-widgets/controls",
            "_model_module_version": "1.5.0",
            "_model_name": "DescriptionStyleModel",
            "_view_count": null,
            "_view_module": "@jupyter-widgets/base",
            "_view_module_version": "1.2.0",
            "_view_name": "StyleView",
            "description_width": ""
          }
        },
        "dd83d6525fa445eba60c6943fc046ebd": {
          "model_module": "@jupyter-widgets/controls",
          "model_name": "HBoxModel",
          "model_module_version": "1.5.0",
          "state": {
            "_dom_classes": [],
            "_model_module": "@jupyter-widgets/controls",
            "_model_module_version": "1.5.0",
            "_model_name": "HBoxModel",
            "_view_count": null,
            "_view_module": "@jupyter-widgets/controls",
            "_view_module_version": "1.5.0",
            "_view_name": "HBoxView",
            "box_style": "",
            "children": [
              "IPY_MODEL_ab12b005cf334050a03f8981194ae2c5",
              "IPY_MODEL_3c1af6ce51bf4295907c71bb3dd695f9",
              "IPY_MODEL_7b3e6724d43a4140a87f438d1086232e"
            ],
            "layout": "IPY_MODEL_d2f37637a9fb40bcbc5db81e3e7e0012"
          }
        },
        "ab12b005cf334050a03f8981194ae2c5": {
          "model_module": "@jupyter-widgets/controls",
          "model_name": "HTMLModel",
          "model_module_version": "1.5.0",
          "state": {
            "_dom_classes": [],
            "_model_module": "@jupyter-widgets/controls",
            "_model_module_version": "1.5.0",
            "_model_name": "HTMLModel",
            "_view_count": null,
            "_view_module": "@jupyter-widgets/controls",
            "_view_module_version": "1.5.0",
            "_view_name": "HTMLView",
            "description": "",
            "description_tooltip": null,
            "layout": "IPY_MODEL_e807c1a95db1454d95e0d3c1e597040f",
            "placeholder": "​",
            "style": "IPY_MODEL_2be105f6cf00426384dafbe1993a45b5",
            "value": "Downloading: 100%"
          }
        },
        "3c1af6ce51bf4295907c71bb3dd695f9": {
          "model_module": "@jupyter-widgets/controls",
          "model_name": "FloatProgressModel",
          "model_module_version": "1.5.0",
          "state": {
            "_dom_classes": [],
            "_model_module": "@jupyter-widgets/controls",
            "_model_module_version": "1.5.0",
            "_model_name": "FloatProgressModel",
            "_view_count": null,
            "_view_module": "@jupyter-widgets/controls",
            "_view_module_version": "1.5.0",
            "_view_name": "ProgressView",
            "bar_style": "success",
            "description": "",
            "description_tooltip": null,
            "layout": "IPY_MODEL_27aea9f2506847b9bb755d3379c4600e",
            "max": 231508,
            "min": 0,
            "orientation": "horizontal",
            "style": "IPY_MODEL_c4c8e2ce46314519a62d6645c074f7da",
            "value": 231508
          }
        },
        "7b3e6724d43a4140a87f438d1086232e": {
          "model_module": "@jupyter-widgets/controls",
          "model_name": "HTMLModel",
          "model_module_version": "1.5.0",
          "state": {
            "_dom_classes": [],
            "_model_module": "@jupyter-widgets/controls",
            "_model_module_version": "1.5.0",
            "_model_name": "HTMLModel",
            "_view_count": null,
            "_view_module": "@jupyter-widgets/controls",
            "_view_module_version": "1.5.0",
            "_view_name": "HTMLView",
            "description": "",
            "description_tooltip": null,
            "layout": "IPY_MODEL_9825902cd77e44ed87e2cb641ee8c1ce",
            "placeholder": "​",
            "style": "IPY_MODEL_d4b74daf7acb485d99feff2ed5baa3d4",
            "value": " 232k/232k [00:00&lt;00:00, 263kB/s]"
          }
        },
        "d2f37637a9fb40bcbc5db81e3e7e0012": {
          "model_module": "@jupyter-widgets/base",
          "model_name": "LayoutModel",
          "model_module_version": "1.2.0",
          "state": {
            "_model_module": "@jupyter-widgets/base",
            "_model_module_version": "1.2.0",
            "_model_name": "LayoutModel",
            "_view_count": null,
            "_view_module": "@jupyter-widgets/base",
            "_view_module_version": "1.2.0",
            "_view_name": "LayoutView",
            "align_content": null,
            "align_items": null,
            "align_self": null,
            "border": null,
            "bottom": null,
            "display": null,
            "flex": null,
            "flex_flow": null,
            "grid_area": null,
            "grid_auto_columns": null,
            "grid_auto_flow": null,
            "grid_auto_rows": null,
            "grid_column": null,
            "grid_gap": null,
            "grid_row": null,
            "grid_template_areas": null,
            "grid_template_columns": null,
            "grid_template_rows": null,
            "height": null,
            "justify_content": null,
            "justify_items": null,
            "left": null,
            "margin": null,
            "max_height": null,
            "max_width": null,
            "min_height": null,
            "min_width": null,
            "object_fit": null,
            "object_position": null,
            "order": null,
            "overflow": null,
            "overflow_x": null,
            "overflow_y": null,
            "padding": null,
            "right": null,
            "top": null,
            "visibility": null,
            "width": null
          }
        },
        "e807c1a95db1454d95e0d3c1e597040f": {
          "model_module": "@jupyter-widgets/base",
          "model_name": "LayoutModel",
          "model_module_version": "1.2.0",
          "state": {
            "_model_module": "@jupyter-widgets/base",
            "_model_module_version": "1.2.0",
            "_model_name": "LayoutModel",
            "_view_count": null,
            "_view_module": "@jupyter-widgets/base",
            "_view_module_version": "1.2.0",
            "_view_name": "LayoutView",
            "align_content": null,
            "align_items": null,
            "align_self": null,
            "border": null,
            "bottom": null,
            "display": null,
            "flex": null,
            "flex_flow": null,
            "grid_area": null,
            "grid_auto_columns": null,
            "grid_auto_flow": null,
            "grid_auto_rows": null,
            "grid_column": null,
            "grid_gap": null,
            "grid_row": null,
            "grid_template_areas": null,
            "grid_template_columns": null,
            "grid_template_rows": null,
            "height": null,
            "justify_content": null,
            "justify_items": null,
            "left": null,
            "margin": null,
            "max_height": null,
            "max_width": null,
            "min_height": null,
            "min_width": null,
            "object_fit": null,
            "object_position": null,
            "order": null,
            "overflow": null,
            "overflow_x": null,
            "overflow_y": null,
            "padding": null,
            "right": null,
            "top": null,
            "visibility": null,
            "width": null
          }
        },
        "2be105f6cf00426384dafbe1993a45b5": {
          "model_module": "@jupyter-widgets/controls",
          "model_name": "DescriptionStyleModel",
          "model_module_version": "1.5.0",
          "state": {
            "_model_module": "@jupyter-widgets/controls",
            "_model_module_version": "1.5.0",
            "_model_name": "DescriptionStyleModel",
            "_view_count": null,
            "_view_module": "@jupyter-widgets/base",
            "_view_module_version": "1.2.0",
            "_view_name": "StyleView",
            "description_width": ""
          }
        },
        "27aea9f2506847b9bb755d3379c4600e": {
          "model_module": "@jupyter-widgets/base",
          "model_name": "LayoutModel",
          "model_module_version": "1.2.0",
          "state": {
            "_model_module": "@jupyter-widgets/base",
            "_model_module_version": "1.2.0",
            "_model_name": "LayoutModel",
            "_view_count": null,
            "_view_module": "@jupyter-widgets/base",
            "_view_module_version": "1.2.0",
            "_view_name": "LayoutView",
            "align_content": null,
            "align_items": null,
            "align_self": null,
            "border": null,
            "bottom": null,
            "display": null,
            "flex": null,
            "flex_flow": null,
            "grid_area": null,
            "grid_auto_columns": null,
            "grid_auto_flow": null,
            "grid_auto_rows": null,
            "grid_column": null,
            "grid_gap": null,
            "grid_row": null,
            "grid_template_areas": null,
            "grid_template_columns": null,
            "grid_template_rows": null,
            "height": null,
            "justify_content": null,
            "justify_items": null,
            "left": null,
            "margin": null,
            "max_height": null,
            "max_width": null,
            "min_height": null,
            "min_width": null,
            "object_fit": null,
            "object_position": null,
            "order": null,
            "overflow": null,
            "overflow_x": null,
            "overflow_y": null,
            "padding": null,
            "right": null,
            "top": null,
            "visibility": null,
            "width": null
          }
        },
        "c4c8e2ce46314519a62d6645c074f7da": {
          "model_module": "@jupyter-widgets/controls",
          "model_name": "ProgressStyleModel",
          "model_module_version": "1.5.0",
          "state": {
            "_model_module": "@jupyter-widgets/controls",
            "_model_module_version": "1.5.0",
            "_model_name": "ProgressStyleModel",
            "_view_count": null,
            "_view_module": "@jupyter-widgets/base",
            "_view_module_version": "1.2.0",
            "_view_name": "StyleView",
            "bar_color": null,
            "description_width": ""
          }
        },
        "9825902cd77e44ed87e2cb641ee8c1ce": {
          "model_module": "@jupyter-widgets/base",
          "model_name": "LayoutModel",
          "model_module_version": "1.2.0",
          "state": {
            "_model_module": "@jupyter-widgets/base",
            "_model_module_version": "1.2.0",
            "_model_name": "LayoutModel",
            "_view_count": null,
            "_view_module": "@jupyter-widgets/base",
            "_view_module_version": "1.2.0",
            "_view_name": "LayoutView",
            "align_content": null,
            "align_items": null,
            "align_self": null,
            "border": null,
            "bottom": null,
            "display": null,
            "flex": null,
            "flex_flow": null,
            "grid_area": null,
            "grid_auto_columns": null,
            "grid_auto_flow": null,
            "grid_auto_rows": null,
            "grid_column": null,
            "grid_gap": null,
            "grid_row": null,
            "grid_template_areas": null,
            "grid_template_columns": null,
            "grid_template_rows": null,
            "height": null,
            "justify_content": null,
            "justify_items": null,
            "left": null,
            "margin": null,
            "max_height": null,
            "max_width": null,
            "min_height": null,
            "min_width": null,
            "object_fit": null,
            "object_position": null,
            "order": null,
            "overflow": null,
            "overflow_x": null,
            "overflow_y": null,
            "padding": null,
            "right": null,
            "top": null,
            "visibility": null,
            "width": null
          }
        },
        "d4b74daf7acb485d99feff2ed5baa3d4": {
          "model_module": "@jupyter-widgets/controls",
          "model_name": "DescriptionStyleModel",
          "model_module_version": "1.5.0",
          "state": {
            "_model_module": "@jupyter-widgets/controls",
            "_model_module_version": "1.5.0",
            "_model_name": "DescriptionStyleModel",
            "_view_count": null,
            "_view_module": "@jupyter-widgets/base",
            "_view_module_version": "1.2.0",
            "_view_name": "StyleView",
            "description_width": ""
          }
        },
        "ccd7f4c192774deca0737505d7565daf": {
          "model_module": "@jupyter-widgets/controls",
          "model_name": "HBoxModel",
          "model_module_version": "1.5.0",
          "state": {
            "_dom_classes": [],
            "_model_module": "@jupyter-widgets/controls",
            "_model_module_version": "1.5.0",
            "_model_name": "HBoxModel",
            "_view_count": null,
            "_view_module": "@jupyter-widgets/controls",
            "_view_module_version": "1.5.0",
            "_view_name": "HBoxView",
            "box_style": "",
            "children": [
              "IPY_MODEL_39282038219349bc8aa07c04d6a5ad80",
              "IPY_MODEL_94471cc97b9f445a848eda1ccd501709",
              "IPY_MODEL_6a609ccaaac348fba0fc0f3f8d080e0b"
            ],
            "layout": "IPY_MODEL_1db5d2b2e1584a69a9c286b803dfeaea"
          }
        },
        "39282038219349bc8aa07c04d6a5ad80": {
          "model_module": "@jupyter-widgets/controls",
          "model_name": "HTMLModel",
          "model_module_version": "1.5.0",
          "state": {
            "_dom_classes": [],
            "_model_module": "@jupyter-widgets/controls",
            "_model_module_version": "1.5.0",
            "_model_name": "HTMLModel",
            "_view_count": null,
            "_view_module": "@jupyter-widgets/controls",
            "_view_module_version": "1.5.0",
            "_view_name": "HTMLView",
            "description": "",
            "description_tooltip": null,
            "layout": "IPY_MODEL_ccda3f3d546c45a69490e45f5de3eab7",
            "placeholder": "​",
            "style": "IPY_MODEL_fdd38ccc678d4828852d0a4d48ba6a9e",
            "value": "Downloading: 100%"
          }
        },
        "94471cc97b9f445a848eda1ccd501709": {
          "model_module": "@jupyter-widgets/controls",
          "model_name": "FloatProgressModel",
          "model_module_version": "1.5.0",
          "state": {
            "_dom_classes": [],
            "_model_module": "@jupyter-widgets/controls",
            "_model_module_version": "1.5.0",
            "_model_name": "FloatProgressModel",
            "_view_count": null,
            "_view_module": "@jupyter-widgets/controls",
            "_view_module_version": "1.5.0",
            "_view_name": "ProgressView",
            "bar_style": "success",
            "description": "",
            "description_tooltip": null,
            "layout": "IPY_MODEL_1cf580a0be384e5c9c0c34e204704af9",
            "max": 466081,
            "min": 0,
            "orientation": "horizontal",
            "style": "IPY_MODEL_1345942dc1b54b518edcc7a92ee57b40",
            "value": 466081
          }
        },
        "6a609ccaaac348fba0fc0f3f8d080e0b": {
          "model_module": "@jupyter-widgets/controls",
          "model_name": "HTMLModel",
          "model_module_version": "1.5.0",
          "state": {
            "_dom_classes": [],
            "_model_module": "@jupyter-widgets/controls",
            "_model_module_version": "1.5.0",
            "_model_name": "HTMLModel",
            "_view_count": null,
            "_view_module": "@jupyter-widgets/controls",
            "_view_module_version": "1.5.0",
            "_view_name": "HTMLView",
            "description": "",
            "description_tooltip": null,
            "layout": "IPY_MODEL_2f46e4e66d26420791f3622f8a71b4df",
            "placeholder": "​",
            "style": "IPY_MODEL_09def4e0b44d48129191bb6fbcca7561",
            "value": " 466k/466k [00:01&lt;00:00, 574kB/s]"
          }
        },
        "1db5d2b2e1584a69a9c286b803dfeaea": {
          "model_module": "@jupyter-widgets/base",
          "model_name": "LayoutModel",
          "model_module_version": "1.2.0",
          "state": {
            "_model_module": "@jupyter-widgets/base",
            "_model_module_version": "1.2.0",
            "_model_name": "LayoutModel",
            "_view_count": null,
            "_view_module": "@jupyter-widgets/base",
            "_view_module_version": "1.2.0",
            "_view_name": "LayoutView",
            "align_content": null,
            "align_items": null,
            "align_self": null,
            "border": null,
            "bottom": null,
            "display": null,
            "flex": null,
            "flex_flow": null,
            "grid_area": null,
            "grid_auto_columns": null,
            "grid_auto_flow": null,
            "grid_auto_rows": null,
            "grid_column": null,
            "grid_gap": null,
            "grid_row": null,
            "grid_template_areas": null,
            "grid_template_columns": null,
            "grid_template_rows": null,
            "height": null,
            "justify_content": null,
            "justify_items": null,
            "left": null,
            "margin": null,
            "max_height": null,
            "max_width": null,
            "min_height": null,
            "min_width": null,
            "object_fit": null,
            "object_position": null,
            "order": null,
            "overflow": null,
            "overflow_x": null,
            "overflow_y": null,
            "padding": null,
            "right": null,
            "top": null,
            "visibility": null,
            "width": null
          }
        },
        "ccda3f3d546c45a69490e45f5de3eab7": {
          "model_module": "@jupyter-widgets/base",
          "model_name": "LayoutModel",
          "model_module_version": "1.2.0",
          "state": {
            "_model_module": "@jupyter-widgets/base",
            "_model_module_version": "1.2.0",
            "_model_name": "LayoutModel",
            "_view_count": null,
            "_view_module": "@jupyter-widgets/base",
            "_view_module_version": "1.2.0",
            "_view_name": "LayoutView",
            "align_content": null,
            "align_items": null,
            "align_self": null,
            "border": null,
            "bottom": null,
            "display": null,
            "flex": null,
            "flex_flow": null,
            "grid_area": null,
            "grid_auto_columns": null,
            "grid_auto_flow": null,
            "grid_auto_rows": null,
            "grid_column": null,
            "grid_gap": null,
            "grid_row": null,
            "grid_template_areas": null,
            "grid_template_columns": null,
            "grid_template_rows": null,
            "height": null,
            "justify_content": null,
            "justify_items": null,
            "left": null,
            "margin": null,
            "max_height": null,
            "max_width": null,
            "min_height": null,
            "min_width": null,
            "object_fit": null,
            "object_position": null,
            "order": null,
            "overflow": null,
            "overflow_x": null,
            "overflow_y": null,
            "padding": null,
            "right": null,
            "top": null,
            "visibility": null,
            "width": null
          }
        },
        "fdd38ccc678d4828852d0a4d48ba6a9e": {
          "model_module": "@jupyter-widgets/controls",
          "model_name": "DescriptionStyleModel",
          "model_module_version": "1.5.0",
          "state": {
            "_model_module": "@jupyter-widgets/controls",
            "_model_module_version": "1.5.0",
            "_model_name": "DescriptionStyleModel",
            "_view_count": null,
            "_view_module": "@jupyter-widgets/base",
            "_view_module_version": "1.2.0",
            "_view_name": "StyleView",
            "description_width": ""
          }
        },
        "1cf580a0be384e5c9c0c34e204704af9": {
          "model_module": "@jupyter-widgets/base",
          "model_name": "LayoutModel",
          "model_module_version": "1.2.0",
          "state": {
            "_model_module": "@jupyter-widgets/base",
            "_model_module_version": "1.2.0",
            "_model_name": "LayoutModel",
            "_view_count": null,
            "_view_module": "@jupyter-widgets/base",
            "_view_module_version": "1.2.0",
            "_view_name": "LayoutView",
            "align_content": null,
            "align_items": null,
            "align_self": null,
            "border": null,
            "bottom": null,
            "display": null,
            "flex": null,
            "flex_flow": null,
            "grid_area": null,
            "grid_auto_columns": null,
            "grid_auto_flow": null,
            "grid_auto_rows": null,
            "grid_column": null,
            "grid_gap": null,
            "grid_row": null,
            "grid_template_areas": null,
            "grid_template_columns": null,
            "grid_template_rows": null,
            "height": null,
            "justify_content": null,
            "justify_items": null,
            "left": null,
            "margin": null,
            "max_height": null,
            "max_width": null,
            "min_height": null,
            "min_width": null,
            "object_fit": null,
            "object_position": null,
            "order": null,
            "overflow": null,
            "overflow_x": null,
            "overflow_y": null,
            "padding": null,
            "right": null,
            "top": null,
            "visibility": null,
            "width": null
          }
        },
        "1345942dc1b54b518edcc7a92ee57b40": {
          "model_module": "@jupyter-widgets/controls",
          "model_name": "ProgressStyleModel",
          "model_module_version": "1.5.0",
          "state": {
            "_model_module": "@jupyter-widgets/controls",
            "_model_module_version": "1.5.0",
            "_model_name": "ProgressStyleModel",
            "_view_count": null,
            "_view_module": "@jupyter-widgets/base",
            "_view_module_version": "1.2.0",
            "_view_name": "StyleView",
            "bar_color": null,
            "description_width": ""
          }
        },
        "2f46e4e66d26420791f3622f8a71b4df": {
          "model_module": "@jupyter-widgets/base",
          "model_name": "LayoutModel",
          "model_module_version": "1.2.0",
          "state": {
            "_model_module": "@jupyter-widgets/base",
            "_model_module_version": "1.2.0",
            "_model_name": "LayoutModel",
            "_view_count": null,
            "_view_module": "@jupyter-widgets/base",
            "_view_module_version": "1.2.0",
            "_view_name": "LayoutView",
            "align_content": null,
            "align_items": null,
            "align_self": null,
            "border": null,
            "bottom": null,
            "display": null,
            "flex": null,
            "flex_flow": null,
            "grid_area": null,
            "grid_auto_columns": null,
            "grid_auto_flow": null,
            "grid_auto_rows": null,
            "grid_column": null,
            "grid_gap": null,
            "grid_row": null,
            "grid_template_areas": null,
            "grid_template_columns": null,
            "grid_template_rows": null,
            "height": null,
            "justify_content": null,
            "justify_items": null,
            "left": null,
            "margin": null,
            "max_height": null,
            "max_width": null,
            "min_height": null,
            "min_width": null,
            "object_fit": null,
            "object_position": null,
            "order": null,
            "overflow": null,
            "overflow_x": null,
            "overflow_y": null,
            "padding": null,
            "right": null,
            "top": null,
            "visibility": null,
            "width": null
          }
        },
        "09def4e0b44d48129191bb6fbcca7561": {
          "model_module": "@jupyter-widgets/controls",
          "model_name": "DescriptionStyleModel",
          "model_module_version": "1.5.0",
          "state": {
            "_model_module": "@jupyter-widgets/controls",
            "_model_module_version": "1.5.0",
            "_model_name": "DescriptionStyleModel",
            "_view_count": null,
            "_view_module": "@jupyter-widgets/base",
            "_view_module_version": "1.2.0",
            "_view_name": "StyleView",
            "description_width": ""
          }
        },
        "cbe3da94218d4c9892ab452743dd0c36": {
          "model_module": "@jupyter-widgets/controls",
          "model_name": "HBoxModel",
          "model_module_version": "1.5.0",
          "state": {
            "_dom_classes": [],
            "_model_module": "@jupyter-widgets/controls",
            "_model_module_version": "1.5.0",
            "_model_name": "HBoxModel",
            "_view_count": null,
            "_view_module": "@jupyter-widgets/controls",
            "_view_module_version": "1.5.0",
            "_view_name": "HBoxView",
            "box_style": "",
            "children": [
              "IPY_MODEL_328f650a8da04027b037b1bc42f56078",
              "IPY_MODEL_235df3d829ec4e7bb9013100e22ae607",
              "IPY_MODEL_30a3fa7a9c0f41f09df5895dea38bf0f"
            ],
            "layout": "IPY_MODEL_df890dddebd748e0bed577ae68dc787e"
          }
        },
        "328f650a8da04027b037b1bc42f56078": {
          "model_module": "@jupyter-widgets/controls",
          "model_name": "HTMLModel",
          "model_module_version": "1.5.0",
          "state": {
            "_dom_classes": [],
            "_model_module": "@jupyter-widgets/controls",
            "_model_module_version": "1.5.0",
            "_model_name": "HTMLModel",
            "_view_count": null,
            "_view_module": "@jupyter-widgets/controls",
            "_view_module_version": "1.5.0",
            "_view_name": "HTMLView",
            "description": "",
            "description_tooltip": null,
            "layout": "IPY_MODEL_538e1815de65407ba54e311096c50f01",
            "placeholder": "​",
            "style": "IPY_MODEL_1ed0f20da501410e80c2dc6fc0ef3f24",
            "value": "Downloading: 100%"
          }
        },
        "235df3d829ec4e7bb9013100e22ae607": {
          "model_module": "@jupyter-widgets/controls",
          "model_name": "FloatProgressModel",
          "model_module_version": "1.5.0",
          "state": {
            "_dom_classes": [],
            "_model_module": "@jupyter-widgets/controls",
            "_model_module_version": "1.5.0",
            "_model_name": "FloatProgressModel",
            "_view_count": null,
            "_view_module": "@jupyter-widgets/controls",
            "_view_module_version": "1.5.0",
            "_view_name": "ProgressView",
            "bar_style": "success",
            "description": "",
            "description_tooltip": null,
            "layout": "IPY_MODEL_0a72d07e7e35447ca4d720dbab22f7be",
            "max": 112,
            "min": 0,
            "orientation": "horizontal",
            "style": "IPY_MODEL_71144c380c6e467587411429f990dddd",
            "value": 112
          }
        },
        "30a3fa7a9c0f41f09df5895dea38bf0f": {
          "model_module": "@jupyter-widgets/controls",
          "model_name": "HTMLModel",
          "model_module_version": "1.5.0",
          "state": {
            "_dom_classes": [],
            "_model_module": "@jupyter-widgets/controls",
            "_model_module_version": "1.5.0",
            "_model_name": "HTMLModel",
            "_view_count": null,
            "_view_module": "@jupyter-widgets/controls",
            "_view_module_version": "1.5.0",
            "_view_name": "HTMLView",
            "description": "",
            "description_tooltip": null,
            "layout": "IPY_MODEL_decb994ac74e4fab86fc3f1a2429a0df",
            "placeholder": "​",
            "style": "IPY_MODEL_cbd43fc5f62e429ebf5f174185a42aad",
            "value": " 112/112 [00:00&lt;00:00, 7.09kB/s]"
          }
        },
        "df890dddebd748e0bed577ae68dc787e": {
          "model_module": "@jupyter-widgets/base",
          "model_name": "LayoutModel",
          "model_module_version": "1.2.0",
          "state": {
            "_model_module": "@jupyter-widgets/base",
            "_model_module_version": "1.2.0",
            "_model_name": "LayoutModel",
            "_view_count": null,
            "_view_module": "@jupyter-widgets/base",
            "_view_module_version": "1.2.0",
            "_view_name": "LayoutView",
            "align_content": null,
            "align_items": null,
            "align_self": null,
            "border": null,
            "bottom": null,
            "display": null,
            "flex": null,
            "flex_flow": null,
            "grid_area": null,
            "grid_auto_columns": null,
            "grid_auto_flow": null,
            "grid_auto_rows": null,
            "grid_column": null,
            "grid_gap": null,
            "grid_row": null,
            "grid_template_areas": null,
            "grid_template_columns": null,
            "grid_template_rows": null,
            "height": null,
            "justify_content": null,
            "justify_items": null,
            "left": null,
            "margin": null,
            "max_height": null,
            "max_width": null,
            "min_height": null,
            "min_width": null,
            "object_fit": null,
            "object_position": null,
            "order": null,
            "overflow": null,
            "overflow_x": null,
            "overflow_y": null,
            "padding": null,
            "right": null,
            "top": null,
            "visibility": null,
            "width": null
          }
        },
        "538e1815de65407ba54e311096c50f01": {
          "model_module": "@jupyter-widgets/base",
          "model_name": "LayoutModel",
          "model_module_version": "1.2.0",
          "state": {
            "_model_module": "@jupyter-widgets/base",
            "_model_module_version": "1.2.0",
            "_model_name": "LayoutModel",
            "_view_count": null,
            "_view_module": "@jupyter-widgets/base",
            "_view_module_version": "1.2.0",
            "_view_name": "LayoutView",
            "align_content": null,
            "align_items": null,
            "align_self": null,
            "border": null,
            "bottom": null,
            "display": null,
            "flex": null,
            "flex_flow": null,
            "grid_area": null,
            "grid_auto_columns": null,
            "grid_auto_flow": null,
            "grid_auto_rows": null,
            "grid_column": null,
            "grid_gap": null,
            "grid_row": null,
            "grid_template_areas": null,
            "grid_template_columns": null,
            "grid_template_rows": null,
            "height": null,
            "justify_content": null,
            "justify_items": null,
            "left": null,
            "margin": null,
            "max_height": null,
            "max_width": null,
            "min_height": null,
            "min_width": null,
            "object_fit": null,
            "object_position": null,
            "order": null,
            "overflow": null,
            "overflow_x": null,
            "overflow_y": null,
            "padding": null,
            "right": null,
            "top": null,
            "visibility": null,
            "width": null
          }
        },
        "1ed0f20da501410e80c2dc6fc0ef3f24": {
          "model_module": "@jupyter-widgets/controls",
          "model_name": "DescriptionStyleModel",
          "model_module_version": "1.5.0",
          "state": {
            "_model_module": "@jupyter-widgets/controls",
            "_model_module_version": "1.5.0",
            "_model_name": "DescriptionStyleModel",
            "_view_count": null,
            "_view_module": "@jupyter-widgets/base",
            "_view_module_version": "1.2.0",
            "_view_name": "StyleView",
            "description_width": ""
          }
        },
        "0a72d07e7e35447ca4d720dbab22f7be": {
          "model_module": "@jupyter-widgets/base",
          "model_name": "LayoutModel",
          "model_module_version": "1.2.0",
          "state": {
            "_model_module": "@jupyter-widgets/base",
            "_model_module_version": "1.2.0",
            "_model_name": "LayoutModel",
            "_view_count": null,
            "_view_module": "@jupyter-widgets/base",
            "_view_module_version": "1.2.0",
            "_view_name": "LayoutView",
            "align_content": null,
            "align_items": null,
            "align_self": null,
            "border": null,
            "bottom": null,
            "display": null,
            "flex": null,
            "flex_flow": null,
            "grid_area": null,
            "grid_auto_columns": null,
            "grid_auto_flow": null,
            "grid_auto_rows": null,
            "grid_column": null,
            "grid_gap": null,
            "grid_row": null,
            "grid_template_areas": null,
            "grid_template_columns": null,
            "grid_template_rows": null,
            "height": null,
            "justify_content": null,
            "justify_items": null,
            "left": null,
            "margin": null,
            "max_height": null,
            "max_width": null,
            "min_height": null,
            "min_width": null,
            "object_fit": null,
            "object_position": null,
            "order": null,
            "overflow": null,
            "overflow_x": null,
            "overflow_y": null,
            "padding": null,
            "right": null,
            "top": null,
            "visibility": null,
            "width": null
          }
        },
        "71144c380c6e467587411429f990dddd": {
          "model_module": "@jupyter-widgets/controls",
          "model_name": "ProgressStyleModel",
          "model_module_version": "1.5.0",
          "state": {
            "_model_module": "@jupyter-widgets/controls",
            "_model_module_version": "1.5.0",
            "_model_name": "ProgressStyleModel",
            "_view_count": null,
            "_view_module": "@jupyter-widgets/base",
            "_view_module_version": "1.2.0",
            "_view_name": "StyleView",
            "bar_color": null,
            "description_width": ""
          }
        },
        "decb994ac74e4fab86fc3f1a2429a0df": {
          "model_module": "@jupyter-widgets/base",
          "model_name": "LayoutModel",
          "model_module_version": "1.2.0",
          "state": {
            "_model_module": "@jupyter-widgets/base",
            "_model_module_version": "1.2.0",
            "_model_name": "LayoutModel",
            "_view_count": null,
            "_view_module": "@jupyter-widgets/base",
            "_view_module_version": "1.2.0",
            "_view_name": "LayoutView",
            "align_content": null,
            "align_items": null,
            "align_self": null,
            "border": null,
            "bottom": null,
            "display": null,
            "flex": null,
            "flex_flow": null,
            "grid_area": null,
            "grid_auto_columns": null,
            "grid_auto_flow": null,
            "grid_auto_rows": null,
            "grid_column": null,
            "grid_gap": null,
            "grid_row": null,
            "grid_template_areas": null,
            "grid_template_columns": null,
            "grid_template_rows": null,
            "height": null,
            "justify_content": null,
            "justify_items": null,
            "left": null,
            "margin": null,
            "max_height": null,
            "max_width": null,
            "min_height": null,
            "min_width": null,
            "object_fit": null,
            "object_position": null,
            "order": null,
            "overflow": null,
            "overflow_x": null,
            "overflow_y": null,
            "padding": null,
            "right": null,
            "top": null,
            "visibility": null,
            "width": null
          }
        },
        "cbd43fc5f62e429ebf5f174185a42aad": {
          "model_module": "@jupyter-widgets/controls",
          "model_name": "DescriptionStyleModel",
          "model_module_version": "1.5.0",
          "state": {
            "_model_module": "@jupyter-widgets/controls",
            "_model_module_version": "1.5.0",
            "_model_name": "DescriptionStyleModel",
            "_view_count": null,
            "_view_module": "@jupyter-widgets/base",
            "_view_module_version": "1.2.0",
            "_view_name": "StyleView",
            "description_width": ""
          }
        }
      }
    }
  },
  "cells": [
    {
      "cell_type": "markdown",
      "source": [
        "## import package"
      ],
      "metadata": {
        "id": "Ne_NAWIW17BV"
      }
    },
    {
      "cell_type": "code",
      "source": [
        "!pip install torch\n",
        "!pip install pandas nltk\n",
        "!pip install transformers"
      ],
      "metadata": {
        "colab": {
          "base_uri": "https://localhost:8080/"
        },
        "id": "I6lSNVyS9Q8Q",
        "outputId": "c2933b7a-7291-4517-bc65-63226ad11ad3"
      },
      "execution_count": null,
      "outputs": [
        {
          "output_type": "stream",
          "name": "stdout",
          "text": [
            "Looking in indexes: https://pypi.org/simple, https://us-python.pkg.dev/colab-wheels/public/simple/\n",
            "Requirement already satisfied: torch in /usr/local/lib/python3.8/dist-packages (1.13.0+cu116)\n",
            "Requirement already satisfied: typing-extensions in /usr/local/lib/python3.8/dist-packages (from torch) (4.4.0)\n",
            "Looking in indexes: https://pypi.org/simple, https://us-python.pkg.dev/colab-wheels/public/simple/\n",
            "Requirement already satisfied: pandas in /usr/local/lib/python3.8/dist-packages (1.3.5)\n",
            "Requirement already satisfied: nltk in /usr/local/lib/python3.8/dist-packages (3.7)\n",
            "Requirement already satisfied: numpy>=1.17.3 in /usr/local/lib/python3.8/dist-packages (from pandas) (1.21.6)\n",
            "Requirement already satisfied: python-dateutil>=2.7.3 in /usr/local/lib/python3.8/dist-packages (from pandas) (2.8.2)\n",
            "Requirement already satisfied: pytz>=2017.3 in /usr/local/lib/python3.8/dist-packages (from pandas) (2022.6)\n",
            "Requirement already satisfied: six>=1.5 in /usr/local/lib/python3.8/dist-packages (from python-dateutil>=2.7.3->pandas) (1.15.0)\n",
            "Requirement already satisfied: regex>=2021.8.3 in /usr/local/lib/python3.8/dist-packages (from nltk) (2022.6.2)\n",
            "Requirement already satisfied: tqdm in /usr/local/lib/python3.8/dist-packages (from nltk) (4.64.1)\n",
            "Requirement already satisfied: click in /usr/local/lib/python3.8/dist-packages (from nltk) (7.1.2)\n",
            "Requirement already satisfied: joblib in /usr/local/lib/python3.8/dist-packages (from nltk) (1.2.0)\n",
            "Looking in indexes: https://pypi.org/simple, https://us-python.pkg.dev/colab-wheels/public/simple/\n",
            "Collecting transformers\n",
            "  Downloading transformers-4.25.1-py3-none-any.whl (5.8 MB)\n",
            "\u001b[K     |████████████████████████████████| 5.8 MB 4.6 MB/s \n",
            "\u001b[?25hRequirement already satisfied: filelock in /usr/local/lib/python3.8/dist-packages (from transformers) (3.8.2)\n",
            "Requirement already satisfied: tqdm>=4.27 in /usr/local/lib/python3.8/dist-packages (from transformers) (4.64.1)\n",
            "Requirement already satisfied: pyyaml>=5.1 in /usr/local/lib/python3.8/dist-packages (from transformers) (6.0)\n",
            "Requirement already satisfied: packaging>=20.0 in /usr/local/lib/python3.8/dist-packages (from transformers) (21.3)\n",
            "Collecting huggingface-hub<1.0,>=0.10.0\n",
            "  Downloading huggingface_hub-0.11.1-py3-none-any.whl (182 kB)\n",
            "\u001b[K     |████████████████████████████████| 182 kB 50.1 MB/s \n",
            "\u001b[?25hRequirement already satisfied: regex!=2019.12.17 in /usr/local/lib/python3.8/dist-packages (from transformers) (2022.6.2)\n",
            "Requirement already satisfied: requests in /usr/local/lib/python3.8/dist-packages (from transformers) (2.23.0)\n",
            "Collecting tokenizers!=0.11.3,<0.14,>=0.11.1\n",
            "  Downloading tokenizers-0.13.2-cp38-cp38-manylinux_2_17_x86_64.manylinux2014_x86_64.whl (7.6 MB)\n",
            "\u001b[K     |████████████████████████████████| 7.6 MB 64.9 MB/s \n",
            "\u001b[?25hRequirement already satisfied: numpy>=1.17 in /usr/local/lib/python3.8/dist-packages (from transformers) (1.21.6)\n",
            "Requirement already satisfied: typing-extensions>=3.7.4.3 in /usr/local/lib/python3.8/dist-packages (from huggingface-hub<1.0,>=0.10.0->transformers) (4.4.0)\n",
            "Requirement already satisfied: pyparsing!=3.0.5,>=2.0.2 in /usr/local/lib/python3.8/dist-packages (from packaging>=20.0->transformers) (3.0.9)\n",
            "Requirement already satisfied: urllib3!=1.25.0,!=1.25.1,<1.26,>=1.21.1 in /usr/local/lib/python3.8/dist-packages (from requests->transformers) (1.24.3)\n",
            "Requirement already satisfied: idna<3,>=2.5 in /usr/local/lib/python3.8/dist-packages (from requests->transformers) (2.10)\n",
            "Requirement already satisfied: chardet<4,>=3.0.2 in /usr/local/lib/python3.8/dist-packages (from requests->transformers) (3.0.4)\n",
            "Requirement already satisfied: certifi>=2017.4.17 in /usr/local/lib/python3.8/dist-packages (from requests->transformers) (2022.12.7)\n",
            "Installing collected packages: tokenizers, huggingface-hub, transformers\n",
            "Successfully installed huggingface-hub-0.11.1 tokenizers-0.13.2 transformers-4.25.1\n"
          ]
        }
      ]
    },
    {
      "cell_type": "code",
      "source": [
        "from google.colab import drive\n",
        "drive.mount('/content/drive')"
      ],
      "metadata": {
        "colab": {
          "base_uri": "https://localhost:8080/"
        },
        "id": "X9lpgvIjcAOI",
        "outputId": "4aab0a10-632f-4754-ebc7-32908bfe8506"
      },
      "execution_count": null,
      "outputs": [
        {
          "output_type": "stream",
          "name": "stdout",
          "text": [
            "Mounted at /content/drive\n"
          ]
        }
      ]
    },
    {
      "cell_type": "code",
      "metadata": {
        "id": "BjcgsM7vwcc9",
        "colab": {
          "base_uri": "https://localhost:8080/"
        },
        "outputId": "91448942-0b08-494e-ebb3-e87790f0340e"
      },
      "source": [
        "import torch\n",
        "import torch.nn as nn\n",
        "from torch.utils.data.dataset import Dataset\n",
        "from torch.utils.data import DataLoader\n",
        "import torch.nn.functional as F\n",
        "from torch.nn import CrossEntropyLoss\n",
        "import math\n",
        "import numpy as np\n",
        "import time\n",
        "import torch, pandas as pd\n",
        "import nltk\n",
        "import re\n",
        "nltk.download('punkt')\n",
        "\n",
        "from transformers import set_seed\n",
        "set_seed(777)\n",
        "\n",
        "device = torch.device(\"cuda:0\" if torch.cuda.is_available() else \"cpu\")\n",
        "print(device)"
      ],
      "execution_count": null,
      "outputs": [
        {
          "output_type": "stream",
          "name": "stderr",
          "text": [
            "[nltk_data] Downloading package punkt to /root/nltk_data...\n",
            "[nltk_data]   Unzipping tokenizers/punkt.zip.\n"
          ]
        },
        {
          "output_type": "stream",
          "name": "stdout",
          "text": [
            "cuda:0\n"
          ]
        }
      ]
    },
    {
      "cell_type": "code",
      "source": [
        "# Training data file\n",
        "directory=\"/content/drive/MyDrive/AICUP/\"\n",
        "\n",
        "\n",
        "file=directory+\"Batch_answers - train_data (no-blank).csv\"\n",
        "df=pd.read_csv(file, encoding = \"ISO-8859-1\")"
      ],
      "metadata": {
        "id": "SYk_hc2dpscj"
      },
      "execution_count": null,
      "outputs": []
    },
    {
      "cell_type": "code",
      "source": [
        "df = df.drop(columns=['Unnamed: 6', 'total no.: 7987'])"
      ],
      "metadata": {
        "id": "fnwRabH8kkAq"
      },
      "execution_count": null,
      "outputs": []
    },
    {
      "cell_type": "code",
      "source": [
        "df.head()"
      ],
      "metadata": {
        "colab": {
          "base_uri": "https://localhost:8080/",
          "height": 424
        },
        "id": "9AS30UmnnFwn",
        "outputId": "827ef7b5-c8aa-4214-9707-0f9fdf3ac59d"
      },
      "execution_count": null,
      "outputs": [
        {
          "output_type": "execute_result",
          "data": {
            "text/plain": [
              "   id                                                  q  \\\n",
              "0   8  \"It can go both ways . We all doubt . It is wh...   \n",
              "1   8  \"It can go both ways . We all doubt . It is wh...   \n",
              "2   8  \"It can go both ways . We all doubt . It is wh...   \n",
              "3   9  \"once again , you seem to support the killing ...   \n",
              "4   9  \"once again , you seem to support the killing ...   \n",
              "\n",
              "                                                   r      s  \\\n",
              "0                                           \"True .\"  AGREE   \n",
              "1                                           \"True .\"  AGREE   \n",
              "2                                           \"True .\"  AGREE   \n",
              "3  \"based on the idea that people are dispensible...  AGREE   \n",
              "4  \"based on the idea that people are dispensible...  AGREE   \n",
              "\n",
              "                                                  q'  \\\n",
              "0  \"It can go both ways . We all doubt . It is wh...   \n",
              "1  \"can go both ways . We all doubt . It is what ...   \n",
              "2  \"It can go both ways . We all doubt . It is wh...   \n",
              "3    \"seem to support the killing of certain people\"   \n",
              "4  \"you seem to support the killing of certain pe...   \n",
              "\n",
              "                                                  r'  \n",
              "0                                           \"True .\"  \n",
              "1                                             \"True\"  \n",
              "2                                             \"True\"  \n",
              "3  \"based on the idea that people are dispensible...  \n",
              "4    \"based on the idea that people are dispensible\"  "
            ],
            "text/html": [
              "\n",
              "  <div id=\"df-97172413-3594-4728-895e-a00d16329c94\">\n",
              "    <div class=\"colab-df-container\">\n",
              "      <div>\n",
              "<style scoped>\n",
              "    .dataframe tbody tr th:only-of-type {\n",
              "        vertical-align: middle;\n",
              "    }\n",
              "\n",
              "    .dataframe tbody tr th {\n",
              "        vertical-align: top;\n",
              "    }\n",
              "\n",
              "    .dataframe thead th {\n",
              "        text-align: right;\n",
              "    }\n",
              "</style>\n",
              "<table border=\"1\" class=\"dataframe\">\n",
              "  <thead>\n",
              "    <tr style=\"text-align: right;\">\n",
              "      <th></th>\n",
              "      <th>id</th>\n",
              "      <th>q</th>\n",
              "      <th>r</th>\n",
              "      <th>s</th>\n",
              "      <th>q'</th>\n",
              "      <th>r'</th>\n",
              "    </tr>\n",
              "  </thead>\n",
              "  <tbody>\n",
              "    <tr>\n",
              "      <th>0</th>\n",
              "      <td>8</td>\n",
              "      <td>\"It can go both ways . We all doubt . It is wh...</td>\n",
              "      <td>\"True .\"</td>\n",
              "      <td>AGREE</td>\n",
              "      <td>\"It can go both ways . We all doubt . It is wh...</td>\n",
              "      <td>\"True .\"</td>\n",
              "    </tr>\n",
              "    <tr>\n",
              "      <th>1</th>\n",
              "      <td>8</td>\n",
              "      <td>\"It can go both ways . We all doubt . It is wh...</td>\n",
              "      <td>\"True .\"</td>\n",
              "      <td>AGREE</td>\n",
              "      <td>\"can go both ways . We all doubt . It is what ...</td>\n",
              "      <td>\"True\"</td>\n",
              "    </tr>\n",
              "    <tr>\n",
              "      <th>2</th>\n",
              "      <td>8</td>\n",
              "      <td>\"It can go both ways . We all doubt . It is wh...</td>\n",
              "      <td>\"True .\"</td>\n",
              "      <td>AGREE</td>\n",
              "      <td>\"It can go both ways . We all doubt . It is wh...</td>\n",
              "      <td>\"True\"</td>\n",
              "    </tr>\n",
              "    <tr>\n",
              "      <th>3</th>\n",
              "      <td>9</td>\n",
              "      <td>\"once again , you seem to support the killing ...</td>\n",
              "      <td>\"based on the idea that people are dispensible...</td>\n",
              "      <td>AGREE</td>\n",
              "      <td>\"seem to support the killing of certain people\"</td>\n",
              "      <td>\"based on the idea that people are dispensible...</td>\n",
              "    </tr>\n",
              "    <tr>\n",
              "      <th>4</th>\n",
              "      <td>9</td>\n",
              "      <td>\"once again , you seem to support the killing ...</td>\n",
              "      <td>\"based on the idea that people are dispensible...</td>\n",
              "      <td>AGREE</td>\n",
              "      <td>\"you seem to support the killing of certain pe...</td>\n",
              "      <td>\"based on the idea that people are dispensible\"</td>\n",
              "    </tr>\n",
              "  </tbody>\n",
              "</table>\n",
              "</div>\n",
              "      <button class=\"colab-df-convert\" onclick=\"convertToInteractive('df-97172413-3594-4728-895e-a00d16329c94')\"\n",
              "              title=\"Convert this dataframe to an interactive table.\"\n",
              "              style=\"display:none;\">\n",
              "        \n",
              "  <svg xmlns=\"http://www.w3.org/2000/svg\" height=\"24px\"viewBox=\"0 0 24 24\"\n",
              "       width=\"24px\">\n",
              "    <path d=\"M0 0h24v24H0V0z\" fill=\"none\"/>\n",
              "    <path d=\"M18.56 5.44l.94 2.06.94-2.06 2.06-.94-2.06-.94-.94-2.06-.94 2.06-2.06.94zm-11 1L8.5 8.5l.94-2.06 2.06-.94-2.06-.94L8.5 2.5l-.94 2.06-2.06.94zm10 10l.94 2.06.94-2.06 2.06-.94-2.06-.94-.94-2.06-.94 2.06-2.06.94z\"/><path d=\"M17.41 7.96l-1.37-1.37c-.4-.4-.92-.59-1.43-.59-.52 0-1.04.2-1.43.59L10.3 9.45l-7.72 7.72c-.78.78-.78 2.05 0 2.83L4 21.41c.39.39.9.59 1.41.59.51 0 1.02-.2 1.41-.59l7.78-7.78 2.81-2.81c.8-.78.8-2.07 0-2.86zM5.41 20L4 18.59l7.72-7.72 1.47 1.35L5.41 20z\"/>\n",
              "  </svg>\n",
              "      </button>\n",
              "      \n",
              "  <style>\n",
              "    .colab-df-container {\n",
              "      display:flex;\n",
              "      flex-wrap:wrap;\n",
              "      gap: 12px;\n",
              "    }\n",
              "\n",
              "    .colab-df-convert {\n",
              "      background-color: #E8F0FE;\n",
              "      border: none;\n",
              "      border-radius: 50%;\n",
              "      cursor: pointer;\n",
              "      display: none;\n",
              "      fill: #1967D2;\n",
              "      height: 32px;\n",
              "      padding: 0 0 0 0;\n",
              "      width: 32px;\n",
              "    }\n",
              "\n",
              "    .colab-df-convert:hover {\n",
              "      background-color: #E2EBFA;\n",
              "      box-shadow: 0px 1px 2px rgba(60, 64, 67, 0.3), 0px 1px 3px 1px rgba(60, 64, 67, 0.15);\n",
              "      fill: #174EA6;\n",
              "    }\n",
              "\n",
              "    [theme=dark] .colab-df-convert {\n",
              "      background-color: #3B4455;\n",
              "      fill: #D2E3FC;\n",
              "    }\n",
              "\n",
              "    [theme=dark] .colab-df-convert:hover {\n",
              "      background-color: #434B5C;\n",
              "      box-shadow: 0px 1px 3px 1px rgba(0, 0, 0, 0.15);\n",
              "      filter: drop-shadow(0px 1px 2px rgba(0, 0, 0, 0.3));\n",
              "      fill: #FFFFFF;\n",
              "    }\n",
              "  </style>\n",
              "\n",
              "      <script>\n",
              "        const buttonEl =\n",
              "          document.querySelector('#df-97172413-3594-4728-895e-a00d16329c94 button.colab-df-convert');\n",
              "        buttonEl.style.display =\n",
              "          google.colab.kernel.accessAllowed ? 'block' : 'none';\n",
              "\n",
              "        async function convertToInteractive(key) {\n",
              "          const element = document.querySelector('#df-97172413-3594-4728-895e-a00d16329c94');\n",
              "          const dataTable =\n",
              "            await google.colab.kernel.invokeFunction('convertToInteractive',\n",
              "                                                     [key], {});\n",
              "          if (!dataTable) return;\n",
              "\n",
              "          const docLinkHtml = 'Like what you see? Visit the ' +\n",
              "            '<a target=\"_blank\" href=https://colab.research.google.com/notebooks/data_table.ipynb>data table notebook</a>'\n",
              "            + ' to learn more about interactive tables.';\n",
              "          element.innerHTML = '';\n",
              "          dataTable['output_type'] = 'display_data';\n",
              "          await google.colab.output.renderOutput(dataTable, element);\n",
              "          const docLink = document.createElement('div');\n",
              "          docLink.innerHTML = docLinkHtml;\n",
              "          element.appendChild(docLink);\n",
              "        }\n",
              "      </script>\n",
              "    </div>\n",
              "  </div>\n",
              "  "
            ]
          },
          "metadata": {},
          "execution_count": 7
        }
      ]
    },
    {
      "cell_type": "markdown",
      "source": [
        "## Data process"
      ],
      "metadata": {
        "id": "U-O0ShLN5PY5"
      }
    },
    {
      "cell_type": "code",
      "source": [
        "df[['q','r',\"q'\",\"r'\"]] = df[['q','r',\"q'\",\"r'\"]].apply(lambda x: x.str.strip('\\\"'))"
      ],
      "metadata": {
        "id": "nAVtEjT_jnvx"
      },
      "execution_count": null,
      "outputs": []
    },
    {
      "cell_type": "code",
      "source": [
        "df['r'] = df['s'] + ':' + df['r']"
      ],
      "metadata": {
        "id": "c1-uoUpZyyLn"
      },
      "execution_count": null,
      "outputs": []
    },
    {
      "cell_type": "code",
      "source": [
        "df['sub_q_true'] = [1 if x in y else 0 for x,y in zip(df[\"q'\"],df[\"q\"])]\n",
        "df['sub_r_true'] = [1 if x in y else 0 for x,y in zip(df[\"r'\"],df[\"r\"])]\n",
        "df['sub_both'] = df['sub_q_true']*df['sub_r_true']"
      ],
      "metadata": {
        "id": "agEbnyrAi-wN"
      },
      "execution_count": null,
      "outputs": []
    },
    {
      "cell_type": "code",
      "source": [
        "df.head()"
      ],
      "metadata": {
        "id": "OK1pkEH7kAwd",
        "colab": {
          "base_uri": "https://localhost:8080/",
          "height": 337
        },
        "outputId": "ab0da01c-6c87-4d8e-8cf7-a20a61703c69"
      },
      "execution_count": null,
      "outputs": [
        {
          "output_type": "execute_result",
          "data": {
            "text/plain": [
              "   id                                                  q  \\\n",
              "0   8  It can go both ways . We all doubt . It is wha...   \n",
              "1   8  It can go both ways . We all doubt . It is wha...   \n",
              "2   8  It can go both ways . We all doubt . It is wha...   \n",
              "3   9  once again , you seem to support the killing o...   \n",
              "4   9  once again , you seem to support the killing o...   \n",
              "\n",
              "                                                   r      s  \\\n",
              "0                                       AGREE:True .  AGREE   \n",
              "1                                       AGREE:True .  AGREE   \n",
              "2                                       AGREE:True .  AGREE   \n",
              "3  AGREE:based on the idea that people are dispen...  AGREE   \n",
              "4  AGREE:based on the idea that people are dispen...  AGREE   \n",
              "\n",
              "                                                  q'  \\\n",
              "0  It can go both ways . We all doubt . It is wha...   \n",
              "1  can go both ways . We all doubt . It is what y...   \n",
              "2  It can go both ways . We all doubt . It is wha...   \n",
              "3      seem to support the killing of certain people   \n",
              "4  you seem to support the killing of certain peo...   \n",
              "\n",
              "                                                  r'  sub_q_true  sub_r_true  \\\n",
              "0                                             True .           1           1   \n",
              "1                                               True           1           1   \n",
              "2                                               True           1           1   \n",
              "3  based on the idea that people are dispensible ...           1           1   \n",
              "4      based on the idea that people are dispensible           1           1   \n",
              "\n",
              "   sub_both  \n",
              "0         1  \n",
              "1         1  \n",
              "2         1  \n",
              "3         1  \n",
              "4         1  "
            ],
            "text/html": [
              "\n",
              "  <div id=\"df-a55c6e98-0285-43dc-a866-8db7e83eb316\">\n",
              "    <div class=\"colab-df-container\">\n",
              "      <div>\n",
              "<style scoped>\n",
              "    .dataframe tbody tr th:only-of-type {\n",
              "        vertical-align: middle;\n",
              "    }\n",
              "\n",
              "    .dataframe tbody tr th {\n",
              "        vertical-align: top;\n",
              "    }\n",
              "\n",
              "    .dataframe thead th {\n",
              "        text-align: right;\n",
              "    }\n",
              "</style>\n",
              "<table border=\"1\" class=\"dataframe\">\n",
              "  <thead>\n",
              "    <tr style=\"text-align: right;\">\n",
              "      <th></th>\n",
              "      <th>id</th>\n",
              "      <th>q</th>\n",
              "      <th>r</th>\n",
              "      <th>s</th>\n",
              "      <th>q'</th>\n",
              "      <th>r'</th>\n",
              "      <th>sub_q_true</th>\n",
              "      <th>sub_r_true</th>\n",
              "      <th>sub_both</th>\n",
              "    </tr>\n",
              "  </thead>\n",
              "  <tbody>\n",
              "    <tr>\n",
              "      <th>0</th>\n",
              "      <td>8</td>\n",
              "      <td>It can go both ways . We all doubt . It is wha...</td>\n",
              "      <td>AGREE:True .</td>\n",
              "      <td>AGREE</td>\n",
              "      <td>It can go both ways . We all doubt . It is wha...</td>\n",
              "      <td>True .</td>\n",
              "      <td>1</td>\n",
              "      <td>1</td>\n",
              "      <td>1</td>\n",
              "    </tr>\n",
              "    <tr>\n",
              "      <th>1</th>\n",
              "      <td>8</td>\n",
              "      <td>It can go both ways . We all doubt . It is wha...</td>\n",
              "      <td>AGREE:True .</td>\n",
              "      <td>AGREE</td>\n",
              "      <td>can go both ways . We all doubt . It is what y...</td>\n",
              "      <td>True</td>\n",
              "      <td>1</td>\n",
              "      <td>1</td>\n",
              "      <td>1</td>\n",
              "    </tr>\n",
              "    <tr>\n",
              "      <th>2</th>\n",
              "      <td>8</td>\n",
              "      <td>It can go both ways . We all doubt . It is wha...</td>\n",
              "      <td>AGREE:True .</td>\n",
              "      <td>AGREE</td>\n",
              "      <td>It can go both ways . We all doubt . It is wha...</td>\n",
              "      <td>True</td>\n",
              "      <td>1</td>\n",
              "      <td>1</td>\n",
              "      <td>1</td>\n",
              "    </tr>\n",
              "    <tr>\n",
              "      <th>3</th>\n",
              "      <td>9</td>\n",
              "      <td>once again , you seem to support the killing o...</td>\n",
              "      <td>AGREE:based on the idea that people are dispen...</td>\n",
              "      <td>AGREE</td>\n",
              "      <td>seem to support the killing of certain people</td>\n",
              "      <td>based on the idea that people are dispensible ...</td>\n",
              "      <td>1</td>\n",
              "      <td>1</td>\n",
              "      <td>1</td>\n",
              "    </tr>\n",
              "    <tr>\n",
              "      <th>4</th>\n",
              "      <td>9</td>\n",
              "      <td>once again , you seem to support the killing o...</td>\n",
              "      <td>AGREE:based on the idea that people are dispen...</td>\n",
              "      <td>AGREE</td>\n",
              "      <td>you seem to support the killing of certain peo...</td>\n",
              "      <td>based on the idea that people are dispensible</td>\n",
              "      <td>1</td>\n",
              "      <td>1</td>\n",
              "      <td>1</td>\n",
              "    </tr>\n",
              "  </tbody>\n",
              "</table>\n",
              "</div>\n",
              "      <button class=\"colab-df-convert\" onclick=\"convertToInteractive('df-a55c6e98-0285-43dc-a866-8db7e83eb316')\"\n",
              "              title=\"Convert this dataframe to an interactive table.\"\n",
              "              style=\"display:none;\">\n",
              "        \n",
              "  <svg xmlns=\"http://www.w3.org/2000/svg\" height=\"24px\"viewBox=\"0 0 24 24\"\n",
              "       width=\"24px\">\n",
              "    <path d=\"M0 0h24v24H0V0z\" fill=\"none\"/>\n",
              "    <path d=\"M18.56 5.44l.94 2.06.94-2.06 2.06-.94-2.06-.94-.94-2.06-.94 2.06-2.06.94zm-11 1L8.5 8.5l.94-2.06 2.06-.94-2.06-.94L8.5 2.5l-.94 2.06-2.06.94zm10 10l.94 2.06.94-2.06 2.06-.94-2.06-.94-.94-2.06-.94 2.06-2.06.94z\"/><path d=\"M17.41 7.96l-1.37-1.37c-.4-.4-.92-.59-1.43-.59-.52 0-1.04.2-1.43.59L10.3 9.45l-7.72 7.72c-.78.78-.78 2.05 0 2.83L4 21.41c.39.39.9.59 1.41.59.51 0 1.02-.2 1.41-.59l7.78-7.78 2.81-2.81c.8-.78.8-2.07 0-2.86zM5.41 20L4 18.59l7.72-7.72 1.47 1.35L5.41 20z\"/>\n",
              "  </svg>\n",
              "      </button>\n",
              "      \n",
              "  <style>\n",
              "    .colab-df-container {\n",
              "      display:flex;\n",
              "      flex-wrap:wrap;\n",
              "      gap: 12px;\n",
              "    }\n",
              "\n",
              "    .colab-df-convert {\n",
              "      background-color: #E8F0FE;\n",
              "      border: none;\n",
              "      border-radius: 50%;\n",
              "      cursor: pointer;\n",
              "      display: none;\n",
              "      fill: #1967D2;\n",
              "      height: 32px;\n",
              "      padding: 0 0 0 0;\n",
              "      width: 32px;\n",
              "    }\n",
              "\n",
              "    .colab-df-convert:hover {\n",
              "      background-color: #E2EBFA;\n",
              "      box-shadow: 0px 1px 2px rgba(60, 64, 67, 0.3), 0px 1px 3px 1px rgba(60, 64, 67, 0.15);\n",
              "      fill: #174EA6;\n",
              "    }\n",
              "\n",
              "    [theme=dark] .colab-df-convert {\n",
              "      background-color: #3B4455;\n",
              "      fill: #D2E3FC;\n",
              "    }\n",
              "\n",
              "    [theme=dark] .colab-df-convert:hover {\n",
              "      background-color: #434B5C;\n",
              "      box-shadow: 0px 1px 3px 1px rgba(0, 0, 0, 0.15);\n",
              "      filter: drop-shadow(0px 1px 2px rgba(0, 0, 0, 0.3));\n",
              "      fill: #FFFFFF;\n",
              "    }\n",
              "  </style>\n",
              "\n",
              "      <script>\n",
              "        const buttonEl =\n",
              "          document.querySelector('#df-a55c6e98-0285-43dc-a866-8db7e83eb316 button.colab-df-convert');\n",
              "        buttonEl.style.display =\n",
              "          google.colab.kernel.accessAllowed ? 'block' : 'none';\n",
              "\n",
              "        async function convertToInteractive(key) {\n",
              "          const element = document.querySelector('#df-a55c6e98-0285-43dc-a866-8db7e83eb316');\n",
              "          const dataTable =\n",
              "            await google.colab.kernel.invokeFunction('convertToInteractive',\n",
              "                                                     [key], {});\n",
              "          if (!dataTable) return;\n",
              "\n",
              "          const docLinkHtml = 'Like what you see? Visit the ' +\n",
              "            '<a target=\"_blank\" href=https://colab.research.google.com/notebooks/data_table.ipynb>data table notebook</a>'\n",
              "            + ' to learn more about interactive tables.';\n",
              "          element.innerHTML = '';\n",
              "          dataTable['output_type'] = 'display_data';\n",
              "          await google.colab.output.renderOutput(dataTable, element);\n",
              "          const docLink = document.createElement('div');\n",
              "          docLink.innerHTML = docLinkHtml;\n",
              "          element.appendChild(docLink);\n",
              "        }\n",
              "      </script>\n",
              "    </div>\n",
              "  </div>\n",
              "  "
            ]
          },
          "metadata": {},
          "execution_count": 10
        }
      ]
    },
    {
      "cell_type": "code",
      "source": [
        "data = df.loc[df['sub_both'] == 1]"
      ],
      "metadata": {
        "id": "bs3IcEBHo151"
      },
      "execution_count": null,
      "outputs": []
    },
    {
      "cell_type": "code",
      "source": [
        "data['q_start'] = [y.index(x) for x,y in zip(data[\"q'\"],data[\"q\"])]\n",
        "data['r_start'] = [y.index(x) for x,y in zip(data[\"r'\"],data[\"r\"])]\n",
        "data['q_end'] = [x+len(y)-1 for x,y in zip(data[\"q_start\"],data[\"q'\"])]\n",
        "data['r_end'] = [x+len(y)-1 for x,y in zip(data[\"r_start\"],data[\"r'\"])]"
      ],
      "metadata": {
        "id": "B3jCjQHmOGHa",
        "colab": {
          "base_uri": "https://localhost:8080/"
        },
        "outputId": "8a6ac169-20ee-4132-d3c6-53bd8c2a6061"
      },
      "execution_count": null,
      "outputs": [
        {
          "output_type": "stream",
          "name": "stderr",
          "text": [
            "<ipython-input-12-2e5ebdb9e59b>:1: SettingWithCopyWarning: \n",
            "A value is trying to be set on a copy of a slice from a DataFrame.\n",
            "Try using .loc[row_indexer,col_indexer] = value instead\n",
            "\n",
            "See the caveats in the documentation: https://pandas.pydata.org/pandas-docs/stable/user_guide/indexing.html#returning-a-view-versus-a-copy\n",
            "  data['q_start'] = [y.index(x) for x,y in zip(data[\"q'\"],data[\"q\"])]\n",
            "<ipython-input-12-2e5ebdb9e59b>:2: SettingWithCopyWarning: \n",
            "A value is trying to be set on a copy of a slice from a DataFrame.\n",
            "Try using .loc[row_indexer,col_indexer] = value instead\n",
            "\n",
            "See the caveats in the documentation: https://pandas.pydata.org/pandas-docs/stable/user_guide/indexing.html#returning-a-view-versus-a-copy\n",
            "  data['r_start'] = [y.index(x) for x,y in zip(data[\"r'\"],data[\"r\"])]\n",
            "<ipython-input-12-2e5ebdb9e59b>:3: SettingWithCopyWarning: \n",
            "A value is trying to be set on a copy of a slice from a DataFrame.\n",
            "Try using .loc[row_indexer,col_indexer] = value instead\n",
            "\n",
            "See the caveats in the documentation: https://pandas.pydata.org/pandas-docs/stable/user_guide/indexing.html#returning-a-view-versus-a-copy\n",
            "  data['q_end'] = [x+len(y)-1 for x,y in zip(data[\"q_start\"],data[\"q'\"])]\n",
            "<ipython-input-12-2e5ebdb9e59b>:4: SettingWithCopyWarning: \n",
            "A value is trying to be set on a copy of a slice from a DataFrame.\n",
            "Try using .loc[row_indexer,col_indexer] = value instead\n",
            "\n",
            "See the caveats in the documentation: https://pandas.pydata.org/pandas-docs/stable/user_guide/indexing.html#returning-a-view-versus-a-copy\n",
            "  data['r_end'] = [x+len(y)-1 for x,y in zip(data[\"r_start\"],data[\"r'\"])]\n"
          ]
        }
      ]
    },
    {
      "cell_type": "code",
      "source": [
        "data.head()"
      ],
      "metadata": {
        "id": "Vj2fwlLGpCJZ",
        "colab": {
          "base_uri": "https://localhost:8080/",
          "height": 424
        },
        "outputId": "e1ee1012-1ee8-4a26-de4a-2bc076a00b78"
      },
      "execution_count": null,
      "outputs": [
        {
          "output_type": "execute_result",
          "data": {
            "text/plain": [
              "   id                                                  q  \\\n",
              "0   8  It can go both ways . We all doubt . It is wha...   \n",
              "1   8  It can go both ways . We all doubt . It is wha...   \n",
              "2   8  It can go both ways . We all doubt . It is wha...   \n",
              "3   9  once again , you seem to support the killing o...   \n",
              "4   9  once again , you seem to support the killing o...   \n",
              "\n",
              "                                                   r      s  \\\n",
              "0                                       AGREE:True .  AGREE   \n",
              "1                                       AGREE:True .  AGREE   \n",
              "2                                       AGREE:True .  AGREE   \n",
              "3  AGREE:based on the idea that people are dispen...  AGREE   \n",
              "4  AGREE:based on the idea that people are dispen...  AGREE   \n",
              "\n",
              "                                                  q'  \\\n",
              "0  It can go both ways . We all doubt . It is wha...   \n",
              "1  can go both ways . We all doubt . It is what y...   \n",
              "2  It can go both ways . We all doubt . It is wha...   \n",
              "3      seem to support the killing of certain people   \n",
              "4  you seem to support the killing of certain peo...   \n",
              "\n",
              "                                                  r'  sub_q_true  sub_r_true  \\\n",
              "0                                             True .           1           1   \n",
              "1                                               True           1           1   \n",
              "2                                               True           1           1   \n",
              "3  based on the idea that people are dispensible ...           1           1   \n",
              "4      based on the idea that people are dispensible           1           1   \n",
              "\n",
              "   sub_both  q_start  r_start  q_end  r_end  \n",
              "0         1        0        6     76     11  \n",
              "1         1        3        6     74      9  \n",
              "2         1        0        6     76      9  \n",
              "3         1       17        6     61     98  \n",
              "4         1       13        6     81     50  "
            ],
            "text/html": [
              "\n",
              "  <div id=\"df-4baf0e5e-1666-47d2-a68c-3755573ea1b3\">\n",
              "    <div class=\"colab-df-container\">\n",
              "      <div>\n",
              "<style scoped>\n",
              "    .dataframe tbody tr th:only-of-type {\n",
              "        vertical-align: middle;\n",
              "    }\n",
              "\n",
              "    .dataframe tbody tr th {\n",
              "        vertical-align: top;\n",
              "    }\n",
              "\n",
              "    .dataframe thead th {\n",
              "        text-align: right;\n",
              "    }\n",
              "</style>\n",
              "<table border=\"1\" class=\"dataframe\">\n",
              "  <thead>\n",
              "    <tr style=\"text-align: right;\">\n",
              "      <th></th>\n",
              "      <th>id</th>\n",
              "      <th>q</th>\n",
              "      <th>r</th>\n",
              "      <th>s</th>\n",
              "      <th>q'</th>\n",
              "      <th>r'</th>\n",
              "      <th>sub_q_true</th>\n",
              "      <th>sub_r_true</th>\n",
              "      <th>sub_both</th>\n",
              "      <th>q_start</th>\n",
              "      <th>r_start</th>\n",
              "      <th>q_end</th>\n",
              "      <th>r_end</th>\n",
              "    </tr>\n",
              "  </thead>\n",
              "  <tbody>\n",
              "    <tr>\n",
              "      <th>0</th>\n",
              "      <td>8</td>\n",
              "      <td>It can go both ways . We all doubt . It is wha...</td>\n",
              "      <td>AGREE:True .</td>\n",
              "      <td>AGREE</td>\n",
              "      <td>It can go both ways . We all doubt . It is wha...</td>\n",
              "      <td>True .</td>\n",
              "      <td>1</td>\n",
              "      <td>1</td>\n",
              "      <td>1</td>\n",
              "      <td>0</td>\n",
              "      <td>6</td>\n",
              "      <td>76</td>\n",
              "      <td>11</td>\n",
              "    </tr>\n",
              "    <tr>\n",
              "      <th>1</th>\n",
              "      <td>8</td>\n",
              "      <td>It can go both ways . We all doubt . It is wha...</td>\n",
              "      <td>AGREE:True .</td>\n",
              "      <td>AGREE</td>\n",
              "      <td>can go both ways . We all doubt . It is what y...</td>\n",
              "      <td>True</td>\n",
              "      <td>1</td>\n",
              "      <td>1</td>\n",
              "      <td>1</td>\n",
              "      <td>3</td>\n",
              "      <td>6</td>\n",
              "      <td>74</td>\n",
              "      <td>9</td>\n",
              "    </tr>\n",
              "    <tr>\n",
              "      <th>2</th>\n",
              "      <td>8</td>\n",
              "      <td>It can go both ways . We all doubt . It is wha...</td>\n",
              "      <td>AGREE:True .</td>\n",
              "      <td>AGREE</td>\n",
              "      <td>It can go both ways . We all doubt . It is wha...</td>\n",
              "      <td>True</td>\n",
              "      <td>1</td>\n",
              "      <td>1</td>\n",
              "      <td>1</td>\n",
              "      <td>0</td>\n",
              "      <td>6</td>\n",
              "      <td>76</td>\n",
              "      <td>9</td>\n",
              "    </tr>\n",
              "    <tr>\n",
              "      <th>3</th>\n",
              "      <td>9</td>\n",
              "      <td>once again , you seem to support the killing o...</td>\n",
              "      <td>AGREE:based on the idea that people are dispen...</td>\n",
              "      <td>AGREE</td>\n",
              "      <td>seem to support the killing of certain people</td>\n",
              "      <td>based on the idea that people are dispensible ...</td>\n",
              "      <td>1</td>\n",
              "      <td>1</td>\n",
              "      <td>1</td>\n",
              "      <td>17</td>\n",
              "      <td>6</td>\n",
              "      <td>61</td>\n",
              "      <td>98</td>\n",
              "    </tr>\n",
              "    <tr>\n",
              "      <th>4</th>\n",
              "      <td>9</td>\n",
              "      <td>once again , you seem to support the killing o...</td>\n",
              "      <td>AGREE:based on the idea that people are dispen...</td>\n",
              "      <td>AGREE</td>\n",
              "      <td>you seem to support the killing of certain peo...</td>\n",
              "      <td>based on the idea that people are dispensible</td>\n",
              "      <td>1</td>\n",
              "      <td>1</td>\n",
              "      <td>1</td>\n",
              "      <td>13</td>\n",
              "      <td>6</td>\n",
              "      <td>81</td>\n",
              "      <td>50</td>\n",
              "    </tr>\n",
              "  </tbody>\n",
              "</table>\n",
              "</div>\n",
              "      <button class=\"colab-df-convert\" onclick=\"convertToInteractive('df-4baf0e5e-1666-47d2-a68c-3755573ea1b3')\"\n",
              "              title=\"Convert this dataframe to an interactive table.\"\n",
              "              style=\"display:none;\">\n",
              "        \n",
              "  <svg xmlns=\"http://www.w3.org/2000/svg\" height=\"24px\"viewBox=\"0 0 24 24\"\n",
              "       width=\"24px\">\n",
              "    <path d=\"M0 0h24v24H0V0z\" fill=\"none\"/>\n",
              "    <path d=\"M18.56 5.44l.94 2.06.94-2.06 2.06-.94-2.06-.94-.94-2.06-.94 2.06-2.06.94zm-11 1L8.5 8.5l.94-2.06 2.06-.94-2.06-.94L8.5 2.5l-.94 2.06-2.06.94zm10 10l.94 2.06.94-2.06 2.06-.94-2.06-.94-.94-2.06-.94 2.06-2.06.94z\"/><path d=\"M17.41 7.96l-1.37-1.37c-.4-.4-.92-.59-1.43-.59-.52 0-1.04.2-1.43.59L10.3 9.45l-7.72 7.72c-.78.78-.78 2.05 0 2.83L4 21.41c.39.39.9.59 1.41.59.51 0 1.02-.2 1.41-.59l7.78-7.78 2.81-2.81c.8-.78.8-2.07 0-2.86zM5.41 20L4 18.59l7.72-7.72 1.47 1.35L5.41 20z\"/>\n",
              "  </svg>\n",
              "      </button>\n",
              "      \n",
              "  <style>\n",
              "    .colab-df-container {\n",
              "      display:flex;\n",
              "      flex-wrap:wrap;\n",
              "      gap: 12px;\n",
              "    }\n",
              "\n",
              "    .colab-df-convert {\n",
              "      background-color: #E8F0FE;\n",
              "      border: none;\n",
              "      border-radius: 50%;\n",
              "      cursor: pointer;\n",
              "      display: none;\n",
              "      fill: #1967D2;\n",
              "      height: 32px;\n",
              "      padding: 0 0 0 0;\n",
              "      width: 32px;\n",
              "    }\n",
              "\n",
              "    .colab-df-convert:hover {\n",
              "      background-color: #E2EBFA;\n",
              "      box-shadow: 0px 1px 2px rgba(60, 64, 67, 0.3), 0px 1px 3px 1px rgba(60, 64, 67, 0.15);\n",
              "      fill: #174EA6;\n",
              "    }\n",
              "\n",
              "    [theme=dark] .colab-df-convert {\n",
              "      background-color: #3B4455;\n",
              "      fill: #D2E3FC;\n",
              "    }\n",
              "\n",
              "    [theme=dark] .colab-df-convert:hover {\n",
              "      background-color: #434B5C;\n",
              "      box-shadow: 0px 1px 3px 1px rgba(0, 0, 0, 0.15);\n",
              "      filter: drop-shadow(0px 1px 2px rgba(0, 0, 0, 0.3));\n",
              "      fill: #FFFFFF;\n",
              "    }\n",
              "  </style>\n",
              "\n",
              "      <script>\n",
              "        const buttonEl =\n",
              "          document.querySelector('#df-4baf0e5e-1666-47d2-a68c-3755573ea1b3 button.colab-df-convert');\n",
              "        buttonEl.style.display =\n",
              "          google.colab.kernel.accessAllowed ? 'block' : 'none';\n",
              "\n",
              "        async function convertToInteractive(key) {\n",
              "          const element = document.querySelector('#df-4baf0e5e-1666-47d2-a68c-3755573ea1b3');\n",
              "          const dataTable =\n",
              "            await google.colab.kernel.invokeFunction('convertToInteractive',\n",
              "                                                     [key], {});\n",
              "          if (!dataTable) return;\n",
              "\n",
              "          const docLinkHtml = 'Like what you see? Visit the ' +\n",
              "            '<a target=\"_blank\" href=https://colab.research.google.com/notebooks/data_table.ipynb>data table notebook</a>'\n",
              "            + ' to learn more about interactive tables.';\n",
              "          element.innerHTML = '';\n",
              "          dataTable['output_type'] = 'display_data';\n",
              "          await google.colab.output.renderOutput(dataTable, element);\n",
              "          const docLink = document.createElement('div');\n",
              "          docLink.innerHTML = docLinkHtml;\n",
              "          element.appendChild(docLink);\n",
              "        }\n",
              "      </script>\n",
              "    </div>\n",
              "  </div>\n",
              "  "
            ]
          },
          "metadata": {},
          "execution_count": 13
        }
      ]
    },
    {
      "cell_type": "code",
      "source": [
        "train = data"
      ],
      "metadata": {
        "id": "sra75dJjjZwC"
      },
      "execution_count": null,
      "outputs": []
    },
    {
      "cell_type": "markdown",
      "source": [
        "## Tokenizer"
      ],
      "metadata": {
        "id": "pcQn-_Rq5yfT"
      }
    },
    {
      "cell_type": "code",
      "source": [
        "from transformers import AutoTokenizer\n",
        "\n",
        "tokenizer = AutoTokenizer.from_pretrained('nbroad/ESG-BERT')"
      ],
      "metadata": {
        "id": "kJNMGgErziHa",
        "colab": {
          "base_uri": "https://localhost:8080/",
          "referenced_widgets": [
            "00236dcf13ee49f8a242bcf9badaed37",
            "a2d93fa9e09c450f9c5cb0c1a135495e",
            "2a99eb92e7f84304a7e454453f64e0ff",
            "9e4262eff4c94f739c8ecbd0496da75b",
            "678f6c83ac5a45219ee643472cd91b8f",
            "45a72288cd9f46f4a5cfc64442ab27c2",
            "02ad9f7454aa451fafacf01e53a3eb27",
            "4292755e8bfd4fbdb0685f3110822869",
            "a457e703aacb4e57b939375f234e50e0",
            "e90874127f0749e4a7505c155225ee05",
            "53f056e4c28742dbbcff7fe5b76a14b9",
            "dd83d6525fa445eba60c6943fc046ebd",
            "ab12b005cf334050a03f8981194ae2c5",
            "3c1af6ce51bf4295907c71bb3dd695f9",
            "7b3e6724d43a4140a87f438d1086232e",
            "d2f37637a9fb40bcbc5db81e3e7e0012",
            "e807c1a95db1454d95e0d3c1e597040f",
            "2be105f6cf00426384dafbe1993a45b5",
            "27aea9f2506847b9bb755d3379c4600e",
            "c4c8e2ce46314519a62d6645c074f7da",
            "9825902cd77e44ed87e2cb641ee8c1ce",
            "d4b74daf7acb485d99feff2ed5baa3d4",
            "ccd7f4c192774deca0737505d7565daf",
            "39282038219349bc8aa07c04d6a5ad80",
            "94471cc97b9f445a848eda1ccd501709",
            "6a609ccaaac348fba0fc0f3f8d080e0b",
            "1db5d2b2e1584a69a9c286b803dfeaea",
            "ccda3f3d546c45a69490e45f5de3eab7",
            "fdd38ccc678d4828852d0a4d48ba6a9e",
            "1cf580a0be384e5c9c0c34e204704af9",
            "1345942dc1b54b518edcc7a92ee57b40",
            "2f46e4e66d26420791f3622f8a71b4df",
            "09def4e0b44d48129191bb6fbcca7561",
            "cbe3da94218d4c9892ab452743dd0c36",
            "328f650a8da04027b037b1bc42f56078",
            "235df3d829ec4e7bb9013100e22ae607",
            "30a3fa7a9c0f41f09df5895dea38bf0f",
            "df890dddebd748e0bed577ae68dc787e",
            "538e1815de65407ba54e311096c50f01",
            "1ed0f20da501410e80c2dc6fc0ef3f24",
            "0a72d07e7e35447ca4d720dbab22f7be",
            "71144c380c6e467587411429f990dddd",
            "decb994ac74e4fab86fc3f1a2429a0df",
            "cbd43fc5f62e429ebf5f174185a42aad"
          ],
          "height": 145
        },
        "outputId": "50e5de07-090b-4900-84ab-93f6e233e4af"
      },
      "execution_count": null,
      "outputs": [
        {
          "output_type": "display_data",
          "data": {
            "text/plain": [
              "Downloading:   0%|          | 0.00/376 [00:00<?, ?B/s]"
            ],
            "application/vnd.jupyter.widget-view+json": {
              "version_major": 2,
              "version_minor": 0,
              "model_id": "00236dcf13ee49f8a242bcf9badaed37"
            }
          },
          "metadata": {}
        },
        {
          "output_type": "display_data",
          "data": {
            "text/plain": [
              "Downloading:   0%|          | 0.00/232k [00:00<?, ?B/s]"
            ],
            "application/vnd.jupyter.widget-view+json": {
              "version_major": 2,
              "version_minor": 0,
              "model_id": "dd83d6525fa445eba60c6943fc046ebd"
            }
          },
          "metadata": {}
        },
        {
          "output_type": "display_data",
          "data": {
            "text/plain": [
              "Downloading:   0%|          | 0.00/466k [00:00<?, ?B/s]"
            ],
            "application/vnd.jupyter.widget-view+json": {
              "version_major": 2,
              "version_minor": 0,
              "model_id": "ccd7f4c192774deca0737505d7565daf"
            }
          },
          "metadata": {}
        },
        {
          "output_type": "display_data",
          "data": {
            "text/plain": [
              "Downloading:   0%|          | 0.00/112 [00:00<?, ?B/s]"
            ],
            "application/vnd.jupyter.widget-view+json": {
              "version_major": 2,
              "version_minor": 0,
              "model_id": "cbe3da94218d4c9892ab452743dd0c36"
            }
          },
          "metadata": {}
        }
      ]
    },
    {
      "cell_type": "code",
      "source": [
        "train_encodings = tokenizer(train['q'].tolist(), train['r'].tolist(), truncation=True, padding=True)"
      ],
      "metadata": {
        "id": "a4-Xb_k1kfyv"
      },
      "execution_count": null,
      "outputs": []
    },
    {
      "cell_type": "code",
      "source": [
        "tokenizer.decode(train_encodings['input_ids'][0])"
      ],
      "metadata": {
        "colab": {
          "base_uri": "https://localhost:8080/",
          "height": 122
        },
        "id": "grCTbJ7pkpfC",
        "outputId": "c0d97aaa-63b5-45cf-c715-5aa951c50b81"
      },
      "execution_count": null,
      "outputs": [
        {
          "output_type": "execute_result",
          "data": {
            "text/plain": [
              "'[CLS] it can go both ways. we all doubt. it is what you do with it that matters. [SEP] agree : true. [SEP] [PAD] [PAD] [PAD] [PAD] [PAD] [PAD] [PAD] [PAD] [PAD] [PAD] [PAD] [PAD] [PAD] [PAD] [PAD] [PAD] [PAD] [PAD] [PAD] [PAD] [PAD] [PAD] [PAD] [PAD] [PAD] [PAD] [PAD] [PAD] [PAD] [PAD] [PAD] [PAD] [PAD] [PAD] [PAD] [PAD] [PAD] [PAD] [PAD] [PAD] [PAD] [PAD] [PAD] [PAD] [PAD] [PAD] [PAD] [PAD] [PAD] [PAD] [PAD] [PAD] [PAD] [PAD] [PAD] [PAD] [PAD] [PAD] [PAD] [PAD] [PAD] [PAD] [PAD] [PAD] [PAD] [PAD] [PAD] [PAD] [PAD] [PAD] [PAD] [PAD] [PAD] [PAD] [PAD] [PAD] [PAD] [PAD] [PAD] [PAD] [PAD] [PAD] [PAD] [PAD] [PAD] [PAD] [PAD] [PAD] [PAD] [PAD] [PAD] [PAD] [PAD] [PAD] [PAD] [PAD] [PAD] [PAD] [PAD] [PAD] [PAD] [PAD] [PAD] [PAD] [PAD] [PAD] [PAD] [PAD] [PAD] [PAD] [PAD] [PAD] [PAD] [PAD] [PAD] [PAD] [PAD] [PAD] [PAD] [PAD] [PAD] [PAD] [PAD] [PAD] [PAD] [PAD] [PAD] [PAD] [PAD] [PAD] [PAD] [PAD] [PAD] [PAD] [PAD] [PAD] [PAD] [PAD] [PAD] [PAD] [PAD] [PAD] [PAD] [PAD] [PAD] [PAD] [PAD] [PAD] [PAD] [PAD] [PAD] [PAD] [PAD] [PAD] [PAD] [PAD] [PAD] [PAD] [PAD] [PAD] [PAD] [PAD] [PAD] [PAD] [PAD] [PAD] [PAD] [PAD] [PAD] [PAD] [PAD] [PAD] [PAD] [PAD] [PAD] [PAD] [PAD] [PAD] [PAD] [PAD] [PAD] [PAD] [PAD] [PAD] [PAD] [PAD] [PAD] [PAD] [PAD] [PAD] [PAD] [PAD] [PAD] [PAD] [PAD] [PAD] [PAD] [PAD] [PAD] [PAD] [PAD] [PAD] [PAD] [PAD] [PAD] [PAD] [PAD] [PAD] [PAD] [PAD] [PAD] [PAD] [PAD] [PAD] [PAD] [PAD] [PAD] [PAD] [PAD] [PAD] [PAD] [PAD] [PAD] [PAD] [PAD] [PAD] [PAD] [PAD] [PAD] [PAD] [PAD] [PAD] [PAD] [PAD] [PAD] [PAD] [PAD] [PAD] [PAD] [PAD] [PAD] [PAD] [PAD] [PAD] [PAD] [PAD] [PAD] [PAD] [PAD] [PAD] [PAD] [PAD] [PAD] [PAD] [PAD] [PAD] [PAD] [PAD] [PAD] [PAD] [PAD] [PAD] [PAD] [PAD] [PAD] [PAD] [PAD] [PAD] [PAD] [PAD] [PAD] [PAD] [PAD] [PAD] [PAD] [PAD] [PAD] [PAD] [PAD] [PAD] [PAD] [PAD] [PAD] [PAD] [PAD] [PAD] [PAD] [PAD] [PAD] [PAD] [PAD] [PAD] [PAD] [PAD] [PAD] [PAD] [PAD] [PAD] [PAD] [PAD] [PAD] [PAD] [PAD] [PAD] [PAD] [PAD] [PAD] [PAD] [PAD] [PAD] [PAD] [PAD] [PAD] [PAD] [PAD] [PAD] [PAD] [PAD] [PAD] [PAD] [PAD] [PAD] [PAD] [PAD] [PAD] [PAD] [PAD] [PAD] [PAD] [PAD] [PAD] [PAD] [PAD] [PAD] [PAD] [PAD] [PAD] [PAD] [PAD] [PAD] [PAD] [PAD] [PAD] [PAD] [PAD] [PAD] [PAD] [PAD] [PAD] [PAD] [PAD] [PAD] [PAD] [PAD] [PAD] [PAD] [PAD] [PAD] [PAD] [PAD] [PAD] [PAD] [PAD] [PAD] [PAD] [PAD] [PAD] [PAD] [PAD] [PAD] [PAD] [PAD] [PAD] [PAD] [PAD] [PAD] [PAD] [PAD] [PAD] [PAD] [PAD] [PAD] [PAD] [PAD] [PAD] [PAD] [PAD] [PAD] [PAD] [PAD] [PAD] [PAD] [PAD] [PAD] [PAD] [PAD] [PAD] [PAD] [PAD] [PAD] [PAD] [PAD] [PAD] [PAD] [PAD] [PAD] [PAD] [PAD] [PAD] [PAD] [PAD] [PAD] [PAD] [PAD] [PAD] [PAD] [PAD] [PAD] [PAD] [PAD] [PAD] [PAD] [PAD] [PAD] [PAD] [PAD] [PAD] [PAD] [PAD] [PAD] [PAD] [PAD] [PAD] [PAD] [PAD] [PAD] [PAD] [PAD] [PAD] [PAD] [PAD] [PAD] [PAD] [PAD] [PAD] [PAD] [PAD] [PAD] [PAD] [PAD] [PAD] [PAD] [PAD] [PAD] [PAD] [PAD] [PAD] [PAD] [PAD] [PAD] [PAD] [PAD] [PAD] [PAD] [PAD] [PAD] [PAD] [PAD] [PAD] [PAD] [PAD] [PAD] [PAD] [PAD] [PAD] [PAD] [PAD] [PAD] [PAD] [PAD] [PAD] [PAD] [PAD] [PAD] [PAD]'"
            ],
            "application/vnd.google.colaboratory.intrinsic+json": {
              "type": "string"
            }
          },
          "metadata": {},
          "execution_count": 17
        }
      ]
    },
    {
      "cell_type": "code",
      "source": [
        "train_answer = train[['q_start', 'r_start',\t'q_end', 'r_end']].to_dict('records')"
      ],
      "metadata": {
        "id": "CDnrLp0hvvGW"
      },
      "execution_count": null,
      "outputs": []
    },
    {
      "cell_type": "code",
      "source": [
        "def add_token_positions(encodings, answers):\n",
        "    q_start, r_start, q_end, r_end = [],[],[],[]\n",
        "\n",
        "    for i in range(len(answers)):\n",
        "        q_start.append(encodings.char_to_token(i, answers[i]['q_start'], 0))\n",
        "        r_start.append(encodings.char_to_token(i, answers[i]['r_start'], 1))\n",
        "        q_end.append(encodings.char_to_token(i, answers[i]['q_end'], 0))\n",
        "        r_end.append(encodings.char_to_token(i, answers[i]['r_end'], 1))\n",
        "\n",
        "        if q_start[-1] is None:\n",
        "            q_start[-1] = 0\n",
        "            q_end[-1] = 0\n",
        "            # continue\n",
        "\n",
        "        if r_start[-1] is None:\n",
        "            r_start[-1] = 0\n",
        "            r_end[-1] = 0\n",
        "            # continue\n",
        "\n",
        "        shift = 1\n",
        "        while q_end[-1] is None:\n",
        "            q_end[-1] = encodings.char_to_token(i, answers[i]['q_end'] - shift)\n",
        "            shift += 1\n",
        "        shift = 1\n",
        "        while r_end[-1] is None:\n",
        "            r_end[-1] = encodings.char_to_token(i, answers[i]['r_end'] - shift)\n",
        "            shift += 1\n",
        "    encodings.update({'q_start':q_start, 'r_start':r_start,\t'q_end':q_end, 'r_end':r_end})"
      ],
      "metadata": {
        "id": "v8oUTnyktl_x"
      },
      "execution_count": null,
      "outputs": []
    },
    {
      "cell_type": "code",
      "source": [
        "# Convert char_based_id to token_based_id\n",
        "# Find the corossponding token id after input being tokenized\n",
        "add_token_positions(train_encodings, train_answer)"
      ],
      "metadata": {
        "id": "A1xqKVrBwSHx"
      },
      "execution_count": null,
      "outputs": []
    },
    {
      "cell_type": "code",
      "source": [
        "train_encodings.keys()"
      ],
      "metadata": {
        "colab": {
          "base_uri": "https://localhost:8080/"
        },
        "id": "RZhJSrR7xTjv",
        "outputId": "539d71a6-9608-4012-9545-8782afbcca5a"
      },
      "execution_count": null,
      "outputs": [
        {
          "output_type": "execute_result",
          "data": {
            "text/plain": [
              "dict_keys(['input_ids', 'token_type_ids', 'attention_mask'])"
            ]
          },
          "metadata": {},
          "execution_count": 18
        }
      ]
    },
    {
      "cell_type": "code",
      "source": [
        "print(train_encodings['q_start'][0])\n",
        "print(train_encodings['r_start'][0])\n",
        "print(train_encodings['q_end'][0])\n",
        "print(train_encodings['r_end'][0])"
      ],
      "metadata": {
        "colab": {
          "base_uri": "https://localhost:8080/"
        },
        "id": "BKGfnJV2JbAF",
        "outputId": "ff3563fa-47bf-4088-e711-37ccdc195232"
      },
      "execution_count": null,
      "outputs": [
        {
          "output_type": "stream",
          "name": "stdout",
          "text": [
            "1\n",
            "26\n",
            "20\n",
            "27\n"
          ]
        }
      ]
    },
    {
      "cell_type": "markdown",
      "source": [
        "## Dataset"
      ],
      "metadata": {
        "id": "VGfziDMh6iOP"
      }
    },
    {
      "cell_type": "code",
      "source": [
        "\n",
        "\n",
        "class qrDataset(torch.utils.data.Dataset):\n",
        "    def __init__(self, encodings):\n",
        "        self.encodings = encodings\n",
        "\n",
        "    def __getitem__(self, idx):\n",
        "        return {key: torch.tensor(val[idx]) for key, val in self.encodings.items()}\n",
        "\n",
        "    def __len__(self):\n",
        "        return len(self.encodings.input_ids)"
      ],
      "metadata": {
        "id": "Awivv8SdNm_d"
      },
      "execution_count": null,
      "outputs": []
    },
    {
      "cell_type": "code",
      "source": [
        "train_dataset = qrDataset(train_encodings)"
      ],
      "metadata": {
        "id": "yIjnUh9qOEjD"
      },
      "execution_count": null,
      "outputs": []
    },
    {
      "cell_type": "code",
      "source": [
        "next(iter(train_dataset))"
      ],
      "metadata": {
        "colab": {
          "base_uri": "https://localhost:8080/"
        },
        "id": "ui3__xvEPcia",
        "outputId": "def90ef2-3ee9-49b1-b01d-e3b934b45c27"
      },
      "execution_count": null,
      "outputs": [
        {
          "output_type": "execute_result",
          "data": {
            "text/plain": [
              "{'input_ids': tensor([    0,   243,    64,   213,   258,  1319,   479,   166,    70,  2980,\n",
              "           479,    85,    16,    99,    47,   109,    19,    24,    14,  3510,\n",
              "           479,     2,     2,  3450, 30009,    35, 36948,   479,     2,     1,\n",
              "             1,     1,     1,     1,     1,     1,     1,     1,     1,     1,\n",
              "             1,     1,     1,     1,     1,     1,     1,     1,     1,     1,\n",
              "             1,     1,     1,     1,     1,     1,     1,     1,     1,     1,\n",
              "             1,     1,     1,     1,     1,     1,     1,     1,     1,     1,\n",
              "             1,     1,     1,     1,     1,     1,     1,     1,     1,     1,\n",
              "             1,     1,     1,     1,     1,     1,     1,     1,     1,     1,\n",
              "             1,     1,     1,     1,     1,     1,     1,     1,     1,     1,\n",
              "             1,     1,     1,     1,     1,     1,     1,     1,     1,     1,\n",
              "             1,     1,     1,     1,     1,     1,     1,     1,     1,     1,\n",
              "             1,     1,     1,     1,     1,     1,     1,     1,     1,     1,\n",
              "             1,     1,     1,     1,     1,     1,     1,     1,     1,     1,\n",
              "             1,     1,     1,     1,     1,     1,     1,     1,     1,     1,\n",
              "             1,     1,     1,     1,     1,     1,     1,     1,     1,     1,\n",
              "             1,     1,     1,     1,     1,     1,     1,     1,     1,     1,\n",
              "             1,     1,     1,     1,     1,     1,     1,     1,     1,     1,\n",
              "             1,     1,     1,     1,     1,     1,     1,     1,     1,     1,\n",
              "             1,     1,     1,     1,     1,     1,     1,     1,     1,     1,\n",
              "             1,     1,     1,     1,     1,     1,     1,     1,     1,     1,\n",
              "             1,     1,     1,     1,     1,     1,     1,     1,     1,     1,\n",
              "             1,     1,     1,     1,     1,     1,     1,     1,     1,     1,\n",
              "             1,     1,     1,     1,     1,     1,     1,     1,     1,     1,\n",
              "             1,     1,     1,     1,     1,     1,     1,     1,     1,     1,\n",
              "             1,     1,     1,     1,     1,     1,     1,     1,     1,     1,\n",
              "             1,     1,     1,     1,     1,     1,     1,     1,     1,     1,\n",
              "             1,     1,     1,     1,     1,     1,     1,     1,     1,     1,\n",
              "             1,     1,     1,     1,     1,     1,     1,     1,     1,     1,\n",
              "             1,     1,     1,     1,     1,     1,     1,     1,     1,     1,\n",
              "             1,     1,     1,     1,     1,     1,     1,     1,     1,     1,\n",
              "             1,     1,     1,     1,     1,     1,     1,     1,     1,     1,\n",
              "             1,     1,     1,     1,     1,     1,     1,     1,     1,     1,\n",
              "             1,     1,     1,     1,     1,     1,     1,     1,     1,     1,\n",
              "             1,     1,     1,     1,     1,     1,     1,     1,     1,     1,\n",
              "             1,     1,     1,     1,     1,     1,     1,     1,     1,     1,\n",
              "             1,     1,     1,     1,     1,     1,     1,     1,     1,     1,\n",
              "             1,     1,     1,     1,     1,     1,     1,     1,     1,     1,\n",
              "             1,     1,     1,     1,     1,     1,     1,     1,     1,     1,\n",
              "             1,     1,     1,     1,     1,     1,     1,     1,     1,     1,\n",
              "             1,     1,     1,     1,     1,     1,     1,     1,     1,     1,\n",
              "             1,     1,     1,     1,     1,     1,     1,     1,     1,     1,\n",
              "             1,     1,     1,     1,     1,     1,     1,     1,     1,     1,\n",
              "             1,     1,     1,     1,     1,     1,     1,     1,     1,     1,\n",
              "             1,     1,     1,     1,     1,     1,     1,     1,     1,     1,\n",
              "             1,     1,     1,     1,     1,     1,     1,     1,     1,     1,\n",
              "             1,     1,     1,     1,     1,     1,     1,     1,     1,     1,\n",
              "             1,     1,     1,     1,     1,     1,     1,     1,     1,     1,\n",
              "             1,     1,     1,     1,     1,     1,     1,     1,     1,     1,\n",
              "             1,     1,     1,     1,     1,     1,     1,     1,     1,     1,\n",
              "             1,     1,     1,     1,     1,     1,     1,     1,     1,     1,\n",
              "             1,     1]),\n",
              " 'attention_mask': tensor([1, 1, 1, 1, 1, 1, 1, 1, 1, 1, 1, 1, 1, 1, 1, 1, 1, 1, 1, 1, 1, 1, 1, 1,\n",
              "         1, 1, 1, 1, 1, 0, 0, 0, 0, 0, 0, 0, 0, 0, 0, 0, 0, 0, 0, 0, 0, 0, 0, 0,\n",
              "         0, 0, 0, 0, 0, 0, 0, 0, 0, 0, 0, 0, 0, 0, 0, 0, 0, 0, 0, 0, 0, 0, 0, 0,\n",
              "         0, 0, 0, 0, 0, 0, 0, 0, 0, 0, 0, 0, 0, 0, 0, 0, 0, 0, 0, 0, 0, 0, 0, 0,\n",
              "         0, 0, 0, 0, 0, 0, 0, 0, 0, 0, 0, 0, 0, 0, 0, 0, 0, 0, 0, 0, 0, 0, 0, 0,\n",
              "         0, 0, 0, 0, 0, 0, 0, 0, 0, 0, 0, 0, 0, 0, 0, 0, 0, 0, 0, 0, 0, 0, 0, 0,\n",
              "         0, 0, 0, 0, 0, 0, 0, 0, 0, 0, 0, 0, 0, 0, 0, 0, 0, 0, 0, 0, 0, 0, 0, 0,\n",
              "         0, 0, 0, 0, 0, 0, 0, 0, 0, 0, 0, 0, 0, 0, 0, 0, 0, 0, 0, 0, 0, 0, 0, 0,\n",
              "         0, 0, 0, 0, 0, 0, 0, 0, 0, 0, 0, 0, 0, 0, 0, 0, 0, 0, 0, 0, 0, 0, 0, 0,\n",
              "         0, 0, 0, 0, 0, 0, 0, 0, 0, 0, 0, 0, 0, 0, 0, 0, 0, 0, 0, 0, 0, 0, 0, 0,\n",
              "         0, 0, 0, 0, 0, 0, 0, 0, 0, 0, 0, 0, 0, 0, 0, 0, 0, 0, 0, 0, 0, 0, 0, 0,\n",
              "         0, 0, 0, 0, 0, 0, 0, 0, 0, 0, 0, 0, 0, 0, 0, 0, 0, 0, 0, 0, 0, 0, 0, 0,\n",
              "         0, 0, 0, 0, 0, 0, 0, 0, 0, 0, 0, 0, 0, 0, 0, 0, 0, 0, 0, 0, 0, 0, 0, 0,\n",
              "         0, 0, 0, 0, 0, 0, 0, 0, 0, 0, 0, 0, 0, 0, 0, 0, 0, 0, 0, 0, 0, 0, 0, 0,\n",
              "         0, 0, 0, 0, 0, 0, 0, 0, 0, 0, 0, 0, 0, 0, 0, 0, 0, 0, 0, 0, 0, 0, 0, 0,\n",
              "         0, 0, 0, 0, 0, 0, 0, 0, 0, 0, 0, 0, 0, 0, 0, 0, 0, 0, 0, 0, 0, 0, 0, 0,\n",
              "         0, 0, 0, 0, 0, 0, 0, 0, 0, 0, 0, 0, 0, 0, 0, 0, 0, 0, 0, 0, 0, 0, 0, 0,\n",
              "         0, 0, 0, 0, 0, 0, 0, 0, 0, 0, 0, 0, 0, 0, 0, 0, 0, 0, 0, 0, 0, 0, 0, 0,\n",
              "         0, 0, 0, 0, 0, 0, 0, 0, 0, 0, 0, 0, 0, 0, 0, 0, 0, 0, 0, 0, 0, 0, 0, 0,\n",
              "         0, 0, 0, 0, 0, 0, 0, 0, 0, 0, 0, 0, 0, 0, 0, 0, 0, 0, 0, 0, 0, 0, 0, 0,\n",
              "         0, 0, 0, 0, 0, 0, 0, 0, 0, 0, 0, 0, 0, 0, 0, 0, 0, 0, 0, 0, 0, 0, 0, 0,\n",
              "         0, 0, 0, 0, 0, 0, 0, 0]),\n",
              " 'q_start': tensor(1),\n",
              " 'r_start': tensor(26),\n",
              " 'q_end': tensor(20),\n",
              " 'r_end': tensor(27)}"
            ]
          },
          "metadata": {},
          "execution_count": 26
        }
      ]
    },
    {
      "cell_type": "markdown",
      "source": [
        "## Model"
      ],
      "metadata": {
        "id": "anB_LCU16q-C"
      }
    },
    {
      "cell_type": "code",
      "source": [
        "from transformers import AutoModelForSequenceClassification\n",
        "class myModel(torch.nn.Module):\n",
        "\n",
        "    def __init__(self):\n",
        "\n",
        "        super(myModel, self).__init__()\n",
        "\n",
        "        self.bert = AutoModelForSequenceClassification.from_pretrained('nbroad/ESG-BERT')\n",
        "        # self.fc = nn.Linear(768, 26)\n",
        "        \n",
        "\n",
        "    def forward(self, input_ids, attention_mask):\n",
        "\n",
        "        output = self.bert(input_ids=input_ids, attention_mask=attention_mask, return_dict=True)\n",
        "        logits = output[0]\n",
        "        out = self.fc(logits)\n",
        "\n",
        "        return out\n",
        "\n"
      ],
      "metadata": {
        "id": "rwZdH-I4PoAf"
      },
      "execution_count": null,
      "outputs": []
    },
    {
      "cell_type": "markdown",
      "source": [
        "## Training"
      ],
      "metadata": {
        "id": "jEUJSg7E6wWF"
      }
    },
    {
      "cell_type": "code",
      "source": [
        "from transformers import AdamW\n",
        "from tqdm import tqdm\n",
        "\n",
        "# Set GPU / CPU\n",
        "device = torch.device('cuda') if torch.cuda.is_available() else torch.device('cpu')\n",
        "# Put model on device\n",
        "model = myModel().to(device)\n",
        "\n",
        "optim = AdamW(model.parameters(), lr=1e-5)"
      ],
      "metadata": {
        "colab": {
          "base_uri": "https://localhost:8080/"
        },
        "id": "mIZ50YA8OfgB",
        "outputId": "729e607e-009f-4f40-c4f5-b04dfe9f2ef0"
      },
      "execution_count": null,
      "outputs": [
        {
          "output_type": "stream",
          "name": "stderr",
          "text": [
            "/usr/local/lib/python3.8/dist-packages/transformers/optimization.py:306: FutureWarning: This implementation of AdamW is deprecated and will be removed in a future version. Use the PyTorch implementation torch.optim.AdamW instead, or set `no_deprecation_warning=True` to disable this warning\n",
            "  warnings.warn(\n"
          ]
        }
      ]
    },
    {
      "cell_type": "code",
      "source": [
        "print(model)"
      ],
      "metadata": {
        "id": "ujh1pypjXdzi"
      },
      "execution_count": null,
      "outputs": []
    },
    {
      "cell_type": "code",
      "source": [
        "# Pack data into dataloader by batch\n",
        "batch_size = 16\n",
        "train_loader = DataLoader(train_dataset, batch_size=batch_size, shuffle=True)"
      ],
      "metadata": {
        "id": "JIwySrYN9EOp"
      },
      "execution_count": null,
      "outputs": []
    },
    {
      "cell_type": "code",
      "source": [
        "training_epoch = 3"
      ],
      "metadata": {
        "id": "aJrCvwVl8A3d"
      },
      "execution_count": null,
      "outputs": []
    },
    {
      "cell_type": "code",
      "source": [
        "loss_fct = CrossEntropyLoss()"
      ],
      "metadata": {
        "id": "5W9Z0_YkYBA0"
      },
      "execution_count": null,
      "outputs": []
    },
    {
      "cell_type": "code",
      "source": [
        "for epoch in range(training_epoch):\n",
        "    model.train()\n",
        "    running_loss = 0.0\n",
        "\n",
        "    loop = tqdm(train_loader, leave=True)\n",
        "    for batch_id, batch in enumerate(loop):\n",
        "        # reset\n",
        "        optim.zero_grad()\n",
        "\n",
        "\n",
        "        input_ids = batch['input_ids'].to(device)\n",
        "        attention_mask = batch['attention_mask'].to(device)\n",
        "        q_start = batch['q_start'].to(device)\n",
        "        r_start = batch['r_start'].to(device)\n",
        "        q_end = batch['q_end'].to(device)\n",
        "        r_end = batch['r_end'].to(device)\n",
        "\n",
        "\n",
        "        # model output\n",
        "        outputs = model(input_ids=input_ids, attention_mask=attention_mask)\n",
        "\n",
        "        q_start_logits, r_start_logits, q_end_logits, r_end_logits = torch.split(outputs, 1, 2)\n",
        "\n",
        "        q_start_logits = q_start_logits.squeeze(-1).contiguous()\n",
        "        r_start_logits = r_start_logits.squeeze(-1).contiguous()\n",
        "        q_end_logits = q_end_logits.squeeze(-1).contiguous()\n",
        "        r_end_logits = r_end_logits.squeeze(-1).contiguous()\n",
        "\n",
        "        q_start_loss = loss_fct(q_start_logits, q_start)\n",
        "        r_start_loss = loss_fct(r_start_logits, r_start)\n",
        "        q_end_loss = loss_fct(q_end_logits, q_end)\n",
        "        r_end_loss = loss_fct(r_end_logits, r_end)\n",
        "\n",
        "\n",
        "\n",
        "        loss = q_start_loss + r_start_loss + q_end_loss + r_end_loss\n",
        "\n",
        "        # calculate loss\n",
        "        loss.backward()\n",
        "        # update parameters\n",
        "        optim.step()\n",
        "\n",
        "        running_loss += loss.item()\n",
        "        if batch_id % 50 == 0 and batch_id != 0:\n",
        "            print('Epoch {} Batch {} Loss {:.4f}'.format(\n",
        "                batch_id + 1, batch_id, running_loss / 50))\n",
        "            running_loss = 0.0\n",
        "\n",
        "        loop.set_description(f'Epoch {epoch}')\n",
        "        loop.set_postfix(loss=loss.item())"
      ],
      "metadata": {
        "colab": {
          "base_uri": "https://localhost:8080/"
        },
        "id": "-RIFNMy0WHvk",
        "outputId": "e7fd0410-17fd-462a-aa24-0a77432d3359"
      },
      "execution_count": null,
      "outputs": [
        {
          "output_type": "stream",
          "name": "stderr",
          "text": [
            "Epoch 0:   3%|▎         | 51/1862 [01:19<47:20,  1.57s/it, loss=10.4]"
          ]
        },
        {
          "output_type": "stream",
          "name": "stdout",
          "text": [
            "Epoch 51 Batch 50 Loss 18.9878\n"
          ]
        },
        {
          "output_type": "stream",
          "name": "stderr",
          "text": [
            "Epoch 0:   5%|▌         | 101/1862 [02:35<45:12,  1.54s/it, loss=10.1]"
          ]
        },
        {
          "output_type": "stream",
          "name": "stdout",
          "text": [
            "Epoch 101 Batch 100 Loss 9.3234\n"
          ]
        },
        {
          "output_type": "stream",
          "name": "stderr",
          "text": [
            "Epoch 0:   8%|▊         | 151/1862 [03:52<43:29,  1.53s/it, loss=11.3]"
          ]
        },
        {
          "output_type": "stream",
          "name": "stdout",
          "text": [
            "Epoch 151 Batch 150 Loss 8.2071\n"
          ]
        },
        {
          "output_type": "stream",
          "name": "stderr",
          "text": [
            "Epoch 0:  11%|█         | 201/1862 [05:08<42:17,  1.53s/it, loss=8.76]"
          ]
        },
        {
          "output_type": "stream",
          "name": "stdout",
          "text": [
            "Epoch 201 Batch 200 Loss 8.1967\n"
          ]
        },
        {
          "output_type": "stream",
          "name": "stderr",
          "text": [
            "Epoch 0:  13%|█▎        | 251/1862 [06:25<41:13,  1.54s/it, loss=8.75]"
          ]
        },
        {
          "output_type": "stream",
          "name": "stdout",
          "text": [
            "Epoch 251 Batch 250 Loss 7.8094\n"
          ]
        },
        {
          "output_type": "stream",
          "name": "stderr",
          "text": [
            "Epoch 0:  16%|█▌        | 301/1862 [07:41<39:53,  1.53s/it, loss=7.89]"
          ]
        },
        {
          "output_type": "stream",
          "name": "stdout",
          "text": [
            "Epoch 301 Batch 300 Loss 7.7563\n"
          ]
        },
        {
          "output_type": "stream",
          "name": "stderr",
          "text": [
            "Epoch 0:  19%|█▉        | 351/1862 [08:58<38:22,  1.52s/it, loss=8.92]"
          ]
        },
        {
          "output_type": "stream",
          "name": "stdout",
          "text": [
            "Epoch 351 Batch 350 Loss 7.8040\n"
          ]
        },
        {
          "output_type": "stream",
          "name": "stderr",
          "text": [
            "Epoch 0:  22%|██▏       | 401/1862 [10:15<37:27,  1.54s/it, loss=9.02]"
          ]
        },
        {
          "output_type": "stream",
          "name": "stdout",
          "text": [
            "Epoch 401 Batch 400 Loss 7.7670\n"
          ]
        },
        {
          "output_type": "stream",
          "name": "stderr",
          "text": [
            "Epoch 0:  24%|██▍       | 451/1862 [11:31<36:00,  1.53s/it, loss=9.18]"
          ]
        },
        {
          "output_type": "stream",
          "name": "stdout",
          "text": [
            "Epoch 451 Batch 450 Loss 7.8143\n"
          ]
        },
        {
          "output_type": "stream",
          "name": "stderr",
          "text": [
            "Epoch 0:  27%|██▋       | 501/1862 [12:48<34:38,  1.53s/it, loss=8.18]"
          ]
        },
        {
          "output_type": "stream",
          "name": "stdout",
          "text": [
            "Epoch 501 Batch 500 Loss 7.7875\n"
          ]
        },
        {
          "output_type": "stream",
          "name": "stderr",
          "text": [
            "Epoch 0:  30%|██▉       | 551/1862 [14:04<33:20,  1.53s/it, loss=8.6]"
          ]
        },
        {
          "output_type": "stream",
          "name": "stdout",
          "text": [
            "Epoch 551 Batch 550 Loss 7.5657\n"
          ]
        },
        {
          "output_type": "stream",
          "name": "stderr",
          "text": [
            "Epoch 0:  32%|███▏      | 601/1862 [15:21<32:09,  1.53s/it, loss=7.57]"
          ]
        },
        {
          "output_type": "stream",
          "name": "stdout",
          "text": [
            "Epoch 601 Batch 600 Loss 7.4696\n"
          ]
        },
        {
          "output_type": "stream",
          "name": "stderr",
          "text": [
            "Epoch 0:  35%|███▍      | 651/1862 [16:37<30:54,  1.53s/it, loss=8.1]"
          ]
        },
        {
          "output_type": "stream",
          "name": "stdout",
          "text": [
            "Epoch 651 Batch 650 Loss 7.6015\n"
          ]
        },
        {
          "output_type": "stream",
          "name": "stderr",
          "text": [
            "Epoch 0:  38%|███▊      | 701/1862 [17:54<29:35,  1.53s/it, loss=7.82]"
          ]
        },
        {
          "output_type": "stream",
          "name": "stdout",
          "text": [
            "Epoch 701 Batch 700 Loss 7.3248\n"
          ]
        },
        {
          "output_type": "stream",
          "name": "stderr",
          "text": [
            "Epoch 0:  40%|████      | 751/1862 [19:10<28:21,  1.53s/it, loss=6.84]"
          ]
        },
        {
          "output_type": "stream",
          "name": "stdout",
          "text": [
            "Epoch 751 Batch 750 Loss 7.5262\n"
          ]
        },
        {
          "output_type": "stream",
          "name": "stderr",
          "text": [
            "Epoch 0:  43%|████▎     | 801/1862 [20:27<26:58,  1.53s/it, loss=6.38]"
          ]
        },
        {
          "output_type": "stream",
          "name": "stdout",
          "text": [
            "Epoch 801 Batch 800 Loss 7.2017\n"
          ]
        },
        {
          "output_type": "stream",
          "name": "stderr",
          "text": [
            "Epoch 0:  46%|████▌     | 851/1862 [21:43<25:48,  1.53s/it, loss=9.6]"
          ]
        },
        {
          "output_type": "stream",
          "name": "stdout",
          "text": [
            "Epoch 851 Batch 850 Loss 7.4428\n"
          ]
        },
        {
          "output_type": "stream",
          "name": "stderr",
          "text": [
            "Epoch 0:  48%|████▊     | 901/1862 [23:00<24:28,  1.53s/it, loss=5.46]"
          ]
        },
        {
          "output_type": "stream",
          "name": "stdout",
          "text": [
            "Epoch 901 Batch 900 Loss 7.0706\n"
          ]
        },
        {
          "output_type": "stream",
          "name": "stderr",
          "text": [
            "Epoch 0:  51%|█████     | 951/1862 [24:16<23:26,  1.54s/it, loss=7.37]"
          ]
        },
        {
          "output_type": "stream",
          "name": "stdout",
          "text": [
            "Epoch 951 Batch 950 Loss 7.5955\n"
          ]
        },
        {
          "output_type": "stream",
          "name": "stderr",
          "text": [
            "Epoch 0:  54%|█████▍    | 1001/1862 [25:33<21:56,  1.53s/it, loss=7.93]"
          ]
        },
        {
          "output_type": "stream",
          "name": "stdout",
          "text": [
            "Epoch 1001 Batch 1000 Loss 7.1030\n"
          ]
        },
        {
          "output_type": "stream",
          "name": "stderr",
          "text": [
            "Epoch 0:  56%|█████▋    | 1051/1862 [26:49<20:42,  1.53s/it, loss=10.2]"
          ]
        },
        {
          "output_type": "stream",
          "name": "stdout",
          "text": [
            "Epoch 1051 Batch 1050 Loss 7.3953\n"
          ]
        },
        {
          "output_type": "stream",
          "name": "stderr",
          "text": [
            "Epoch 0:  59%|█████▉    | 1101/1862 [28:06<19:25,  1.53s/it, loss=7.36]"
          ]
        },
        {
          "output_type": "stream",
          "name": "stdout",
          "text": [
            "Epoch 1101 Batch 1100 Loss 7.3609\n"
          ]
        },
        {
          "output_type": "stream",
          "name": "stderr",
          "text": [
            "Epoch 0:  62%|██████▏   | 1151/1862 [29:22<18:07,  1.53s/it, loss=5.71]"
          ]
        },
        {
          "output_type": "stream",
          "name": "stdout",
          "text": [
            "Epoch 1151 Batch 1150 Loss 7.0853\n"
          ]
        },
        {
          "output_type": "stream",
          "name": "stderr",
          "text": [
            "Epoch 0:  65%|██████▍   | 1201/1862 [30:39<16:51,  1.53s/it, loss=6.77]"
          ]
        },
        {
          "output_type": "stream",
          "name": "stdout",
          "text": [
            "Epoch 1201 Batch 1200 Loss 7.4146\n"
          ]
        },
        {
          "output_type": "stream",
          "name": "stderr",
          "text": [
            "Epoch 0:  67%|██████▋   | 1251/1862 [31:55<15:33,  1.53s/it, loss=5.57]"
          ]
        },
        {
          "output_type": "stream",
          "name": "stdout",
          "text": [
            "Epoch 1251 Batch 1250 Loss 7.4093\n"
          ]
        },
        {
          "output_type": "stream",
          "name": "stderr",
          "text": [
            "Epoch 0:  70%|██████▉   | 1301/1862 [33:12<14:17,  1.53s/it, loss=6.74]"
          ]
        },
        {
          "output_type": "stream",
          "name": "stdout",
          "text": [
            "Epoch 1301 Batch 1300 Loss 7.2838\n"
          ]
        },
        {
          "output_type": "stream",
          "name": "stderr",
          "text": [
            "Epoch 0:  73%|███████▎  | 1351/1862 [34:28<13:02,  1.53s/it, loss=6.3]"
          ]
        },
        {
          "output_type": "stream",
          "name": "stdout",
          "text": [
            "Epoch 1351 Batch 1350 Loss 7.4589\n"
          ]
        },
        {
          "output_type": "stream",
          "name": "stderr",
          "text": [
            "Epoch 0:  75%|███████▌  | 1401/1862 [35:45<11:44,  1.53s/it, loss=7.97]"
          ]
        },
        {
          "output_type": "stream",
          "name": "stdout",
          "text": [
            "Epoch 1401 Batch 1400 Loss 7.3247\n"
          ]
        },
        {
          "output_type": "stream",
          "name": "stderr",
          "text": [
            "Epoch 0:  78%|███████▊  | 1451/1862 [37:01<10:30,  1.53s/it, loss=8.72]"
          ]
        },
        {
          "output_type": "stream",
          "name": "stdout",
          "text": [
            "Epoch 1451 Batch 1450 Loss 7.7261\n"
          ]
        },
        {
          "output_type": "stream",
          "name": "stderr",
          "text": [
            "Epoch 0:  81%|████████  | 1501/1862 [38:18<09:14,  1.53s/it, loss=8.26]"
          ]
        },
        {
          "output_type": "stream",
          "name": "stdout",
          "text": [
            "Epoch 1501 Batch 1500 Loss 7.3649\n"
          ]
        },
        {
          "output_type": "stream",
          "name": "stderr",
          "text": [
            "Epoch 0:  83%|████████▎ | 1551/1862 [39:34<07:55,  1.53s/it, loss=6.49]"
          ]
        },
        {
          "output_type": "stream",
          "name": "stdout",
          "text": [
            "Epoch 1551 Batch 1550 Loss 7.2898\n"
          ]
        },
        {
          "output_type": "stream",
          "name": "stderr",
          "text": [
            "Epoch 0:  86%|████████▌ | 1601/1862 [40:51<06:38,  1.53s/it, loss=6.77]"
          ]
        },
        {
          "output_type": "stream",
          "name": "stdout",
          "text": [
            "Epoch 1601 Batch 1600 Loss 7.1759\n"
          ]
        },
        {
          "output_type": "stream",
          "name": "stderr",
          "text": [
            "Epoch 0:  89%|████████▊ | 1651/1862 [42:07<05:22,  1.53s/it, loss=7.9]"
          ]
        },
        {
          "output_type": "stream",
          "name": "stdout",
          "text": [
            "Epoch 1651 Batch 1650 Loss 6.9898\n"
          ]
        },
        {
          "output_type": "stream",
          "name": "stderr",
          "text": [
            "Epoch 0:  91%|█████████▏| 1701/1862 [43:24<04:05,  1.53s/it, loss=6.93]"
          ]
        },
        {
          "output_type": "stream",
          "name": "stdout",
          "text": [
            "Epoch 1701 Batch 1700 Loss 7.2246\n"
          ]
        },
        {
          "output_type": "stream",
          "name": "stderr",
          "text": [
            "Epoch 0:  94%|█████████▍| 1751/1862 [44:40<02:49,  1.53s/it, loss=6.8]"
          ]
        },
        {
          "output_type": "stream",
          "name": "stdout",
          "text": [
            "Epoch 1751 Batch 1750 Loss 7.2518\n"
          ]
        },
        {
          "output_type": "stream",
          "name": "stderr",
          "text": [
            "Epoch 0:  97%|█████████▋| 1801/1862 [45:56<01:33,  1.53s/it, loss=5.6]"
          ]
        },
        {
          "output_type": "stream",
          "name": "stdout",
          "text": [
            "Epoch 1801 Batch 1800 Loss 7.2815\n"
          ]
        },
        {
          "output_type": "stream",
          "name": "stderr",
          "text": [
            "Epoch 0:  99%|█████████▉| 1851/1862 [47:13<00:16,  1.53s/it, loss=6.63]"
          ]
        },
        {
          "output_type": "stream",
          "name": "stdout",
          "text": [
            "Epoch 1851 Batch 1850 Loss 7.2401\n"
          ]
        },
        {
          "output_type": "stream",
          "name": "stderr",
          "text": [
            "Epoch 0: 100%|██████████| 1862/1862 [47:30<00:00,  1.53s/it, loss=8.36]\n",
            "Epoch 1:   3%|▎         | 51/1862 [01:18<46:14,  1.53s/it, loss=5.55]"
          ]
        },
        {
          "output_type": "stream",
          "name": "stdout",
          "text": [
            "Epoch 51 Batch 50 Loss 7.2995\n"
          ]
        },
        {
          "output_type": "stream",
          "name": "stderr",
          "text": [
            "Epoch 1:   5%|▌         | 101/1862 [02:34<44:52,  1.53s/it, loss=6.15]"
          ]
        },
        {
          "output_type": "stream",
          "name": "stdout",
          "text": [
            "Epoch 101 Batch 100 Loss 7.1709\n"
          ]
        },
        {
          "output_type": "stream",
          "name": "stderr",
          "text": [
            "Epoch 1:   8%|▊         | 151/1862 [03:51<43:44,  1.53s/it, loss=8.35]"
          ]
        },
        {
          "output_type": "stream",
          "name": "stdout",
          "text": [
            "Epoch 151 Batch 150 Loss 6.8741\n"
          ]
        },
        {
          "output_type": "stream",
          "name": "stderr",
          "text": [
            "Epoch 1:  11%|█         | 201/1862 [05:07<42:20,  1.53s/it, loss=6.09]"
          ]
        },
        {
          "output_type": "stream",
          "name": "stdout",
          "text": [
            "Epoch 201 Batch 200 Loss 6.9062\n"
          ]
        },
        {
          "output_type": "stream",
          "name": "stderr",
          "text": [
            "Epoch 1:  13%|█▎        | 251/1862 [06:23<41:08,  1.53s/it, loss=6.01]"
          ]
        },
        {
          "output_type": "stream",
          "name": "stdout",
          "text": [
            "Epoch 251 Batch 250 Loss 7.2077\n"
          ]
        },
        {
          "output_type": "stream",
          "name": "stderr",
          "text": [
            "Epoch 1:  16%|█▌        | 301/1862 [07:40<39:51,  1.53s/it, loss=6.15]"
          ]
        },
        {
          "output_type": "stream",
          "name": "stdout",
          "text": [
            "Epoch 301 Batch 300 Loss 7.3716\n"
          ]
        },
        {
          "output_type": "stream",
          "name": "stderr",
          "text": [
            "Epoch 1:  19%|█▉        | 351/1862 [08:57<38:31,  1.53s/it, loss=8.89]"
          ]
        },
        {
          "output_type": "stream",
          "name": "stdout",
          "text": [
            "Epoch 351 Batch 350 Loss 7.1835\n"
          ]
        },
        {
          "output_type": "stream",
          "name": "stderr",
          "text": [
            "Epoch 1:  22%|██▏       | 401/1862 [10:13<37:13,  1.53s/it, loss=6.42]"
          ]
        },
        {
          "output_type": "stream",
          "name": "stdout",
          "text": [
            "Epoch 401 Batch 400 Loss 7.0805\n"
          ]
        },
        {
          "output_type": "stream",
          "name": "stderr",
          "text": [
            "Epoch 1:  24%|██▍       | 451/1862 [11:30<36:00,  1.53s/it, loss=7.08]"
          ]
        },
        {
          "output_type": "stream",
          "name": "stdout",
          "text": [
            "Epoch 451 Batch 450 Loss 7.2768\n"
          ]
        },
        {
          "output_type": "stream",
          "name": "stderr",
          "text": [
            "Epoch 1:  27%|██▋       | 501/1862 [12:46<34:59,  1.54s/it, loss=8.62]"
          ]
        },
        {
          "output_type": "stream",
          "name": "stdout",
          "text": [
            "Epoch 501 Batch 500 Loss 7.0837\n"
          ]
        },
        {
          "output_type": "stream",
          "name": "stderr",
          "text": [
            "Epoch 1:  30%|██▉       | 551/1862 [14:03<33:24,  1.53s/it, loss=6.12]"
          ]
        },
        {
          "output_type": "stream",
          "name": "stdout",
          "text": [
            "Epoch 551 Batch 550 Loss 7.0738\n"
          ]
        },
        {
          "output_type": "stream",
          "name": "stderr",
          "text": [
            "Epoch 1:  32%|███▏      | 601/1862 [15:19<32:09,  1.53s/it, loss=6.16]"
          ]
        },
        {
          "output_type": "stream",
          "name": "stdout",
          "text": [
            "Epoch 601 Batch 600 Loss 6.9347\n"
          ]
        },
        {
          "output_type": "stream",
          "name": "stderr",
          "text": [
            "Epoch 1:  35%|███▍      | 651/1862 [16:35<30:51,  1.53s/it, loss=7.54]"
          ]
        },
        {
          "output_type": "stream",
          "name": "stdout",
          "text": [
            "Epoch 651 Batch 650 Loss 7.1372\n"
          ]
        },
        {
          "output_type": "stream",
          "name": "stderr",
          "text": [
            "Epoch 1:  38%|███▊      | 701/1862 [17:52<29:33,  1.53s/it, loss=6.88]"
          ]
        },
        {
          "output_type": "stream",
          "name": "stdout",
          "text": [
            "Epoch 701 Batch 700 Loss 7.1006\n"
          ]
        },
        {
          "output_type": "stream",
          "name": "stderr",
          "text": [
            "Epoch 1:  40%|████      | 751/1862 [19:08<28:18,  1.53s/it, loss=5.79]"
          ]
        },
        {
          "output_type": "stream",
          "name": "stdout",
          "text": [
            "Epoch 751 Batch 750 Loss 7.0884\n"
          ]
        },
        {
          "output_type": "stream",
          "name": "stderr",
          "text": [
            "Epoch 1:  43%|████▎     | 801/1862 [20:25<27:09,  1.54s/it, loss=7.19]"
          ]
        },
        {
          "output_type": "stream",
          "name": "stdout",
          "text": [
            "Epoch 801 Batch 800 Loss 6.9387\n"
          ]
        },
        {
          "output_type": "stream",
          "name": "stderr",
          "text": [
            "Epoch 1:  46%|████▌     | 851/1862 [21:42<25:48,  1.53s/it, loss=7.08]"
          ]
        },
        {
          "output_type": "stream",
          "name": "stdout",
          "text": [
            "Epoch 851 Batch 850 Loss 7.0332\n"
          ]
        },
        {
          "output_type": "stream",
          "name": "stderr",
          "text": [
            "Epoch 1:  48%|████▊     | 901/1862 [22:58<24:32,  1.53s/it, loss=7.83]"
          ]
        },
        {
          "output_type": "stream",
          "name": "stdout",
          "text": [
            "Epoch 901 Batch 900 Loss 6.9065\n"
          ]
        },
        {
          "output_type": "stream",
          "name": "stderr",
          "text": [
            "Epoch 1:  51%|█████     | 951/1862 [24:15<23:18,  1.54s/it, loss=6.26]"
          ]
        },
        {
          "output_type": "stream",
          "name": "stdout",
          "text": [
            "Epoch 951 Batch 950 Loss 7.0771\n"
          ]
        },
        {
          "output_type": "stream",
          "name": "stderr",
          "text": [
            "Epoch 1:  54%|█████▍    | 1001/1862 [25:32<22:01,  1.53s/it, loss=6.61]"
          ]
        },
        {
          "output_type": "stream",
          "name": "stdout",
          "text": [
            "Epoch 1001 Batch 1000 Loss 7.0924\n"
          ]
        },
        {
          "output_type": "stream",
          "name": "stderr",
          "text": [
            "Epoch 1:  56%|█████▋    | 1051/1862 [26:48<20:41,  1.53s/it, loss=6.35]"
          ]
        },
        {
          "output_type": "stream",
          "name": "stdout",
          "text": [
            "Epoch 1051 Batch 1050 Loss 7.1913\n"
          ]
        },
        {
          "output_type": "stream",
          "name": "stderr",
          "text": [
            "Epoch 1:  59%|█████▉    | 1101/1862 [28:05<19:27,  1.53s/it, loss=6.37]"
          ]
        },
        {
          "output_type": "stream",
          "name": "stdout",
          "text": [
            "Epoch 1101 Batch 1100 Loss 7.3002\n"
          ]
        },
        {
          "output_type": "stream",
          "name": "stderr",
          "text": [
            "Epoch 1:  62%|██████▏   | 1151/1862 [29:21<18:10,  1.53s/it, loss=8.07]"
          ]
        },
        {
          "output_type": "stream",
          "name": "stdout",
          "text": [
            "Epoch 1151 Batch 1150 Loss 7.2388\n"
          ]
        },
        {
          "output_type": "stream",
          "name": "stderr",
          "text": [
            "Epoch 1:  65%|██████▍   | 1201/1862 [30:38<16:54,  1.54s/it, loss=7.99]"
          ]
        },
        {
          "output_type": "stream",
          "name": "stdout",
          "text": [
            "Epoch 1201 Batch 1200 Loss 7.0542\n"
          ]
        },
        {
          "output_type": "stream",
          "name": "stderr",
          "text": [
            "Epoch 1:  67%|██████▋   | 1251/1862 [31:55<15:38,  1.54s/it, loss=9.3]"
          ]
        },
        {
          "output_type": "stream",
          "name": "stdout",
          "text": [
            "Epoch 1251 Batch 1250 Loss 7.5030\n"
          ]
        },
        {
          "output_type": "stream",
          "name": "stderr",
          "text": [
            "Epoch 1:  70%|██████▉   | 1301/1862 [33:12<14:21,  1.54s/it, loss=6.12]"
          ]
        },
        {
          "output_type": "stream",
          "name": "stdout",
          "text": [
            "Epoch 1301 Batch 1300 Loss 7.1347\n"
          ]
        },
        {
          "output_type": "stream",
          "name": "stderr",
          "text": [
            "Epoch 1:  73%|███████▎  | 1351/1862 [34:28<13:00,  1.53s/it, loss=7.88]"
          ]
        },
        {
          "output_type": "stream",
          "name": "stdout",
          "text": [
            "Epoch 1351 Batch 1350 Loss 7.1341\n"
          ]
        },
        {
          "output_type": "stream",
          "name": "stderr",
          "text": [
            "Epoch 1:  75%|███████▌  | 1401/1862 [35:44<11:44,  1.53s/it, loss=6.23]"
          ]
        },
        {
          "output_type": "stream",
          "name": "stdout",
          "text": [
            "Epoch 1401 Batch 1400 Loss 7.3420\n"
          ]
        },
        {
          "output_type": "stream",
          "name": "stderr",
          "text": [
            "Epoch 1:  78%|███████▊  | 1451/1862 [37:01<10:29,  1.53s/it, loss=7.47]"
          ]
        },
        {
          "output_type": "stream",
          "name": "stdout",
          "text": [
            "Epoch 1451 Batch 1450 Loss 6.7799\n"
          ]
        },
        {
          "output_type": "stream",
          "name": "stderr",
          "text": [
            "Epoch 1:  81%|████████  | 1501/1862 [38:17<09:13,  1.53s/it, loss=6.82]"
          ]
        },
        {
          "output_type": "stream",
          "name": "stdout",
          "text": [
            "Epoch 1501 Batch 1500 Loss 7.0097\n"
          ]
        },
        {
          "output_type": "stream",
          "name": "stderr",
          "text": [
            "Epoch 1:  83%|████████▎ | 1551/1862 [39:34<07:56,  1.53s/it, loss=7.69]"
          ]
        },
        {
          "output_type": "stream",
          "name": "stdout",
          "text": [
            "Epoch 1551 Batch 1550 Loss 7.0585\n"
          ]
        },
        {
          "output_type": "stream",
          "name": "stderr",
          "text": [
            "Epoch 1:  86%|████████▌ | 1601/1862 [40:51<06:41,  1.54s/it, loss=6.89]"
          ]
        },
        {
          "output_type": "stream",
          "name": "stdout",
          "text": [
            "Epoch 1601 Batch 1600 Loss 6.9363\n"
          ]
        },
        {
          "output_type": "stream",
          "name": "stderr",
          "text": [
            "Epoch 1:  89%|████████▊ | 1651/1862 [42:07<05:24,  1.54s/it, loss=10.8]"
          ]
        },
        {
          "output_type": "stream",
          "name": "stdout",
          "text": [
            "Epoch 1651 Batch 1650 Loss 7.2541\n"
          ]
        },
        {
          "output_type": "stream",
          "name": "stderr",
          "text": [
            "Epoch 1:  91%|█████████▏| 1701/1862 [43:24<04:06,  1.53s/it, loss=5.23]"
          ]
        },
        {
          "output_type": "stream",
          "name": "stdout",
          "text": [
            "Epoch 1701 Batch 1700 Loss 7.2178\n"
          ]
        },
        {
          "output_type": "stream",
          "name": "stderr",
          "text": [
            "Epoch 1:  94%|█████████▍| 1751/1862 [44:41<02:50,  1.53s/it, loss=6.36]"
          ]
        },
        {
          "output_type": "stream",
          "name": "stdout",
          "text": [
            "Epoch 1751 Batch 1750 Loss 7.1371\n"
          ]
        },
        {
          "output_type": "stream",
          "name": "stderr",
          "text": [
            "Epoch 1:  97%|█████████▋| 1801/1862 [45:57<01:33,  1.53s/it, loss=8.53]"
          ]
        },
        {
          "output_type": "stream",
          "name": "stdout",
          "text": [
            "Epoch 1801 Batch 1800 Loss 7.2792\n"
          ]
        },
        {
          "output_type": "stream",
          "name": "stderr",
          "text": [
            "Epoch 1:  99%|█████████▉| 1851/1862 [47:14<00:16,  1.53s/it, loss=6.55]"
          ]
        },
        {
          "output_type": "stream",
          "name": "stdout",
          "text": [
            "Epoch 1851 Batch 1850 Loss 6.8093\n"
          ]
        },
        {
          "output_type": "stream",
          "name": "stderr",
          "text": [
            "Epoch 1: 100%|██████████| 1862/1862 [47:30<00:00,  1.53s/it, loss=7.33]\n",
            "Epoch 2:   3%|▎         | 51/1862 [01:18<46:12,  1.53s/it, loss=5.68]"
          ]
        },
        {
          "output_type": "stream",
          "name": "stdout",
          "text": [
            "Epoch 51 Batch 50 Loss 7.0069\n"
          ]
        },
        {
          "output_type": "stream",
          "name": "stderr",
          "text": [
            "Epoch 2:   5%|▌         | 101/1862 [02:34<44:53,  1.53s/it, loss=8.37]"
          ]
        },
        {
          "output_type": "stream",
          "name": "stdout",
          "text": [
            "Epoch 101 Batch 100 Loss 6.8627\n"
          ]
        },
        {
          "output_type": "stream",
          "name": "stderr",
          "text": [
            "Epoch 2:   8%|▊         | 151/1862 [03:50<43:37,  1.53s/it, loss=6.95]"
          ]
        },
        {
          "output_type": "stream",
          "name": "stdout",
          "text": [
            "Epoch 151 Batch 150 Loss 6.8585\n"
          ]
        },
        {
          "output_type": "stream",
          "name": "stderr",
          "text": [
            "Epoch 2:  11%|█         | 201/1862 [05:07<42:23,  1.53s/it, loss=7.82]"
          ]
        },
        {
          "output_type": "stream",
          "name": "stdout",
          "text": [
            "Epoch 201 Batch 200 Loss 6.7598\n"
          ]
        },
        {
          "output_type": "stream",
          "name": "stderr",
          "text": [
            "Epoch 2:  13%|█▎        | 251/1862 [06:23<41:01,  1.53s/it, loss=7.37]"
          ]
        },
        {
          "output_type": "stream",
          "name": "stdout",
          "text": [
            "Epoch 251 Batch 250 Loss 6.9304\n"
          ]
        },
        {
          "output_type": "stream",
          "name": "stderr",
          "text": [
            "Epoch 2:  16%|█▌        | 301/1862 [07:40<39:50,  1.53s/it, loss=6.02]"
          ]
        },
        {
          "output_type": "stream",
          "name": "stdout",
          "text": [
            "Epoch 301 Batch 300 Loss 6.8886\n"
          ]
        },
        {
          "output_type": "stream",
          "name": "stderr",
          "text": [
            "Epoch 2:  19%|█▉        | 351/1862 [08:56<38:31,  1.53s/it, loss=6.31]"
          ]
        },
        {
          "output_type": "stream",
          "name": "stdout",
          "text": [
            "Epoch 351 Batch 350 Loss 6.6717\n"
          ]
        },
        {
          "output_type": "stream",
          "name": "stderr",
          "text": [
            "Epoch 2:  22%|██▏       | 401/1862 [10:13<37:18,  1.53s/it, loss=6.81]"
          ]
        },
        {
          "output_type": "stream",
          "name": "stdout",
          "text": [
            "Epoch 401 Batch 400 Loss 6.9063\n"
          ]
        },
        {
          "output_type": "stream",
          "name": "stderr",
          "text": [
            "Epoch 2:  24%|██▍       | 451/1862 [11:30<36:11,  1.54s/it, loss=7.25]"
          ]
        },
        {
          "output_type": "stream",
          "name": "stdout",
          "text": [
            "Epoch 451 Batch 450 Loss 6.9754\n"
          ]
        },
        {
          "output_type": "stream",
          "name": "stderr",
          "text": [
            "Epoch 2:  27%|██▋       | 501/1862 [12:46<34:53,  1.54s/it, loss=7.19]"
          ]
        },
        {
          "output_type": "stream",
          "name": "stdout",
          "text": [
            "Epoch 501 Batch 500 Loss 7.0679\n"
          ]
        },
        {
          "output_type": "stream",
          "name": "stderr",
          "text": [
            "Epoch 2:  30%|██▉       | 551/1862 [14:03<33:17,  1.52s/it, loss=6.79]"
          ]
        },
        {
          "output_type": "stream",
          "name": "stdout",
          "text": [
            "Epoch 551 Batch 550 Loss 7.0953\n"
          ]
        },
        {
          "output_type": "stream",
          "name": "stderr",
          "text": [
            "Epoch 2:  32%|███▏      | 601/1862 [15:20<32:17,  1.54s/it, loss=7.27]"
          ]
        },
        {
          "output_type": "stream",
          "name": "stdout",
          "text": [
            "Epoch 601 Batch 600 Loss 6.8952\n"
          ]
        },
        {
          "output_type": "stream",
          "name": "stderr",
          "text": [
            "Epoch 2:  35%|███▍      | 651/1862 [16:36<30:58,  1.53s/it, loss=7]"
          ]
        },
        {
          "output_type": "stream",
          "name": "stdout",
          "text": [
            "Epoch 651 Batch 650 Loss 7.0639\n"
          ]
        },
        {
          "output_type": "stream",
          "name": "stderr",
          "text": [
            "Epoch 2:  38%|███▊      | 701/1862 [17:53<29:35,  1.53s/it, loss=6.21]"
          ]
        },
        {
          "output_type": "stream",
          "name": "stdout",
          "text": [
            "Epoch 701 Batch 700 Loss 7.0024\n"
          ]
        },
        {
          "output_type": "stream",
          "name": "stderr",
          "text": [
            "Epoch 2:  40%|████      | 751/1862 [19:09<28:20,  1.53s/it, loss=5.88]"
          ]
        },
        {
          "output_type": "stream",
          "name": "stdout",
          "text": [
            "Epoch 751 Batch 750 Loss 6.6864\n"
          ]
        },
        {
          "output_type": "stream",
          "name": "stderr",
          "text": [
            "Epoch 2:  43%|████▎     | 801/1862 [20:26<27:10,  1.54s/it, loss=6.85]"
          ]
        },
        {
          "output_type": "stream",
          "name": "stdout",
          "text": [
            "Epoch 801 Batch 800 Loss 6.9388\n"
          ]
        },
        {
          "output_type": "stream",
          "name": "stderr",
          "text": [
            "Epoch 2:  46%|████▌     | 851/1862 [21:43<25:49,  1.53s/it, loss=6.42]"
          ]
        },
        {
          "output_type": "stream",
          "name": "stdout",
          "text": [
            "Epoch 851 Batch 850 Loss 6.5996\n"
          ]
        },
        {
          "output_type": "stream",
          "name": "stderr",
          "text": [
            "Epoch 2:  48%|████▊     | 901/1862 [23:00<24:35,  1.54s/it, loss=7.45]"
          ]
        },
        {
          "output_type": "stream",
          "name": "stdout",
          "text": [
            "Epoch 901 Batch 900 Loss 7.0390\n"
          ]
        },
        {
          "output_type": "stream",
          "name": "stderr",
          "text": [
            "Epoch 2:  51%|█████     | 951/1862 [24:16<23:17,  1.53s/it, loss=6.95]"
          ]
        },
        {
          "output_type": "stream",
          "name": "stdout",
          "text": [
            "Epoch 951 Batch 950 Loss 6.8446\n"
          ]
        },
        {
          "output_type": "stream",
          "name": "stderr",
          "text": [
            "Epoch 2:  54%|█████▍    | 1001/1862 [25:33<22:03,  1.54s/it, loss=6.33]"
          ]
        },
        {
          "output_type": "stream",
          "name": "stdout",
          "text": [
            "Epoch 1001 Batch 1000 Loss 6.7816\n"
          ]
        },
        {
          "output_type": "stream",
          "name": "stderr",
          "text": [
            "Epoch 2:  56%|█████▋    | 1051/1862 [26:50<20:43,  1.53s/it, loss=8.09]"
          ]
        },
        {
          "output_type": "stream",
          "name": "stdout",
          "text": [
            "Epoch 1051 Batch 1050 Loss 6.7798\n"
          ]
        },
        {
          "output_type": "stream",
          "name": "stderr",
          "text": [
            "Epoch 2:  59%|█████▉    | 1101/1862 [28:07<19:27,  1.53s/it, loss=5.97]"
          ]
        },
        {
          "output_type": "stream",
          "name": "stdout",
          "text": [
            "Epoch 1101 Batch 1100 Loss 6.7763\n"
          ]
        },
        {
          "output_type": "stream",
          "name": "stderr",
          "text": [
            "Epoch 2:  62%|██████▏   | 1151/1862 [29:23<18:10,  1.53s/it, loss=5.99]"
          ]
        },
        {
          "output_type": "stream",
          "name": "stdout",
          "text": [
            "Epoch 1151 Batch 1150 Loss 7.0316\n"
          ]
        },
        {
          "output_type": "stream",
          "name": "stderr",
          "text": [
            "Epoch 2:  65%|██████▍   | 1201/1862 [30:40<16:50,  1.53s/it, loss=6.66]"
          ]
        },
        {
          "output_type": "stream",
          "name": "stdout",
          "text": [
            "Epoch 1201 Batch 1200 Loss 6.8776\n"
          ]
        },
        {
          "output_type": "stream",
          "name": "stderr",
          "text": [
            "Epoch 2:  67%|██████▋   | 1251/1862 [31:56<15:40,  1.54s/it, loss=7.82]"
          ]
        },
        {
          "output_type": "stream",
          "name": "stdout",
          "text": [
            "Epoch 1251 Batch 1250 Loss 6.9675\n"
          ]
        },
        {
          "output_type": "stream",
          "name": "stderr",
          "text": [
            "Epoch 2:  70%|██████▉   | 1301/1862 [33:13<14:16,  1.53s/it, loss=7.67]"
          ]
        },
        {
          "output_type": "stream",
          "name": "stdout",
          "text": [
            "Epoch 1301 Batch 1300 Loss 6.8838\n"
          ]
        },
        {
          "output_type": "stream",
          "name": "stderr",
          "text": [
            "Epoch 2:  73%|███████▎  | 1351/1862 [34:29<13:02,  1.53s/it, loss=6.51]"
          ]
        },
        {
          "output_type": "stream",
          "name": "stdout",
          "text": [
            "Epoch 1351 Batch 1350 Loss 7.0927\n"
          ]
        },
        {
          "output_type": "stream",
          "name": "stderr",
          "text": [
            "Epoch 2:  75%|███████▌  | 1401/1862 [35:46<11:47,  1.53s/it, loss=6.22]"
          ]
        },
        {
          "output_type": "stream",
          "name": "stdout",
          "text": [
            "Epoch 1401 Batch 1400 Loss 6.8697\n"
          ]
        },
        {
          "output_type": "stream",
          "name": "stderr",
          "text": [
            "Epoch 2:  78%|███████▊  | 1451/1862 [37:03<10:32,  1.54s/it, loss=7.7]"
          ]
        },
        {
          "output_type": "stream",
          "name": "stdout",
          "text": [
            "Epoch 1451 Batch 1450 Loss 7.1050\n"
          ]
        },
        {
          "output_type": "stream",
          "name": "stderr",
          "text": [
            "Epoch 2:  81%|████████  | 1501/1862 [38:20<09:14,  1.54s/it, loss=7.74]"
          ]
        },
        {
          "output_type": "stream",
          "name": "stdout",
          "text": [
            "Epoch 1501 Batch 1500 Loss 6.7568\n"
          ]
        },
        {
          "output_type": "stream",
          "name": "stderr",
          "text": [
            "Epoch 2:  83%|████████▎ | 1551/1862 [39:36<07:56,  1.53s/it, loss=7.41]"
          ]
        },
        {
          "output_type": "stream",
          "name": "stdout",
          "text": [
            "Epoch 1551 Batch 1550 Loss 7.0396\n"
          ]
        },
        {
          "output_type": "stream",
          "name": "stderr",
          "text": [
            "Epoch 2:  86%|████████▌ | 1601/1862 [40:53<06:40,  1.54s/it, loss=7.89]"
          ]
        },
        {
          "output_type": "stream",
          "name": "stdout",
          "text": [
            "Epoch 1601 Batch 1600 Loss 6.8674\n"
          ]
        },
        {
          "output_type": "stream",
          "name": "stderr",
          "text": [
            "Epoch 2:  89%|████████▊ | 1651/1862 [42:10<05:23,  1.54s/it, loss=6.94]"
          ]
        },
        {
          "output_type": "stream",
          "name": "stdout",
          "text": [
            "Epoch 1651 Batch 1650 Loss 6.8030\n"
          ]
        },
        {
          "output_type": "stream",
          "name": "stderr",
          "text": [
            "Epoch 2:  91%|█████████▏| 1701/1862 [43:27<04:07,  1.53s/it, loss=9.29]"
          ]
        },
        {
          "output_type": "stream",
          "name": "stdout",
          "text": [
            "Epoch 1701 Batch 1700 Loss 7.1576\n"
          ]
        },
        {
          "output_type": "stream",
          "name": "stderr",
          "text": [
            "Epoch 2:  94%|█████████▍| 1751/1862 [44:43<02:50,  1.53s/it, loss=9.17]"
          ]
        },
        {
          "output_type": "stream",
          "name": "stdout",
          "text": [
            "Epoch 1751 Batch 1750 Loss 6.7855\n"
          ]
        },
        {
          "output_type": "stream",
          "name": "stderr",
          "text": [
            "Epoch 2:  97%|█████████▋| 1801/1862 [46:00<01:33,  1.53s/it, loss=7.03]"
          ]
        },
        {
          "output_type": "stream",
          "name": "stdout",
          "text": [
            "Epoch 1801 Batch 1800 Loss 6.8622\n"
          ]
        },
        {
          "output_type": "stream",
          "name": "stderr",
          "text": [
            "Epoch 2:  99%|█████████▉| 1851/1862 [47:17<00:16,  1.54s/it, loss=6.92]"
          ]
        },
        {
          "output_type": "stream",
          "name": "stdout",
          "text": [
            "Epoch 1851 Batch 1850 Loss 7.3824\n"
          ]
        },
        {
          "output_type": "stream",
          "name": "stderr",
          "text": [
            "Epoch 2: 100%|██████████| 1862/1862 [47:33<00:00,  1.53s/it, loss=6.99]\n"
          ]
        }
      ]
    },
    {
      "cell_type": "code",
      "source": [
        "torch.save(model.state_dict(), directory + 'robertax2_5e-4_model')"
      ],
      "metadata": {
        "id": "HUwrReUz_cYD"
      },
      "execution_count": null,
      "outputs": []
    },
    {
      "cell_type": "code",
      "source": [
        "# model = myModel().to(device)\n",
        "# model.load_state_dict(torch.load(directory + 'aicup_model'))"
      ],
      "metadata": {
        "id": "oHM3KS8wNI46"
      },
      "execution_count": null,
      "outputs": []
    },
    {
      "cell_type": "markdown",
      "source": [
        "## test data process"
      ],
      "metadata": {
        "id": "GK0TzJU52cCt"
      }
    },
    {
      "cell_type": "code",
      "source": [
        "# Testing data file\n",
        "directory=\"/content/drive/MyDrive/AICUP/\"\n",
        "file=directory+\"Batch_answers - test_data(no_label).csv\"\n",
        "df=pd.read_csv(file, encoding = \"ISO-8859-1\")"
      ],
      "metadata": {
        "id": "OWeTyUXYgMaH"
      },
      "execution_count": null,
      "outputs": []
    },
    {
      "cell_type": "code",
      "source": [
        "df[['q','r']] = df[['q','r']].apply(lambda x: x.str.strip('\\\"'))"
      ],
      "metadata": {
        "id": "Hn_IlX5UgMaH"
      },
      "execution_count": null,
      "outputs": []
    },
    {
      "cell_type": "code",
      "source": [
        "df.head()"
      ],
      "metadata": {
        "id": "lkiAhm-6gMaH",
        "colab": {
          "base_uri": "https://localhost:8080/"
        },
        "outputId": "994d0bdc-7293-4180-90e0-990e6284afc7"
      },
      "execution_count": null,
      "outputs": [
        {
          "output_type": "execute_result",
          "data": {
            "text/plain": [
              "     id                                                  q  \\\n",
              "0  6199  -- -- -- -- -- -- -- -- -- -- -- -- -- -- -- -...   \n",
              "1  5807  There 's a lot of discussion there on that iss...   \n",
              "2  8487  `` It 's not helping . The guns these people h...   \n",
              "3  1760  Shooting : 3 seriously injured in Auburn shoot...   \n",
              "4  6228  This is the argument concerning 'choice ' that...   \n",
              "\n",
              "                                                   r         s  \n",
              "0  If so , why do we still have apes , and why ar...  DISAGREE  \n",
              "1  Of course . The makers of Expelled were within...  DISAGREE  \n",
              "2  Oh , I would wager about like Mexico , about 8...  DISAGREE  \n",
              "3  Pickup strikes group of four youths | Houston ...     AGREE  \n",
              "4  I believe there is a point at which we ( socie...  DISAGREE  "
            ],
            "text/html": [
              "\n",
              "  <div id=\"df-0dd5732c-49a3-4778-89d7-85ed8fd799bf\">\n",
              "    <div class=\"colab-df-container\">\n",
              "      <div>\n",
              "<style scoped>\n",
              "    .dataframe tbody tr th:only-of-type {\n",
              "        vertical-align: middle;\n",
              "    }\n",
              "\n",
              "    .dataframe tbody tr th {\n",
              "        vertical-align: top;\n",
              "    }\n",
              "\n",
              "    .dataframe thead th {\n",
              "        text-align: right;\n",
              "    }\n",
              "</style>\n",
              "<table border=\"1\" class=\"dataframe\">\n",
              "  <thead>\n",
              "    <tr style=\"text-align: right;\">\n",
              "      <th></th>\n",
              "      <th>id</th>\n",
              "      <th>q</th>\n",
              "      <th>r</th>\n",
              "      <th>s</th>\n",
              "    </tr>\n",
              "  </thead>\n",
              "  <tbody>\n",
              "    <tr>\n",
              "      <th>0</th>\n",
              "      <td>6199</td>\n",
              "      <td>-- -- -- -- -- -- -- -- -- -- -- -- -- -- -- -...</td>\n",
              "      <td>If so , why do we still have apes , and why ar...</td>\n",
              "      <td>DISAGREE</td>\n",
              "    </tr>\n",
              "    <tr>\n",
              "      <th>1</th>\n",
              "      <td>5807</td>\n",
              "      <td>There 's a lot of discussion there on that iss...</td>\n",
              "      <td>Of course . The makers of Expelled were within...</td>\n",
              "      <td>DISAGREE</td>\n",
              "    </tr>\n",
              "    <tr>\n",
              "      <th>2</th>\n",
              "      <td>8487</td>\n",
              "      <td>`` It 's not helping . The guns these people h...</td>\n",
              "      <td>Oh , I would wager about like Mexico , about 8...</td>\n",
              "      <td>DISAGREE</td>\n",
              "    </tr>\n",
              "    <tr>\n",
              "      <th>3</th>\n",
              "      <td>1760</td>\n",
              "      <td>Shooting : 3 seriously injured in Auburn shoot...</td>\n",
              "      <td>Pickup strikes group of four youths | Houston ...</td>\n",
              "      <td>AGREE</td>\n",
              "    </tr>\n",
              "    <tr>\n",
              "      <th>4</th>\n",
              "      <td>6228</td>\n",
              "      <td>This is the argument concerning 'choice ' that...</td>\n",
              "      <td>I believe there is a point at which we ( socie...</td>\n",
              "      <td>DISAGREE</td>\n",
              "    </tr>\n",
              "  </tbody>\n",
              "</table>\n",
              "</div>\n",
              "      <button class=\"colab-df-convert\" onclick=\"convertToInteractive('df-0dd5732c-49a3-4778-89d7-85ed8fd799bf')\"\n",
              "              title=\"Convert this dataframe to an interactive table.\"\n",
              "              style=\"display:none;\">\n",
              "        \n",
              "  <svg xmlns=\"http://www.w3.org/2000/svg\" height=\"24px\"viewBox=\"0 0 24 24\"\n",
              "       width=\"24px\">\n",
              "    <path d=\"M0 0h24v24H0V0z\" fill=\"none\"/>\n",
              "    <path d=\"M18.56 5.44l.94 2.06.94-2.06 2.06-.94-2.06-.94-.94-2.06-.94 2.06-2.06.94zm-11 1L8.5 8.5l.94-2.06 2.06-.94-2.06-.94L8.5 2.5l-.94 2.06-2.06.94zm10 10l.94 2.06.94-2.06 2.06-.94-2.06-.94-.94-2.06-.94 2.06-2.06.94z\"/><path d=\"M17.41 7.96l-1.37-1.37c-.4-.4-.92-.59-1.43-.59-.52 0-1.04.2-1.43.59L10.3 9.45l-7.72 7.72c-.78.78-.78 2.05 0 2.83L4 21.41c.39.39.9.59 1.41.59.51 0 1.02-.2 1.41-.59l7.78-7.78 2.81-2.81c.8-.78.8-2.07 0-2.86zM5.41 20L4 18.59l7.72-7.72 1.47 1.35L5.41 20z\"/>\n",
              "  </svg>\n",
              "      </button>\n",
              "      \n",
              "  <style>\n",
              "    .colab-df-container {\n",
              "      display:flex;\n",
              "      flex-wrap:wrap;\n",
              "      gap: 12px;\n",
              "    }\n",
              "\n",
              "    .colab-df-convert {\n",
              "      background-color: #E8F0FE;\n",
              "      border: none;\n",
              "      border-radius: 50%;\n",
              "      cursor: pointer;\n",
              "      display: none;\n",
              "      fill: #1967D2;\n",
              "      height: 32px;\n",
              "      padding: 0 0 0 0;\n",
              "      width: 32px;\n",
              "    }\n",
              "\n",
              "    .colab-df-convert:hover {\n",
              "      background-color: #E2EBFA;\n",
              "      box-shadow: 0px 1px 2px rgba(60, 64, 67, 0.3), 0px 1px 3px 1px rgba(60, 64, 67, 0.15);\n",
              "      fill: #174EA6;\n",
              "    }\n",
              "\n",
              "    [theme=dark] .colab-df-convert {\n",
              "      background-color: #3B4455;\n",
              "      fill: #D2E3FC;\n",
              "    }\n",
              "\n",
              "    [theme=dark] .colab-df-convert:hover {\n",
              "      background-color: #434B5C;\n",
              "      box-shadow: 0px 1px 3px 1px rgba(0, 0, 0, 0.15);\n",
              "      filter: drop-shadow(0px 1px 2px rgba(0, 0, 0, 0.3));\n",
              "      fill: #FFFFFF;\n",
              "    }\n",
              "  </style>\n",
              "\n",
              "      <script>\n",
              "        const buttonEl =\n",
              "          document.querySelector('#df-0dd5732c-49a3-4778-89d7-85ed8fd799bf button.colab-df-convert');\n",
              "        buttonEl.style.display =\n",
              "          google.colab.kernel.accessAllowed ? 'block' : 'none';\n",
              "\n",
              "        async function convertToInteractive(key) {\n",
              "          const element = document.querySelector('#df-0dd5732c-49a3-4778-89d7-85ed8fd799bf');\n",
              "          const dataTable =\n",
              "            await google.colab.kernel.invokeFunction('convertToInteractive',\n",
              "                                                     [key], {});\n",
              "          if (!dataTable) return;\n",
              "\n",
              "          const docLinkHtml = 'Like what you see? Visit the ' +\n",
              "            '<a target=\"_blank\" href=https://colab.research.google.com/notebooks/data_table.ipynb>data table notebook</a>'\n",
              "            + ' to learn more about interactive tables.';\n",
              "          element.innerHTML = '';\n",
              "          dataTable['output_type'] = 'display_data';\n",
              "          await google.colab.output.renderOutput(dataTable, element);\n",
              "          const docLink = document.createElement('div');\n",
              "          docLink.innerHTML = docLinkHtml;\n",
              "          element.appendChild(docLink);\n",
              "        }\n",
              "      </script>\n",
              "    </div>\n",
              "  </div>\n",
              "  "
            ]
          },
          "metadata": {},
          "execution_count": 6
        }
      ]
    },
    {
      "cell_type": "code",
      "source": [
        "df['r'] = df['s'] + ':' + df['r']"
      ],
      "metadata": {
        "id": "oXNwPLahgMaH"
      },
      "execution_count": null,
      "outputs": []
    },
    {
      "cell_type": "code",
      "source": [
        "df.head()"
      ],
      "metadata": {
        "id": "ywl1VG1agMaH",
        "colab": {
          "base_uri": "https://localhost:8080/"
        },
        "outputId": "5103e0f5-1033-4030-fa77-bda52e55fc40"
      },
      "execution_count": null,
      "outputs": [
        {
          "output_type": "execute_result",
          "data": {
            "text/plain": [
              "     id                                                  q  \\\n",
              "0  6199  -- -- -- -- -- -- -- -- -- -- -- -- -- -- -- -...   \n",
              "1  5807  There 's a lot of discussion there on that iss...   \n",
              "2  8487  `` It 's not helping . The guns these people h...   \n",
              "3  1760  Shooting : 3 seriously injured in Auburn shoot...   \n",
              "4  6228  This is the argument concerning 'choice ' that...   \n",
              "\n",
              "                                                   r         s  \n",
              "0  DISAGREE:If so , why do we still have apes , a...  DISAGREE  \n",
              "1  DISAGREE:Of course . The makers of Expelled we...  DISAGREE  \n",
              "2  DISAGREE:Oh , I would wager about like Mexico ...  DISAGREE  \n",
              "3  AGREE:Pickup strikes group of four youths | Ho...     AGREE  \n",
              "4  DISAGREE:I believe there is a point at which w...  DISAGREE  "
            ],
            "text/html": [
              "\n",
              "  <div id=\"df-57b861dd-be31-4095-b9da-a6392996c72f\">\n",
              "    <div class=\"colab-df-container\">\n",
              "      <div>\n",
              "<style scoped>\n",
              "    .dataframe tbody tr th:only-of-type {\n",
              "        vertical-align: middle;\n",
              "    }\n",
              "\n",
              "    .dataframe tbody tr th {\n",
              "        vertical-align: top;\n",
              "    }\n",
              "\n",
              "    .dataframe thead th {\n",
              "        text-align: right;\n",
              "    }\n",
              "</style>\n",
              "<table border=\"1\" class=\"dataframe\">\n",
              "  <thead>\n",
              "    <tr style=\"text-align: right;\">\n",
              "      <th></th>\n",
              "      <th>id</th>\n",
              "      <th>q</th>\n",
              "      <th>r</th>\n",
              "      <th>s</th>\n",
              "    </tr>\n",
              "  </thead>\n",
              "  <tbody>\n",
              "    <tr>\n",
              "      <th>0</th>\n",
              "      <td>6199</td>\n",
              "      <td>-- -- -- -- -- -- -- -- -- -- -- -- -- -- -- -...</td>\n",
              "      <td>DISAGREE:If so , why do we still have apes , a...</td>\n",
              "      <td>DISAGREE</td>\n",
              "    </tr>\n",
              "    <tr>\n",
              "      <th>1</th>\n",
              "      <td>5807</td>\n",
              "      <td>There 's a lot of discussion there on that iss...</td>\n",
              "      <td>DISAGREE:Of course . The makers of Expelled we...</td>\n",
              "      <td>DISAGREE</td>\n",
              "    </tr>\n",
              "    <tr>\n",
              "      <th>2</th>\n",
              "      <td>8487</td>\n",
              "      <td>`` It 's not helping . The guns these people h...</td>\n",
              "      <td>DISAGREE:Oh , I would wager about like Mexico ...</td>\n",
              "      <td>DISAGREE</td>\n",
              "    </tr>\n",
              "    <tr>\n",
              "      <th>3</th>\n",
              "      <td>1760</td>\n",
              "      <td>Shooting : 3 seriously injured in Auburn shoot...</td>\n",
              "      <td>AGREE:Pickup strikes group of four youths | Ho...</td>\n",
              "      <td>AGREE</td>\n",
              "    </tr>\n",
              "    <tr>\n",
              "      <th>4</th>\n",
              "      <td>6228</td>\n",
              "      <td>This is the argument concerning 'choice ' that...</td>\n",
              "      <td>DISAGREE:I believe there is a point at which w...</td>\n",
              "      <td>DISAGREE</td>\n",
              "    </tr>\n",
              "  </tbody>\n",
              "</table>\n",
              "</div>\n",
              "      <button class=\"colab-df-convert\" onclick=\"convertToInteractive('df-57b861dd-be31-4095-b9da-a6392996c72f')\"\n",
              "              title=\"Convert this dataframe to an interactive table.\"\n",
              "              style=\"display:none;\">\n",
              "        \n",
              "  <svg xmlns=\"http://www.w3.org/2000/svg\" height=\"24px\"viewBox=\"0 0 24 24\"\n",
              "       width=\"24px\">\n",
              "    <path d=\"M0 0h24v24H0V0z\" fill=\"none\"/>\n",
              "    <path d=\"M18.56 5.44l.94 2.06.94-2.06 2.06-.94-2.06-.94-.94-2.06-.94 2.06-2.06.94zm-11 1L8.5 8.5l.94-2.06 2.06-.94-2.06-.94L8.5 2.5l-.94 2.06-2.06.94zm10 10l.94 2.06.94-2.06 2.06-.94-2.06-.94-.94-2.06-.94 2.06-2.06.94z\"/><path d=\"M17.41 7.96l-1.37-1.37c-.4-.4-.92-.59-1.43-.59-.52 0-1.04.2-1.43.59L10.3 9.45l-7.72 7.72c-.78.78-.78 2.05 0 2.83L4 21.41c.39.39.9.59 1.41.59.51 0 1.02-.2 1.41-.59l7.78-7.78 2.81-2.81c.8-.78.8-2.07 0-2.86zM5.41 20L4 18.59l7.72-7.72 1.47 1.35L5.41 20z\"/>\n",
              "  </svg>\n",
              "      </button>\n",
              "      \n",
              "  <style>\n",
              "    .colab-df-container {\n",
              "      display:flex;\n",
              "      flex-wrap:wrap;\n",
              "      gap: 12px;\n",
              "    }\n",
              "\n",
              "    .colab-df-convert {\n",
              "      background-color: #E8F0FE;\n",
              "      border: none;\n",
              "      border-radius: 50%;\n",
              "      cursor: pointer;\n",
              "      display: none;\n",
              "      fill: #1967D2;\n",
              "      height: 32px;\n",
              "      padding: 0 0 0 0;\n",
              "      width: 32px;\n",
              "    }\n",
              "\n",
              "    .colab-df-convert:hover {\n",
              "      background-color: #E2EBFA;\n",
              "      box-shadow: 0px 1px 2px rgba(60, 64, 67, 0.3), 0px 1px 3px 1px rgba(60, 64, 67, 0.15);\n",
              "      fill: #174EA6;\n",
              "    }\n",
              "\n",
              "    [theme=dark] .colab-df-convert {\n",
              "      background-color: #3B4455;\n",
              "      fill: #D2E3FC;\n",
              "    }\n",
              "\n",
              "    [theme=dark] .colab-df-convert:hover {\n",
              "      background-color: #434B5C;\n",
              "      box-shadow: 0px 1px 3px 1px rgba(0, 0, 0, 0.15);\n",
              "      filter: drop-shadow(0px 1px 2px rgba(0, 0, 0, 0.3));\n",
              "      fill: #FFFFFF;\n",
              "    }\n",
              "  </style>\n",
              "\n",
              "      <script>\n",
              "        const buttonEl =\n",
              "          document.querySelector('#df-57b861dd-be31-4095-b9da-a6392996c72f button.colab-df-convert');\n",
              "        buttonEl.style.display =\n",
              "          google.colab.kernel.accessAllowed ? 'block' : 'none';\n",
              "\n",
              "        async function convertToInteractive(key) {\n",
              "          const element = document.querySelector('#df-57b861dd-be31-4095-b9da-a6392996c72f');\n",
              "          const dataTable =\n",
              "            await google.colab.kernel.invokeFunction('convertToInteractive',\n",
              "                                                     [key], {});\n",
              "          if (!dataTable) return;\n",
              "\n",
              "          const docLinkHtml = 'Like what you see? Visit the ' +\n",
              "            '<a target=\"_blank\" href=https://colab.research.google.com/notebooks/data_table.ipynb>data table notebook</a>'\n",
              "            + ' to learn more about interactive tables.';\n",
              "          element.innerHTML = '';\n",
              "          dataTable['output_type'] = 'display_data';\n",
              "          await google.colab.output.renderOutput(dataTable, element);\n",
              "          const docLink = document.createElement('div');\n",
              "          docLink.innerHTML = docLinkHtml;\n",
              "          element.appendChild(docLink);\n",
              "        }\n",
              "      </script>\n",
              "    </div>\n",
              "  </div>\n",
              "  "
            ]
          },
          "metadata": {},
          "execution_count": 8
        }
      ]
    },
    {
      "cell_type": "code",
      "source": [
        "test = df"
      ],
      "metadata": {
        "id": "bmpwMmsUgMaH"
      },
      "execution_count": null,
      "outputs": []
    },
    {
      "cell_type": "markdown",
      "source": [
        "## test tokenized"
      ],
      "metadata": {
        "id": "ie1mPbqw4Hgt"
      }
    },
    {
      "cell_type": "code",
      "source": [
        "from transformers import AutoTokenizer\n",
        "\n",
        "tokenizer = AutoTokenizer.from_pretrained(\"roberta-base\")"
      ],
      "metadata": {
        "id": "u2uiAHsy4LRd",
        "colab": {
          "base_uri": "https://localhost:8080/",
          "referenced_widgets": [
            "7bb3a4c4eba04cdcb0eb06aef75b5a53",
            "5a68d732195f470fbbb1a7d7cf2cd709",
            "136329c0a5d04a5a9b605ea28196b1a5",
            "9f5a98ba07d34e299dc1b749b8ec1aea",
            "56b2ddeb57c240b2931f81c9c75a6b4a",
            "6fb23524a2354c7a92dde0d4ff6814b7",
            "71fabd6ba0e043679557f05ecae95ba1",
            "9c1659f393964e558a32390a6443e28b",
            "b7e42800dda14dd4972a50dcb8b72dd0",
            "71efc814861c4407a0a78ce1efcf1040",
            "e39989c65806417192f3689375406e00",
            "467ed0b244704df6b630bfb5f5195040",
            "8db286a77dfb48bb93083bf9a51591a2",
            "ae2760e05cf9463aa85dcdd1e9136698",
            "2f4aa5ee990f4120bd2580001ba90f11",
            "238078a2cf234234bb22824d5e736530",
            "9d1f16eee8674099921cc5e24a5582c9",
            "e3413041835f4f56b469a35af4f8009e",
            "59fc3e40b6a94ebb981db9e45fb5a263",
            "ae970d7a75534b7f8f890646b09c0fff",
            "031f1f02ead948d9909a9a284e3189c4",
            "f6fbe4796e244264ba4775324c74d32d",
            "ea673c5754d34a77bc7968cd233449d4",
            "134fee50dbbe458881e05f8619dd3de7",
            "bf86b4ad68ff4ccba2790348b33c8b93",
            "bd87e9d8d5b54306afb23a2cea3d4e21",
            "4923beb6a7bd41838dd05614c1d8fd63",
            "3da4d773416c43699ec9909a12744ddf",
            "37316b14f90843cf9779f9b6052dfcee",
            "7bcb543a1eef40bfb3bc9c894344d8ef",
            "001f62b8100643be9bdd3553145e0a38",
            "87fc1335f6f8485884d54d8150b1e4f0",
            "ab90ce09d21d46ea99dca71ab4d2f5ee",
            "3a63bd68768e464880e0bc55957f3546",
            "8a3dfd311f7c4e77889dd39d274172f6",
            "050805a2a05b440bb0e58aa84d4c2b18",
            "9ccfc973cd844782ae4b08a9f48f818e",
            "3d0193639dba4ff2bb1a7fcad4fcdc7c",
            "2f3bde9df1a8431b963c2473a1692fe5",
            "7028f12da2f840acabced1d2ee5949ae",
            "29610c33a3714c2fa50d3e303af5f977",
            "77351e80f76445cdbc7caa90e039785f",
            "7352516e926b4edb91413472816dc065",
            "4022078374e64926acee504ae6aaf6f2"
          ]
        },
        "outputId": "9bb6d406-1ea4-4dd6-90b6-68616898b4f8"
      },
      "execution_count": null,
      "outputs": [
        {
          "output_type": "display_data",
          "data": {
            "text/plain": [
              "Downloading:   0%|          | 0.00/481 [00:00<?, ?B/s]"
            ],
            "application/vnd.jupyter.widget-view+json": {
              "version_major": 2,
              "version_minor": 0,
              "model_id": "7bb3a4c4eba04cdcb0eb06aef75b5a53"
            }
          },
          "metadata": {}
        },
        {
          "output_type": "display_data",
          "data": {
            "text/plain": [
              "Downloading:   0%|          | 0.00/899k [00:00<?, ?B/s]"
            ],
            "application/vnd.jupyter.widget-view+json": {
              "version_major": 2,
              "version_minor": 0,
              "model_id": "467ed0b244704df6b630bfb5f5195040"
            }
          },
          "metadata": {}
        },
        {
          "output_type": "display_data",
          "data": {
            "text/plain": [
              "Downloading:   0%|          | 0.00/456k [00:00<?, ?B/s]"
            ],
            "application/vnd.jupyter.widget-view+json": {
              "version_major": 2,
              "version_minor": 0,
              "model_id": "ea673c5754d34a77bc7968cd233449d4"
            }
          },
          "metadata": {}
        },
        {
          "output_type": "display_data",
          "data": {
            "text/plain": [
              "Downloading:   0%|          | 0.00/1.36M [00:00<?, ?B/s]"
            ],
            "application/vnd.jupyter.widget-view+json": {
              "version_major": 2,
              "version_minor": 0,
              "model_id": "3a63bd68768e464880e0bc55957f3546"
            }
          },
          "metadata": {}
        }
      ]
    },
    {
      "cell_type": "code",
      "source": [
        "test_data_q = test['q'].tolist()\n",
        "test_data_r = test['r'].tolist()"
      ],
      "metadata": {
        "id": "2a3ojTHM4LRd"
      },
      "execution_count": null,
      "outputs": []
    },
    {
      "cell_type": "code",
      "source": [
        "test_encodings = tokenizer(test_data_q, test_data_r, truncation=True, padding=True)"
      ],
      "metadata": {
        "id": "Xq2_EwXu4LRe"
      },
      "execution_count": null,
      "outputs": []
    },
    {
      "cell_type": "code",
      "source": [
        "tokenizer.decode(test_encodings['input_ids'][0])"
      ],
      "metadata": {
        "id": "WRmIs1jE4LRe",
        "colab": {
          "base_uri": "https://localhost:8080/"
        },
        "outputId": "d4369ad1-e278-4de3-bd2a-95f40f4b094c"
      },
      "execution_count": null,
      "outputs": [
        {
          "output_type": "execute_result",
          "data": {
            "text/plain": [
              "'<s>-- -- -- -- -- -- -- -- -- -- -- -- -- -- -- -- -- -- -- -- -- -- -- -- -- -- -- -- -- -- -- -- -- -- -- -- -- ( Time. )</s></s>DISAGREE:If so, why do we still have apes, and why are there no transitional species that we can currently observe. Statistical averages say we should see a few hundred within the last two centuries, at a minimum.</s><pad><pad><pad><pad><pad><pad><pad><pad><pad><pad><pad><pad><pad><pad><pad><pad><pad><pad><pad><pad><pad><pad><pad><pad><pad><pad><pad><pad><pad><pad><pad><pad><pad><pad><pad><pad><pad><pad><pad><pad><pad><pad><pad><pad><pad><pad><pad><pad><pad><pad><pad><pad><pad><pad><pad><pad><pad><pad><pad><pad><pad><pad><pad><pad><pad><pad><pad><pad><pad><pad><pad><pad><pad><pad><pad><pad><pad><pad><pad><pad><pad><pad><pad><pad><pad><pad><pad><pad><pad><pad><pad><pad><pad><pad><pad><pad><pad><pad><pad><pad><pad><pad><pad><pad><pad><pad><pad><pad><pad><pad><pad><pad><pad><pad><pad><pad><pad><pad><pad><pad><pad><pad><pad><pad><pad><pad><pad><pad><pad><pad><pad><pad><pad><pad><pad><pad><pad><pad><pad><pad><pad><pad><pad><pad><pad><pad><pad><pad><pad><pad><pad><pad><pad><pad><pad><pad><pad><pad><pad><pad><pad><pad><pad><pad><pad><pad><pad><pad><pad><pad><pad><pad><pad><pad><pad><pad><pad><pad><pad><pad><pad><pad><pad><pad><pad><pad><pad><pad><pad><pad><pad><pad><pad><pad><pad><pad><pad><pad><pad><pad><pad><pad><pad><pad><pad><pad><pad><pad><pad><pad><pad><pad><pad><pad><pad><pad><pad><pad><pad><pad><pad><pad><pad><pad><pad><pad><pad><pad><pad><pad><pad><pad><pad><pad><pad><pad><pad><pad><pad><pad><pad><pad><pad><pad><pad><pad><pad><pad><pad><pad><pad><pad><pad><pad><pad><pad><pad><pad><pad><pad><pad><pad><pad><pad><pad><pad><pad><pad><pad><pad><pad><pad><pad><pad><pad><pad><pad><pad><pad><pad><pad><pad><pad><pad><pad><pad><pad><pad><pad><pad><pad><pad><pad><pad><pad><pad><pad><pad><pad><pad><pad><pad><pad><pad><pad><pad><pad><pad><pad><pad><pad><pad><pad><pad><pad><pad><pad><pad><pad><pad><pad><pad><pad><pad><pad><pad><pad><pad><pad><pad><pad><pad><pad><pad><pad><pad><pad><pad><pad><pad><pad><pad><pad><pad><pad><pad><pad><pad><pad><pad><pad><pad><pad><pad><pad><pad><pad><pad><pad><pad><pad><pad><pad><pad><pad><pad><pad><pad><pad><pad><pad><pad><pad><pad><pad><pad><pad><pad><pad><pad><pad><pad><pad><pad><pad><pad><pad><pad><pad><pad><pad><pad><pad><pad><pad><pad><pad><pad><pad><pad><pad><pad><pad><pad><pad><pad><pad><pad><pad><pad><pad><pad><pad><pad><pad><pad><pad><pad><pad><pad><pad>'"
            ],
            "application/vnd.google.colaboratory.intrinsic+json": {
              "type": "string"
            }
          },
          "metadata": {},
          "execution_count": 13
        }
      ]
    },
    {
      "cell_type": "markdown",
      "source": [
        "## test dataset & dataloader"
      ],
      "metadata": {
        "id": "p8Siw79Z55JZ"
      }
    },
    {
      "cell_type": "code",
      "source": [
        "class qrDataset(torch.utils.data.Dataset):\n",
        "    def __init__(self, encodings):\n",
        "        self.encodings = encodings\n",
        "\n",
        "    def __getitem__(self, idx):\n",
        "        return {key: torch.tensor(val[idx]) for key, val in self.encodings.items()}\n",
        "\n",
        "    def __len__(self):\n",
        "        return len(self.encodings.input_ids)"
      ],
      "metadata": {
        "id": "yUe-HV_Z58N-"
      },
      "execution_count": null,
      "outputs": []
    },
    {
      "cell_type": "code",
      "source": [
        "test_dataset = qrDataset(test_encodings)"
      ],
      "metadata": {
        "id": "2ku14S5y58N-"
      },
      "execution_count": null,
      "outputs": []
    },
    {
      "cell_type": "code",
      "source": [
        "batch_size = 8\n",
        "test_loader = DataLoader(test_dataset, batch_size=batch_size, shuffle=False)"
      ],
      "metadata": {
        "id": "DjW8SPCh6M_b"
      },
      "execution_count": null,
      "outputs": []
    },
    {
      "cell_type": "markdown",
      "source": [
        "## test predict"
      ],
      "metadata": {
        "id": "1561w4Zl6hmH"
      }
    },
    {
      "cell_type": "code",
      "source": [
        "model = myModel().to(device)\n",
        "model.load_state_dict(torch.load(directory + 'robertax2_5e-4_model'))"
      ],
      "metadata": {
        "id": "U65Q-z7Q7Vm_",
        "colab": {
          "base_uri": "https://localhost:8080/",
          "height": 138,
          "referenced_widgets": [
            "bdf1a4bab1b34d36a9a74e03a7d389ff",
            "5ae1cac8d121492890a0148bb3fd53dc",
            "81273e3fc67f4f41b5dc06ec33183e30",
            "93694ed9f5714274add77a3fe4753553",
            "350f9b4d95e847ae89c7bf38cd79444b",
            "ba8df2487786410884f3e46c0939051c",
            "39f7fae91ef74c13b4f3d2704da51ff6",
            "72e92031d6a64b1fb334b16a1fc559bf",
            "ea374ec8cd244cafa291550888826f17",
            "22e751ad4ffe44c79d3b1be95157e1c2",
            "f7aa1b5bf514487bb7b5494d9eedf690"
          ]
        },
        "outputId": "cf197dfb-edb3-43a5-f08f-6e5b6b5029b2"
      },
      "execution_count": null,
      "outputs": [
        {
          "output_type": "display_data",
          "data": {
            "text/plain": [
              "Downloading:   0%|          | 0.00/501M [00:00<?, ?B/s]"
            ],
            "application/vnd.jupyter.widget-view+json": {
              "version_major": 2,
              "version_minor": 0,
              "model_id": "bdf1a4bab1b34d36a9a74e03a7d389ff"
            }
          },
          "metadata": {}
        },
        {
          "output_type": "stream",
          "name": "stderr",
          "text": [
            "Some weights of the model checkpoint at roberta-base were not used when initializing RobertaModel: ['lm_head.dense.bias', 'lm_head.layer_norm.weight', 'lm_head.bias', 'lm_head.layer_norm.bias', 'lm_head.decoder.weight', 'lm_head.dense.weight']\n",
            "- This IS expected if you are initializing RobertaModel from the checkpoint of a model trained on another task or with another architecture (e.g. initializing a BertForSequenceClassification model from a BertForPreTraining model).\n",
            "- This IS NOT expected if you are initializing RobertaModel from the checkpoint of a model that you expect to be exactly identical (initializing a BertForSequenceClassification model from a BertForSequenceClassification model).\n"
          ]
        },
        {
          "output_type": "execute_result",
          "data": {
            "text/plain": [
              "<All keys matched successfully>"
            ]
          },
          "metadata": {},
          "execution_count": 20
        }
      ]
    },
    {
      "cell_type": "code",
      "source": [
        "from transformers import AdamW\n",
        "from tqdm import tqdm\n",
        "def predict(test_loader):\n",
        "    predict_pos = []\n",
        "\n",
        "    model.eval()\n",
        "\n",
        "    q_sub_output, r_sub_output = [],[]\n",
        "\n",
        "    loop = tqdm(test_loader, leave=True)\n",
        "    for batch_id, batch in enumerate(loop):\n",
        "        input_ids = batch['input_ids'].to(device)\n",
        "        attention_mask = batch['attention_mask'].to(device)\n",
        "\n",
        "        # model output\n",
        "        outputs = model(input_ids=input_ids, attention_mask=attention_mask)\n",
        "        \n",
        "        q_start_logits, r_start_logits, q_end_logits, r_end_logits = torch.split(outputs, 1, 2)\n",
        "\n",
        "        q_start_logits = q_start_logits.squeeze(-1).contiguous()\n",
        "        r_start_logits = r_start_logits.squeeze(-1).contiguous()\n",
        "        q_end_logits = q_end_logits.squeeze(-1).contiguous()\n",
        "        r_end_logits = r_end_logits.squeeze(-1).contiguous()\n",
        "\n",
        "        q_start_prdict = torch.argmax(q_start_logits, 1).cpu().numpy()\n",
        "        r_start_prdict = torch.argmax(r_start_logits, 1).cpu().numpy()\n",
        "        q_end_prdict = torch.argmax(q_end_logits, 1).cpu().numpy()\n",
        "        r_end_prdict = torch.argmax(r_end_logits, 1).cpu().numpy()\n",
        "\n",
        "        for i in range(len(input_ids)):\n",
        "            predict_pos.append((q_start_prdict[i].item(), r_start_prdict[i].item(), q_end_prdict[i].item(), r_end_prdict[i].item()))\n",
        "\n",
        "            q_sub = tokenizer.decode(input_ids[i][q_start_prdict[i]:q_end_prdict[i]+1])\n",
        "            r_sub = tokenizer.decode(input_ids[i][r_start_prdict[i]:r_end_prdict[i]+1])\n",
        "            \n",
        "            q_sub_output.append(q_sub)\n",
        "            r_sub_output.append(r_sub)\n",
        "    \n",
        "    return q_sub_output, r_sub_output, predict_pos\n",
        "\n"
      ],
      "metadata": {
        "id": "y8Kn5uJw7rt_"
      },
      "execution_count": null,
      "outputs": []
    },
    {
      "cell_type": "code",
      "source": [
        "q_sub_output, r_sub_output, predict_pos = predict(test_loader)"
      ],
      "metadata": {
        "id": "dFzZpCp37ruA",
        "colab": {
          "base_uri": "https://localhost:8080/"
        },
        "outputId": "e2e1e84d-2e3b-49a1-b051-fe28acf052c9"
      },
      "execution_count": null,
      "outputs": [
        {
          "output_type": "stream",
          "name": "stderr",
          "text": [
            "100%|██████████| 252/252 [01:02<00:00,  4.05it/s]\n"
          ]
        }
      ]
    },
    {
      "cell_type": "code",
      "source": [
        "def get_output_post_fn(test, q_sub_output, r_sub_output):\n",
        "    q_sub, r_sub = [], []\n",
        "    for i in range(len(test)):\n",
        "\n",
        "        q_sub_pred = q_sub_output[i].split()\n",
        "        r_sub_pred = r_sub_output[i].split()\n",
        "\n",
        "        if q_sub_pred is None:\n",
        "            q_sub_pred = []\n",
        "        q_sub_error_index = q_sub_pred.index('[SEP]') if '[SEP]' in q_sub_pred else -1\n",
        "\n",
        "        if q_sub_error_index != -1:\n",
        "            q_sub_pred = q_sub_pred[:q_sub_error_index]\n",
        "\n",
        "        temp = r_sub_pred.copy()\n",
        "        if r_sub_pred is None:\n",
        "            r_sub_pred = []\n",
        "        else:\n",
        "            for j in range(len(temp)):\n",
        "                if temp[j] == '[SEP]':\n",
        "                    r_sub_pred.remove('[SEP]')\n",
        "                if temp[j] == '[PAD]':\n",
        "                    r_sub_pred.remove('[PAD]')\n",
        "\n",
        "        q_sub.append(' '.join(q_sub_pred))\n",
        "        r_sub.append(' '.join(r_sub_pred))\n",
        "\n",
        "    return q_sub, r_sub"
      ],
      "metadata": {
        "id": "Bb5n1rJS7ruA"
      },
      "execution_count": null,
      "outputs": []
    },
    {
      "cell_type": "code",
      "source": [
        "q_sub, r_sub = get_output_post_fn(test, q_sub_output, r_sub_output)"
      ],
      "metadata": {
        "id": "ie0crcn-7ruA"
      },
      "execution_count": null,
      "outputs": []
    },
    {
      "cell_type": "code",
      "source": [
        "test['q_sub'] = q_sub\n",
        "test['r_sub'] = r_sub"
      ],
      "metadata": {
        "id": "zFVOhz657ruB"
      },
      "execution_count": null,
      "outputs": []
    },
    {
      "cell_type": "code",
      "source": [
        "test.head(50)"
      ],
      "metadata": {
        "id": "9qofpzi97ruB",
        "colab": {
          "base_uri": "https://localhost:8080/",
          "height": 1000
        },
        "outputId": "be97556e-1dc2-4b1f-e225-4a166dffd0ce"
      },
      "execution_count": null,
      "outputs": [
        {
          "output_type": "execute_result",
          "data": {
            "text/plain": [
              "      id                                                  q  \\\n",
              "0   6199  -- -- -- -- -- -- -- -- -- -- -- -- -- -- -- -...   \n",
              "1   5807  There 's a lot of discussion there on that iss...   \n",
              "2   8487  `` It 's not helping . The guns these people h...   \n",
              "3   1760  Shooting : 3 seriously injured in Auburn shoot...   \n",
              "4   6228  This is the argument concerning 'choice ' that...   \n",
              "5   3537  My point is , people are prepared to admit tha...   \n",
              "6   3874  Originally Posted by wayneinFL Each owns his o...   \n",
              "7   6223  Really , so you are totally knowable ? See abo...   \n",
              "8    963  In essence , it seems as though the central cl...   \n",
              "9   1420  STUTTGART , Germany - A 17-year-old gunman dre...   \n",
              "10  2066  In principle , there is no difference between ...   \n",
              "11  5826  This book stands alone among many other public...   \n",
              "12   555  `` One of the guns used at Columbine was a Tec...   \n",
              "13  6795  Since I was there , I 'll give you an objectiv...   \n",
              "14   357  The thing I do n't like about abortion is that...   \n",
              "15  3622  In other words , I ca n't see ID theory , whic...   \n",
              "16  7082  The phrase `` # # # # hits the fan `` refers t...   \n",
              "17  3209  It seems for some , the birth canal somehow ma...   \n",
              "18  2519  Assuming the article is correct , these findin...   \n",
              "19  4766  At least we 're on the right side of the issue...   \n",
              "20  3094  There are quite a few gems in there . Quite a ...   \n",
              "21  3565  Interestingly enough one of those above also s...   \n",
              "22  1393  As usual , the Brady campaign is lying . The s...   \n",
              "23  7960  So , can I not be considered `` ignorant `` fo...   \n",
              "24  4607  I was watching the Bill Maher show today and t...   \n",
              "25  8507  My contention is this : since joining the foru...   \n",
              "26  9722  As I understand , some people have claimed tha...   \n",
              "27  2514  So , Clive , everyone that believes that God c...   \n",
              "28  8364  `` ... However , Collins takes pains to acknow...   \n",
              "29  1392  `` In his encyclical Humani Generis , my prede...   \n",
              "30  8485  Hey pandion , voting according to the rules of...   \n",
              "31  3505  Oh , yes . In my experience , creationist scie...   \n",
              "32  6793  In states that have enacted bans against gay m...   \n",
              "33   668  That is to say , DNA sufficiently similar and ...   \n",
              "34  7964  What sort of different laws ? Also , note that...   \n",
              "35  9138  Fifth , do you believe the fetus is a person ?...   \n",
              "36  8161  Since you brought up the questions , I wonder ...   \n",
              "37  1903  You wrongly use Occam 's Razor as well . If th...   \n",
              "38  3886  And while were at it , let 's limit education ...   \n",
              "39  7078  Not with you Mr. Muddy Waters . It 's a bunch ...   \n",
              "40  3669  regardless , we have yet to see any evolution ...   \n",
              "41    18  Well , I was n't an fortunate as you . It took...   \n",
              "42    55  No Montalban , fallacy or falsity will not per...   \n",
              "43  7058  In the latter case , that 's because more forn...   \n",
              "44  3764  I do n't believe in any gods , but thankyou fo...   \n",
              "45  5654  Normal folks , people who are not just trying ...   \n",
              "46  4651  What 's the difference between humans and chim...   \n",
              "47  6330  No , God did n't say this BUT thanks for respo...   \n",
              "48   303  Your question , which has been pointed out alr...   \n",
              "49  2241  Originally posted by Calligirl Okay , here is ...   \n",
              "\n",
              "                                                    r         s  \\\n",
              "0   DISAGREE:If so , why do we still have apes , a...  DISAGREE   \n",
              "1   DISAGREE:Of course . The makers of Expelled we...  DISAGREE   \n",
              "2   DISAGREE:Oh , I would wager about like Mexico ...  DISAGREE   \n",
              "3   AGREE:Pickup strikes group of four youths | Ho...     AGREE   \n",
              "4   DISAGREE:I believe there is a point at which w...  DISAGREE   \n",
              "5   DISAGREE:The bible is not a science textbook ....  DISAGREE   \n",
              "6   DISAGREE:According to your logic , an infant w...  DISAGREE   \n",
              "7   DISAGREE:Oh irrational-boy , please do try to ...  DISAGREE   \n",
              "8   DISAGREE:I 'd say no to the first part , and y...  DISAGREE   \n",
              "9   AGREE:Well is n't that interesting . Germany h...     AGREE   \n",
              "10  DISAGREE:In the same sense that shooting an in...  DISAGREE   \n",
              "11  DISAGREE:It did n't say ~some~ supernatural en...  DISAGREE   \n",
              "12  DISAGREE:So then the law is flawed because cri...  DISAGREE   \n",
              "13  DISAGREE:Well , I was just giving a different ...  DISAGREE   \n",
              "14  DISAGREE:Yes there is a reason to opposing it ...  DISAGREE   \n",
              "15  AGREE:That is an interesting point- from what ...     AGREE   \n",
              "16  AGREE:I 'm glad you made the same correlation ...     AGREE   \n",
              "17  DISAGREE:Really . For that reason , we , antia...  DISAGREE   \n",
              "18  DISAGREE:It means life is holistic , not reduc...  DISAGREE   \n",
              "19  DISAGREE:More like the wrong side of the issue...  DISAGREE   \n",
              "20  AGREE:Well , that 's because all those things ...     AGREE   \n",
              "21  DISAGREE:That 's ridiculous . The purpose impo...  DISAGREE   \n",
              "22  AGREE:my my you are up on the current events ....     AGREE   \n",
              "23  DISAGREE:Well , it might be hard to convince p...  DISAGREE   \n",
              "24  DISAGREE:Well here is a christian who supports...  DISAGREE   \n",
              "25  DISAGREE:1 . I consider my arguments to be `` ...  DISAGREE   \n",
              "26  DISAGREE:I think that laws , like history , ar...  DISAGREE   \n",
              "27  DISAGREE:No . Anyone who sticks to beliefs tha...  DISAGREE   \n",
              "28                         DISAGREE:Ca n't you read ?  DISAGREE   \n",
              "29  DISAGREE:But I suppose the Pope is going to he...  DISAGREE   \n",
              "30  DISAGREE:But what if it is unconstitutional , ...  DISAGREE   \n",
              "31  DISAGREE:Try a new experience . Check these na...  DISAGREE   \n",
              "32  DISAGREE:In the latter case , that 's because ...  DISAGREE   \n",
              "33  DISAGREE:Oh , well . Apparently you want to ta...  DISAGREE   \n",
              "34  DISAGREE:And you 've never hesitated to make i...  DISAGREE   \n",
              "35  DISAGREE:It is n't a person because it does n'...  DISAGREE   \n",
              "36  DISAGREE:I do n't think people have a right to...  DISAGREE   \n",
              "37  DISAGREE:I think extraordinary claims require ...  DISAGREE   \n",
              "38  DISAGREE:OK , OK . This was not a very well th...  DISAGREE   \n",
              "39  DISAGREE:And there are plenty of people who sm...  DISAGREE   \n",
              "40  DISAGREE:Why would that even be expected ? Whe...  DISAGREE   \n",
              "41  AGREE:um , yeah , you could say that ... ( wo ...     AGREE   \n",
              "42  DISAGREE:`` The cultic flaw in Ayn Rand 's phi...  DISAGREE   \n",
              "43           DISAGREE:Is the bible our constitution ?  DISAGREE   \n",
              "44  DISAGREE:So why are you here ? Do you have any...  DISAGREE   \n",
              "45  DISAGREE:But it is OK to teach your religion i...  DISAGREE   \n",
              "46  DISAGREE:The article is saying that it was gen...  DISAGREE   \n",
              "47  DISAGREE:Number the children of Levi after the...  DISAGREE   \n",
              "48  DISAGREE:And how do you know what other animal...  DISAGREE   \n",
              "49  DISAGREE:That interpretation is fine except th...  DISAGREE   \n",
              "\n",
              "                                                q_sub  \\\n",
              "0                                                 <s>   \n",
              "1   a private screening of a film is a private scr...   \n",
              "2   The guns these people have, they don't registe...   \n",
              "3   You don't need no stinkin'motive! You got a gu...   \n",
              "4   This is the argument concerning 'choice'that, ...   \n",
              "5   My point is, people are prepared to admit that...   \n",
              "6   The fetus does not have a positive right to su...   \n",
              "7   Really, so you are totally knowable? See above...   \n",
              "8   it seems as though the central claim is that n...   \n",
              "9   A 17-year-old gunman dressed in black opened f...   \n",
              "10  In principle, there is no difference between t...   \n",
              "11  This book stands alone among many other public...   \n",
              "12  One of the guns used at Columbine was a Tec-9,...   \n",
              "13   What in God's name are they so bloody afraid of?   \n",
              "14  The thing I don't like about abortion is that ...   \n",
              "15  I can't see ID theory, which seems to me to be...   \n",
              "16  The phrase `` # # # # hits the fan `` refers t...   \n",
              "17  It seems for some, the birth canal somehow mag...   \n",
              "18  Assuming the article is correct, these finding...   \n",
              "19  At least we're on the right side of the issues...   \n",
              "20  There are quite a few gems in there. Quite a f...   \n",
              "21  The selective breeding by humans towards a des...   \n",
              "22  As usual, the Brady campaign is lying. The sen...   \n",
              "23  So, can I not be considered `` ignorant `` for...   \n",
              "24  She mentioned that she has recently become a C...   \n",
              "25  My contention is this : since joining the foru...   \n",
              "26  As I understand, some people have claimed that...   \n",
              "27  everyone that believes that God created the ea...   \n",
              "28  Collins takes pains to acknowledge that much o...   \n",
              "29  In his encyclical Humani Generis, my predecess...   \n",
              "30  voting according to the rules of the Californi...   \n",
              "31  In my experience, creationist scientists were ...   \n",
              "32  In states that have enacted bans against gay m...   \n",
              "33  DNA sufficiently similar and sufficiently wide...   \n",
              "34  The main reason, however, is the 'less guns in...   \n",
              "35         do you believe the fetus is a person? Why?   \n",
              "36  Can one girl kill herself or do harmful things...   \n",
              "37  You wrongly use Occam's Razor as well. If the ...   \n",
              "38  And while were at it, let's limit education to...   \n",
              "39  There are plenty of people who have constant a...   \n",
              "40  we have yet to see any evolution of new body p...   \n",
              "41  It took me a few years to see through the fair...   \n",
              "42  No Montalban, fallacy or falsity will not pers...   \n",
              "43  Gay sex sin is a perversion and an abomination...   \n",
              "44  I don't believe in any gods, but thankyou for ...   \n",
              "45  Normal folks, people who are not just trying t...   \n",
              "46  What's the difference between humans and chimp...   \n",
              "47  No, God didn't say this BUT thanks for respond...   \n",
              "48  Your question, which has been pointed out alre...   \n",
              "49  God made the animals. He said, `` Hey, Adam ne...   \n",
              "\n",
              "                                                r_sub  \n",
              "0   If so, why do we still have apes, and why are ...  \n",
              "1   Of course. The makers of Expelled were within ...  \n",
              "2   Oh, I would wager about like Mexico, about 80 ...  \n",
              "3   Pickup strikes group of four youths | Houston ...  \n",
              "4   I believe there is a point at which we ( socie...  \n",
              "5   The bible is not a science textbook. I do not ...  \n",
              "6   According to your logic, an infant would have ...  \n",
              "7   Oh irrational-boy, please do try to understand...  \n",
              "8   I 'd say no to the first part, and yes to the ...  \n",
              "9                        Well isn't that interesting.  \n",
              "10  In the same sense that shooting an intruder wh...  \n",
              "11  It didn't say ~some~ supernatural entities, di...  \n",
              "12  So then the law is flawed because criminals co...  \n",
              "13  Well, I was just giving a different perspectiv...  \n",
              "14              Yes there is a reason to opposing it.  \n",
              "15  That is an interesting point- from what I have...  \n",
              "16  I'm glad you made the same correlation I did. ...  \n",
              "17  Really. For that reason, we, antiabortion athe...  \n",
              "18       It means life is holistic, not reductionist.  \n",
              "19  More like the wrong side of the issues, ever i...  \n",
              "20  Well, that's because all those things happened...  \n",
              "21  That's ridiculous. The purpose imposed by man ...  \n",
              "22            my my you are up on the current events.  \n",
              "23  it might be hard to convince people that you a...  \n",
              "24    Well here is a christian who supports abortion.  \n",
              "25  I consider my arguments to be `` anti-elective...  \n",
              "26  I think that laws, like history, are written b...  \n",
              "27  No. Anyone who sticks to beliefs that a god cr...  \n",
              "28                                    Can't you read?  \n",
              "29            But I suppose the Pope is going to hell  \n",
              "30  But what if it is unconstitutional, like Prop. 8?  \n",
              "31  Try a new experience. Check these names from t...  \n",
              "32  In the latter case, that's because more fornic...  \n",
              "33  Apparently you want to talk molecular chemistr...  \n",
              "34  And you've never hesitated to make it sound li...  \n",
              "35  It isn't a person because it doesn't have a hi...  \n",
              "36  I don't think people have a right to kills the...  \n",
              "37  I think extraordinary claims require extraordi...  \n",
              "38  This was not a very well thought out thread. Y...  \n",
              "39  And there are plenty of people who smoke who d...  \n",
              "40                   Why would that even be expected?  \n",
              "41                           yeah, you could say that  \n",
              "42  The cultic flaw in Ayn Rand's philosophy of Ob...  \n",
              "43                     Is the bible our constitution?  \n",
              "44  So why are you here? Do you have anything to o...  \n",
              "45  But it is OK to teach your religion in public ...  \n",
              "46  The article is saying that it was genetic chan...  \n",
              "47  Number the children of Levi after the house of...  \n",
              "48  And how do you know what other animals can ana...  \n",
              "49  That interpretation is fine except that God sa...  "
            ],
            "text/html": [
              "\n",
              "  <div id=\"df-ee8965c0-fc54-4c93-a929-4ecb8093fc9a\">\n",
              "    <div class=\"colab-df-container\">\n",
              "      <div>\n",
              "<style scoped>\n",
              "    .dataframe tbody tr th:only-of-type {\n",
              "        vertical-align: middle;\n",
              "    }\n",
              "\n",
              "    .dataframe tbody tr th {\n",
              "        vertical-align: top;\n",
              "    }\n",
              "\n",
              "    .dataframe thead th {\n",
              "        text-align: right;\n",
              "    }\n",
              "</style>\n",
              "<table border=\"1\" class=\"dataframe\">\n",
              "  <thead>\n",
              "    <tr style=\"text-align: right;\">\n",
              "      <th></th>\n",
              "      <th>id</th>\n",
              "      <th>q</th>\n",
              "      <th>r</th>\n",
              "      <th>s</th>\n",
              "      <th>q_sub</th>\n",
              "      <th>r_sub</th>\n",
              "    </tr>\n",
              "  </thead>\n",
              "  <tbody>\n",
              "    <tr>\n",
              "      <th>0</th>\n",
              "      <td>6199</td>\n",
              "      <td>-- -- -- -- -- -- -- -- -- -- -- -- -- -- -- -...</td>\n",
              "      <td>DISAGREE:If so , why do we still have apes , a...</td>\n",
              "      <td>DISAGREE</td>\n",
              "      <td>&lt;s&gt;</td>\n",
              "      <td>If so, why do we still have apes, and why are ...</td>\n",
              "    </tr>\n",
              "    <tr>\n",
              "      <th>1</th>\n",
              "      <td>5807</td>\n",
              "      <td>There 's a lot of discussion there on that iss...</td>\n",
              "      <td>DISAGREE:Of course . The makers of Expelled we...</td>\n",
              "      <td>DISAGREE</td>\n",
              "      <td>a private screening of a film is a private scr...</td>\n",
              "      <td>Of course. The makers of Expelled were within ...</td>\n",
              "    </tr>\n",
              "    <tr>\n",
              "      <th>2</th>\n",
              "      <td>8487</td>\n",
              "      <td>`` It 's not helping . The guns these people h...</td>\n",
              "      <td>DISAGREE:Oh , I would wager about like Mexico ...</td>\n",
              "      <td>DISAGREE</td>\n",
              "      <td>The guns these people have, they don't registe...</td>\n",
              "      <td>Oh, I would wager about like Mexico, about 80 ...</td>\n",
              "    </tr>\n",
              "    <tr>\n",
              "      <th>3</th>\n",
              "      <td>1760</td>\n",
              "      <td>Shooting : 3 seriously injured in Auburn shoot...</td>\n",
              "      <td>AGREE:Pickup strikes group of four youths | Ho...</td>\n",
              "      <td>AGREE</td>\n",
              "      <td>You don't need no stinkin'motive! You got a gu...</td>\n",
              "      <td>Pickup strikes group of four youths | Houston ...</td>\n",
              "    </tr>\n",
              "    <tr>\n",
              "      <th>4</th>\n",
              "      <td>6228</td>\n",
              "      <td>This is the argument concerning 'choice ' that...</td>\n",
              "      <td>DISAGREE:I believe there is a point at which w...</td>\n",
              "      <td>DISAGREE</td>\n",
              "      <td>This is the argument concerning 'choice'that, ...</td>\n",
              "      <td>I believe there is a point at which we ( socie...</td>\n",
              "    </tr>\n",
              "    <tr>\n",
              "      <th>5</th>\n",
              "      <td>3537</td>\n",
              "      <td>My point is , people are prepared to admit tha...</td>\n",
              "      <td>DISAGREE:The bible is not a science textbook ....</td>\n",
              "      <td>DISAGREE</td>\n",
              "      <td>My point is, people are prepared to admit that...</td>\n",
              "      <td>The bible is not a science textbook. I do not ...</td>\n",
              "    </tr>\n",
              "    <tr>\n",
              "      <th>6</th>\n",
              "      <td>3874</td>\n",
              "      <td>Originally Posted by wayneinFL Each owns his o...</td>\n",
              "      <td>DISAGREE:According to your logic , an infant w...</td>\n",
              "      <td>DISAGREE</td>\n",
              "      <td>The fetus does not have a positive right to su...</td>\n",
              "      <td>According to your logic, an infant would have ...</td>\n",
              "    </tr>\n",
              "    <tr>\n",
              "      <th>7</th>\n",
              "      <td>6223</td>\n",
              "      <td>Really , so you are totally knowable ? See abo...</td>\n",
              "      <td>DISAGREE:Oh irrational-boy , please do try to ...</td>\n",
              "      <td>DISAGREE</td>\n",
              "      <td>Really, so you are totally knowable? See above...</td>\n",
              "      <td>Oh irrational-boy, please do try to understand...</td>\n",
              "    </tr>\n",
              "    <tr>\n",
              "      <th>8</th>\n",
              "      <td>963</td>\n",
              "      <td>In essence , it seems as though the central cl...</td>\n",
              "      <td>DISAGREE:I 'd say no to the first part , and y...</td>\n",
              "      <td>DISAGREE</td>\n",
              "      <td>it seems as though the central claim is that n...</td>\n",
              "      <td>I 'd say no to the first part, and yes to the ...</td>\n",
              "    </tr>\n",
              "    <tr>\n",
              "      <th>9</th>\n",
              "      <td>1420</td>\n",
              "      <td>STUTTGART , Germany - A 17-year-old gunman dre...</td>\n",
              "      <td>AGREE:Well is n't that interesting . Germany h...</td>\n",
              "      <td>AGREE</td>\n",
              "      <td>A 17-year-old gunman dressed in black opened f...</td>\n",
              "      <td>Well isn't that interesting.</td>\n",
              "    </tr>\n",
              "    <tr>\n",
              "      <th>10</th>\n",
              "      <td>2066</td>\n",
              "      <td>In principle , there is no difference between ...</td>\n",
              "      <td>DISAGREE:In the same sense that shooting an in...</td>\n",
              "      <td>DISAGREE</td>\n",
              "      <td>In principle, there is no difference between t...</td>\n",
              "      <td>In the same sense that shooting an intruder wh...</td>\n",
              "    </tr>\n",
              "    <tr>\n",
              "      <th>11</th>\n",
              "      <td>5826</td>\n",
              "      <td>This book stands alone among many other public...</td>\n",
              "      <td>DISAGREE:It did n't say ~some~ supernatural en...</td>\n",
              "      <td>DISAGREE</td>\n",
              "      <td>This book stands alone among many other public...</td>\n",
              "      <td>It didn't say ~some~ supernatural entities, di...</td>\n",
              "    </tr>\n",
              "    <tr>\n",
              "      <th>12</th>\n",
              "      <td>555</td>\n",
              "      <td>`` One of the guns used at Columbine was a Tec...</td>\n",
              "      <td>DISAGREE:So then the law is flawed because cri...</td>\n",
              "      <td>DISAGREE</td>\n",
              "      <td>One of the guns used at Columbine was a Tec-9,...</td>\n",
              "      <td>So then the law is flawed because criminals co...</td>\n",
              "    </tr>\n",
              "    <tr>\n",
              "      <th>13</th>\n",
              "      <td>6795</td>\n",
              "      <td>Since I was there , I 'll give you an objectiv...</td>\n",
              "      <td>DISAGREE:Well , I was just giving a different ...</td>\n",
              "      <td>DISAGREE</td>\n",
              "      <td>What in God's name are they so bloody afraid of?</td>\n",
              "      <td>Well, I was just giving a different perspectiv...</td>\n",
              "    </tr>\n",
              "    <tr>\n",
              "      <th>14</th>\n",
              "      <td>357</td>\n",
              "      <td>The thing I do n't like about abortion is that...</td>\n",
              "      <td>DISAGREE:Yes there is a reason to opposing it ...</td>\n",
              "      <td>DISAGREE</td>\n",
              "      <td>The thing I don't like about abortion is that ...</td>\n",
              "      <td>Yes there is a reason to opposing it.</td>\n",
              "    </tr>\n",
              "    <tr>\n",
              "      <th>15</th>\n",
              "      <td>3622</td>\n",
              "      <td>In other words , I ca n't see ID theory , whic...</td>\n",
              "      <td>AGREE:That is an interesting point- from what ...</td>\n",
              "      <td>AGREE</td>\n",
              "      <td>I can't see ID theory, which seems to me to be...</td>\n",
              "      <td>That is an interesting point- from what I have...</td>\n",
              "    </tr>\n",
              "    <tr>\n",
              "      <th>16</th>\n",
              "      <td>7082</td>\n",
              "      <td>The phrase `` # # # # hits the fan `` refers t...</td>\n",
              "      <td>AGREE:I 'm glad you made the same correlation ...</td>\n",
              "      <td>AGREE</td>\n",
              "      <td>The phrase `` # # # # hits the fan `` refers t...</td>\n",
              "      <td>I'm glad you made the same correlation I did. ...</td>\n",
              "    </tr>\n",
              "    <tr>\n",
              "      <th>17</th>\n",
              "      <td>3209</td>\n",
              "      <td>It seems for some , the birth canal somehow ma...</td>\n",
              "      <td>DISAGREE:Really . For that reason , we , antia...</td>\n",
              "      <td>DISAGREE</td>\n",
              "      <td>It seems for some, the birth canal somehow mag...</td>\n",
              "      <td>Really. For that reason, we, antiabortion athe...</td>\n",
              "    </tr>\n",
              "    <tr>\n",
              "      <th>18</th>\n",
              "      <td>2519</td>\n",
              "      <td>Assuming the article is correct , these findin...</td>\n",
              "      <td>DISAGREE:It means life is holistic , not reduc...</td>\n",
              "      <td>DISAGREE</td>\n",
              "      <td>Assuming the article is correct, these finding...</td>\n",
              "      <td>It means life is holistic, not reductionist.</td>\n",
              "    </tr>\n",
              "    <tr>\n",
              "      <th>19</th>\n",
              "      <td>4766</td>\n",
              "      <td>At least we 're on the right side of the issue...</td>\n",
              "      <td>DISAGREE:More like the wrong side of the issue...</td>\n",
              "      <td>DISAGREE</td>\n",
              "      <td>At least we're on the right side of the issues...</td>\n",
              "      <td>More like the wrong side of the issues, ever i...</td>\n",
              "    </tr>\n",
              "    <tr>\n",
              "      <th>20</th>\n",
              "      <td>3094</td>\n",
              "      <td>There are quite a few gems in there . Quite a ...</td>\n",
              "      <td>AGREE:Well , that 's because all those things ...</td>\n",
              "      <td>AGREE</td>\n",
              "      <td>There are quite a few gems in there. Quite a f...</td>\n",
              "      <td>Well, that's because all those things happened...</td>\n",
              "    </tr>\n",
              "    <tr>\n",
              "      <th>21</th>\n",
              "      <td>3565</td>\n",
              "      <td>Interestingly enough one of those above also s...</td>\n",
              "      <td>DISAGREE:That 's ridiculous . The purpose impo...</td>\n",
              "      <td>DISAGREE</td>\n",
              "      <td>The selective breeding by humans towards a des...</td>\n",
              "      <td>That's ridiculous. The purpose imposed by man ...</td>\n",
              "    </tr>\n",
              "    <tr>\n",
              "      <th>22</th>\n",
              "      <td>1393</td>\n",
              "      <td>As usual , the Brady campaign is lying . The s...</td>\n",
              "      <td>AGREE:my my you are up on the current events ....</td>\n",
              "      <td>AGREE</td>\n",
              "      <td>As usual, the Brady campaign is lying. The sen...</td>\n",
              "      <td>my my you are up on the current events.</td>\n",
              "    </tr>\n",
              "    <tr>\n",
              "      <th>23</th>\n",
              "      <td>7960</td>\n",
              "      <td>So , can I not be considered `` ignorant `` fo...</td>\n",
              "      <td>DISAGREE:Well , it might be hard to convince p...</td>\n",
              "      <td>DISAGREE</td>\n",
              "      <td>So, can I not be considered `` ignorant `` for...</td>\n",
              "      <td>it might be hard to convince people that you a...</td>\n",
              "    </tr>\n",
              "    <tr>\n",
              "      <th>24</th>\n",
              "      <td>4607</td>\n",
              "      <td>I was watching the Bill Maher show today and t...</td>\n",
              "      <td>DISAGREE:Well here is a christian who supports...</td>\n",
              "      <td>DISAGREE</td>\n",
              "      <td>She mentioned that she has recently become a C...</td>\n",
              "      <td>Well here is a christian who supports abortion.</td>\n",
              "    </tr>\n",
              "    <tr>\n",
              "      <th>25</th>\n",
              "      <td>8507</td>\n",
              "      <td>My contention is this : since joining the foru...</td>\n",
              "      <td>DISAGREE:1 . I consider my arguments to be `` ...</td>\n",
              "      <td>DISAGREE</td>\n",
              "      <td>My contention is this : since joining the foru...</td>\n",
              "      <td>I consider my arguments to be `` anti-elective...</td>\n",
              "    </tr>\n",
              "    <tr>\n",
              "      <th>26</th>\n",
              "      <td>9722</td>\n",
              "      <td>As I understand , some people have claimed tha...</td>\n",
              "      <td>DISAGREE:I think that laws , like history , ar...</td>\n",
              "      <td>DISAGREE</td>\n",
              "      <td>As I understand, some people have claimed that...</td>\n",
              "      <td>I think that laws, like history, are written b...</td>\n",
              "    </tr>\n",
              "    <tr>\n",
              "      <th>27</th>\n",
              "      <td>2514</td>\n",
              "      <td>So , Clive , everyone that believes that God c...</td>\n",
              "      <td>DISAGREE:No . Anyone who sticks to beliefs tha...</td>\n",
              "      <td>DISAGREE</td>\n",
              "      <td>everyone that believes that God created the ea...</td>\n",
              "      <td>No. Anyone who sticks to beliefs that a god cr...</td>\n",
              "    </tr>\n",
              "    <tr>\n",
              "      <th>28</th>\n",
              "      <td>8364</td>\n",
              "      <td>`` ... However , Collins takes pains to acknow...</td>\n",
              "      <td>DISAGREE:Ca n't you read ?</td>\n",
              "      <td>DISAGREE</td>\n",
              "      <td>Collins takes pains to acknowledge that much o...</td>\n",
              "      <td>Can't you read?</td>\n",
              "    </tr>\n",
              "    <tr>\n",
              "      <th>29</th>\n",
              "      <td>1392</td>\n",
              "      <td>`` In his encyclical Humani Generis , my prede...</td>\n",
              "      <td>DISAGREE:But I suppose the Pope is going to he...</td>\n",
              "      <td>DISAGREE</td>\n",
              "      <td>In his encyclical Humani Generis, my predecess...</td>\n",
              "      <td>But I suppose the Pope is going to hell</td>\n",
              "    </tr>\n",
              "    <tr>\n",
              "      <th>30</th>\n",
              "      <td>8485</td>\n",
              "      <td>Hey pandion , voting according to the rules of...</td>\n",
              "      <td>DISAGREE:But what if it is unconstitutional , ...</td>\n",
              "      <td>DISAGREE</td>\n",
              "      <td>voting according to the rules of the Californi...</td>\n",
              "      <td>But what if it is unconstitutional, like Prop. 8?</td>\n",
              "    </tr>\n",
              "    <tr>\n",
              "      <th>31</th>\n",
              "      <td>3505</td>\n",
              "      <td>Oh , yes . In my experience , creationist scie...</td>\n",
              "      <td>DISAGREE:Try a new experience . Check these na...</td>\n",
              "      <td>DISAGREE</td>\n",
              "      <td>In my experience, creationist scientists were ...</td>\n",
              "      <td>Try a new experience. Check these names from t...</td>\n",
              "    </tr>\n",
              "    <tr>\n",
              "      <th>32</th>\n",
              "      <td>6793</td>\n",
              "      <td>In states that have enacted bans against gay m...</td>\n",
              "      <td>DISAGREE:In the latter case , that 's because ...</td>\n",
              "      <td>DISAGREE</td>\n",
              "      <td>In states that have enacted bans against gay m...</td>\n",
              "      <td>In the latter case, that's because more fornic...</td>\n",
              "    </tr>\n",
              "    <tr>\n",
              "      <th>33</th>\n",
              "      <td>668</td>\n",
              "      <td>That is to say , DNA sufficiently similar and ...</td>\n",
              "      <td>DISAGREE:Oh , well . Apparently you want to ta...</td>\n",
              "      <td>DISAGREE</td>\n",
              "      <td>DNA sufficiently similar and sufficiently wide...</td>\n",
              "      <td>Apparently you want to talk molecular chemistr...</td>\n",
              "    </tr>\n",
              "    <tr>\n",
              "      <th>34</th>\n",
              "      <td>7964</td>\n",
              "      <td>What sort of different laws ? Also , note that...</td>\n",
              "      <td>DISAGREE:And you 've never hesitated to make i...</td>\n",
              "      <td>DISAGREE</td>\n",
              "      <td>The main reason, however, is the 'less guns in...</td>\n",
              "      <td>And you've never hesitated to make it sound li...</td>\n",
              "    </tr>\n",
              "    <tr>\n",
              "      <th>35</th>\n",
              "      <td>9138</td>\n",
              "      <td>Fifth , do you believe the fetus is a person ?...</td>\n",
              "      <td>DISAGREE:It is n't a person because it does n'...</td>\n",
              "      <td>DISAGREE</td>\n",
              "      <td>do you believe the fetus is a person? Why?</td>\n",
              "      <td>It isn't a person because it doesn't have a hi...</td>\n",
              "    </tr>\n",
              "    <tr>\n",
              "      <th>36</th>\n",
              "      <td>8161</td>\n",
              "      <td>Since you brought up the questions , I wonder ...</td>\n",
              "      <td>DISAGREE:I do n't think people have a right to...</td>\n",
              "      <td>DISAGREE</td>\n",
              "      <td>Can one girl kill herself or do harmful things...</td>\n",
              "      <td>I don't think people have a right to kills the...</td>\n",
              "    </tr>\n",
              "    <tr>\n",
              "      <th>37</th>\n",
              "      <td>1903</td>\n",
              "      <td>You wrongly use Occam 's Razor as well . If th...</td>\n",
              "      <td>DISAGREE:I think extraordinary claims require ...</td>\n",
              "      <td>DISAGREE</td>\n",
              "      <td>You wrongly use Occam's Razor as well. If the ...</td>\n",
              "      <td>I think extraordinary claims require extraordi...</td>\n",
              "    </tr>\n",
              "    <tr>\n",
              "      <th>38</th>\n",
              "      <td>3886</td>\n",
              "      <td>And while were at it , let 's limit education ...</td>\n",
              "      <td>DISAGREE:OK , OK . This was not a very well th...</td>\n",
              "      <td>DISAGREE</td>\n",
              "      <td>And while were at it, let's limit education to...</td>\n",
              "      <td>This was not a very well thought out thread. Y...</td>\n",
              "    </tr>\n",
              "    <tr>\n",
              "      <th>39</th>\n",
              "      <td>7078</td>\n",
              "      <td>Not with you Mr. Muddy Waters . It 's a bunch ...</td>\n",
              "      <td>DISAGREE:And there are plenty of people who sm...</td>\n",
              "      <td>DISAGREE</td>\n",
              "      <td>There are plenty of people who have constant a...</td>\n",
              "      <td>And there are plenty of people who smoke who d...</td>\n",
              "    </tr>\n",
              "    <tr>\n",
              "      <th>40</th>\n",
              "      <td>3669</td>\n",
              "      <td>regardless , we have yet to see any evolution ...</td>\n",
              "      <td>DISAGREE:Why would that even be expected ? Whe...</td>\n",
              "      <td>DISAGREE</td>\n",
              "      <td>we have yet to see any evolution of new body p...</td>\n",
              "      <td>Why would that even be expected?</td>\n",
              "    </tr>\n",
              "    <tr>\n",
              "      <th>41</th>\n",
              "      <td>18</td>\n",
              "      <td>Well , I was n't an fortunate as you . It took...</td>\n",
              "      <td>AGREE:um , yeah , you could say that ... ( wo ...</td>\n",
              "      <td>AGREE</td>\n",
              "      <td>It took me a few years to see through the fair...</td>\n",
              "      <td>yeah, you could say that</td>\n",
              "    </tr>\n",
              "    <tr>\n",
              "      <th>42</th>\n",
              "      <td>55</td>\n",
              "      <td>No Montalban , fallacy or falsity will not per...</td>\n",
              "      <td>DISAGREE:`` The cultic flaw in Ayn Rand 's phi...</td>\n",
              "      <td>DISAGREE</td>\n",
              "      <td>No Montalban, fallacy or falsity will not pers...</td>\n",
              "      <td>The cultic flaw in Ayn Rand's philosophy of Ob...</td>\n",
              "    </tr>\n",
              "    <tr>\n",
              "      <th>43</th>\n",
              "      <td>7058</td>\n",
              "      <td>In the latter case , that 's because more forn...</td>\n",
              "      <td>DISAGREE:Is the bible our constitution ?</td>\n",
              "      <td>DISAGREE</td>\n",
              "      <td>Gay sex sin is a perversion and an abomination...</td>\n",
              "      <td>Is the bible our constitution?</td>\n",
              "    </tr>\n",
              "    <tr>\n",
              "      <th>44</th>\n",
              "      <td>3764</td>\n",
              "      <td>I do n't believe in any gods , but thankyou fo...</td>\n",
              "      <td>DISAGREE:So why are you here ? Do you have any...</td>\n",
              "      <td>DISAGREE</td>\n",
              "      <td>I don't believe in any gods, but thankyou for ...</td>\n",
              "      <td>So why are you here? Do you have anything to o...</td>\n",
              "    </tr>\n",
              "    <tr>\n",
              "      <th>45</th>\n",
              "      <td>5654</td>\n",
              "      <td>Normal folks , people who are not just trying ...</td>\n",
              "      <td>DISAGREE:But it is OK to teach your religion i...</td>\n",
              "      <td>DISAGREE</td>\n",
              "      <td>Normal folks, people who are not just trying t...</td>\n",
              "      <td>But it is OK to teach your religion in public ...</td>\n",
              "    </tr>\n",
              "    <tr>\n",
              "      <th>46</th>\n",
              "      <td>4651</td>\n",
              "      <td>What 's the difference between humans and chim...</td>\n",
              "      <td>DISAGREE:The article is saying that it was gen...</td>\n",
              "      <td>DISAGREE</td>\n",
              "      <td>What's the difference between humans and chimp...</td>\n",
              "      <td>The article is saying that it was genetic chan...</td>\n",
              "    </tr>\n",
              "    <tr>\n",
              "      <th>47</th>\n",
              "      <td>6330</td>\n",
              "      <td>No , God did n't say this BUT thanks for respo...</td>\n",
              "      <td>DISAGREE:Number the children of Levi after the...</td>\n",
              "      <td>DISAGREE</td>\n",
              "      <td>No, God didn't say this BUT thanks for respond...</td>\n",
              "      <td>Number the children of Levi after the house of...</td>\n",
              "    </tr>\n",
              "    <tr>\n",
              "      <th>48</th>\n",
              "      <td>303</td>\n",
              "      <td>Your question , which has been pointed out alr...</td>\n",
              "      <td>DISAGREE:And how do you know what other animal...</td>\n",
              "      <td>DISAGREE</td>\n",
              "      <td>Your question, which has been pointed out alre...</td>\n",
              "      <td>And how do you know what other animals can ana...</td>\n",
              "    </tr>\n",
              "    <tr>\n",
              "      <th>49</th>\n",
              "      <td>2241</td>\n",
              "      <td>Originally posted by Calligirl Okay , here is ...</td>\n",
              "      <td>DISAGREE:That interpretation is fine except th...</td>\n",
              "      <td>DISAGREE</td>\n",
              "      <td>God made the animals. He said, `` Hey, Adam ne...</td>\n",
              "      <td>That interpretation is fine except that God sa...</td>\n",
              "    </tr>\n",
              "  </tbody>\n",
              "</table>\n",
              "</div>\n",
              "      <button class=\"colab-df-convert\" onclick=\"convertToInteractive('df-ee8965c0-fc54-4c93-a929-4ecb8093fc9a')\"\n",
              "              title=\"Convert this dataframe to an interactive table.\"\n",
              "              style=\"display:none;\">\n",
              "        \n",
              "  <svg xmlns=\"http://www.w3.org/2000/svg\" height=\"24px\"viewBox=\"0 0 24 24\"\n",
              "       width=\"24px\">\n",
              "    <path d=\"M0 0h24v24H0V0z\" fill=\"none\"/>\n",
              "    <path d=\"M18.56 5.44l.94 2.06.94-2.06 2.06-.94-2.06-.94-.94-2.06-.94 2.06-2.06.94zm-11 1L8.5 8.5l.94-2.06 2.06-.94-2.06-.94L8.5 2.5l-.94 2.06-2.06.94zm10 10l.94 2.06.94-2.06 2.06-.94-2.06-.94-.94-2.06-.94 2.06-2.06.94z\"/><path d=\"M17.41 7.96l-1.37-1.37c-.4-.4-.92-.59-1.43-.59-.52 0-1.04.2-1.43.59L10.3 9.45l-7.72 7.72c-.78.78-.78 2.05 0 2.83L4 21.41c.39.39.9.59 1.41.59.51 0 1.02-.2 1.41-.59l7.78-7.78 2.81-2.81c.8-.78.8-2.07 0-2.86zM5.41 20L4 18.59l7.72-7.72 1.47 1.35L5.41 20z\"/>\n",
              "  </svg>\n",
              "      </button>\n",
              "      \n",
              "  <style>\n",
              "    .colab-df-container {\n",
              "      display:flex;\n",
              "      flex-wrap:wrap;\n",
              "      gap: 12px;\n",
              "    }\n",
              "\n",
              "    .colab-df-convert {\n",
              "      background-color: #E8F0FE;\n",
              "      border: none;\n",
              "      border-radius: 50%;\n",
              "      cursor: pointer;\n",
              "      display: none;\n",
              "      fill: #1967D2;\n",
              "      height: 32px;\n",
              "      padding: 0 0 0 0;\n",
              "      width: 32px;\n",
              "    }\n",
              "\n",
              "    .colab-df-convert:hover {\n",
              "      background-color: #E2EBFA;\n",
              "      box-shadow: 0px 1px 2px rgba(60, 64, 67, 0.3), 0px 1px 3px 1px rgba(60, 64, 67, 0.15);\n",
              "      fill: #174EA6;\n",
              "    }\n",
              "\n",
              "    [theme=dark] .colab-df-convert {\n",
              "      background-color: #3B4455;\n",
              "      fill: #D2E3FC;\n",
              "    }\n",
              "\n",
              "    [theme=dark] .colab-df-convert:hover {\n",
              "      background-color: #434B5C;\n",
              "      box-shadow: 0px 1px 3px 1px rgba(0, 0, 0, 0.15);\n",
              "      filter: drop-shadow(0px 1px 2px rgba(0, 0, 0, 0.3));\n",
              "      fill: #FFFFFF;\n",
              "    }\n",
              "  </style>\n",
              "\n",
              "      <script>\n",
              "        const buttonEl =\n",
              "          document.querySelector('#df-ee8965c0-fc54-4c93-a929-4ecb8093fc9a button.colab-df-convert');\n",
              "        buttonEl.style.display =\n",
              "          google.colab.kernel.accessAllowed ? 'block' : 'none';\n",
              "\n",
              "        async function convertToInteractive(key) {\n",
              "          const element = document.querySelector('#df-ee8965c0-fc54-4c93-a929-4ecb8093fc9a');\n",
              "          const dataTable =\n",
              "            await google.colab.kernel.invokeFunction('convertToInteractive',\n",
              "                                                     [key], {});\n",
              "          if (!dataTable) return;\n",
              "\n",
              "          const docLinkHtml = 'Like what you see? Visit the ' +\n",
              "            '<a target=\"_blank\" href=https://colab.research.google.com/notebooks/data_table.ipynb>data table notebook</a>'\n",
              "            + ' to learn more about interactive tables.';\n",
              "          element.innerHTML = '';\n",
              "          dataTable['output_type'] = 'display_data';\n",
              "          await google.colab.output.renderOutput(dataTable, element);\n",
              "          const docLink = document.createElement('div');\n",
              "          docLink.innerHTML = docLinkHtml;\n",
              "          element.appendChild(docLink);\n",
              "        }\n",
              "      </script>\n",
              "    </div>\n",
              "  </div>\n",
              "  "
            ]
          },
          "metadata": {},
          "execution_count": 26
        }
      ]
    },
    {
      "cell_type": "markdown",
      "source": [
        "## csv output"
      ],
      "metadata": {
        "id": "VrzZZGNu_0CJ"
      }
    },
    {
      "cell_type": "code",
      "source": [
        "q_ans = test['q_sub']\n",
        "r_ans = test['r_sub']\n",
        "q_ans = ['\\\"' + q + '\\\"' for q in q_ans]\n",
        "r_ans = ['\\\"' + r + '\\\"' for r in r_ans]"
      ],
      "metadata": {
        "id": "9GuFxQA-_38Y"
      },
      "execution_count": null,
      "outputs": []
    },
    {
      "cell_type": "code",
      "source": [
        "print(q_ans)\n",
        "print(r_ans)"
      ],
      "metadata": {
        "id": "7p-mDNyZBm5E",
        "colab": {
          "base_uri": "https://localhost:8080/"
        },
        "outputId": "20418397-9144-4877-f2da-231340cd649d"
      },
      "execution_count": null,
      "outputs": [
        {
          "output_type": "stream",
          "name": "stdout",
          "text": [
            "['\"<s>\"', '\"a private screening of a film is a private screening -- they can boot anyone out that they want.\"', '\"The guns these people have, they don\\'t register, they don\\'t care, they\\'re probably stolen, they\\'re probably obtained illegally, in many cases they\\'re prohibited, `` commented Chief Hanson. sinjin - What\\'s with the probably ( s )? Have they attempted to trace handguns recovered from criminals? Wonder how many trace right back to the US?\"', '\"You don\\'t need no stinkin\\'motive! You got a gun? You got to keep it loaded! And, you got to shoot it -- at people! \\'Cuz you got to love your gun and you got to shoot it to shows it that you loves it! And you got to shoot at people to prove your undying love!\"', '\"This is the argument concerning \\'choice\\'that, to me, rings untrue and is a potential weak point. The whole \\'when does life begin/when is it human?\\'isn\\'t where those that favor woman\\'s rights should stake their claim. I support a woman\\'s right to control her body and I feel that one of the best ways to \\'judge\\'a culture is to see how they treat women. I think that it is imperative to allow a women to control her body, regardless of when life begins, etc... Now I also abhor abortions and I extol responsibility. However, # $ % ( happens and a woman MUST be able to retain the ability to decide what to do in the event of an unexpected pregnancy. Now, considering responsibility important, I can understand and appreciate time limits and whatnot, because that is humane. But we should call a spade a spade... a fetus is or will be human and an abortion does \\'kill\\'it. Its horrible that it happens, but we have to allow women that right.\"', '\"My point is, people are prepared to admit that the creation story, and the story of noahs arc are metaphors.\"', '\"The fetus does not have a positive right to suck nutrients out of the woman\\'s body against her will.\"', '\"Really, so you are totally knowable? See above. You are both knowable, and unknowable. Or are you proposing that I can know everything about you? Show me the science, rational-boy.\"', '\"it seems as though the central claim is that nothing `` intelligent `` and no `` information `` can be be created except by a creator, and that the world as we know it could not exist without this information. Further to that, the complexity and `` order `` of the universe is evidence of the work of an intelligent designer. Is that fair enough?\"', '\"A 17-year-old gunman dressed in black opened fire at his former high school in southwestern Germany on Wednesday, killing at least 15 people before police shot him dead, officials said.\"', '\"In principle, there is no difference between the two as the result is the same, a dead baby.\"', '\"This book stands alone among many other publications of similar vein, in that it is written from a standpoint of a professional scientist whose arguments, besides their clear logic, are bolstered by facts of science. Stenger convincingly shows in this book that a combination of factual evidence with a simple logic makes the belief in the supernatural entities untenable. A valuable addition to every school library.\"', '\"One of the guns used at Columbine was a Tec-9, a semiautomatic handgun once specifically advertised by its manufacturer as the most popular crime weapon in America.\"', '\"What in God\\'s name are they so bloody afraid of?\"', '\"The thing I don\\'t like about abortion is that it is the willful and intentional killing of an innocent human being.\"', '\"I can\\'t see ID theory, which seems to me to be essentially a form of theistic evolution, being compatible with Young Earth Creationism, or for that matter, with any form of literal Creationism.\"', '\"The phrase `` # # # # hits the fan `` refers to what would happen if such an event occurred, a big mess.\"', '\"It seems for some, the birth canal somehow magically transforms the unborn into a person.\"', '\"Assuming the article is correct, these findings certainly constitute a revision to a broad part of genetics, but principally they are just going to give more scope for evolutionary change to cross-overs / translocations / recombination.\"', '\"At least we\\'re on the right side of the issues, [ trying to shoot down another big-government, bureaucratic, wallet-busting, job-killing, liberty-gutting abortion.\"', '\"There are quite a few gems in there. Quite a few people who God supposedly `` divinely `` helped, but he didn\\'t mention any problem with their polygamy\"', '\"The selective breeding by humans towards a desired trait in a plant, animal, or other organism which is of value ( usually economic ) to the humans. The process operates on the same principles as natural selection. But man has a purposeful process. This would mean \\'nature\\'also has purpose in it\\'s\\'selection\\'process.\"', '\"As usual, the Brady campaign is lying. The senate voted by a narrow margin to attach the riders to the manufaturers liability bill. Then the senate voted and the bill as a whole was defeated 90-8. Even if it HAD passed the senate ( which we knew it wouldn\\'t ) it was expected to be killed in the house. Here is an article on it : http : //www.news-miner.com/Stories/0,... 993580,00.html The decisive moment seemed to be during the later arguments on the bill. While they were debating whether or not to ammend the bill to include the assault weapons ban, Feinstein ( d-california ) claimed that the assault weapons ban legislation `` has reduced the proportion of banned assault weapons traced to crime by two-thirds. `` During final arguments before the completed bill was voted on, Craig ( R-Idaho ) and Young ( R-Alaska ) got up there and completely shredded her numbers. IT was made very clear by the end that she was a liar. God, I love Cspan! Of course, the Brady campaign has labeled this a `` victory ``. They can have all the victories like that ( where nothing at all happens ) that they can handle. Teh house is still expected to pass the gun makers protection bill WITHOUT the riders. Senate leadership suggests that it can be fully expected to pass in the senate `` the democrats simply don\\'t have enough votes to stop it ``.\"', '\"So, can I not be considered `` ignorant `` for not thinking that evolution has been proven and not be considered `` anti-Christian `` for not thinking that the Earth is exactly 6000 years old.\"', '\"She mentioned that she has recently become a Christian and that HER god is one that supports a womens right to choice.\"', '\"My contention is this : since joining the forums, Chuz has posted ( 1 ) pro-life arguments based on the ( 2 ) initial assumption of `` the fact that a human individuals life biologically begins at conception ``.\"', '\"As I understand, some people have claimed that the civil war was justified because the people in the southern states were exercising their 2nd amendment right to rebel.\"', '\"everyone that believes that God created the earth is an XXXXX?\"', '\"Collins takes pains to acknowledge that much of human nature likely has little to do with genes and is more a question of culture and environment influencing growth and behavior.\"', '\"In his encyclical Humani Generis, my predecessor Pius XII has already affirmed that there is no conflict between evolution and the doctrine of the faith regarding man and his vocationÃ\\x82â\\x80¦ Today, more than a half-century after the appearance of that encyclical, some new findings lead us toward the recognition of evolution as more than an hypothesis.\"', '\"voting according to the rules of the California Constitution is not imposing any individuals will or morality on anyone.\"', '\"In my experience, creationist scientists were always creationist long before they were scientists. On the other hand, there are lots of scientists who were once creationists, before they became scientists.\"', '\"In states that have enacted bans against gay marriage. Divorce rates of traditional marriages are on the rise in such states, while declining in states which allow gay marriage :\"', '\"DNA sufficiently similar and sufficiently widespread for the attainment of our target sequence to be statistically feasible via known mechanisms ( mutation etc ).\"', '\"The main reason, however, is the \\'less guns in the hands of criminals \\'.\"', '\"do you believe the fetus is a person? Why?\"', '\"Can one girl kill herself or do harmful things to her body if she chooses... even against the other heads will? `` Along those lines, do you support people\\'s rights to kill themselves?\"', '\"You wrongly use Occam\\'s Razor as well. If the document is well preserved, has many copies, has copies relatively close to the original, etc, then the most likely assumption we can make is that the document itself is a valid source.\"', '\"And while were at it, let\\'s limit education to just high school students, Gay Rights to just gay people, Religion to Roman Catholics, Gun Control to people who own a gun, Sports to Jocks and Fun debates is now limited to people who are not boring. Wow, I\\'m not going be able to do too much. I should shut-up while I\\'m behind.\"', '\"There are plenty of people who have constant access to firearms, and yet never display violent tendencies.\"', '\"we have yet to see any evolution of new body parts or its so called `` steps `` if evolutionists want to suggest that a few decades is too little time\"', '\"It took me a few years to see through the fairy tale of evolution and see that God was the only true creator.\"', '\"No Montalban, fallacy or falsity will not persuade me to think a true claim is false.\"', '\"Gay sex sin is a perversion and an abomination according to the Bible.\"', '\"I don\\'t believe in any gods, but thankyou for assuming anyone who disagrees with your ridiculous assertions about proving gods non-existance must be a theist.\"', '\"Normal folks, people who are not just trying to * * * * on somebody elses religon or force their religon down somebody elses throat seem to be pushing for a secular and neutral classroom.\"', '\"What\\'s the difference between humans and chimps? According to the blowhards in the scientific world for the past 60 years, they said it was genetic mutations.\"', '\"No, God didn\\'t say this BUT thanks for responding to a post that is over 5 years old.\"', '\"Your question, which has been pointed out already, has a theological basis - God is supposed to have given us dominion over the rest of creation etc. But what separates us from other mammals ( if we restrict the question to that class of vertebrates ) is reckoned to be `` self consciousness `` - the human mind that can deliberate upon and analyse its own thought processes.\"', '\"God made the animals. He said, `` Hey, Adam needs a helper. `` He brought the animals to Adam to name. He couldn\\'t find a helper for Adam. He then took a rib out of Adam\\'s side to create Eve. This was done on the sixth day. God created them both on the sixth day, Adam first, then Eve out of Adam\\'s side after he had Adam name the animals.\"', '\"Actually, with more data that changes the number of assumptions required, it is possible to reach a greater degree of certainty about something.\"', '\"If the Constitution needs to be changed, the founders instigated a means to do so.\"', '\"I had the realization that to the radically religious rightwing wingnuts, Guns are God Almighty.\"', '\"Have you ever been responsible for a child? A real child? Not your imaginary children? 3. Ever you ever been responsible for a real human being?\"', '\"Are you saying that my position is non-christian?\"', '\"Rights afforded born people need not descend from religiously inspired `` belief systems ``.\"', '\"I am sure you can also keep morphine with more responsibility and greater safety than a hospital.\"', '\"I can\\'t take men\\'s position on abortion seriously b/c they can spout off all they want ; however their viewpoint must be affected somewhat by the fact that they will never actually have to make the decision themselves.\"', '\"that standard doesn\\'t show that gun ownership is a God-given right. I don\\'t know of any animals that own guns. Also I think that I would have a better chance at preserving myself if I lived in a society that had more gun-control. Look at Canada- it has less homicide and less gun violence than the US and more gun-control. So I don\\'t see how gun-control interferes with self-preservation.\"', '\"I personally think conservatives undermine their stated adherence to originalism with their moral opposition to abortion influencing their legal thinking with the `` it\\'s not in the Constitution `` position.\"', '\"It used to mean that, now it is just a screen name. I was a big fan of AMD back when I was invested in them. They are still a decent company but they can\\'t seem to keep up with Intel. I like your screen name as well. IÃ\\x82 â\\x80\\x99 m guessing you got the idea from Braveheart which is my favorite movie of all time!\"', '\"If you had a rational thought on the subject, I would respond to this statement, but I won\\'t even dignify your ramblings with a second thought. You\\'re pitiful.\"', '\"U.S. court records from southwestern states clearly show that illegal gun traffickers involved in smuggling firearms to Mexico seek semiautomatic assault weapons, armor-piercing handguns, and 50 caliber anti-armor sniper rifles from U.S. gun shops according to a new report released today by the Violence Policy Center ( VPC ). & # 8220 ; The NRA has received a free ride with its undocumented assertions, & # 8220 ; Rand said. & # 8220 ; Now, for the first time, the American people can see detailed information on the types of military-style firearms illegal traffickers are buying in the United States and shipping to Mexican criminals. This is merely a snapshot of the kind of detailed information about tens of thousands of smuggled guns that the federal Bureau of Alcohol, Tobacco, Firearms, and Explosives has in its files but no longer releases to the public or our elected representatives on Capitol Hill. & # 8221 ; VPC - Press Release - ( 04/15/2009 ) - Mexican Gun Traffickers Easily Obtain Military-Style Weapons from U.S. Civilian Gun Market, New Analysis of Federal Criminal Court Records Confirms its obvious America needs alot more gun control if mexican criminals have no problem buying things like cop killer handguns and 50 caliber and assault weapons in US gun shops!\"', '\"The interesting thing about the \\'quality of life ethic\\'is that, in a pro-choice framework, it means that we can\\'t degrade anyone\\'s quality of life without their permission.\"', '\"I am interested in your comment that natural selection is consistent with creationism.\"', '\"Your selective memory is at work again. As I recall, in Waco military vehicles and equipment were used against the Branch Davidians.\"', '\"the mere fact that bad things happen does not disprove the ineffectiveness of laws that are intended to prevent those bad things from happening.\"', '\"Now, anthropology, archeology, and forensics are constantly deciding that entities are manufactured by an intelligent entity -- humans in this case.\"', '\"\"', '\"What I\\'m asking really is that given they\\'re promoting Jewish scripture, why are they ignoring Jewish interpretation?\"', '\"In spite of this, opponents of a marriage amendment acted as if defeating Bush would spell the death of such a proposal. Apparently, it\\'s easier to identify a single scapegoat or hold up an unworthy strawman for condemnation than it is to recognize that there is an overriding public sentiment against alternative lifestyles being officially sanctioned.\"', '\"No, I\\'m saying it\\'s OK because abortion is legal in this country. I was just pointing out that it\\'s also legal to execute a convicted killer, and it\\'s fine and dandy to declare wars where many people will die. \\'\\' Thall shalt not kill, unless there is a war ``.\"', '\"Now, it\\'s RNA that seems to be `` running the show. ``\"', '\"it\\'s senseless not to believe that Abortion is Planned Parenthood\\'s # 1 reccomendation.\"', '\"No, this is not about abortion, and I think that is very clear. If I wanted to discuss abortion, then I would mosey on along to the abortion forum and post there. The point about abortion that I brought up is that it questions the premise offered by thelmoose with respect to juvenile development.\"', '\"Rational is as rational does. If it is our goal to raise peopleÃ\\x82 â\\x80\\x99 s consciousness to the wonders of science and the power of reason, then we must apply science and reason to our own actions.\"', '\"The universe has billions of stars, billions of planets, billions of light years, billions of so many things, yet it only has 5 colors?\"', '\"So another physician has been murdered for making it possible for women to actually use their constitutional right to choose an abortion.\"', '\"If you answered yes to any or all of these situations : In the first case, you would have killed John wesley, one of the great evangelists in the 19th century.\"', '\"Stop the flow of guns from the United States, he said, `` and the gasoline for the crimes\"', '\"There are people carelessly animals throughout the world, which causes them to become endangered, or worse, extinct. If all of this continues, our world could end, without notice.\"', '\"Better yet, make health insurance coverage, for all but the most trivial of elective procedures, illegal. Treat it for the corrupt and murderous racket it truly is.\"', '\"Marriage has become a state institution as much as a religious one, and I see no practical way to undo that at this point.\"', '\"I wasn\\'t oversimplifying anything, only stating the obvious in that a whack job intent on murdering people can do it very effectively without a gun.\"', '\"if you get a muslim in here making similar claims to the claims that Christianity makes, you will get an equal reaction from the same people who critize Christianity\"', '\"That it has been `` open to all for years `` carries no weight whatsoever. It is church property -- which is essentially the same as a church saying it doesn\\'t want gay ceremonies in its sanctuary which churches are free to refuse. Maybe churches are imposed upon in such ways in Canada, but not in the US. Given these matters, I\\'m not sure the HRC is being any more honest than the video they are responding to.\"', '\"I would expect nothing less from the women in my life.\"', '\"So you claim not to know what my sources are ( why else would I have to provide them for you? ), but also claim to know that half of them are from blogs?\"', '\"\"', '\"You are implying that men are superior to women, because you are wanting to punish women for having sex, when if men had to go what women were going through, im sure you \\'d be on a different side. You talk only of punishing pregnant women, when you do not talk of men.\"', '\"It\\'s been widely reported, even on liberal-run media, that states with \\'conceal carry laws\\'have had a reduction in overall crime and more dramatic reductions in specific crimes like murder, etc.\"', '\"So, you have no problem with the fact that this is abortion and was caused by god?\"', '\"Non-random ( or environmentally cued ) amounts of variation is not the same as directed variation.\"', '\"i am not going to get attitude w/ you.. i don\\'t see a piont in getting mad at you\"', '\"Many on the religious right claim a belief in the existence of Satan and blame him for many of the evils in this world. I am curious why people believe that Satan is responsible for those evils, not men and their weaknesses.\"', '\"Again, this is evidence only to suggest not prove. I can not prove nor can anyone else. However, to say that there is no evidence even to suggest it is way beyond the realm of logic.\"', '\"Among the criticisms of Kettlewell\\'s original predation experiments\"', '\"Sorry for the long delay between posts lol. This is a great story from QLD my neck of the woods Four to stand trial on murder charges | Australia Crime | Robberies, Assaults and Convictions in Australia | Finda This was just shown on ACA with the brothers and wife telling their untold story What they did not tell you is that both brothers were torchered for hours. What is the best part of this story though? Once they phoned the police saying their dad had just been shot and was dead and the men were coming after them it took the police 9 HOURS TO RESPOND!!!!!!!!!!!!!!!!!!! 9 HOURS, Not minutes HOURS! But since these victoms were not allowed to own a gun to protect themselves they were actually much safer!\"', '\"Now, my anti social side is pushing me to pass on a secret regarding AP rounds.\"', '\"it\\'s senseless not to believe that Abortion is Planned Parenthood\\'s # 1 reccomendation.\"', '\"Well for what it\\'s worth, the police prefer to use AR-15 Carbines, MP-5 9mms, and either Mossberg or Remington 12ga when they are serving a no-knock warrant on your house ( or the wrong house next door ) in the middle of then night.\"', '\"Thus were both the daughters of Lot with child by their father.\"', '\"Well, pro-choicers, I wish all of you had never been born. And if my account is banned for that statement, itÃ\\x82 â\\x80\\x99 s simply proof that the moderators here are pro-life.\"', '\"If the homeowner got close enough to strangle the burglar, he certainly could have shot him as well.\"', '\"Congressman Alan Grayson, Florida : Think Progress GraysonÃ\\x82 â\\x80\\x99 s Right : Under The Republican Plan,\"', '\"They should be discredited, and their hypocrisy should be exposed.\"', '\"Ah, how icky the hypocrisy smells. Louisiana Republican Senator David Vitter, one of the leading proponents of a constitutional amendment to ban same-sex marriage, has just apologized for his `` serious sin `` after his phone number appeared in the records of a DC Madam who ran an escort/prostitution service. Vitter had this to say of his connection to the prostitution service : `` This was a very serious sin in my past for which I am, of course, completely responsible. Several years ago, I asked for and received forgiveness from God and my wife in confession and marriage counseling. Out of respect for my family, I will keep my discussion of the matter there-with God and them. But I certainly offer my deep and sincere apologies to all I have disappointed and let down in any way. `` During his campaign for the U.S. Senate, Vitter had been accused of going to a prostitute, a charge that he then vigorously denied. Now, of course, he\\'s been caught, and he admits it. Meanwhile, Vitter expressed strong support last year for a proposed constitutional amendment to ban same-sex marriage. He compared same-sex marriage to hurricanes Katrine and Rita. He said, `` I don\\'t believe there\\'s any issue that\\'s more important than this one. `` It is always amazing when the self-proclaimed defenders of supposedly traditional marriage, the politicians who bolster their campaigns by appealing to popular anti-gay prejudice, are exposed for the hypocrites they are. In this case, this conservative Christian who campaigned against gay rights just couldn\\'t keep his own pants zipped. And to make sure he got elected, he lied about it until he was caught.\"', '\"Satan was invented to explain why there is evil in the world.. the dualism.\"', '\"Though just in the case of an accident where maybe an older sibling had carelessly left one lying around, it is understandable that mistakes happen.\"', '\"Even new Justice Sotomayor, who claimed she ruled by precedent will be bound by the Heller Decision if she remains true to her purported philosophy.\"', '\"Shooter, so a cop is reporting to the scene and there you are packing a gun. How is the cop to know you\\'re not the shooter?\"', '\"It seems to me that the non-physical, spiritual entity otherwise known as `` you `` or `` me `` was created somewhere near the moment when our parents\\'sperm and egg made a connection.... both of which are physical entities, but could certainly have a spiritual component to them, thus creating a new spiritual entity.\"', '\"If a state allows gay marriages their spirituality is in the toilet.\"', '\"I strongly disagree with gay marriage anyway. It just isn\\'t marriage. It is hypocritical and just plain disugusting.\"', '\"And in November the democrats will lose full control of the house and senate, and all of these obamanations will be undone one after another. The American people strongly opposed health care reform and spoke out loudly against it, and they were soundly ignored. No democrat is safe come November. They lost in 1994, they \\'ll lose in 2010 again... and this time it might take decades for them to regain any measure of control. Yes change is coming, the right kind of change. The change from liberal socialists to conservatives who will undo what went wrong.\"', '\"Yeah, stupid Rosa Parks. What was she thinking? She didn\\'t realize the price of acting outside the law.\"', '\"But if you can legally buy a gun for that purpose, it means that your attacker is that much more likely to be armed as well.\"', '\"Jyoshu\\'s explanation spelled out a theoretical approach, but the actual application to this approach shows prejudice and discrimination against gay people. Not just gay people who engage in gay behavior, but gay people.\"', '\"No Electrolyte, science lies! here is the undisputed truth : Noah and his three sons traveled the globe, collected two representatives of each species ( or seven of each clean species depending on the chapter ). They crammed these critters in a sea worthy vessel made exclusively of gopher wood. The gopher wood was structurally sound enough to support the weight of said critters. The ark floated about like a cork for 40 days, etc whereupon the cargo was released to repopulate the world to present population levels. Meanwhile, there must have been provisions on the Ark for marine animals and fish as the rainwater would have undoubtedly altered the water pH and saline content. Also not mentioned is the fact that Noah and sons must have collected seeds from every PLANT on earth because I am personally not aware of many plant types that can survive completely submerged for 40 days. So you see, it is much harder to believe in a fossil record and sediment deposit stratigraphy, than in a giant boat crammed to the gills full of elephants, octopus, and cacti. I hope I cleared this up for everyone. We have found fossils, but they are all fake.\"', '\"Sorry if this is the wrong forum, but a weapon is a weapon so here I am.\"', '\"the newborn must obtain its own oxygen and its own nourishment.\"', '\"Now look here, boy, I\\'m tired of you spreading this ignorant bull * * * *. I came from the UK, I lived there most of my life, I saw the truth that you choose to ignore because it\\'s inconvenient for you.\"', '\"Unfortunately, as with so much of the pro-choice/pro-life debate, the pro-life people distort the picture in order to try to win their arguement.\"', '\"Because there are only two choices, if one is wrong somehow, the other is therefore correct. The problem is that there isn\\'t only two choice for sure. Besides, science is wrong all the time, it doesn\\'t prove that creation is right.\"', '\"There\\'s just enough truth in that statement to keep me from saying it\\'s false, but if I analyze it, it will help make my point ; The word `` evolution `` has such a broad meaning that it doesn\\'t have to mean atheism, but it since it is practically the only weapon that atheists have to combat the religious worldview, that\\'s what it often DOES mean.\"', '\"Then, there are various fossilization mechanisms. I couldn\\'t find any good information about the rates of said mechanisms, so I thought this thread might start some good debate on the subject because of that. Now, how long did the fossilization take? Did it take 10 or 10,000 or 10,000,000 years? Are the fossils we see all the result of one big \\'tragic\\'event for all, or little \\'tragic\\'events for each? Any thoughts?\"', '\"The IRA comes to mind. Or wasn\\'t I supposed to mention that? Besides, I know a bit about this. The Filipinos are very live and let live kind of people. These are Muslim extremest who don\\'t cotton very much to the Christian Government. The Filipinos usually just leave them alone. From time to time they reek havoc. Personally I would just Nape the area and be done with them, but Hey, that is just me!\"', '\"Of course, they threw in that he\\'s a prof. of Electrical Engineering - they couldn\\'t help blow a little smoke to haze the issue.\"', '\"Yes, they were confiscated, but they were not `` legally `` owned, as the guns themselves were illegal.\"', '\"If evolutionists were honest, they would admit this simple truth. And since this IS the simple truth, this destroys the silly myth that humans ever evolved from something other than what they\\'ve always been. Monkeys, no doubt, are no different than humans in this respect. Monkeys don\\'t generally have problems with their private parts being functional.\"', '\"It is a rare event. Other than self-defense, the use of a gun against another human is socially undesirable.\"', '\"Getting back to the original question... yes, i think it is very reasonable to be against abortion and for a war.\"', '\"By creation we mean the bringing into being by a supernatural Creator of the basic kinds of plants and animals by the process of sudden, or fiat, creation.\"', '\"PLANET OF THE APES THING= Unfortunatly for us, yes. And very likely if we just disappered.\"', '\"I think you are misinterpreting what I am saying. For example, we would still exist without a lung or a heart if that lung or heart were replaced by artificial lungs or hearts.\"', '\"Of course, what the mind is capable of creating, it can then also * heal * as well, thank goodness!\"', '\"To be honest, Jito and Simone have rather poor arguments that normally resort to calling someone a woman hater or something like that. AnotherOpinion.. a pro choice person... has presented the only consistent argument on the pro-choice side. Granted you haven\\'t been here very long so I really can\\'t comment too much on your arguments.\"', '\"No, I wouldn\\'t want a law like that, and I already said that. It would just lead to massive problems such as revolts by the older folks against the younger folks. And, I wouldn\\'t want to die.\"', '\"So if you\\'re really interested in enforcing gun laws, don\\'t support the NRA.\"', '\"Fortunately, your beliefs are not facts.\"', '\"Guns were used in 4,120 robberies last year - a 10 % jump - including a 9 % rise to 1,439 in the number of street robberies where guns were used.\"', '\"I even pointed out that it appeared that Dembski thought that there were only three laws of thermodynamics and claimed to have discovered a 4th ( which he of course named the 4th law of thermodynamics ). He seems unaware of the zeroth law.\"', '\"Kansas is now the latest state to ban govt. recognition of gay marriage.\"', '\"This is obviously incorrect since Earth and Mars are were created only 6,000 years ago. And how did they know that Mars would be so close this year? I have other questions too. How do they know that Pluto has a 249 year orbit of the sun since it wasn\\'t discovered until 1930. No one has seen it orbit the sun yet. How did they know that it would actually come closer to the sun than Neptune in 1979 and move forther away again in 1999? They told me that when I was young. But no one had ever seen it. It was just speculation - a scientific theory, right??\"', '\"How is it inconsistent?.I do not change my stance ever, i am personally against abortion, but i do not have the right to stop anyone else making their choice.No inconsistincy there\"', '\"Any woman who has an abortion for convenience only ( not raped, no incest, no danger to the mother\\'s life ) shall have both ovaries removed. What do y\\'all think?\"', '\"Anyone who sticks to beliefs that a god created the earth just 6,000 years ago is an XXXXX. People are free to believe that a god created the Earth billions of years ago though without deserving the `` XXXXX `` label.\"', '\"One thing I learned a while back is that a conservative will rarely, if ever, post anything that is contrary to his or her beliefs and the same can be said for the liberal.\"', '\"But are there other things that could have been done to prevent the invasion before it happened?\"', '\"Whenever a church strays from the entire word of G-d, then His blessings are removed and the church becomes noting more than another social club.\"', '\"Did she do anything wrong?\"', '\"If we do exist, there are only two possible explanations as to how our existence came to be. Either we had a beginning or we did not have a beginning...\"', '\"A foetus is a stage in human development, something that begins at conception.\"', '\"Only as far as every murder is evidence of failure of homicide laws.\"', '\"Douglas Futuyma is a PHD at the University of Michagan. Douglas Futuyma\\'s research interests in evolution focus primarily on speciation and the evolution of ecological interactions among species.\"', '\"The legislature is required to consider constitutional amendments in a joint session until final action is taken. `` My reading is simply that if they don\\'t reach a conclustion in one session, they have to take it up again in the next one. If it\\'s going to pass, it has to pass in two consecutive years, so simply taking it up in year three and saying, `` Didn\\'t pass in two consecutive years, failed `` may be legit.\"', '\"The implication -- or outright assertion -- is that anyone who believes homosexuality is wrong is not progressive or enlightened.\"', '\"What exactly do you want people to debate you about, with regards to the topic?\"', '\"I hope BOA calls SEIU\\'s loan in full today and has pictures of any other trespassers who have a loan with BOA.\"', '\"If I bear witness of myself, my witness is not true.\"', '\"There is a very good book on this subject Starlight and Time if you are interested in what a brilliant scientist who believes in Creation has to say.\"', '\"There certainly is no consensus about the meaning of the Second Amendment and I, as an amateur historian, am certainly not going to force my own personal views on others. I will let the people decide through their elected representatives how much gun control is necessary in their own communities. ``\"', '\"There certainly is no consensus about the meaning of the Second Amendment and I, as an amateur historian, am certainly not going to force my own personal views on others. I will let the people decide through their elected representatives how much gun control is necessary in their own communities. ``\"', '\"If she supported bans on all guns then why would she say `` I know the sense of helplessness that people feel.\"', '\"Lott now admits he used a fake persona, \\'Mary Rosh,\\'to post voluminous defenses of his work over the Internet.\"', '\"I don\\'t see the size of the universe as having any implications one way or another, theistically speaking.\"', '\"My son\\'s father is gay - and I really don\\'t think you want to go rounds with me on whether his influence has been positive, marvelous, miraculous and amazing or, to quote you, `` destructive and confusing ``.\"', '\"Whether or not there are innaccuracies in the Bible is hottly debated, but it is not really the point I was trying to make. I was simply attempting to point out the different viewpoints, not debate on the validity of the Bible.\"', '\"REPEAL NEW RULES ALLOWING CONCEALED CARRY IN NATIONAL PARKS\"', '\"Sarah Brady is a straw purchaser then. She knowingly broke the law by buying a gun for somebody else instead of letting them go through the NICS check system. Who knows what else she\\'s done and who she\\'s supplied guns to.\"', '\"I just want to thank the Forum participants for making my Saturday quite nice.\"', '\"The death penalty assures that an incorragable criminal never has the opportunity to kill anybody else.\"', '\"At anyrate, the world isn\\'t over populated. The entire world can fit in the Island of Bali with each person getting 40 square feet of space.\"', '\"Many think third trimester is ok. The trimester thing doesn\\'t mean anything to me anyway... it has no medicial backing.... just means 3 periods of 3 months each. As for the labels, I don\\'t care either way... you want to call me `` anti-choice `` so be it. I am anti-choice. I don\\'t think you should have to choice to kill someone else. The ones that bug be are `` anti-woman `` or something like that. I don\\'t understand how saying everyone is worthy of living degrades someone... the only way this is possible is if you assume woman were above everyone else to begin with... in that case, I do agree you should degrade.\"', '\"In regards to who wrote these books, the best evidence we have leads to Homer. Therefore, we decide it is almost certainly Homer who is the author. This is undisputed.\"', '\"I hardly think that the sole or most important difference between a blastocyst/foetus/embryo and a born human is their place of residence.\"', '\"There has been a decrease in diversity ( probably due to global catastrophes ). This is the reverse of what evolutionary theory predicts.38\"', '\"There are in fact no transitional fossils known.\"', '\"This time, try and put yourself into the time the Bible was written.\"', '\"A union between two persons having the customary but usually not the legal force of marriage : a same-sex marriage.\"', '\"Obviously it would be difficult for any committee to double-check every allegation made in the intense controversy over Professor BellesilesÃ\\x82 â\\x80\\x99 book, Arming America.\"', '\"christianity is living a lifstyle patterned after the teachings, actions and philosophies of christ. `` Sure, not a bad definition. \\'\\' in order to do this, you must accept that the records of christ\\'s life are fact. `` Every single word in the gospels? No, not at all. Remember, the works which became the new testament were around for centuries before they were actually compiled into the Bible. And none of the originals still exist. Who knows what changes were made to the account of Jesus\\'s life before they were finally compiled. For example, look at Matthew 10:34 `` Do not think that I came to bring peace on earth. I did not come to bring peace but a sword. `` Doesn\\'t sound much like Jesus, does it? It certainly doesn\\'t fit into the picture that\\'s generally painted of Jesus. In the end the New Testament was written and compiled by mistake prone people. Some may believe that it\\'s the unadulterated word of God, but looking at the above passage it\\'s also easy to believe that it\\'s also the work of common people. The rest of the paragraph rather depends on accepting that line, and I believe I\\'ve shown that a reasonable person might not, so I\\'m going to skip to your next paragraph.\"', '\"it just is a whole bunch of ideas coming from some fat guys with no women in their life...\"', '\"Genesis 2 is what was passed down through Noah, in Oral history, so it would differ slightly, but that\\'s becaue of man\\'s error, not God\\'s.\"', '\"how can matter bring about something that is not matter\"', '\"So, how do they account for them?\"', '\"Organs, a nervious system, a brain, all these are the things that make us human\"', '\"Phil Kline is anti-choice and filed suit against an abortion clinic? If you are just posting an article then ok.... I just didn\\'t know if you were trying to make a point on something.\"', '\"What about other \\'rational\\'alternatives to your version of evolution ; such as that postulated by ID theorists?\"', '\"You \\'d be wrong. MOST people are NOT coddlers of criminals like yourself.\"', '\"Derived from the materialist Hobbesian view that \\'life/nature\\'is, `` A war of all against all. ``\"', '\"I mean if you can believe in God, the you must believe that He\\'s going to put what he means in the Bible\"', '\"They used to keel over regularly before modern medicine and my wife has been on medication for a thyroid condition ever since she delivered.\"', '\"First off this is not an accurate depiction of atheism. Atheism doesn\\'t dictate how the universe was created or what happens after death. It just says that there is no god.\"', '\"Doesn\\'t that seem hypocritical for them to scream about their `` rights `` whils at the same time denying others their right free speech and right to be beleived when telling the truth? ``\"', '\"Another recommendation calls for the FBI to notify local and state law enforcement every time a person attempts to buy a gun, but does not pass the background check.\"', '\"Sturm Gewehr `` ( pronounced-sturm ge-vare ) : D\"', '\"Isn\\'t evil the absence of good? ``\"', '\"Researchers from Knox College find that male college students who held a gun rather than a child\\'s toy for 15 minutes had elevated levels of testosterone\"', '\"i think slave holder\\'s asked a similar question to people who believed slavery was wrong. \\'\\' what are they worth anyways?? why do they deserve to be treated like us? `` hmm\"', '\"Supreme Court Justice Stevens also made a similar criticism. \\'\\' With emphasis on the word \\'genuine,\\'Stevens said that\\'a genuine judicial conservative\\'would not have inserted the Court into the \\'political thicket\\'of the gun rights debate as Scalia had done. ``\"', '\"They only need 1/4 of the legislature, so they \\'ll probably get that. But if it actually gets to the polls? The conservatives took a big hit when they ran around screaming `` If gays get married society will collapse and we \\'ll all be doomed!!! 11! 1!! `` and then nothing happened. And of course the most organized group in Mass. opposing gay marriage is the Mass. Catholic church, and people aren\\'t going to take kindly to a bunch of child rapers telling them what\\'s right and wrong. The anti-gay side really doesn\\'t have much to work with ; it \\'ll largely be a contest of good will and common sense vs. scare tactics, and the scare tactics have already been proven wrong.\"', '\"I\\'m curious as to everyone\\'s opinion on this. My opinion is that if one\\'s right, the other must be too.\"', '\"I\\'m not against concealed carry in principle but open carry seems silly to me. I smell posers.\"', '\"The latter, of course. I\\'m not anti-marriage. In fact I\\'ve been `` institutionalized `` with the same woman for 26 great years so far. I just don\\'t see the benefits to society for promoting gay marriage.\"', '\"The `` black market `` doesn\\'t deal in homemade weapons. They\\'re stolen for the most part too.\"', '\"You\\'re telling me that evolution isn\\'t biologically true?\"', '\"There\\'s an abortion pill? News to me. I thought there was only the morning after pill and the birth control pill. Neither of which are even close to being an `` abortion pill ``.\"', '\"What do you expect from the spawn of Phyllis?\"', '\"It\\'s kind of silly that you call it a `` clump of cells ``, as we are all clumps of cells!\"', '\"NY Assembly Passes Marriage Equality Bill The New York State Assembly just voted to pass the marriage bill by a vote of 85 to 61.\"', '\"It\\'s not nice we have to arm ourselves like the soldiers in Iraq, `` said Sgt. Laurie Pfeil, who supervises a sheriff\\'s road patrol in Palm Beach County and is now certified to carry a semiautomatic AR-15 rifle on the job. It\\'s the civilian version of the military\\'s M-16 used by U.S. soldiers in Iraq.\"', '\"Lapatinib is not a cost-effective use of NHS resources when compared with current treatment. \\'\"', '\"I\\'ve also been explained how random mutations get selected, which supposedly leads to evolution. I don\\'t buy that either.\"', '\"I\\'ve been telling this board for months that the gene is not the player in biological change that everyone thinks it is.\"', '\"Our ways of learning about the world are strongly influenced by the social preconceptions and biased modes of thinking that each scientist must apply to any problem. The stereotype of a fully rational and objective Ã\\x82 â\\x80\\x9c scientific method, Ã\\x82 â\\x80\\x9d with individual scientists as logical ( and interchangeable ) robots is self-serving mythology\"', '\"Sarah Brady hates guns and wants to ban all firearms from private possession, which is why she bought her son a hunting rifle for Christmas.\"', '\"Men ( and women for that matter ) aren\\'t `` created `` equal.\"', '\"Life comes from Life ( basic science ) yet, evolution breaks that rule...\"', '\"Before reading this, please know that I make no value judgements on abortion.\"', '\"That makes my point, thanks! ( Of course you didn\\'t have them as part of a gay couple, if that\\'s the point you were trying to make )\"', '\"1 )... 2 )... 3 )...\"', '\"I would consider a transitional fossil one which contains parts from both the upper and lower class evolutionary forms it links. However, it must contain many of these, and I imagine a few would have `` melded `` during the process.\"', '\"What did the bear replace? 2 ) What did the bat replace? 3 ) What did the elephant replace? 4 ) What did the human replace? 5 ) What did lions replace? 6 ) What did Hippopotami replace? 7 ) What did the ape replace?\"', '\"[ snip ] of unsupported, rambling assertion.\"', '\"The Law of Angular Momentum states that if an object breaks apart in a frictionless environment, then the fragments will all spin the same direction.\"', '\"Please show me an example of a peppered moth that changes from dark to light or light to dark.\"', '\"at energy occurs in the human body does not address the question of life itself.\"', '\"The `` methodology `` of science is not materialism/mechanism/darwinism, but simply empiricism leading inductively/abductively to hypotheses regarding regularities in causation in nature that can be tested via the predictive experimentation of the scientific method.\"', '\"Getting back to the abortion debate,\"', '\"Interestingly, those injured in the Virginia Tech shooting and those who lost loved ones have spoken most vigorously against guns on campus.\"', '\"Change Nobody Believes In A bill so reckless that it has to be rammed through on a partisan vote on Christmas eve.\"', '\"Hopefully this signals a shift in his ranks toward a higher view of life and that abortion is, ultimately, a bad thing.\"', '\"We\\'ve got a major problem and it\\'s not with the legislature, it\\'s with the courts, `` Cuccinelli said. \\'\\' Because of these sorts of rulings... we get a bunch of judges that want to write their own policy into the Constitution. ``\"', '\"Not only that but the whole theory of evolution is a result of changes in genes ( or alleles ).\"', '\"We have arranged the groups in a traditional way with the\\'simplest\\'forms first, and progressively more complex groups following.\"', '\"The title suggests that either pathway is possible. Yet no evidence has been presented to suggest that either pathway is possible. You presented a piece of evidence that suggested that perhaps it could be ( in simplified terms ) `` apes to man or man to apes. `` Apes are not monkeys. Monkeys are not apes. Both are primates.\"', '\"It seems to me the corollary of the phrase `` abortion is murder `` is `` miscarriage is manslaughter ``, and that any consistent pro-life advocate must urge any mother who accidentally loses her child due to actions she undertook, be charged with manslaughter.\"', '\"It is easy to look at such a vote and quote the slogan `` a government by the people and for the people ``. But realistically, a government by the people is not necessarily a government for the people, in fact, it rarely is. Such government is only for the people if the majority votes in a fashion that is in the best interest of the people, which it generally does not. A system of government by the people ( democracy ) will rarely be for the people unless the power of the majority is checked. On the state level, it largely is not checked. A government by the people almost always creates tyranny of the majority if the majority\\'s power is not held in check. Democracy may be the best form of government to protect liberty, but pure democracy, majority rule, will be the first to destroy it.\"', '\"There have been so many school shootings over the last 40 years that researchers have been able to develop a profile of the typical mass murderer.\"', '\"I was requested to start a new thread in which pro-gay and anti-gay marriage positions could be debated without posters being called `` homophobes ``, `` gay bashers `` and `` bigots `` simply because they don\\'t favor gay marriage.\"', '\"Since no-one has ever observed the process of evolution at work and can not even prove that this process is an on-going endeavor, are you not teaching your opinion, sir?\"', '\"Gun control laws by design are meant to kept inner city citizens ( i.e. black ) from owning guns... Liberal terms such as `` saturday night special `` all have racist undertones. Also since the majority of gun violence in the US is minority on minority... Who are these laws meant to target?\"', '\"You do realize that their product is fiction don\\'t you?\"', '\"Where is the evidence for an American-style `` culture of fear `` in India?\"', '\"the type of atheism you are talking about here requires faith. If you say `` I know there is no god, `` this statement requires faith. You have not observed anything that would lead you to reason or deduce that there must not be a god.\"', '\"If Miller is genuinely disturbed about `` atheists in the scientific community who routinely enlist the material findings of evolutionary biology in support of their own philosophical pronouncements ``, why doesn\\'t he distance himself from them, in political matters?\"', '\"Special Agent Newell never said `` 17 % came from the US ``. The author has as much trouble with the stats as you. 17 % of the total have been traced to the US. We don\\'t know the percentage of the total that did indeed come from the US but is untraced or untraceable. See the difference?\"', '\"A PRACTICAL MAN \\'S PROOF OF GOD The existence of God is a subject that has occupied schools of philosophy and theology for thousands of years.\"', '\"Biologically speaking, a human individual\\'s life begins at conception ``. I leave it to you to make your own arguments, rather than have me rebut a possibly misrepresented one.\"', '\"I got a copy of this in my inbox ( a opy of the brief that was filed ) and it really is bizzare. The brief literally makes an individualist, strict scrutiny argument ( which means it is a fundamental right since only fundamental rights are subject to the strict scrutiny doctrine ) then immediatly turns around and basically says `` Except in cases where the government wants to do somethign, then we apply intermediate scrutiny and it is not fundamental ``. Bizzare. Good to see you back, JP. I jsut saw a post from George. Are we all getting a little bored????\"', '\"My OP is about how evolutionists have developed a whole theory based on the fraudulent premise that genes control everything. How many times have you head `` it\\'s in the genes ``? But how can genes control anything if they don\\'t even control the cell they reside in?\"', '\"And the standard `` theistic evolution `` dance. Atheistic evolutionists can\\'t get along without it!\"', '\"Canada has `` hate `` speech/crimes laws and regulations and Canadian Christians, along with other people of faith, are being vehemently persecuted for speaking out publicly against the acceptance and promotion of homosexuality within their own country.\"', '\"Illegitimate children shall not be admitted to the assembly of the Lord, nor shall any of their generations, not even 10 generations down. `` - Deut. 23:2\"', '\"No they were trying to not just find a singel gene but overall genetic causality in general.\"', '\"I think that you\\'re right to point out that both human DNA along with consciousness is necessary since there is life that is conscious but doesn\\'t have human DNA\"', '\"And on the `` taking to task `` issue, did you ever see the `` gay forum `` that was held for the presidential candidates?\"', '\"Are you suggesting that if abortion were banned that abortion clinics that are already done will flood the US?\"', '\"TV shows, movies, magazines, etc. are loaded with gay characters as an agenda to make you accept them. Don\\'t buy it! Write to the media and tell them you won\\'t stand for it.\"', '\"The thing I am trying to get at is that there wouldn\\'t be a `` you `` left to have any concern if all of your mental processes were gone and all that was left was the living body sustained artificially.\"', '\"Echolocation is superior to vision because it works no matter how much light exists.\"', '\"Well, as the Christain Zealots say, `` Eve ate the apple ``.\"', '\"If man truly evolved from lower life forms over millions, or hundreds of millions of years of evolution claims then the creation story of Adam and Eve is a complete myth.\"', '\"Does the term `` evolution `` refer to ONLY the `` advances `` of life over time?\"', '\"Scientists have turned to chickens to help them understand why some people are struck down by severe allergies.\"', '\"Where would you find such a preposterous abuse of objectivity in the name of `` science ``\"', '\"Evolutionists fight and claw their way into people\\'s hearts by convincing them that evolution is a `` FACT `` -- - but it\\'s no more a fact than Republicans or Democrats claiming their political views are facts. If evolution was indeed a fact, it would not crumble so easily by a simple falsification.\"', '\"I do believe that anything that\\'s called a `` fact `` should be testable and/or observable\"', '\"Another thing that is quite clear ( or at least should be ) is that there will never be a way to `` fight `` TOE with God - it\\'s just not gon na happen... ever. TOE is chocked full of logical, reasonable, and, for the most part, valid scientific data. There is no logic in belief whatsoever.\"', '\"Facts cant really present themselves of wether God is real. Thats all religious opinion.\"', '\"While the comment by `` God-is-real `` may have been unwelcome, you merely prove his point by your prejudicial reaction\"', '\"I was pointing out that these paramilitary militia types are what gives the anti-gun control argument a bad name. Good for the Koreans.\"', '\"What you actually mean is `` higher view of fetus\\'``\"', '\"In a few decades, it might be possible that technological progress would develop an `` artificial womb `` that can nurture a fetus almost from day one until birth. How would that change the abortion debate?\"', '\"I believe in gun control ( and wrote this piece to satirize pro-gunners ) because I hate guns and want to see them all banned, which is why I own guns and also enjoy reading firearms-related literature. ``\"', '\"So gun owners are being discriminated for `` who they are. ``\"', '\"The chances are, most of us here are familiar with answersingenesis.org and other creationist-lie websites.\"', '\"Personally I would feel discriminated against, and `` morality `` is easily linked to religion ( especially in these cases ). If I were discriminated against on religious grounds I \\'d feel I have a pretty good case\"', '\"Did she of necessity have to go down that alley or was she out strolling like Charles Bronson in `` Death Wish ``? If it appeared a righteous shoot I \\'d say let her plead guilty to the minor charge of carrying without a CCW and be done with it.\"', '\"the realm of `` possible `` is limited. that is, after you\\'ve done everything that is possible, there\\'s nothing left but the impossible to do ( and the impossible cant be done ). so in a way, its not like integers, there is a limit to `` possible `` beyond which nothing more is possible. at that point you simply cant add 1 to the last possible thing, as with integers. if there is a being that can do and know everything that is possible, then no greaters being can exist, because nothing more than `` everything that is possibe `` is possible zachvac kinda hit the nail on the head. if we agree that there is such a thing as `` the greatest being possible ``, then all that is left to do is specifically demonstrate what a `` possbility `` really is for example, is it possible to create a mercedes-benz from a tree? if we define this as impossible, then not even God can do it, since God can only do what is possible ( by definition ). is it possible to create a book from a tree? if it is possible then God can do this. if we define God as `` the greatest being possible ``, then what we define as `` possible `` ultimately defines God\"', '\"I wonder how far you can take this. For instance, you may never allow `` the people of the country `` to tell you what\\'s best for your health, but we need only look at an example to prove that `` the people of the country `` can make a law in that arena anyway. Marijuana, for example. You may not think marijuana is harmful to your health, but if you smoke it, you break the law. And if you break the law, you can be punished under that law. Even if you don\\'t think the `` people of the country `` can tell you what is best for your life or your health, they still legitimately do so in many areas.\"', '\"If you\\'re willing to accept this, doesn\\'t that in a way contradict the gun control theory of `` well regulated militia? `` In other words the founders knew the importance of the citizenry militia against encroachments of the goverment, but then gave the government the power to make the encroachments easier by disarming the citizenry?\"', '\"The Bible says, `` In the beginning God created the heaven and the earth `` ( Genesis 1 :1 ). The atheist has always maintained that there was no beginning.\"', '\"No need to change the verbage : ``... individuals with variations that are fortuitously best suited to changing local environments. `` Like folks who migrated to northern latitudes and happened to have lighter skin ( variation ) were healthier and therefore produced more and healthier offspring.\"', '\"It is our contention that if \\'random\\'[ chance ] is given a serious and crucial interpretation from a probabilistic point of view, the randomness postulate is highly implausible\"', '\"And remember, ToE says the genome of each creature acts independently of the environment..... the genome does not `` read `` the environment, nor does it act upon it, nor does it take information from it. It acts independently.\"', '\"It is no more `` convenient `` to have an abortion as to have a child. It is no more painful to have an abortion than to give up a child.\"', '\"As if we didn\\'t already have enough `` missing links ``, along comes another : http : //news.bbc.co.uk/1/hi/sci/tech/4498049.stm Of course the creationist XXXXXX will claim it isn\\'t a missing link, but what are we to expect from XXXXXX anyway?\"', '\"Undoubtedly dogs ( and other animals ) have an `` emotional life `` but this has nothing to do with morality\"', '\"A federal judge challenged the backers of California\\'s voter-enacted ban on same-sex marriage\"', '\"I was not speaking about legalities. I was speaking on the giving of an oath and what it means. What does one\\'s word on something mean? Ã\\x82 â\\x80\\x9d I believe it holds more of a token gesture to medicine itself. But I suppose that differs on how you plan to interpret itÃ\\x82â\\x80¦either in a conservative or progressive standpoint. In a conservative viewpoint it couldnÃ\\x82 â\\x80\\x99 t be applied to abortion. Ã\\x82 â\\x80\\x9c Also, I\\'m not sure what you mean when you say the `` authors... also authorized abortion. `` Perhaps you can clarify. Are you speaking to the modern oath? Ã\\x82 â\\x80\\x9d No, I am talking about the Hippocrates themselves.\"', '\"Genesis 1:27 says that God created Adam and Eve. ( I couldn\\'t find the part about them being created `` together ``. ) No contradictions there.\"', '\"When did the resistance begin and are you making the argument that `` resistance is futile `` or that resistance is effective?\"', '\"Bloomberg makes absolutely no recommendation for what to do with these 35, supposedly, criminals sellers.\"', '\"Can pharmacies reserve the right to `` refuse service to anyone `` just like other businesses?\"', '\"nip back over to `` The Swamp ``, [ that is, \\'Internet Infidels ( atheists ) DB \\', and ask Oolon Colophid [ sp.? ] why he thinks the human appendix makes his \\'point \\'.\"', '\"Got that, boys and girls... registration and prohibitions on transporting some firearms across state lines?\"', '\"The ban on assault weapons stands on such poltically weak and Constitutionally weak ground that Congress only had the guts and the will to try it for 10 years.\"', '\"Nucleated protozoan cells have been found in 225-million-year-old amber, but geochemical tests revealed that the nuclei had been replaced with resin compounds.\"', '\"Like the `` little ones `` are really that interested in the political greed of gay activism.\"', '\"That\\'s true, as long as ones pursuit of science is really science. In the case of `` creation science, `` there is no science involved. As trebor has said, `` creation science `` is an attempt to find scientific sounding reasons that can be used to justify the conclusions that have already been reached and that are not subject to change. That\\'s how `` creation science `` works. Begin with the conclusion and then search for scientific sounding justification. Real science is a process and a way of learning.\"', '\"The Hidden Agenda Behind Gun Storage Laws By David Kopel In Canada and Great Britain deceitful `` safe storage `` laws allow government invasion of gun owners ` homes.\"', '\"The bit about `` seeking out an abusive mate because they secretly feel they deserve it `` is a bit hard to swallow though. Usually an abuser reveals himself as such after the woman is in love, committed, etc. I do believe that there is a cycle to it, though. If abuse is what you know, what you grew up with, than you are more likely to have it in your adult life - but I don\\'t buy that women purposely seek it out.\"', '\"I researched this on a source that did not have `` gay `` in the URL.\"', '\"Sorry but I think you are mistaken in that the bible `` describes `` dinosaurs.\"', '\"Of course, teaching kids `` Stop, don\\'t touch, leave the area, tell an adult `` is pro-gun indoctrination with chilling similarities to indoctrination of North Korean children.\"', '\"Yeah, if I were a creationist, I \\'d be scared of how fruitful that theory really is too. Coyne\\'s criticism of `` evolutionary psychology `` as being unscientific.\"', '\"I shared your post and link with the Author of gunlaws.com / Bloomfield Press Alan Korwin, and he said I could share this, and any reply he gets with you guys.\"', '\"I would like to address the theory of evolution point-by-point. Since I do not want to misrepresent the theory, I have used an explanation of Darwin\\'s theory from Gould\\'s book, `` Full House. `` On page 138, Gould states : 1 ) All organisms tend to produce more offspring than can possibly survive. 2 ) Offspring vary among themselves, and are not carbon copies of an immutable type. 3 ) This variation is passed down by inheritance to future generations. ( We know that black folks have black kids ; white folks, white kids ; tall parents tend to have tall children ; and so on. ) 4 ) If many offspring must die ( for not all can be accommodated in nature\\'s limited ecology ), and individuals in all species vary among themselves, then on average survivors will tend to be those individuals with variations that are fortuitously best suited to changing local environments. Since heredity exists, the offspring of survivors will tend to resemble their successful parents. The accumulation of these favorable variants through time will produce evolutionary change.\"', '\"The authors claim their book is being rejected on political grounds\"', '\"We\\'re legally dead when we no longer mentally exist ( hence the term `` brain-dead `` ), so there is no logical reason to set the beginning point as anything other than the start of the mental existence.\"', '\"Did your thought process ever include the question : What choice does the `` victim `` have? Does the instinct to survive exist in the helpless? The being that is totally dependent on the being that brought about it\\'s existence becoming a victim of that being entrusted with it\\'s safe keeping\"', '\"The internal connectivity of codons indicates that all synonymous codons might be integrated parts of the Genetic Code with equal importance in maintaining its functional integrity.\"', '\"The opportunity for a law-abiding gun owner to use a gun in a socially desirable manner -- against a criminal during the commission of a crime -- will occur, for the average gun owner, perhaps once in a lifetime.\"', '\"Your dishonesty never seems to diminish, and never seems to grow any brains to actually be deceptive.\"', '\"The really important discovery is that the primary cilium detects signals, which tell the cells to engage their compass reading and move in the right direction to close the wound, `` Christensen explains.\"', '\"Professor McDonald started with a complete mousetrap and then showed ones with fewer parts.\"', '\"Survival of the fittest `` is a poor way to think about evolution.\"', '\"\"', '\"This started out as a documentary on gun violence in America, but the largest mass murder in our history was just committed\"', '\"Then, the apologetics got into `` Genesis Kinds `` and all that poo. Was it before or after Origin of Species?\"', '\"We are like soldiers. It is a war, `` says Sgt Pfeil.\"', '\"If same sex couples are offered equal rights under a PACS ( or some other legally recognized union ) as married couples, why does it matter which `` door `` they come in through?\"', '\"I have guns for hunting, which is something I like to do. I have guns for target shooting, which is a hobby of mine. I have the right to own firearms, which I do not need to justify the ownership of.\"', '\"What you mean is that we should pretend that creationism has some sort of legitimate basis in reality?\"', '\"Why does being against abortion exclude one from being against the starvation and hunger of children?\"', '\"Does anyone know a pregnant woman who has `` demanded `` an abortion?\"', '\"If abortion were illegal, anyone caught performing one would be prosecuted.\"', '\"Gay marriage has only been an issue for a couple of years, most of the other things I mentioned have been around for decades.\"', '\"Sorry, we should be telling them `` handguns are useful against the army, they \\'ll force them to spend a month killing 26 % of you and capturing the rest, as long as you stay entrenched in heavily urban areas ``. Besides, you could just as easilly acquire the same level of armament as used in Warsaw illegally, post-ban.\"', '\"I read an article yesterday ( about Evolution, Extinction, and Economics ) in which it was claimed that 99 % of all species that have ever existed are now extinct.\"', '\"Life will NEVER arise out of non-life. 2 ) There will never be any evolution of a new body part in a population in which it hasn\\'t existed before.\"', '\"taking rights away is an American value since we have prescribed methods for doing it. For instance, we have legislatures which posess authority to remove a large number of what you likely consider to be rights. Here are just a small number that come to mind : 1 ) Right to murder 2 ) Right to own slaves 3 ) Right to rape 4 ) Right to abusing children 5 ) Right to vote 6 ) Right to smoke ( if you\\'re under 18 ) 7 ) Right to drink ( 18th Amendment ) 8 ) Right to engage in certain activities in public 9 ) Right to drive as fast as one wants 10 ) Right to dump dangerous chemicals in the nearest river The list goes on really. The fact is that you don\\'t object to taking rights away in principle, you only object to taking away those rights that you wish to retain. That is quite inconsistent. Where do you get the idea that one has a right to perform an abortion anyway?\"', '\"The need to display current information. This article is almost four years old, I have yet to hear anything about this over the entire course of Mr. Bush\\'s presidency. George W. Bush is one of the most personally assaulted Presidents in US history, few will argue this whether they support him or not. Just about every negative thing Bush has been involved in or people speculate he was involved in has been dragged out and there any number of books with the details. This info has had little or no further data in the past 4 years. The press loves a scandal and I have yet to see them shy away from one as juicy as this if it were true.\"', '\"<s>\"', '\"The point is that a 1-day-old infant can be cared for by ANYBODY!\"', '\"10 % of the population has the power to destroy the other 90 % somehow.\"', '\"Articles up to 10 years old are usually fine for scientific analysis.\"', '\"Christopher Bryan Speight, the 39-year-old man who allegedly shot and killed eight men and women yesterday in Appomattox, Virginia, is at least the 12th person licensed to carry a concealed handgun reported to have committed a mass shooting since May 2007 according to Violence Policy Center ( VPC ) research.\"', '\"You are right that the 14th helped grant that power, but that was not what the role of the Court was originally.\"', '\"Levels of CO2 in the atmosphere are usually quoted as parts per million, currently a little over 380ppm, 150 years ago closer to 280.\"', '\"The 17 % can only be attached to those weapons for which there was a successful trace back to the US from the group of 11,000 submitted by Mexican authorities.\"', '\"It\\'s still illegal for over the counter under the age of 18. Wait a minute, I fail to see how it not being availible will affect teenagers doing it or not.\"', '\"The age of 18 is an arbitrary designation.\"', '\"obrotion became populer in the 1800 and thats oround the time evoluion became populer. and the lie that the embro has gill slits.\"', '\"Rhodesian man was first discovered June 17, 1921 at the bottom of a cave used for mining lead and zinc.\"', '\"\"', '\"Aug. 1, 1966 : Charles Whitman\"', '\"The Gun Control Act of 1968, which initiated the background check requirement, was written by liberal politicians ; the main people who support gun control laws.\"', '\"Violent Crime rate 1989 = 666.9 Murder Rate 8.7 1990 = 729.6 Murder Rate 9.4\"', '\"1989 Violent crime = 666.9 murder rate= 8.7 1991 Violent crime = 758.2 murder rate= 9.8 1995 Violent crime = 684.5 murder rate= 8.2 2000 Violent crime = 506.5 murder rate= 5.5 2005 Violent crime = 469.0 murder rate= 5.6 2008 Violent crime = 454.5 murder rate= 5.4\"', '\"Currently none however all the western powers operated this way in the 19th century and people suffered. Let conservatives dismantle regulations and it will be the return to the 19th century.\"', '\"Another Tiahrt-sponsored appropriations rider codified the Bush Administration policy destroying certain National Instant Criminal Background Check System ( Ã\\x82 â\\x80\\x9c NICSÃ\\x82 â\\x80\\x9d ) records after 24 hours.... 21Without retained NICS records, law enforcement has no opportunity to retrieve guns mistakenly sold to prohibited purchasers.\"', '\"God does change his mind. NU 23:19-20, IS 15:29, JA 1:17 God does not change his mind.\"', '\"On this 35th anniversary of the Roe v. Wade decision, I would like to share my views on the issue of abortion.\"', '\"What are the possibilities that those doing the Maths realize that selection is NOT random?\"', '\"I get a kick out that `` currently `` you mention. When I was in school, the age was only 4.5 billion years old.\"', '\"Where do you get the figure of 500,000 gay couples who want to immediately be married?\"', '\"Gunmen in a green minivan opened fire on a group of teenagers waiting at a bus stop near a Detroit school on Tuesday, wounding seven including three who were in critical condition, authorities said.\"', '\"How can so many people be getting murdered every single year if gun control is supposed to save lives in the first place?\"', '\"People tend not to smoke as many \\'doses\\'of pot as they drink \\'doses\\'of alcohol.\"', '\"The philosophy of experimental scienceÃ\\x82â\\x80¦began its discoveries and made use of its methods in the faith, not the knowledge\"', '\"The day when you have to walk into that abortion clinic and make that decision, you stand up and tell me what a real man is.\"', '\"So what do you think about the fact that this baby is much younger and smaller and far less developed than many of those who are aborted?\"', '\"An application of the present results to the [ Milky Way ] Galaxy yields one supernova per 26 ( Ã\\x82Â± 10 estimated error ) years in very good agreement with the evidence from historical supernovae.Ã\\x82 â\\x80\\x9d G. A. Tammann, Ã\\x82 â\\x80\\x9c On the Frequency of Supernovae as a Function of the Integral Properties of Intermediate and Late Type Spiral Galaxies, Ã\\x82 â\\x80\\x9d Astronomy and Astrophysics, Vol. 8, October 1970, p. 458.\"', '\"a belief held by a majority does not mean it is superior to that held by a minority. there is no numerical superiority when it comes to truths, values or morality.\"', '\"Having a beneficial use ; serviceable : a useful kitchen gadget. 2. Being of practical use : a useful job ; useful members of society.\"', '\"A bill that would ban the public display of unloaded guns narrowly passed the Senate Public Safety Committee Tuesday.\"', '\"But I guess you don\\'t have anything to say about the implications of this study.\"', '\"I suggest to you that if a body of people were on a deserted island with no contact with the outside world or any exposure to any religion whatsoever, they too, would know right from wrong.\"', '\"Would it be morally correct to disconnect herself and kill this body that has no identity, mind, consciousness or existence in actuality?\"', '\"Nor would one expect premium costs to be in the Bill. The law in CA that requires auto insurance to have a car registered doesn\\'t mention premium costs either. That\\'s left to market forces.\"', '\"Has there ever been a case of assault that involved a bayonet attached to a rifle?\"', '\"A catapillar grows into a butterfly. A pup grows to a dog. A womb-trapped child grows into an adult human. They grow and develop and change.\"', '\"A cecal valve is a muscle for the lizard\\'s intestines that controls movement from the small to the large intestine.\"', '\"A child\\'s right to their life should begin when their life does and not just when you can\\'t justify their denial anymore.\"', '\"Both Thompson and McDonagh treat the childÃ\\x82â\\x80\\x94the woman\\'s own daughter or son -- like an invading stranger intent on doing harm. They make the mother/child union into a host/predator relationship. A child is not an invader, though, a parasite living off his mother.\"', '\"With all the medical technology a child should be born and the mother survive.\"', '\"I have a strong dislike of evangelical christianity, not christianity in general.\"', '\"The conclusion is that the eye, a complex visual system, was fully formed and functional extremely early in the fossil record.\"', '\"A constitutional amendment along these lines is a bad idea. Per George\\'s comment though I don\\'t see any problem with her taking a stance based on her religion\"', '\"You seem to be arguing that a corpse is a human.\"', '\"At age 18? That\\'s a possibility - a coworker of mine once expounded that every couple, with the consent of both parents, and at their own expense, should have an unlimited right to abortion all the way up to age 18. ( He had had a fight with his teenage daughter that morning. ) I don\\'t think it will fly, but I support the people having the right to choose and I will live with their decision.\"', '\"Do you think that a criminal that faces life in prison should have the right to choose to be put to death instead?\"', '\"These people sound more like a cult than religion.\"', '\"I find it interesting that the stars create the clouds and inturn the clouds form into stars. One vicious cycle with no begining. In a forum devoted to origin you offer the explainiation of no origin at all but rather meaningless existence. This is the main problem I have with evolution and it\\'s application to physical sciences. A cycle with no begining has indeed no forseeable end. Therefore on a personal level I have no hope of changing anything. Things were, are and will continue to be this cycle of events. As this applies to biology any other life sciences. My actions are only the result of my animal instict. I am not playing the inner - child but rather the inner - beast. No law is passed to keep a beast in submission to another beast. Governing bodies fail if there is no accountablity. That is the cruix of the discussion. I am accoutable to God. If I am wrong about creation, I have only missed out on a lifetime of animal behavior. If you are wrong about evolution, then I fear you are far the worse off then I.\"', '\"Even one of evolutionistsÃ\\x82 â\\x80\\x99 favorite examples for Ã\\x82 â\\x80\\x9c deliberateÃ\\x82 â\\x80\\x9d mutations, radiation, has a negative, degenerating effect on the crops it effected.\"', '\"Don\\'t they get that the whole pro-choice movement is based in a desire to make sure that ever child is a wanted child?\"', '\"I could simply reply that pregnancy is preventable, that it is not a permanent condition and if one is patient it will end with the child\\'s birth. I could also point out that the fetus is not responsible for the pregnancy in that it did not decide on it\\'s own to come into existence and plant itself in the mother\\'s womb but rather it was the mother and father that made the child through their actions so why is it made to pay the ultimate price?\"', '\"He showed himself as a family-man/Catholic, but he ended up being the exact oppisate, supporting abortion, and giving homosexuals marriage licenses.\"', '\"As it stands in the uk a father has no sat whatsoever in the welfare of the baby/fetus if his partener wants to terminate he need never even be told.\"', '\"I don ` t view infants as persons either, but as you have to draw the line somehwere, you might as well do it at birth\"', '\"A fetus is a citizen, it\\'s intrustion on the fetus, ( and the pregant woman? )\"', '\"I am just having trouble reconciling the idea of removing a fundamental right based on a misdemeanor conviction and was wondering if there is similar precedent elsewhere.\"', '\"It\\'s a good argument for doing away with the death penalty and their expensive trials. However, his trial is over.\"', '\"A good starting point is to get educated and be done with it....\"', '\"Wouldn\\'t this be a gradual change over a very short period of time?\"', '\"They grow up watching the people around them committing crimes, and such behavior becomes normalized.\"', '\"A gun death is a gun death, whoever pulls the trigger.\"', '\"Carrying a gun is their talisman against their fear of attack and injury, what do you think?\"', '\"Gun Laws of America is 384 pages of just the federal statutes that regulate gunsÃ\\x82â\\x80\\x94more than 88,000 words. Additionally, the associated federal regulations interpreting these laws are even larger. Minimum penalty for a violation is typically 5 years in federal prison for every offense. It is estimated that there are between 22,000 and 30,000 gun laws on the books in America. Those laws include restrictions on possession, carry, distribution, storage, transfer, manufacture, sale, ownership, importation, use and more.\"', '\"There is no question that a gun sitting in a box is not really harmful.\"', '\"actually those numbers of `` millions `` of aboritons prior to 1973 have turned out to be false and just a made up number\"', '\"the former because it\\'s always a handy and ego-inflating explanation for disagreement and you don\\'t have any respect for other people\\'s intellect anyway,\"', '\"Time to get a helmet...\"', '\"A member of Salt Lake County\\'s SWAT team left an M4 assault rifle in front of someone\\'s home after leaving the scene of a standoff in the township of White City. Salt Lake County Sheriff\\'s Deputy Levi Hughes says the gun was left by a veteran member of the SWAT team who forgot the weapon in the grass while packing up gear after the standoff ended. A homeowner found the rifle in the front yard of a house a few hours later and notified authorities. Hughes says an officer on patrol stopped by the home and recognized the rifle as a weapon belonging to the SWAT team. Hughes says leaving the gun behind was an unacceptable, terrible mistake. Hughes says the officer will face disciplinary action, but probably won\\'t be fired.\"', '\"No one is arguing that a human fetus is not human.\"', '\"\"', '\"Yes I am defining a human being by personhood because IÃ\\x82 â\\x80\\x99 m saying a human being is more than a clump of cells with DNA.\"', '\"Should you travel to the few states now allowing ( Gawd ; I hate that word ) S/S marriages, a JoP will officiate at your services.\"', '\"A large fraction of the noncoding part of a eukaryotic genome is used to make RNA that is sufficiently stable in a cell to be detected by different technological approaches\"', '\"It\\'s been a long standing standard that if the only motivation for a law, act, etc is religious, then it\\'s a violation of SOCAS.\"', '\"Women haven\\'t cornered the market on crying, there are a lot of men cryers out there too.\"', '\"In other words, a lot of these kids never grow up. And then they get guns. And, did I mention the hormone was testosterone?\"', '\"Actually a lot of this work is done by European and African scientists ( If you don\\'t know where they are, look on an a globe ( or an atlas if you can\\'t cope with the spinning ) ), so attacking American scientists kinda shows how ignorant you are.\"', '\"Once upon a time, a man killed another man with a tire iron.\"', '\"Even though, evolution is probably simply a tool implemented by God, much of it is simply a matter of consensus concerning vague comparisons of bones declared to be of different ages by people with similar agendas. Now, deny that without thought. Does that make you a zealot? Or is your proof more concrete than speculation and concensus?\"', '\"if it is NOT a mental disorder or environmental disorder as your lilst claims, then how can therapy work?\"', '\"If it is moral for a mother to deny her child the necessities of life ( through abortion ) before it is born, how can she be obligated to provide the same necessities after he\\'s born?\"', '\"It is a nanny state where wealth is redistributed on a whim, socialized medicine, socialized school system. It\\'s pretty obvious.\"', '\"Evolution is basically a naturalisitic way of explaining how everything could come into being without the need for a Creator God.\"', '\"It was the year 1909 and a navy officer ( who was a Humanist ) decided to search for the North Pole. He brought along a Biologist for research and a Priest just for moral support. While trekking through the middle of no-where they stumble across an igloo. The Priest exclaims : `` it\\'s a miracle! `` The Humanist dismisses it saying : `` don\\'t be silly, man must have made it `` Then the biologist pipes up : `` wait a minute `` After jotting down notes and referring to his books for about an hour he says : `` yes, after scientifically analyzing the facts it\\'s obvious to me that over a period of about 1000 years this snow shelter evolved ``\"', '\"No, I didn\\'t make any official challange, I was just saying I would have liked it if our informal debate had been\"', '\"Brace yourself, howard...... a new poll released today in the NY Times says most americans favor teaching creationism in the schools......\"', '\"A Nightmare because the Republicans have used the filibuster as a weapon to stop legislation.\"', '\"Not that it matter because Roe vs Wade struct down the Texas law that gave exceptions to the `` extreme ``\"', '\"a pair of fully developed wings on a dinosaur would not be an asset for anything at all.\"', '\"I happen to believe that a person\\'s life and their right to the life they are living begins at conception.\"', '\"a piece of genetic material taken from your own body and inserted into a sterile egg to create a batch of undifferentiated cells to reinsert into your body to save your life?\"', '\"Perhaps it is just semantics here, but a place that tells a mythical tale rather than relating reality doesn\\'t have the right to call itself a museum.\"', '\"A population of bacteria would of course be better suited than another population if it could sense light.\"', '\"Also another example put forward is a bacteria that can only sustain itself by eating Nylon.\"', '\"Then explain to me why a pregnant woman was hit by a car not long ago leading to the death of both mother and baby.\"', '\"would you have a problem calling a guy marrage a `` civil union ``?\"', '\"a prostitute withe aids will kill more people than my ak47 ever has\"', '\"As for the other gods, well since they don\\'t interact with our world they don\\'t really matter at all. they could just as well not be there, and life as we know it would be the same. a question that asks `` is there a god? `` is answered `` it doesn\\'t matter ``.\"', '\"Is global warming a real threat or is it just a hoax?\"', '\"A pistol-packing, 80-year-old Bronx man was arrested on gun charges after he tried to turn the tables on a mugger who beat him and stole his Social Security money, authorities said yesterday.\"', '\"Problem is that the right to marry is not a clear constitutional right. It is a right that has been interpreted by Courts on an illegitimate legal theory known as substantive due process.\"', '\"A right to personal autonomy or self-ownership is a neccessary component of any consistent rule-based moral system in which man can live, since it is impossible to give or get permission to make use of your body prior to using it to get that permission.\"', '\"And the king of Babylon smote them and put them to death at Riblah, in the land of Hamath-thus Judah was exiled from its land. Rather, a sceptre refers exclusively to rulership, not political independence, as seen in the following passage.\"', '\"With a shotgun and his dog, he tried to defend his Caledonia home - The Globe and Mail\"', '\"i think slave holder\\'s asked a similar question to people who believed slavery was wrong. \\'\\' what are they worth anyways?? why do they deserve to be treated like us? `` hmm\"', '\"You have a simplistic argument going for pot. I can\\'t agree that legalizing all drugs would be a good thing either.\"', '\"A single random mutation can not create a new organ.\"', '\"What largely prompted this thread happened last Tuesday - 6:30 AM, and a six-figure weather forecaster scientist guy assured everyone watching him that a pretty nice day was ahead, largely cloudy yet with peeks of sun, with a slim chance of very spotty rain. 2 hours later, the beginning of widespread heavy rain, for three solid hours. Unusual of course, but if we have scientific blunders concerning a few miles, I can imagine we could have a few blunders concerning hundreds of thousands of light years.\"', '\"A species of Darwin\\'s finch in the Galapagos has evolved a smaller beak to avoid competing with a larger-billed recent immigrant\"', '\"If a state allows gay marriages their spirituality is in the toilet. Gay sex sin is a perversion and an abomination according to the Bible.\"', '\"Those who have firearms in their homes are more likely to die of murder and are more likely to die from suicide.\"', '\"A study affiliated by the NRLC also just happens to support their platform position concerning the number of illegal abortions.\"', '\"A study published this month in the journal Pediatrics claimed children do better when their same-sex parents are allowed to marry or enter a civil union. According to marriage and family experts, such reporting fails to recognize myriad reports that show kids do better in a home with a biological mother and father.\"', '\"Can you please provide a cite in the Constitution that supports the notion that a Supreme Court Justice nominee has the power to declare that any case is `` settled law `` and the subsequent power to make it so?\"', '\"A theory is not a fact, no matter how much evidence may support the theory.\"', '\"A third or fourth eye is simply a copy of an existing body part. If it\\'s a FIRST eye that evolved, then that \\'d count. You can\\'t create anything new by creating copies.\"', '\"I believe in order for an animal to not be adaptive it would have to be born without a brain.\"', '\"When you say Ã\\x82 â\\x80\\x9c to its creditÃ\\x82 â\\x80\\x9d, and refer to stepwise feedback, the focus on irreducibly complex structures, reasoning,\"', '\"This is a typical pro-choice scenario -- a rare one irrelevent to more than 95 % of abortions. Pro-choicers have to use rare examples to make their arguments appealing.\"', '\"Majority backs gay marriage, ballot measure in poll Lou Chibbaro Jr. | Feb 08, 2010 | Comments 5 A Washington Post poll published Sunday shows that 56 percent of adult D.C. residents surveyed favor legalizing same-sex marriage in the city compared to 35 percent who said they oppose it, with 9 percent saying they had no opinion.\"', '\"The reason for his doubt was the incompleteness and lack of uniformity of ecological data. Ã\\x82 â\\x80\\x9c There are all these species out there and so few of them are known in intimate detail, so any kind of ecological characterization Ã\\x82â\\x80\\x93 through no fault of ecologists Ã\\x82â\\x80\\x93 will be limited in accuracy and precision, Ã\\x82 â\\x80\\x9d Funk said.\"', '\"Our gun control advocates have surrendered, finding that their argument is so flawed that it is absolutely insupportable. Those who advocated less than lethal weapons have also been proven fools. Less than lethal weapons have been proven to be less than effective weapons. If you are in a situation where you have to use a weapon, you want a weapon that you KNOW will stop the bad guy, not a weapon that you think has a high probability of stopping the bad guy.\"', '\"Anti-miscegenation laws - Wikipedia, the free encyclopedia It doesn\\'t say whether or not it was via a court case or not but I know that California was a court case and Massachusetts and many Northern/mid-west state were via legislature action.\"', '\"A woman died. At the hands of a gun-wielding killer.\"', '\"I think the argument that a woman has the right to determine what is done with her bodily resources during pregnancy lacks justification.\"', '\"A women by the name of Mary Anne Warren said this\"', '\"ABB prohibits employees from carrying concealed ( or non-concealed for that matter ) firearms on company property.\"', '\"I do believe we have the ability as communication humans to define a word : Unknowable - can not be known which is the opposite of : known\"', '\"Abiogenesis Young Earth Creationist A person who places faith in the Bible over and above acceptance of the evidence all around us and who thus falsely believes that the Earth was created a few thousand years ago, the global flood happened, the Ark existed etc. A Young Earth Creationist\"', '\"How are we now able to observe evolution, when the evolution of the world supposely took billions of years?\"', '\"To you, it may be an incorrect statement. But if it is, you have to tell me what it is you kill and take the life away from when you abort the zygote.\"', '\"Pictures of aborted babies ( Warning : Graphic content - do not click on the link if you think you might be offended ) :\"', '\"I find that very interesting that many Christians are so loudly against abortion, yet their own bible condones it.\"', '\"but at least we are making obvious inroads in swaying the nation in a direction that considers abortion a bad choice.\"', '\"I personally think that abortion is wrong. I think that a fetus is still a baby.\"', '\"The figure comes from a 1936 study by Dr. Frederick Taussig who estimated that abortion claimed the lives of 5,000 to 10,000 women a year.\"', '\"Abortion does not fit the definition of murder.\"', '\"Abortion is dealing with the decision to end another\\'s life in order to sustain a preferred lifestyle.\"', '\"Abortion is killing, therefore the choice of : to abort or not abort? = to kill or not to kill?\"', '\"Abortion is murder.\"', '\"Abortion is the greatest moral evil of our time. Dr. James Dobson.\"', '\"Abortion is their best choice?????? Yet women deserve better? Why do you think abortion is their best choice?\"', '\"Why do women opt for abortion over adoption?\"', '\"Why is this under the abortion section? You see Prudence Lemokouno was a mother trying to give birth to a fourth child. Prudence Lemokouno was poor, she probably would never entertain abortion on her own flesh and blood.\"', '\"Often abortion supporters convey their message as one of championing the cause of freedom of choice and resistance of the oppression of others values on women.\"', '\"Abortion targets a very specific group of human beings : unwanted, unborn children.\"', '\"Abortion today is used primarily as a birth control of convenience because people are too self-centered to take precautions.\"', '\"What astounds me is that those who favor abortion went through an identical development stage as the being they are condemning to death.\"', '\"Most abortions are consentual, no one FORCED them to have consentual sex.\"', '\"Abortions hurt much more than they heal.\"', '\"while evolution says something crazy like this.... about a billioon years ago life appeared.\"', '\"And then there\\'s the fact about Conan O\\'Brien being added to the no fly list, by the Newark, NJ mayor, because the mayor didn\\'t like O\\'Brien\\'s jokes about the quality of Newark life.\"', '\"When did I say anything about DNA?\"', '\"if the laws of logic are human constructs then how can they be absolute since humans think differently and often contradictorily. If they are produced from human minds, and human minds are mutually contradictory, then how can the constructs be absolute? Therefore, the laws of logic are not human constructs.\"', '\"The absolute truth is that for many of us evolution explains the diversity of life we see all around us better than `` poof `` ever did.\"', '\"Abstinence until marriage is still the best way.\"', '\"This is how abstract concept can `` exist `` in our minds, without having an existence of their own.\"', '\"Fruit is an abstract concept. That abstract concept exists only as a set of criteria within our minds.\"', '\"You do realize that the rules are supposed to be absurd, to point up the absurdity of a recent court ruling, right?\"', '\"What I \\'d like to know is where this specimen fits in with the following lineage :\"', '\"I could say the same about heteros. If I have to accept heteros then heteros need to accept me.\"', '\"Creationists recognise it and accept it as it goes in nicely with the creationary model.\"', '\"The only obsession is see is the obsession gays have in seeking acceptance for their lifestyles....\"', '\"It does highlight how criminals have easy access to weapons simply through burglary.\"', '\"When\\'s the last time you heard of someone being killed by the accidental discharge of a fire extinguisher?\"', '\"Accidents for one. Just last week a man who was drinking and cleaning his firearm accidentally shot and killed his daughter. Run a google search for `` man shoots self `` the amount of accidental shootings is rather disturbing yet funny. Most of these however are due to improper gun safety though.\"', '\"And he accomplished all this human carnage without a gun. This just proves that if it was possible to eliminate all projectile firing weapons from existing on earth, men would find a way to commit atrocities against his own kind just as he did before such weapons existed if murder was in his heart. Guns are not the issue, the corrupted heart/nature of humanity is.\"', '\"the scientific method perfectly complies with evolution. * * * Not true. The steps of evolution have never been observed.\"', '\"According to the Old Testament, Sodom and Gammorah were destroyed because the rich oppressed the poor ( which is nearly an essential part of Capitalism ), not because of homosexuality. According to the Old Testament, you must also murder people of different faiths in cold blood by stoning them to death, especially your friends and family.\"', '\"According to your logic, an infant would have no right to suck nutrients from a woman\\'s breast.\"', '\"It\\'s not about finding the weapon. It\\'s about accountability for supplying the `` black market ``.\"', '\"What price activist judges?\"', '\"the word evolution never means atheism except when used by creationists who want to pretend that science is anti-christian.\"', '\"Actually its not sickening in any way. These kids are at risk and need to know the resources available to them to avoid realizing those risks.\"', '\"Of those that are beneficial, the chance of actually being passed on is minimal considering the animal bearing that mutation has to actually be the biggest strongest animal to pass on its genes - unless it is lucky.\"', '\"Here is Hans Fricke\\'s own story regarding the investigation into the coelacanths natural habitat which Nat Geo\\'s story is based upon. And notice the last paragraph in the story. The Fish That Time Forgot - Sidebar - MSN Encarta IT SAY \\'S THIS : I confess I\\'m sorry we never saw a coelacanth walk on its fins. Professor Smith himself nicknamed the coelacanth Old Fourlegs in the belief that the creature actually did walk upon the seafloor like a seal on its flippers. Alas, that does not seem to be the case. For every myth we dispelled, however, I\\'m certain there are a dozen fascinating discoveries still to be made. In short, we have just begun to know the coelacanth.\"', '\"Actually he wasnt or I wouldn\\'t have used that example.\"', '\"These kids are at risk and need to know the resources available to them to avoid realizing those risks.\"', '\"How about you actually prove something for a change instead of expecting everybody else to do your work for you.\"', '\"Actually there is a better solution. Mandatory male and female birth control pills, financial penalties if you stop taking. Anyone who would get off the pill would want a kid, therefore, abortions would cease.\"', '\"Actually what are YOU most afraid of.. Perhaps your skyrocketing violence since they confiscated your guns is not enough of an eyeopener as to the perils of tyrannical government intrusion into a persons life, liberty, etc at the expense of your personal saftey..\"', '\"Actually when you read every thing you have to rationalize ( lie ) what God actually did, for God was done with everything then started again. THe stories don\\'t parallel each other they intersect.\"', '\"The problem with science is its arrogance. It\\'s inability to see that truth can be found in other areas is a real handicap. Add to that theories like evolution that disguise themselves as science, and you have a real problem.\"', '\"Adding guns to crime is like adding gasoline to a fire- it makes an already existing problem worse.\"', '\"Adding guns to crime is like adding gasoline to a fire- it makes an already existing problem worse. If you think that just as many people die from stabbing and beatings in other developed nations as people die from guns in the US then you need to do more research.\"', '\"Why on earth would a woman come out now, admit to an abortion she had 30 years ago, when it was illegal, and become the focus of unscrupulous media attention for the next year?\"', '\"There\\'s plenty of people in the world who would have adopted that baby.\"', '\"In my state, Advance Directives and Living Wills are legally binding.\"', '\"What puzzles me is that Gun control advocates will not change their unrealistic ideas when presented the facts.\"', '\"S Africa has the most restrictive gun laws on the planet.\"', '\"Therefore, it is obvious that this scenario indicates that Africans ( Blacks ), due to the fact that they started evolving later than Europeans and Asians, are almost 400,000 years behind these other groups in evolutionary standards. Thus, they got a late start!\"', '\"After a Devastating Birth Injury, Hope By DENISE GRADY DODOMA, Tanzania Ã\\x82â\\x80\\x94 Lying side by side on a narrow bed, talking and giggling and poking each other with skinny elbows, they looked like any pair of teenage girls trading jokes and secrets. But the bed was in a crowded hospital ward, and between the moments of laughter, Sarah Jonas, 18, and Mwanaidi Swalehe, 17, had an inescapable air of sadness. Pregnant at 16, both had given birth in 2007 after labor that lasted for days. Their babies had died, and the prolonged labor had inflicted a dreadful injury on the mothers : an internal wound called a fistula, which left them incontinent and soaked in urine.... Obstructed labor can kill the mother, too, or crush her bladder, uterus and vagina between her pelvic bones and the babyÃ\\x82 â\\x80\\x99 s skull. The injured tissue dies, leaving a fistula : a hole that lets urine stream out constantly through the vagina. In some cases, the rectum is damaged and stool leaks out. Some women also have nerve damage in the legs. One of the most striking things about the women in Ward 2 was how small they were. Many stood barely five feet tall, with slight frames and narrow hips, which may have contributed to their problems. Girls not fully grown, or women stunted by malnutrition, often have small pelvises that make them prone to obstructed labor.\"', '\"Why if they are going to kill themselves, don\\'t they do that first? Instead of after? After all they are dead? Total freedom mean\\'s total freedom for the Psycho\\'s also. We have many, many, more of them and we are getting more everyday.\"', '\"Society needs to come to grips with how it is going to view homosexuality before the law, absent from the philosophical issue is debated.\"', '\"Again, how does this apply?\"', '\"I don\\'t think anybody will argue that owning a gun prevents crime.\"', '\"Do you mean sexually molesting children? Again, I think that harms and forces something on someone.\"', '\"The head of the Federal Emergency Management Agency is directing people wanting to contribute to give to the Christian charities above. Again, where are the atheist organizations?\"', '\"Again show me something other than an opinion. Describe how the avian lung could have evolved over time. Other than IT did it.\"', '\"What exactly are the age ranges of these `` children `` in the news stories?\"', '\"you must be agnostic now. you see his point-of-view. you now doubt god, according to your answer.\"', '\"i am agnostic not atheist, but its close enough for close minded people to understand\"', '\"What do you mean unspecified means by an unknown designer? Where did you come up with that fairy tale? Since you\\'re calling it ID creationism, I will too, and must remind you that according to our beliefs God spoke creation into existence and that is pretty specific. And I also agree that ID was reworked to explain creation without referring to God directly, but everyone knows who made everything. It is evolution that in reality openly admits that everything came about accidently/randomly through an unknown, undiscoverable and indiscernible series of mutations that just happened to result in the constant and consistent harmonious regulation of life on Earth. Now that is a fantastic and unbelievable assumption to make, but that an intelligent and thoughtful being spoke creation into existence is much more reasonable.\"', '\"I was discussing the entire article, which is making that argument.\"', '\"And in response to Zachvac i mean guns not arms ( as in nukes ) but im fine with automatics and such in the right hands.\"', '\"Another problem with the site is that Alan D. Gishlick is without a doubt an evolutionist whereas Jonathan Wells seems to approach the subject with a more objective and neutral view.\"', '\"Alex found exactly the same sequence of primes linked to the same series of biblical messages.\"', '\"They have no direct knowledge that he knew about it, but they knew the women that we interviewed that lived in the complex all admitted that they had been told by this girl who was pregnant and that George Bush was the father.\"', '\"All athiesm is, is a lack of theism, period.\"', '\"All firearm transactions must be through a FFL with a background check.\"', '\"And all having a real, verifiable negative impact on society, which can not be said about gay marriage. Can we tone down the drama a little bit?\"', '\"all humans are traced to monkeys from Africa.\"', '\"All I can think to say is that a mind is a terrible thing to waste.\"', '\"If all life evolved from a common ancestor, then there should be countless instances of new body parts evolving.\"', '\"And finally in regards to what God is like... certain religions say God has certain characteristics... all loving, all powerful, omniscient... Some of these characteristics contradict observations we see today ( how can an all loving god allow pain and suffering among the innocent ).\"', '\"All men and women are, by nature, free and equal, and have certain inalienable rights -- among which are those of enjoying and defending life and liberty, acquiring, possessing and protecting property, and pursuing and obtaining safety and happiness.\"', '\"that all modern day humans are descendants of Homo-erectus and Neandertals\"', '\"All nine judges agreed unanimously that the Second Amendment protected a right that was wholly individual in nature.\"', '\"all of materialism/mechanism/physicalism/positivism/naturalism/darwinism/geneticism reduces to giving credit to effects for being their own causes.\"', '\"All of the British papers keep going on about how bad it is, how more people than ever are being gunned down in the streets\"', '\"All of the observations that we see today can be explained without creation and evolution!\"', '\"All organisms tend to produce more offspring than can possibly survive.\"', '\"Maybe if you hit your forehead with Bibles more often, you would know these things!\"', '\"And in those 150 years, all the evolutionists in the world haven\\'t been able to falsify or debunk the book of Genesis.\"', '\"No, they\\'re the same species. If you put all these fish in the same pool at the end they would all breed with each other.\"', '\"What I want to know is if all these folks who feel it is their right to vote on marriage for gays would mind if the gays were allowed to vote on their marriages?\"', '\"There all types of denominations of the Catholic religion. However, most religions that I consider `` Christian `` are really not the same as `` Catholic. `` Catholicism tends to be even more strict and loony than Christianity.\"', '\"All we want is for the baby in the womb to have the same chance you did if possible.\"', '\"but there aren\\'t any! All you can show me are 4 `` links ``. Where are the other millions?\"', '\"Lions and hyenas and buffalo and crocodiles and fish and ants and bees and lots of other animals work TOGETHER.\"', '\"show me any example of so-called natural selection or evolution in the field and I bet I can shoot it down.\"', '\"As for the allegation that I\\'m driven by `` ideology `` - I haven\\'t a clue what sectarian policies you think control me.\"', '\"It seems, once again, the Almighty hid within His Word proof of divine inspiration and a token of His love for children.\"', '\"I think almost all the members of these populations will breed because breeding in an inherent drive in every population.\"', '\"let alone were prepared to shoot him if he had produced a weapon in self-defense.\"', '\"Alot of children endure harassment because of living in a house made up of parents of the same sex. Just because it did not happen to your son, dose not mean that it dose not happen.\"', '\"Why would you start a new thread on a topic that has already been addressed only three threads down less than 24 hours ago?\"', '\"I don\\'t believe future generations ( school children ) are having the gaps in godless evolution explained to them clearly enough.\"', '\"I hope that you believe that you are more than a lump of growing cells.\"', '\"I think that evolution in itself is sort of a religion, as it tries to explain the creation of the universe and of all life.\"', '\"in what way would measuring a decline in field strength over 150 years have to do with its presence for billions of years?\"', '\"But Oswald did not shoot Kennedy. He was just a patsie. He shot at Keneddy but missed of course. Also, Lincoln was Republican an Kennedy a Democrat.\"', '\"I also can\\'t help but wonder if you \\'d be complaining so much about this\\'simple majority\\'thing if it was 51 % passing an amendment that FAVORED gay marriage.\"', '\"There is no requirement in the 2nd amend that a person must be in a militia to bear arms. Also tanks, fighter aircraft and yes even rockets are legal to own.\"', '\"I support embrionic stem cell research. Of course I support informed consent. I also think these are propoganda sights and so is what you are doing here. It\\'s far too telling in that you support a hands off approach to women\\'s reproductive organs around stem cell research - but not pregnancy.\"', '\"This is a racist statement. Also unsurprising from the anti-choice/anti-life crowd. And their constellation of views.\"', '\"It\\'s easy to come up with scenarios where you think a gun is the only escape, but then there are plenty of alternatives where guns take lives unnecessarily\"', '\"The bizarre creature appears to sit halfway between nippy carnivores and later, lumbering plant-eating therizinosaurs, although scientists can not be entirely sure what it ate itself.\"', '\"Creationists always refer to `` random chemical reactions `` as if there was anything random about chemical reactions.\"', '\"We can take your other definitions of creationism one at a time, thank you very much.\"', '\"I am with you on the life or death of the mother senario although it is my beleif that as a mother it is my job to give my life in exchange of that of my child/baby/fetus.\"', '\"What amazes me is someone could actually believe a constitutional ban on gay marriage is in anyway a contributing factor to divorce rates.\"', '\"I\\'ve never heard of A Framer is, but that quote by Samuel Adams was an amendment that Samuel Adams proposed to the Massachusetts Ratifying Convention. It was rejected by the Convention, so obviously there were many that disagreed with Adams. They were likely influenced by the recent Shay\\'s rebellion and the chaos and disorder that armed rebels had caused during that rebellion.\"', '\"Kelvin\\'s already proposed that the armed population of America has given serious protection to the US, specifically he mentioned Japan deciding not to invade.\"', '\"Bigotry assumes many forms, hides behind many facades, but always it is the same ; the social demonization of entire groups, classes or races of people in an effort to make them appear inferior and detrimental by their very existence.\"', '\"The ugly reality of life in America today regarding the secular humanist Left is that they support free speech as long as you agree with them.\"', '\"I\\'m sure that in atheistic materialistic states such as China, North Korea etc, the figures are somewhat different.\"', '\"and the ammunition was stored in a sealed pack, with severe punishments for the seal being broken.\"', '\"the amount of abortions would be static\"', '\"I admonish both sides : Pro-Choice people : Try to understand that a pro-life person dosen\\'t ( neccessarily ) want to control you, many simply believe in the sanctity of human life at conception.\"', '\"Atheist + pro-life is quite strange, but not unheard of.\"', '\"An education would help.\"', '\"Here\\'s an essay that I wrote for school this year ( 7th grade ) about global warming,.etc. Tell me what you think! : D\"', '\"We take a population of both long, short and medium, haired dogs to this environment. Over time, very short time, the population will only consist of the long haired dogs as the short and medium haired dogs would freeze and be wiped out by the cold conditions.\"', '\"mutations have never led to a higher life form.\"', '\"no surprise that an industry run by criminals keeps the black market well stocked with guns while being cheered by the gun lobby\"', '\"An interesting analysis of that article you keep quoting from the World Net Daily.\"', '\"The top 5 % of wage earners pay over 30 % of all Federal Income Taxes in the US because the majority of US citizens supported higher taxation on the wealthy.\"', '\"The Associated Press reports that Appomattox County court records show a concealed weapons permit was issued to a Christopher Bryan Speight three times between 1999 and last year.\"', '\"What an unbelievable load of codswallop. Clearly you\\'ve never read Matt. 7:21-23.\"', '\"And, she is being punished. She is serving life in prison -- as is Mr. Ridgway.\"', '\"banning firearms ( as often proposed by many democRATS ) is\\'reasonable \\'?\"', '\"I ask for an alternative theory.\"', '\"I have yet to find anything supernatural in myself.\"', '\"And can you please tell me the difference between nonrandom variation and directed variation?\"', '\"And Canada has laws that make defense with a firearm either impractical or out right illegal depending on just where you life.\"', '\"I assure you, and if you really wanted to, I can get the confirmation records, etc.\"', '\"And dont you get a kick out of SP calling herself a rational christian as she blasphemes God and attempts to disprove Him in every post?\"', '\"And ends with the woman, whose body is the one having to endure the pregnancy.\"', '\"Local firearms dealers said they havenÃ\\x82 â\\x80\\x99 t been able to keep that type of firearm on the shelves for months.\"', '\"The Bible contains many scientific and historic accurate lines in it\"', '\"And how do you KNOW this creature is that old?\"', '\"Have you been stopped for speeding and asked to sign one?\"', '\"The law in Switzerland requires that military weapons kept in the home be unloaded and stored under lock and key. I don\\'t think Switzerland is a gun-nut utopia.\"', '\"And I \\'d think the explanation would be that oxygen content was much different before the flood\"', '\"I disagree with your decision. It would have been better if you sucked it up and kept the kid. Even if you ended up on the street at least you wouldn\\'t have killed anyone. I dont mean to be judgemental, and I\\'m not calling you a bad person, but what you did was wrong.\"', '\"I highly doubt that God would be so asinine as to misspell the word `` describes. ``\"', '\"And I support the right to kill unborn babies or not as the mother in question sees fit.\"', '\"I wasn\\'t disappointed\"', '\"probably not because when do two things happen exactly the same way..\"', '\"I personally think conservatives undermine their stated adherence to originalism with their moral opposition to abortion influencing their legal thinking with the `` it\\'s not in the Constitution `` position.\"', '\"And if the little beakers are the most successful breeders than we would expect to see alot of little beaks in the next generation. Basically, the genetic variety is already present in the population, so exploiting that variety can happen quickly.\"', '\"If a woman isn\\'t allowed access to the morning after pill, isn\\'t allowed to have an abortion, and is forced to have a child, that will completely change her life. If a woman takes the morning after pill, later she may decide to have a family.\"', '\"We weren\\'t competing with chimps? Oh really? Doesn\\'t evo claim that the first humans and hominids appeared in Africa?\"', '\"And it is much easier to have an abortion than to be a mother.\"', '\"And it is their corruption of the morals and values America once represented that is the cause of so much hatred and disrespect from the rest of the World today.\"', '\"Legality and morality are disconnected, and it seems very obvious that the poster was referring to morality.\"', '\"And just as soon as you can show that has any relevance to the discussion, I \\'ll be happy to spend more time on it.\"', '\"and nobody has ever managed to do so ( though the concept of an invisible man in the sky is a little silly ).\"', '\"You might very well be acurate here, but no one asked for a time frame on a gun ban, only if it could happen. And Obama could very well hire someone right out of the gate to write a gun ban for him to send through a biased congress for approval, and then sign it himself, sending it into law.\"', '\"And since when was there a dichotomy between freedom and socialism?\"', '\"and the conversion of hearts and minds so that the law wouldn\\'t be needed.\"', '\"And the only reason the criminals hold handguns is because of the ban.\"', '\"and the organism is not equipped to function in any predetermined fashion.\"', '\"We are going downhill genetically. This is true for individuals and this is true for the population. And the reason for this is because humans are consistently deteriorating and degenerating from the high rate of mutations.\"', '\"and the system proposed in the US is not government run, by any stretch of the imagination.\"', '\"And there is much more evidence for a young earth and instant creation as well as a worldwide flood.\"', '\"The N.O.W. ( NAGS ) are a bunch of hypocrites anyway. You hardly ever see them stand up for women if it\\'s a conservative woman under attack. And they support the infanticide of the unborn under the guise of women\\'s health care, which is something only spiritually-dead imbeciles do. NOW deserves whatever they get.\"', '\"And they used scientific research to back their case!\"', '\"The fertility clinics are still `` killing babies `` aren\\'t they? Why are there so many protesters outside abortion clinics and none outside fertility clinics?\"', '\"The liberal hysteria about the tea parties and town hall protests, kicked off by the Obama administration & # 8217 ; s issuance of a Homeland Security bulletin warning of right wing terrorists and extremists, has led to a lot of hyperbole on the left about how, well, extreme and terrorist-like the right is becoming. And to be sure, there are some nuts who are politically active on the right who should probably be locked up for their own good. But there are plenty of nuts like that on the left as well.\"', '\"I believe that one of the reasons we are dealing with terrorism in the world is because we are committing mass murder on babies in the womb\"', '\"do you have proof of such a statement? And what does this have to do with writing an article? What a ridiculous comeback. You don\\'t know your evolutionary theory.\"', '\"And what fossil records can you show that one species of animal has evolved into another species of animal?\"', '\"And what of when you go by some moral standard to determine what is right and wrong in other peoples\\'lives as well?\"', '\"And what type of objectivist views do you have toward gay issues if I may ask?\"', '\"And where, pray tell are you pulling THIS strawman from?\"', '\"And where does the macroevolution feature in that combination?\"', '\"And where is their source?\"', '\"You\\'re in favor of government-run heaithcare, right?\"', '\"And why is your method superior?\"', '\"and why not in a university, people there are considered legal adults, after paying the money and doing the training, putting my fingerprints on record i would not be able to carry 70 % of my time in public, the other time i work in a gun store, not like someone is going to rob them in daylight, seems criminals, even armed ones, avoid places saturated with guns, something to think about huh? Mathurin\"', '\"I have seen this response from several people and have always wondered why some people would use religion as a crutch.\"', '\"and worse of all the distinction between Ã\\x82 â\\x80\\x98 humanhoodÃ\\x82 â\\x80\\x99 and Ã\\x82 â\\x80\\x98 personhoodÃ\\x82 â\\x80\\x99.\"', '\"either life evolves unoriented to environmental changes ( darwin ) or in response to environmental changes ( lamarck ).... there can be no middle ground... and you can\\'t pick both\"', '\"And you say that national geographic isn\\'t biased towards evolutionism?\"', '\"At the age of 77, in the year 2041, Andrea will be eligible for parole.\"', '\"Anecdotal evidence doesn\\'t affect statistical probability - that there was a single event says nothing about which is generally better.\"', '\"Does anybody who thinks animals don\\'t evolve care to explain any of this?\"', '\"The only reason that this was even posted was because it was another attempt to discredit anyone that is against gay marriage.\"', '\"The sentence you\\'ve quoted never made any such argument.\"', '\"Another slimy attempt by you to misrepresent my position. Of course eight children being murdered is a horrible tragedy but statistically it doesn\\'t tell us anything. You and your comrades might want to educate yourselves about the meaning of `` statistical significance `` before responding.\"', '\"My article was about the banning of swords in Australia. Another step in the tyrranicle overstepping of power by a government over its people.\"', '\"Explain to me how new information and new features equals to new structures and body parts.\"', '\"why are you righties so ANGRY all the time?\"', '\"Another wild-butt theory from the radical left. Liberals do love their Michael Moore theories. So prove it.\"', '\"I choose to call the god of time and chance The Almighty IT!\"', '\"So the answer to your question is that there is no answer.\"', '\"Archy isn\\'t even aware of the centuries of quibbling and waffling and just-so answers that have gone on among theologians about the problem of evil.\"', '\"I repeat in rebuttal to the ignorant, bigoted and hateful response above. Not to mention anti-american, prejudicial and irrational justification for attempting to deny free americans of their right to vote for a legally held proposition to amend the California Constitution according to the rules outlined in the Constitution of California. And for comparing Americans who simply voted, with Nazi\\'s who more resemble your groups tactics, than the LDS community.\"', '\"So I am anti-Christian because I don\\'t go around posting pro-Christian threads?\"', '\"Anti-Gun Radical Cass Sunstein Could Ban Hunting By Gun Owners of America, A No-Compromise Gun Rights Organization\"', '\"So letÃ\\x82 â\\x80\\x99 s just say I have a mythical Friend who is an agent at the FBI. And he calls me last week asking for info. To make short work of this conversation. He asks, Ã\\x82 â\\x80\\x9c am I familiar with eco-terrorist and Peta terrorism? Ã\\x82 â\\x80\\x9d I said I was. He then says, that there have been reports of Anti-gunners and other far left people who are very unhappy with the Obama AdministrationÃ\\x82 â\\x80\\x99 s seeming capitulation to standard practices, and they were threatening some kind of action. He says, I know you are active on debating forums, and he asks me, do I think the Anti-gunners are capable of terrorism? I told him that I really did not think it to be a credible threat from my experiences, and I thought that the Anti-gunner part was bogus. Antis! Please! DonÃ\\x82 â\\x80\\x99 t let me be wrong! Please! Let cooler heads prevail!\"', '\"If you believe that an analogy among `` extrauterine persons `` and `` intrauterine persons `` is absurd, you should demonstrate, scientifically, why should both, intrauterine and extrauterine persons, be different.\"', '\"Any attempt by the United Nations to restrict the right to bear arms in the US would be the last straw for the American electorate.\"', '\"Are there any experts on Canadian or international law here? If I get married in Canada and the license is not recogised in the United states. Is there a possiblity of going to court in Canada and getting the Canadian government to to recognise marriage licenses from the United States?\"', '\"When considering any given biological feature ( for our purposes typically the DNA from which a protein or group of proteins are derived ),\"', '\"Any man who prays or prophesies with something on his head disgraces his head, but any woman who prays or prophesies with her head unveiled disgraces her head\"', '\"Is Archie just the greatest example ever of Poe\\'s law, or is he really serious? Hard to tell, isn\\'t it?\"', '\"I think anyone who kills an unborn child with a knife to the head is a murderer.\"', '\"Any scientist has the opportunity to study ID.\"', '\"Any similarity to the Natural History Museum in London is imaginary. None of the displays in London are based on mythology.\"', '\"That is one negative I see to the side of evolution as any species who could use the sun for energy could survive almost anything just as plants have.\"', '\"Can you name any nation that has operated under your idea of socialism successfully?\"', '\"Is there any way to make a person out of a rib?\"', '\"I\\'ve new to this site and everything and have spent a lot of time going through the abortion forum because I\\'m about to have one and am curious as to what people are discussing. It seems that a lot of people have very strong opinions on abortion, but that\\'s about as far as it goes, opinions. Has anybody on this forum ever had any experience with abortions? Ever had one yourself or know someone who had gone through it? Just curious as to how many people have gone through this traumatic event because I know that for myself, even being pro-choice, my opinions and views have changed. For instance, I don\\'t for a second buy into the bs that is `` a fetus is not alive or a human being ``. I know for a fact that the baby growing inside me alive, I just can not accept it at this time in my life. Thanks for your responses.\"', '\"Take those legal alternatives away and it \\'ll be nothing more than a nation of several hundred million criminals.\"', '\"anyone can purchase a fire arm without a background check or gun safety training?\"', '\"What would you rather have your politicans talk about : Gay marriage and how to ban it, or Securing the borders, nuclear plants, water plants and the country as a whole from terrorist attacks. Properly funding education to ensure that the future generatios are smarter then the previous. State and federal fisical policies and the long term affects on irresponble behavior. Medicare and how it will soon be eating up ever larger portion of state and federal budgets. Is anyone else willing to stand with me in declaring that Gay marriage is nothing but a method for politicans to avoid dealing with the real issues?\"', '\"Can anyone explain to me why no other apes, monkeys or chimps have evolved into a higher species?\"', '\"Can anyone explain to me why no other apes, monkeys or chimps have evolved into a new ( i.e. human ) species?\"', '\"Anyone not currently in prison.\"', '\"As in anyone who can legally own a firearm should be able to carry it without needing permission.\"', '\"No, anyone who denies one freedom is a slaver. If you think about it, slavery requires life.\"', '\"I maintain that anyone who disagrees with this point of view is a depraved monster, a moral leper who is unworthy to be called a true human being.\"', '\"Is there anyone who doesn\\'t think species come from earlier species?\"', '\"Pro choicers claim they are for the rights of women. If that is true why don\\'t pro-choicer want the pregnant women who seek abortion to be informed.\"', '\"Anyone who sticks to beliefs that a god created the earth just 6,000 years ago is an XXXXX.\"', '\"Anyone who throws a punch must be ready to recieve one with twice the force delivered.\"', '\"The books of the NT ( GOSPELS ) were agreed on due to their content being inspired by God. Anything `` rejected `` did not contain that inspiration.\"', '\"my perfect image of God has cost me years of pain with a more recent almost crippling of my right leg followed by 7 hours of surgery ( including 11 inches of surgical incision - front and back ) to correct my perfection by removing the debris left by two disintegrating disks and inserting two steel frame disks and screwing two steel rods into my vertebrae in the gutter on either side of my spine. The muscles that used to lie in those gutters are sutured over the top, and they are not happy with their new position.\"', '\"Legal immunity set for swine flu vaccine makers : What are the implications? AP Medical Writer Mike Stobbe got a swine flu vaccine scoop -- yet the news is four weeks old. It turns out that DHHS Secretary Sibelius has not only given immunity to the makers of Tamiflu and Relenza for injuries stemming from their use against swine flu.\"', '\"If we try to define that difference then things become murky. If we use attributes like intelligence, language, emotions, etc. which apes also possess then theoretically apes could evolve into beings of the same nature as humans. This difference must be of such a nature that other species do not have the building blocks to recognize the quality through evolution.\"', '\"Apparently gay marriage is more threatening than unmarried gay couples are.\"', '\"Apparently he used a rifle.\"', '\"Nowhere is it scientifically inaccurate?\"', '\"I would appreciate it if some of you experts could give me some simple answers to a couple simple questions and help me with some of my doubts.\"', '\"I can appreciate this slant, however I think that a true feminist approach would be to support women who want their pregnancies by finding solutions to the reasons they feel an abortion would be their best choice.\"', '\"April 20, 1999 : Students Eric Harris, 18, and Dylan Klebold, 17\"', '\"Pro-lifers seem to want the definition of human with attendant rights to begin at conception.\"', '\"Then you have mutations, which are all either neutral or deleterious.\"', '\"There are extensive depositives of coal throughout the whole world which indicate a Global Flood with catastrophic conditions.\"', '\"They are human bodies, but not beings. Beings are alive, corpses aren & # 8217 ; t. So, the fetus is a human being, a dead person is a human corpse.\"', '\"We thought they were made in God\\'s image and not related to animals.\"', '\"Zoos are indeed a good example.\"', '\"There are many other perceived gods out there, that is true. But in reality, there is only one TRUE GOD in all of Time and Space. All others are either man made counterfeits, or demonic in nature, but they have no power to stand against the living God.\"', '\"You\\'re an atheist, aren\\'t you?\"', '\"IThere are no half-ape men found in the fossil record.\"', '\"Are not all people conceived in this country deserving of life, liberty and the pursuit of happiness?\"', '\"If you reject the literal account of the Creation in Genesis, you are saying that God is a liar!\"', '\"You dont have to believe rediculous lies to believe that God created the universe.\"', '\"I don\\'t support any laws that would allow a father not to have a say so about his child being aborted.\"', '\"Are they planning fun fair rides and people dressed as Mickey Mouse at this place? That gives me an idea. Why don\\'t we have a competition to come up with the best suggestion for a display or show at this theme park?\"', '\"If abortion is made illegal I predict that you will see across the border abortion clinics, in canada and states that still premit abortion.\"', '\"Where are the pro choice people? What is their position on this? Can they say that women have inherent value and worth and what is their reasoning? Are women inherently more valuable than plants and animals and what is the reasoning behind your answer?\"', '\"Are you asking for the text book answer on what I know to be true about God or are you asking what my behavior tells me that I actually believe about God?\"', '\"Are you refering to Japan or some hypothetical police state?\"', '\"Are you religious? Yes, no. If yes, what type of religion are you?\"', '\"What is the problem with reptile to bird lung evolution? Plausible scenarios exist. Are you saying it couldn\\'t have evolved?\"', '\"Are you saying you think the Supreme Court has the power to get rid of laws they feel are outta date?\"', '\"Are you suggesting that belief in a devine being, whether real or not, who holds us accountable for our actions is a problem?\"', '\"Are you sure about that? Do you know who mai\\'ana is?\"', '\"are YOU willing to settle for legal recognition of your relationship with your spouse under federal and state laws as a `` civil union `` only? You would still maintain the right to consider yourselves as `` married `` under whatever religious denomination you choose.\"', '\"Your lamarckian argument against MNS has fallen prey to the same misconceptions about this issue as the creationist line has.\"', '\"I think the main pro-life argument from the libertarian camp is that pro-life laws are a form of `` negative intrusion, `` just like laws against murder, rape or theft.\"', '\"I believe that there are three stage to the overall theory of evolution :\"', '\"why are you reffering to my arguments as `` bullets ``?\"', '\"So these arguments I get from the likes of you and Iangb which argue that until a child shows mental awareness, it isn\\'t actually a person deserving of human rights is a bogus and shortsighted position according to the scriptural point of view. Of that, there is no question.\"', '\"I do this all the time with one decision or another.\"', '\"I think it is only logical as an atheist to say that evil is a relative term and thus does not truly exist.\"', '\"You\\'re using, as an example of a \\'developed nation \\', an area the article describes as being `` where the government has little control and private armies operate freely ``?\"', '\"Don\\'t ever let anyone force you into having an abortion, and never see a Planned Parenthood specialist if you\\'re pregnant!\"', '\"The Daily Telegraph is in the pocket of big business interests, it\\'s about as trustworthy on this as Exxon Mobil\\'s PR department. I can also quote from the information sheets on the website of the unit : `` The year 2005 was the second warmest on record, exceeded by 1998 `` So, in other words, the torygraph is manipulating statistics and talking out of their collective arses. They chose the two warmest years on record and tried to make something out of the fact that the warmest was before the second warmest.\"', '\"As far as politicians and gun-control goes what I\\'m most worried about is the NRA corrupting politicians.\"', '\"I\\'m sure there have been more repeat murderers than innocent people put to death.\"', '\"As for God communicating to us, there is nothing that prevents that.\"', '\"I have serious concerns about research done by Lott.\"', '\"As for those who would redesign science to include it well, XXXXXX are everywhere what else can you do about it except hope they donÃ\\x82 â\\x80\\x99 t come to power?\"', '\"Life is not a simple matter of black and white, cut and dried answers.\"', '\"The anti-choicers support this. a.k.a anti-lifers.\"', '\"As instead of being a debate about abortion it has become a semantic nightmare.\"', '\"As I understand, the Second Amendment was written as a protection against political tyranny.\"', '\"The Founding Fathers knew that the King of England had used a standing army to oppress the people in the past. The solution was a well regulated militia and to not limit arms ownership to those in the military.\"', '\"Robert Naeye, a writer for Astronomy magazine and an evolutionist, wrote that life on earth is the result of\"', '\"It\\'s a step toward legal same-sex marriage in another jurisdiction. As it becomes legal in more areas, an amendment will be more difficult.\"', '\"But it is o.k. for them to repeatedly break the law like yourself speeding again and again, as long as they sign the ticket. What hogwash.\"', '\"What\\'s your point? Of course they will be bound by Heller just as the courts are bound by Roe v. Wade.\"', '\"As many polls have shown, the more educated a person becomes, the less likely it is that he/she is a creationist.\"', '\"Mass. lawmakers delay vote on gay-marriage ban http : //news.yahoo.com/s/nm/20060713/... ghts_gays_dc_1 The anti-gay family groups ( mass resistance, etc. ) are are not happy about this move. Time is on our side, as more time passes more and more people are in support of full marriage equality.\"', '\"As much as we try to ignore it, we are simply higher order animals who act on complex, but still instictive, reasoning....\"', '\"We can not guess what they might be. Nevertheless, we can still makes statements about the statistical likelihood of such an accident occurring, yes?\"', '\"Worse, as Plato said, it is like a disease in the brain.\"', '\"I know it\\'s almost as silly as thinking gay marriage will undermine heterosexual marriage.\"', '\"In fact, as the article pointed out, the particular group of lizards to which this new population belongs, does not have cecal valves..\"', '\"As the Christian Right\\'s poster boy, this is hugely damaging, don\\'t you think?\"', '\"As the Christian Right\\'s poster boy, this is hugely damaging, don\\'t you think? Also makes him very hypocritical ( or, dare I say, a FLIPFLOPPER?! ) since he is campaigning against open abortion now.\"', '\"as they to Have the wrong hands\"', '\"As well as Chinese nationalist science, there\\'s Marxist Science\"', '\"here is no up or down in space. I only used clockwise as an example. It could have been counterclockwise. Still, that doesn\\'t counter my example.\"', '\"Aside from the general gay bias demonstrated by the author, the author attempts to make parallels and draw contrasts that donÃ\\x82 â\\x80\\x99 t exist. For example,1 ) if liberals are such strong supporters of Ã\\x82 â\\x80\\x9c equality as a fundamental rightÃ\\x82 â\\x80\\x9d why do they promote policies that favor one group over another? Affirmative Action, graduated income tax, the list goes on and on. 2 ) there is no proof that a personÃ\\x82 â\\x80\\x99 s sexual orientation is determined at birth, so does that mean that liberals have greater Ã\\x82 â\\x80\\x9c faithÃ\\x82 â\\x80\\x9d than conservatives? 3 ) Of course if you throw out morality as a basis for law, thereÃ\\x82 â\\x80\\x99 s no reason, other than economics, to not allow gay marriage. Of course, liberals should also all favor drugs, alcohol, prostitution, gambling, polygamy, and open marriage, since all of these are moral-based laws as well. Come to think of it, if we remove all religious-based laws, why are they pushing for gays to be included in MARRIAGE, one of the most legally oppressive institutions there is?\"', '\"tell me this and ask as many questions as you want, I can answer and truthfully.\"', '\"I\\'ve asked repeatedly for an example of a mutation that beneficially alters phenotype and have yet to receive one.\"', '\"maybe repealing the assault weapons ban wasnt such a good idea do I hear some gun nuts saying oops\"', '\"What if the costs associated with the pregnancy were paid for along with a stipend?\"', '\"SupersportÃ\\x82 â\\x80\\x99 s plasticity hypothesis assumes that organisms were given a DNA sequence that allowed them to adapt to all challenges that they ever faced, giving us the fossil record as we know it.\"', '\"I list it as an assumption because nothing can be proven completely\"', '\"Astronomers have debated Arp\\'s assertion that quasars are related to peculiar galaxies since the late 1960\\'s.\"', '\"There are sections of evolution that include : * Astronomical evolution ( e.g big bang ). * Chemical evolution ( i.e. life from non-life ). * Biological evolution - two types - micro-evolution ( small changes ). - macro-evolution ( large changes, fish to philosopher evolution so to speak, e.g. reptile into bird evolution, etc. ).\"', '\"At first the christian church was small. Then, a little later, it grew and as it grew and spread, it changed a little. Then, a little later, it unified and was called the Catholic church. Then later, there was a split, The Great Schism, and the Pretestant church was born, and it allowed some different sects and orders and eventually denominations to emerge. Today, we see a very diverse and widespread variety of christian churches that vary with geography.\"', '\"The genetic difference between human and his nearest relative, the chimpanzee, is at least 1.6 % Calculated out that is a gap of at least 48 million nucleotide differences that must be bridged by random changes.\"', '\"at least not the kind you chance-worshiping evolutionists want.\"', '\"at least the court made the correct decision and didn\\'t just try to make new laws.\"', '\"At the current rate of sedimentation, the accumulation of sedimentation from the continents `` implies that the present ocean floors have existed less than 15 million years. `` Fossil evidence supports the current rate of sedimentation. ( Science says the age of the ocean floors is around 200 million years old ).\"', '\"Intelligent information-processing must come into existence in the Universe, and, once it comes into existence, it will never die out.\"', '\"How strange that this thread that aims at the heart of the basis of creationism and IDiotism has gone unanswered. Could it be that creationists and XXXXXX recognize the weakness of their position and have no answer?\"', '\"Life begins at the point of conception.\"', '\"At the risk of getting flamed : well for starters science doesn\\'t disprove god. Any opinions about the existence ( or non-existence ) of any kind of god come from personal experience, and analysis of current evidence.\"', '\"Isn\\'t this just saying that you can\\'t even put the moral belief of not putting you moral beleifs on people on to others. At which point the whole moral thing breaks down anyway.\"', '\"The only five possibilities for ultimate meaning and values are : atheism - ( no God ) humanism - ( man as God ) polytheism - ( many gods ) pantheism - ( one immanent God ) theism - ( one transcendent God - Genesis 1 )\"', '\"I will agree that atheism can be considered a religion, after all it is a set of beliefs about the supernatural\"', '\"Atheism hasn\\'t ever hurt anybody.\"', '\"Atheism is a curse!\"', '\"The atheist needs to explain how something can exist thatÃ\\x82 â\\x80\\x99 s not material, can not be observed, and is absolute.\"', '\"Sorry atheists, scientists believe that the earth is billions of years old, because of something called radioactive decay. Well, the truth is, the earth is only about 6000 years old. God says so in the Bible.\"', '\"Atheists are clearly capable of all of these, but if human beings are just collections of bones, blood and tissue, what do these things mean and why is there any virtue in them?\"', '\"Atheists have no framework for morality. Morality only comes from Christianity.\"', '\"When Atilla marched on rome, he started with less than 2000 men. He picked up hundreds of thousands on the way through, people dissatisfied with the Roamsn policies.\"', '\"Evolutionists, in an attempt to win converts, have a habit of saying evolution is a fact.\"', '\"These types of verses are anthropomorphic in nature, meaning that the writer is attributing human characteristics to God.\"', '\"I don\\'t believe a right to personal autonomy exists\"', '\"If they\\'re voting then they should be paying taxes too. There\\'s no excuse for those lazy stiffs to avoid being miserable along with everybody else. Nobody ever said that taxes had to stop just because you do.\"', '\"First of all, compare the\\'B\\'specimen in your fossil link to the modern specimen and point out any significant difference to me.\"', '\"seems to me that people dont really care about how the baby feels. It has just as much feeling as the mother.\"', '\"How can you think that a baby that isn\\'t born yet a nonentity? yeah im only 15 and yet i know that what `` abortionist\\'s `` say is a load of * * * *!! I feel sorry for you when i get older because im determined with all my heart to stop abortion! I believe God put me on this earth to stop you people from killing his creation! Hear my words i hate liberals and i will never change my mind about abortion. I try to love everyone but it\\'s hard for me to love somebody who kills an innocent child.I am pro life!\"', '\"God is responsible for GBII election - he has done so much for this country to try to get us back on moral track\"', '\"Total Background checks = 111,582,241 Checks for multiple guns = 1,621,282\"', '\"Scientists have long believed that bacteria in the intestines, known as Bacteroides, could exchange genetic information. Under certain conditions bacteria might copy and pass specific genes on to other bacteria which incorporate them into their genetic makeup, a process known as conjugation or horizontal gene transfer. Biologists, despite the evidence, have refused to acknowledge that we are all wholes Ã\\x82â\\x80\\x93 they see us only as an accumulation of parts.\"', '\"More bad news for the global warming ideologues... Some are calling this `` climategate `` in other articles.\"', '\"Do you object to this ban for reasons other than `` It\\'s a pointless waste of money ``?\"', '\"This is ridiculous and barbaric. This woman should have had access to safe, legal and easily accessible abortion. It is shameful that she should have been reduced to such circumstances.\"', '\"He was barred for presenting hard evidence against the Big Bang. Observable evidence.\"', '\"Based on man\\'s opinion.\"', '\"The point should be made that explicit selection for EM seems to necessitate both the occurrence of codon reassignments and group selection to generate and select alternate codes.\"', '\"You are basically implying that if pro-lifers wouldn\\'t oppose the pro-choice movement, you all could work more toward making it rare.\"', '\"Based on threads I\\'ve been reading here, there is a real tendency among some of the pro-choicers to portray pregnancy as a horrible thing that cause women to suffer\"', '\"Based on what I was taught in my religous education in a catholic school and discussion with a cahtolic preist the spanish inquistion was at times very strict and discussing the geocentric model would have been risky at the time.\"', '\"Basic law 101 : you can be driving by the time you\\'re 15 and a half.\"', '\"The same basic story of a Global Flood is found in hundreds of cultures around the world, including hte Australian Aboriginals.\"', '\"basically, something with logical necessity must exist in every reality, including ours\"', '\"Be Afraid. Be Very Afraid. The baddies are coming to get you! WOOOoooH! Buy A gun! Better still buy two!\"', '\"Sawn-off shotguns are still the weapon of choice for the more serious armed criminal and can now be bought illegally for between Ã\\x82Â£50 and Ã\\x82Â£200, according to Home Office research. A purpose-built 9mm handgun, which is easier to conceal than a shotgun, is available for Ã\\x82Â£1,000-Ã\\x82Â£1,400 on the back streets of Britain while those wanting `` a gangster image `` can buy a machine gun for Ã\\x82Â£800. Even though those interviewed were in prison, many still viewed gun crime as a `` viable career option `` enabling them to overcome their deprived backgrounds to secure wealth and status. One man from Greater Manchester claimed he had earned Ã\\x82Â£52,000 in a week from gun crime. The study shows that though Nottingham is dubbed Britain\\'s gun crime capital, guns are far more available in Manchester, Liverpool, Birmingham and London.\"', '\"Be sure to give your guns a big fat kiss tonight before you go to bed tonight \\'cuz guns did really good today.\"', '\"Because Apes, monkeys and chimps are on different paths. You wouldn\\'t expect a shark to evolve into a barracuda-like animal. things evolve to fill niches, we currently fill a niche, there is nothing pushing apes, chimps or other primates to fill a niche that is occupied.\"', '\"Because guns are the best method available on the market. Settling for second best when you could have the best is just stupid.\"', '\"I\\'ve new to this site and everything and have spent a lot of time going through the abortion forum because I\\'m about to have one and am curious as to what people are discussing. It seems that a lot of people have very strong opinions on abortion, but that\\'s about as far as it goes, opinions. Has anybody on this forum ever had any experience with abortions? Ever had one yourself or know someone who had gone through it? Just curious as to how many people have gone through this traumatic event because I know that for myself, even being pro-choice, my opinions and views have changed. For instance, I don\\'t for a second buy into the bs that is `` a fetus is not alive or a human being ``. I know for a fact that the baby growing inside me alive, I just can not accept it at this time in my life. Thanks for your responses.\"', '\"Why is this so important?! Because if a woman has not used her eggs ( meaning has not gotten pregnant ) Then the unfertilized egg is discarded, leaving room for a new egg to drop, and be fertilized.\"', '\"Because if evolution can not explain all changes it is false,\"', '\"Because it will encourage teens to engage in riskier behavior.\"', '\"Just because people have all sorts of views on the subject does not mean that there isn\\'t a right answer.\"', '\"You may be right, you may be wrong. It doesn\\'t matter to me either way because the Constitution allows the states to do as they wish regarding abortion.\"', '\"Because they have evolved beyond a desperate paranoia about their fellow countrymen.\"', '\"Because they knew full well that the bulk of the confiscated weapons never came from the United States!\"', '\"Because they would not be performing homosexual acts any longer.\"', '\"God does not fill the word `` who `` because to most accounts he is not a person, or being....\"', '\"Because to not view it as sacred presents a greater potential for harm. People sometimes to take a disposable view of things that they consider unimportant. To view humanity as sacred helps protect humanity.\"', '\"Just because you think you are entitled to what I earn doesn\\'t make it so. Earn your own.\"', '\"Maybe because your solution is government and their record in that area is abysmal. Medicare, Medicaid and VA healthcare are all broken. Perhaps if the government could fix them then they might be trusted to not screw up the total healthcare system.\"', '\"I & # 8217 ; m against gay marriage and have been happily married for 31 years, thereby disproving your BS.\"', '\"Done been posted on two or three threads here already. You are a smart boy, do your own search and maybe you won\\'t forget.\"', '\"When doctors declare that no physical cause can be found for a chronic pain this means no more than in the present state of medical knowledge, nothing can be discovered that explains why the patient feels pain. It should not be inferred that a non-physical cause is therefore the culprit. Before invoking a psycho-somatic explanation of chronic pain, we need to be certain that a purely physical cause is absent : I don\\'t think that is possible. Medicine, like every other true science, is grounded in probabilities.\"', '\"The public option before the Congress is not subsidized.\"', '\"That\\'s not true according to the textbook claim : `` Before the industrial revolution, * most * of the moths were * light *. This was because the * dark * forms resting on light tree-trunks were more easily spotted, and thus eaten, by birds. When pollution darkened the tree trunks, the * light * forms then had less camouflage, so they were preferentially eaten by birds, and the * dark * forms became dominant in the population.\"', '\"See Begging the Question\"', '\"Behemoth has the following attributes according to Job 40:15-24 It Ã\\x82 â\\x80\\x9c eats grass like an ox.Ã\\x82 â\\x80\\x9d It Ã\\x82 â\\x80\\x9c moves his tail like a cedar.Ã\\x82 â\\x80\\x9d ( In Hebrew, this literally reads, Ã\\x82 â\\x80\\x9c he lets hang his tail like a cedar.Ã\\x82 â\\x80\\x9d ) Its Ã\\x82 â\\x80\\x9c bones are like beams of bronze, His ribs like bars of iron.Ã\\x82 â\\x80\\x9d Ã\\x82 â\\x80\\x9c He is the first of the ways of God.Ã\\x82 â\\x80\\x9d Ã\\x82 â\\x80\\x9c He lies under the lotus trees, In a covert of reeds and marsh.Ã\\x82 â\\x80\\x9d Job 40:15-24 ( New International Version ) 15 `` Look at the behemoth, [ a ] which I made along with you and which feeds on grass like an ox. 16 What strength he has in his loins, what power in the muscles of his belly! 17 His tail [ b ] sways like a cedar ; the sinews of his thighs are close-knit. 18 His bones are tubes of bronze, his limbs like rods of iron. 19 He ranks first among the works of God, yet his Maker can approach him with his sword. 20 The hills bring him their produce, and all the wild animals play nearby. 21 Under the lotus plants he lies, hidden among the reeds in the marsh. 22 The lotuses conceal him in their shadow ; the poplars by the stream surround him. 23 When the river rages, he is not alarmed ; he is secure, though the Jordan should surge against his mouth. 24 Can anyone capture him by the eyes, [ c ] or trap him and pierce his nose?\"', '\"Is Sarah Palin being a manly sort when she shoots a wolf from a helicopter?\"', '\"When does a human become a person? When does a humna stop being a person?\"', '\"Moral belief may have been used to justify opposition on civil rights and women\\'s rights, but I don\\'t think gay lobbyists realize how much moral belief IS the basis for opposing gay marriage. It\\'s not the excuse, it\\'s the reason. There\\'s a vast difference, and it\\'s why the public hasn\\'t bought into the propaganda that this is just another civil rights issue.\"', '\"Now onto the mother dieing if giving birth this is juss my opinion and belief if iwas the mother i would have first married a husband who would raise the kid up right after i died.\"', '\"Does belief in intelligent design preclude belief in evolution Forgive me for I am sure all of you must have all ready discussed this at some time in the past. I believe in something very much like intelligent design but I also believe in evolution. I believe in a creator but summarily reject the bible.?\"', '\"Belief that memory and free will exist but do not take up space does not require belief in a personal god.\"', '\"I\\'m an atheist pretty much the same reason you are an atheist\"', '\"I believe fully in the ENTIRE Bible ( unlike some people ) and I DO NOT `` pick and choose `` what I believe.\"', '\"I believe prochoice people support choice. I don\\'t know what proabortion people support. I\\'ve never met one.\"', '\"Do you believe that a woman should be able to choose if she wants an abortion or should it be the government\\'s choice?\"', '\"Most evolutionists believe that matter and time were created by a `` Big Bang. ``\"', '\"I believe there has to be a God because I see no compelling evidence that life spontaneously generated from non living chemicals.\"', '\"I have believed that God created everything \\'in the beginning\\'for as long as I can remember. There was a time in my life where I believed that God created evolution, but after seeing the video, I changed to total creationist.\"', '\"Yes you can it is called belonging to a religious group. Which should not be protected as it is only a choice.\"', '\"I am unaware of Berlinski\\'s ID theory of which you speak.\"', '\"Perhaps Dr. Pigluicci doesnÃ\\x82 â\\x80\\x99 t see a difference between the organization of a hurricane and the organization of a living system. Most people do see a difference. The deterministic mechanisms that affect a hurricane are well understood and predictable.\"', '\"who wants to go back to 40 year average lifespan, like they have in Afghanistan? Not me.\"', '\"you could just as easilly acquire the same level of armament as used in Warsaw illegally, post-ban.\"', '\"genes are not generators of morphology, they are modifiers of morphology.\"', '\"While Wong [ 9 ] highlighted the precursor-product relationships between amino acids and their crucial role in defining the organisation of the genetic code, Miseta [ 10 ] clearly identified that the non-amino acid molecules that were precursors of amino acids might have been able to play an important role in organising the genetic code. Miseta [ 10 ] suggested the idea of an intimate relationship between molecules, the intermediates of glucose degradation, as precursors of precursor amino acids, and the organisation of the genetic code. This observation is also analysed by Taylor and Coates [ 11 ] who showed the relationship between the glycolytic pathway, the citric acid cycle, the biosyntheses of amino acids and the genetic code ( Fig. 1 ) and, in particular, they point out that ( i ) all the amino acids that are members of a biosynthetic family tend to have codons with the same first base ( Fig. 1 ) and ( ii ) that the five amino acids codified by GNN codons are found in four biosynthetic pathways close to or at the beginning of the pathway head ( Fig. 1 ) [ 11 ]. More recently, Davis [ 12,13 ] has provided evidence that tRNAs descending from a common ancestor were adaptors of amino acids synthesised by a common precursor and he also discusses the biosynthetic families of amino acids, suggesting their importance in genetic code origin.\"', '\"His bias shows in his writing. It doesn\\'t take a genius to see that the tone is not one of balance.\"', '\"Nowhere in the Bible is abortion specifically prohibited but the foundation of Christian argument from a biblical perspective is the fact that the unborn being is established as a person from the moment of creation.\"', '\"The Bible even suggests that all Christians have a duty to go and spread the word and attempt to convert others to Christianity.\"', '\"I wonder why the bible has convinced some but not others.\"', '\"The bible is nothing more than a book of morals meant to give those who have nothing to live for a reason to live.\"', '\"If someone says the big bang people have to say the big bang and not the `` evolution of the universe `` because it will just waste time.\"', '\"I have already proved the Big Bang to be a big dud, so we need not go over this subject again\"', '\"The big government people will tell you that it\\'s in everybody\\'s best interest. The criminals will just kill you without debate.\"', '\"South Dakota\\'s governor has signed the bill prohibiting doctors from performing abortions in the state of South Dakota.\"', '\"They said that biological evolution has a simple scientific definition, and they were right. That term is often shortened to simply \\'evolution \\', especially by practicing scientists - just as the word \\'grip\\'is used without confusion on the set of a film, despite it having a different meaning to that employed in other fields. The fundamental problem was this : you wanted to argue your case based on vague popular or layman\\'s usages of the term.\"', '\"the fetus is human The fetus is also a parasite, and if the woman chooses to do so, she has the right to extract it from her body.\"', '\"They mobilize all their people and all their assets in support of their official ideological goals.\"', '\"Biology IS evolution.\"', '\"The Biotic Message Theory suggest the teleological goal for biotic reality is to communicate to humans that there is one Designer and author of life, and that life could not have evolved.\"', '\"Don\\'t quote yourself. What did I just say? Nothing is ever proven, except in math. But, yes, papers are published all the time with loads of evidence pointing to the fact that birds evolved from dinosaurs.\"', '\"So the bishops finally did it. They\\'ve been threatening to do that for years. Well, I guess it\\'s time to yank their tax-exempt status from them.\"', '\"Bleating about the stars being placed in such a way as to look older than they really are means that his God either intended us to believe something not true, or intended us to live in ignorance of reality. His confusion over light/years vs time/distance suggest Archie cleaves to the latter.\"', '\"Blood relationships are never based on choice, yet they entail moral obligations, nonetheless.\"', '\"People there occasionaly owned guns, but what could a few familiy fathers do when the army comes and shoots everyone. Not much.\"', '\"Still dumb to compare the two. Both are no good.\"', '\"Both Presidents were shot in the back of the head, on the Friday before a major holiday, while seated beside their wives, neither of whom were injured. Both were in the presence of another couple, and in each case that man was also wounded by the assassin. After both assassinations there were loud and insistent claims that the fatal shot must have come from a different direction. Each President in his thirties married a socailly prominent twenty-four year old girl who spoke French fluently. While in the White House, each President had a family of three children, and both lost a child through death. Both Lincoln and Kennedy were second children. Both had been boat captains. Both were related to a U.S. Senator, Attorney General, ambassador to Great Britain, and the mayor of Boston. Each had been elected to Congress in the year \\'47 and were vice-presidential runners-up in the year \\'56. Each was elected president in \\'60. Before each was elected, a sister died. Both had a friend named Billy Graham and knew an Adlai Stevenson. President Kennedy had a secretary named Mrs. Lincoln and President Lincoln had a secretary named John Kennedy. The names Lincoln and Kennedy each contain seven letters. Both were succeeded by vice-presidents named Johnson : Andrew born in 1808 and Lyndon in 1908, both of whom had 13 letters in their names and two daughters. Both assassins have fifteen letters in their names. Booth shot Lincoln in a theatre and fled to a warehouse. Oswald shot Kennedy from a warehouse and fled to a theatre. Both assassins were in their turn assassinated by shooters who used a Colt revolver and fired only one, fatal shot.\"', '\"Lets say that at some point in the near future a world was found on which lived beings with an intelligence and self awareness like our own along with society, religion and culture. These Beings have a religion that contains a story that says their world was created by a deity 3000 years after when literal Genesists say the earth was created ( ie. if now, this would make their universe 3000 years old ). When the religious members of each race discover the others beliefs, it causes much consternation as both claim to have the truth of God on their side. How would each group of literal belivers react to the other? the Genesists say the Beings story can not be correct because the Bible is the word of God and it records 6000 years of history. The Beings can not accept the history of Genesis as it claims th universe existed 3000 years before their holy text records the creation of the universe and their first members by their God. Both claim to have the evidence of the word of God in their holy books, and their respective histories are truth. But their truth\\'s disagree........ who is `` right `` who has the real `` truth ``?\"', '\"i love these kinds of arguments! both sides are in denial and see the other as stupid.\"', '\"Scarily, both of those are prohibited weapons in Australia.\"', '\"Both Presidents were shot in the back of the head, on the Friday before a major holiday, while seated beside their wives, neither of whom were injured. Both were in the presence of another couple, and in each case that man was also wounded by the assassin. After both assassinations there were loud and insistent claims that the fatal shot must have come from a different direction. Each President in his thirties married a socailly prominent twenty-four year old girl who spoke French fluently. While in the White House, each President had a family of three children, and both lost a child through death. Both Lincoln and Kennedy were second children. Both had been boat captains. Both were related to a U.S. Senator, Attorney General, ambassador to Great Britain, and the mayor of Boston. Each had been elected to Congress in the year \\'47 and were vice-presidential runners-up in the year \\'56. Each was elected president in \\'60. Before each was elected, a sister died. Both had a friend named Billy Graham and knew an Adlai Stevenson. President Kennedy had a secretary named Mrs. Lincoln and President Lincoln had a secretary named John Kennedy. The names Lincoln and Kennedy each contain seven letters. Both were succeeded by vice-presidents named Johnson : Andrew born in 1808 and Lyndon in 1908, both of whom had 13 letters in their names and two daughters. Both assassins have fifteen letters in their names. Booth shot Lincoln in a theatre and fled to a warehouse. Oswald shot Kennedy from a warehouse and fled to a theatre. Both assassins were in their turn assassinated by shooters who used a Colt revolver and fired only one, fatal shot.\"', '\"What\\'s your point? Of course they will be bound by Heller just as the courts are bound by Roe v. Wade.\"', '\"If information came into being by chance, how can we know that anything is true?\"', '\"Do you know what is breast feeding? Human beings are mammalians?\"', '\"Why did you just bring back a four year old thread?\"', '\"you suddenly get all soft on crime when you dont like the law,\"', '\"If she had access to contraception and information about contraception or the option of sterilization. If she\\'s in the Third World, Bush has cut off funding for access to contraception and information about contraception.\"', '\"In Canada anyway, the father must be identified on the medical records ( to the best of the woman\\'s knowledge anyway ). I haven\\'t seen the medical records, I don\\'t know if Bush was indicated as the father or not, but to the best of my knowledge, they have always asked who the father was.\"', '\"Possibly, but also aren\\'t the people most likely to start `` legitimate `` business selling these drugs the people who are doing it already?\"', '\"Measuring how far away something is does not necessarily tell it\\'s age.\"', '\"But itÃ\\x82 â\\x80\\x99 s not just tadpoles\"', '\"Hi, i\\'m doing an research experiment for my isu project in sociology. So, I did a survey and I hope you will fill it out.\"', '\"There ` s not so much I could discuss as I don ` t really know much about the US constitution. But as it seems to be quite few responses I thught I could try to stir the pot a little.\"', '\"It sounds like you are mainly concerned with health issues that could very potentially lead to the mother\\'s death and or/complete debilitation ( like paralysis ), and I \\'d be much more open to that. But as you said, we have two extremes to choose from, and SCOTUS chose the one that doesn\\'t take into account the woman\\'s health for this particular procedure.\"', '\"There is only one way, and we know this not because I say so, but because Jesus said so.\"', '\"But Governor Palin doesn\\'t think so\"', '\"But he does have a point..\"', '\"But he said the NRA is also prepared to work with Democrats\"', '\"Gary Ridgway could be more insane that Andrea Yates, but he was punished and she was not.\"', '\"You can preach pretty religious philosophy all day long but I ain\\'t buying.\"', '\"You may be, but I am shredding your rambling nonsense screed.\"', '\"I can understand the argument that gun laws may infringe on some individual freedom, but I don ` t really understand what the constitution has to do with it. Sure, its much harder to make a change in the constitution, but this doesn ` t really affect wether the change should be done or not.\"', '\"Call me crazy, but I still don\\'t see any evolution in the peppered moths!! We had light and dark moths before the industrial revolution, we now still have light and dark moths. The only thing that has changed is the population ratio, assumably by * natural selection *.\"', '\"I admit that I don\\'t know the exact scientific definition of a monkey. But if `` monkey `` is a valid term for both the Old World monkeys and the New World monkeys, then the common ancestor can not be too far removed from them.\"', '\"If men fight, and hurt a woman with child, so that she gives birth prematurely, yet no harm follows, he shall surely be punished accordingly as the woman\\'s husband imposes on him ; and he shall pay as the judges determine. But if any harm follows, then you shall give life for life\"', '\"but if it can not be supported by evidence or is redundant to a theory already described... why would we?\"', '\"But in order for flight, the dino would have to lose much of its mass, which would make it more vulnerable, with less muscle and all.\"', '\"They often talk about the mountains of irrefutable evidence, but the fact that the sun rose and set every day was evidence for the sun orbiting the earth, but it\\'s also evidence for the earth spinning.\"', '\"Natural selection can favour some sets of information above others, and can eliminate some of the existing information in the population, but it can\\'t create any new information.\"', '\"Hobbes specifically said that this is not the case. Cooperation exists, and is essential.\"', '\"But mutations don\\'t add new body parts, and that\\'s because mere changes in matter can not add the information needed to create them.\"', '\"If PP is simply concerned with offering a medical procedure in order to insure the health and welfare of women, and not the wholesale murder of as many children as possible, why would they see the need to deceive anyone in order to promote their abortions?\"', '\"But now I\\'m thinking out loud again on the web.\"', '\"Evolution is not my faith and I take none of it by faith.\"', '\"I won\\'t throw my ideas on abortion out there just yet, but I have to ask this question. Should fathers have to pay child support considering a mother could have mitigated the expense by having an abortion?\"', '\"unless supported by creationist organisations with reputations for Biblical and scientific rigour.\"', '\"All rely upon some version of accidental, meaningless change.\"', '\"May be good for the 2 children, your husband is helping you to raise... But the child, whose life you ended before birth, you gave No-chance to ; so what\\'s this rationalization - only in \\'your mind\\'- re `` a 2nd. chance to make it right ``?? See you recognized & amp ; admit caving-in to `` dumb peer pressure `` before then compounding acts of irresponsibility. But your mother : 1. She was `` ashamed `` - was she selfishly more concerned with herself?, and what people would think of her?, and you? and the family? - so, let\\'s just `` Quietly kill it ``? and 2. She was `` ready to kill me `` - right : \\'Kill! this! baby!, before I kill you\\'- type-thing. great ; that\\'s a * lesson for Pro-life * not! So your mother failed the * both of you *, bigtime! - and while you can\\'t change that part of your past, to a degree - much larger than you most likely realize, you are shaping your 2 current children\\'s life. And from your rationalizations ( about the baby you killed ), the concern is that you model soul/mindfully for your children, good/honorable behavior. And you support them, in such choices... - so how are you * Interacting\"', '\"But the civil war wasn\\'t fought for slavery.\"', '\"Evolutionists\\'Biological Fairytale This time last year I was lost. IÃ\\x82 â\\x80\\x99 m not generally the type of individual who blames my own personal issues on other people, but the fact is I was mislead and lied to by science and by the media.\"', '\"So, one set of creationists are XXXXXX, but the others are not?\"', '\"But the resultant unwanted children would be an equally distressing social and financial cost. My point was the fruitlessness of antiquated belief system morality driving moral legislation that defies a woman\\'s civil liberty and common sense.\"', '\"Don\\'t believe me then so be it, but there are many articles that say the effects of marijuana\"', '\"This Pauline gospel of a dying and rising savior bore unmistakable similarity to many of the Greek and Roman mystery cults which had similar stories.\"', '\"But they can\\'t be true christians if they accept evolution.\"', '\"But to take the Apostle\\'s analogy further, if I see something, and know what it is, and you can\\'t measure it, because you weren\\'t there, doesn\\'t make what I see false... as you would believe - seeing as you seem to suggest that in the physical world truth is what can be measured/tested.\"', '\"You folks can\\'t box with God, your arms ain\\'t long enough.\"', '\"But what\\'s so funny about it?\"', '\"But what happens if a man marries his first cousin?\"', '\"you\\'re real good at calling people ignorant, sanctimoniously declaring everything they say as false, blatantly false, or falsehoods.\"', '\"But you are ok with a woman deciding what is right for someone else\\'s own body\"', '\"But you can not prove a negative. Which is also why you won\\'t be able to prove that creationism is wrong, and why we can\\'t prove evolution is wrong.\"', '\"But your new language would be meaningless.\"', '\"You\\'ve seen the ads, `` Buy BRAND X Fat Controller - Results Guaranteed `` by laboratory testing, of course\"', '\"By that definition, your god was wrong.\"', '\"Here, you claim `` objects without similar characteristics ``, and then you COMPLETELY IGNORE THE SIMILARITY we are talking about in order to focus on a dissimilarity you want to talk about. By that technique, NO analogy would be valid. You could invalidate ANY analogy if all you had to do was point to a difference between the two.\"', '\"Judging by the groupthink displayed thus far, the best solution they have is `` Ed\\'s Red ``\"', '\"Said repeal would have to be signed by the President, right?\"', '\"do you believe the fetus is a human? Why? Let me be very clear on this term. By the term human I simply mean it is a member of the human species.\"', '\"By the time the police arrived the unarmed homeowner had strangled the armed burglar.\"', '\"By which divine entity?\"', '\"While I agree with the law, I don\\'t agree with your reason. By your logic we should just dump all laws as someone is always willing to break them.\"', '\"We can\\'t be certain of the Earth\\'s age in billions of years, but we can use carbon dating to figure out it\\'s older then 55,000 years, which refutes creationism.\"', '\"I can\\'t claim originality for this proof, but I have never heard any good refutation of it.\"', '\"I personally can\\'t imagine a time that it would be absolutly necessary to kill a child\"', '\"Typical creationist big mouth, can\\'t keep the facts straight, doesn\\'t understand evolution and totally incapable of intelligent debate.\"', '\"Peddler now can\\'t tell the difference between evolution and astronomy.\"', '\"Some people would think I\\'m in cahoots with the creationists. I predict their behavior and then they go and do it.\"', '\"Call me crazy,\"', '\"Can anyone explain to me why no other apes, monkeys or chimps have evolved into a new ( i.e. human ) species?\"', '\"Can anyone give me an example of a transitional fossil that shows proof of one species changing into another?\"', '\"How are we now able to observe evolution, when the evolution of the world supposely took billions of years?\"', '\"Umpteen scientific disciplines can be dwarfed by emotion and money, both of which saturate evolutionary study.\"', '\"Yanking fundy chains can be so much fun sometimes.\"', '\"you can get soap so you really haven\\'t lost the right to keep and bear arms...\"', '\"The thing is, though, that if marriage is privatized people can have freedom without `` redefining the standard. ``\"', '\"Can individuals adapt? Of course : I can duck when I enter a room with a low ceiling.\"', '\"its difficult to merge life in its purest form with science, even though science\\'s purpose is to study life. for instance, can life be defined as energy? if so, then birth becomes as much of an enigma as death ; is energy created too?\"', '\"If a telescope can see a new color, how can we observe the information?\"', '\"SEIU Service Employees Union International. In other words, all of the people involved are employed by the Government. That means they work for us. The Police are employed by us. The DC Police backed the SEIU, and the article said they were there to protect SEIU. And maybe even worse than that, is the fact that the township police were maybe either afraid of SEIU or were sympathetic to their goals. And Screw that!!!!!! They are employed to protect the people on that street. Otherwise, we have anarchy. But, it is a fact that, Everyone there is employed by us..... But, if this be true, and if it isn\\'t brought under control, are we then supposed to then fear our very own police because maybe they belong to SEIU, or hope to join? Or something? Or whatever? I don\\'t know..... Can SEIU take over law enforcement just that easily? Are we subject to be held up by a Police Union? I don\\'t know the answers to these questions. So I asked for help figuring it out. I think you belong to SEIU, are you proud of this situation? It also turns out that the Bank Executive worked for the Clinton Administration so I am defending someone from your party. This isn\\'t partisanship!\"', '\"Can someone fill me in here? How can antiabortionists be suggesting something so absurd?\"', '\"Can someone tell me when God ever said that you have free will?\"', '\"Can we rename this thread : `` Another weekly snapshot of the back of SS as he runs away? ``\"', '\"Can you all just tell me if you are for guns or not and a short reason why?\"', '\"Can you prove Neanderthal Man was a human descendant? because DNA tests dont prove that out and yet PHDs and Masters Degreed scientists insist they are.\"', '\"Obama needs everybody on his side in the forseeable future. There wont be any real attempt for at least a generation I think. Not until the American public accepts a much more left wing government than they would today. As long as there is a lot of opposition I cant see it happening.\"', '\"How can you tell the difference?\"', '\"You\\'re held captive by hostile natives that have set up barricades and checkpoints around the property you live on.\"', '\"How many people would be capable of doing that to themselves?\"', '\"would somebody care to explain this to me so i can go about my life in a slightly more politically correct manner?\"', '\"Recently liberals in Switzerland were successful in passing a mandate that militia members are no longer allowed to keep their service weapons and ammunition at home.\"', '\"I reckon that evolution is still just a theory for a valid reason.\"', '\"Roman Catholic Bishop Thomas Tobin has banned Rep. Patrick Kennedy from receiving Communion, the central sacrament of the church, in Rhode Island because of the congressman\\'s support for abortion rights, Kennedy said in a newspaper interview published Sunday. The decision by the outspoken prelate, reported on The Providence Journal\\'s Web site, significantly escalates a bitter dispute between Tobin, an ultra orthodox bishop, and Kennedy, a son of the nation\\'s most famous Roman Catholic family. \\'\\' The bishop instructed me not to take Communion and said that he has instructed the diocesan priests not to give me Communion, `` Kennedy told the paper in an interview conducted Friday. Kennedy said the bishop had explained the penalty by telling him `` that I am not a good practicing Catholic because of the positions that I\\'ve taken as a public official, `` particularly on abortion. Report : Kennedy barred from communion by bishop - Yahoo! News Yes! Now do that with the rest of the Biblically-challenged, spiritually-inept Kennedy family, and all the rest of the pro-abortion Catholic democrats.\"', '\"It would have been more correct for you to state that basically everyone you know is Christian.\"', '\"Yes but Paul said sin makes people love bad and seek evil. People love others to do good, but hate to do good unless they see a reward. Catholics had to steal hellfire to scare all the converts from not caring if they went to heaven. Take away hell and heavenly bliss what do most people see as a reason for worshiping god?\"', '\"I think you made a mistake.\"', '\"That\\'s the opinion I hold, that CCWs shouldn\\'t be required. But this thread assumes that CCWs are required.\"', '\"what would you predict would happen to the cell if its genes were removed?\"', '\"The lutheran ceremony is pretty cool just change a few words to gender nutral. Also the Cathedral of hope http : //www.cathedralofhope.com in dallas and the MCC in general has some very nice Holy union ceremonies\"', '\"Certainly most people accept \\'evolution\\'per se.\"', '\"Certainly science has provided part of the answer with their finding of the Mitachondrial `` Eve ``, suggesting that one person can have all the DNA necessary for all the variation in human populations.\"', '\"Certainly science has provided part of the answer with their finding of the Mitachondrial `` Eve ``, suggesting that one person can have all the DNA necessary for all the variation in human populations.\"', '\"The chances of pregnancy as a result of rape are extremely small. Lots of research is available should you doubt the veracity of my statement.\"', '\"How do you explain the change of appearance of the animals over time, as recorded by fossils?\"', '\"This is not intended to be a creation evolution debate and I hope folks will refrain from that. I believe that there are characteristics which are solely attributable to humans.\"', '\"No gun activist has been able to explain that satisfactorily. Charlton Heston couldn\\'t do it when he was interviewed by Moore. At best they give a very vague explanation unsupported by evidence.\"', '\"If you think IÃ\\x82 â\\x80\\x99 m nuts, then check this site outÃ\\x82â\\x80¦. ( this is fascinating! -- and DEADLY to evolutionists. )\"', '\"Does it matter if a Cheetah does or does not have retractable claws?\"', '\"Imagine being one of those guys in the Alien movies and you\\'ve got a chestburster in you that\\'s gon na kill you once its fully gestated, but you\\'re not allowed to have an operation to have it removed from your body because of an intergalatic treaty declaring that all life is precious and must be observed.\"', '\"Either answer the question as presented to you, or butt out and shut up. If you\\'re presented with a question on a school test and you don\\'t like the way it\\'s worded, you don\\'t get to object on the basis that\\'s it\\'s a false dichotomy, you have to either answer it or leave it blank.\"', '\"If the Chicago handgun ban were truly discriminatory\"', '\"I live in a place where local evening news includes a story about children being shot or killed at least weekly.\"', '\"That is the kind, not degree. Chimps are not a higher animal. They are different. interesting\"', '\"The only choice is whether to kill or not to kill\"', '\"Some people claim to be Christian, then they go and commit this sin full of hypocricy by marrying someone of the same sex.\"', '\"I don\\'t think anyone argued that Christian fundamentalism was able to co-exist with reality.\"', '\"Well here is a christian who supports abortion.\"', '\"I am not sure Marc will show up here much. I noticed he is at \\'debating christianity\\'and is a \\'4forums refugee \\', where he had 10 people jumping on him at once.\"', '\"My point in starting the thread is not merely that Christians fall short of their aspirations. No.... this is worse. Because this particular U.S. Senator, an avowed conservative Christian, has actively worked to restrict the rights of others to marry, supposedly in the name of `` protecting `` or `` defending `` marriage, while at the same time undermining his own marriage.\"', '\"many Christians have been deceived\"', '\"So atheists, who exactly is the deluded one here?\"', '\"I know many christians who believe in god, and jesus etc, but think the bible is completely false, and is only a book of fables.\"', '\"If church & amp ; state are separated, atheism and state are combined.\"', '\"It simply suggests that our church or charitable institutions should have the option of offering health care for its members.\"', '\"Science defines what is valid and what isn\\'t, just like the church.\"', '\"Citizens are also protected by giving any evidence against thier will by the 5th Amendment.\"', '\"Private citizens carrying out background checks on private citizens is a bad idea.\"', '\"With regard to slavery, the Civil War was fought to establish the principle that `` All men ( persons ) are created equal. ``\"', '\"Yes, you are right - the Civil War was fought to keep the union in tact.\"', '\"I do not claim to know anything that is real, and infinite.\"', '\"You talk about the Fourteenth Amendment and again claim that gun control is racist.\"', '\"Ironic, since your `` Out of China `` post was basically the same as this post. You even claim you had no debate point, you were just posting `` information ``. It wasn\\'t until you claimed that evolution relied on those two mutual theories that we proceeded to debate.\"', '\"If VPC claims the total is 151, where are the missing cases in your citation?\"', '\"How can the Bible be used as a source while you deny the truth of its claims?\"', '\"i have given you a clear exampe\"', '\"It is very clear to me what is to be done with non-patriots and gun haters. You tolerate them. There is no other choice in a democracy. In a free market of ideas, I am absolutely convinced that the XXXXXX, liars, and dark age reasoning will expose themselves. In a free market of ideas the stupid ideas will die and go away. Two cases : See post # 11 http : //www.4forums.com/political/showthread.php? p=21234 See post on Sat Nov 01, 2003 1:10 pm http : //forums.evula.com/viewtopic.ph... f01fc12e57ef66 So what are you doing here? look at mahatma ghandi. he was a pacifist and he freed india That does not mean you passively allow them the free market. It means you hunt down these ideas and expose them.\"', '\"The gun haters clearly like the 1st amend.\"', '\"you write a post that admirably reveals the cognitive dissonance you experience thanks to your basic materialist/determinist metaphysic.\"', '\"The Iraq population wasn\\'t heavily armed, only the Taliban and soldiers.\"', '\"Come back when you learn the difference between climate and weather.\"', '\"You\\'re talking about a city where the dead vote in every election.\"', '\"The justification comes from this being a scientific fact.\"', '\"Interesting coming from someone who just argued his God is a liar of epic proportions.\"', '\"Crocodiles and humans live side-by-side in African village - Telegraph Here are some comments made by the Creation Science organization AnswersinGenesis :\"', '\"Nice to see that at least some of the states here in the US have some common sense and are at least heading towards equality for gay couples.\"', '\"I have common sense and I use it.\"', '\"Paley insisted that a watch on a desert island is a sure sign of a creator.\"', '\"Communism meaning the government russia had from the 1940s to 1990. Democratic- republic : the government the US has today.\"', '\"Communism is a failed philosophy and the free world has soundly rejected it.\"', '\"Thats a very compact piece of logic. I imagine that you are a very efficient individual.\"', '\"What is a compangian? The silly Jews I know say your wrong but they only speak the language so how would they know?\"', '\"ItÃ\\x82Â´s funny, there are gun-restrictions in Sweden and I have not been rounded up and exterminated yet. Must simply be a matter of time... Honestly, Those arguments are totaly worthless. Compare the rate of criminality and murders in US and those of the average contries with gun-bans. Where do you think itÃ\\x82Â´s highest?\"', '\"Nine months of discomfort is nothing compared to life in prison for voluntary manslaughter!\"', '\"There is no fierce competition within the group to survive.\"', '\"The concept of evolution was recently founded at that time, and some closed minded religious people were afraid of it, and vehemently opposed having it taught in schools.\"', '\"It is much more important that you concern yourself with the destiny of your soul\"', '\"I\\'m really curious to see who beleives in god for concrete reasons and who beleives in him by faith.\"', '\"He said that pro-choicers are scared of making abortion go on the ballot and scared of people knowing the truth.\"', '\"Congrats, may your marriage continue to be a happy one. If I may deviate from the original thread a bit I have a couple of questions that pertain to your specific situation.\"', '\"I also understand Conneticutt is ready to pass legislation approving civil unions for same-sex couples without court intervention.\"', '\"I think that you are rather an evil person, trying to create guilt where no guilt exists, where no guilt is necessary.\"', '\"Sigmund Freud divided all people into `` believers `` and `` unbelievers.Ã\\x82 â\\x80\\x9d Unbelievers include all those who consider themselves cynics, skeptics, scoffers, agnostics, or atheists.\"', '\"One could claim then the car is 75 % bad design, therefore it is not designed, and if it is, certainly not by anyone of any intelligence.\"', '\"have you ever bothered to explain what you think scientists\\'motives are behind this absurd and overly complex conspiracy you\\'ve made up?\"', '\"Ill consult some of my friends to help me on these issues if you dont mind.\"', '\"So contemporary arguments for intelligent design in both biology and the physical sciences are not only testable ; they make predictions and are falsifiable in principle.\"', '\"Mr. Jack I contend that religion is based on faith. Since it is impossible to know whether there is no God, atheism is also based on faith.\"', '\"Science has managed to show that life and non-life are not distinct and are indeed simply a continuium of molecular complexity and function.\"', '\"If he knows what will happen, then he can not change what will happen, and is thus, not omniscient. These are contradictory.\"', '\"Firstly, the core word is\\'might \\'. Thus it is not the all conclusive proof Darwinists would suggest.\"', '\"Following the logic of several people here, whatever God says is morally correct, therefore abortions are morally correct because God said so.\"', '\"How devastating to carry a fetus to term and deliver a stillborn or a baby who dies relatively soon.\"', '\"correct me if I wrote the scientific method wrong *\"', '\"Correctly viewed, evolution is not a series of unlikely events, but a series of highly likely ones.\"', '\"Not to get off the subject too far but if we could find a way to splice this into our own genetics we could cure world hunger and make it much easier to colonize other planets.\"', '\"Could it partially be the fact that they don\\'t want antiquated belief system dogma making their decisions?\"', '\"My point was that is it a horrible experience for many women, and that I wish we could strive towards a society where abortions were no longer needed.\"', '\"If you got the bucks, I think two would be a better choice.\"', '\"Could you rephrase that in English?\"', '\"What we are dealing with is a physiological analogy to the GPS system with a coupled autopilot that coordinates air traffic or tankers on open sea, `` says Soren T. Christensen, describing his recent research findings on the primary cilium, the GPS-like cell structure, at the American Society for Cell Biology ( ASCB ) 48th Annual Meeting, Dec. 13-17, 2008 in San Francisco. Christensen and his colleagues at the University of Copenhagen in Denmark and the Albert Einstein School of Medicine in the Bronx studied the primary cilia in lab cultures of mice fibroblasts, the cells that along with related connective tissues sculpt the bulk of the mammalian body.\"', '\"I don\\'t really care what Mr. Rakove has to say, his opinion was overruled by the Supreme Court and that\\'s the long and the short of it, and no amount of scholarly debate is going to change that fact. Accept it and move on with your life. Furthermore his argument that the bill of rights isn\\'t legally binding is even stupider, because the bill of rights is the first part of the Constitution, which is the founding document of the United States.\"', '\"I don\\'t think coverage is the government\\'s responsibility either. Rather, health care. Let the health insurance industry fend for itself, and find new and more constructive avenues for its capital, as we open up Medicare for ALL.\"', '\"The French government has solved the problem of redefining marriage by creating a legal union between any two eligible persons regardless of gender that allows the couple to have rights equal to those that are legally married.\"', '\"Does creating Eve with Adams rib have anything today with DNA?\"', '\"What does this have to do with creation and evolution?\"', '\"There is nothing inherently irrational about the theory of evolution being used to explain life in the physical unviverse\"', '\"Creation has been disproven.\"', '\"If anything it should be their creation stories of the Sioux, etc. that should be taught over that of Christians\"', '\"Which automatically places it a step above the other theories, Creationism being one, because it doesn\\'t clash with what people want to hear.\"', '\"Why would people be teaching religion in a public school. Isnt that illegal?\"', '\"Creationism is a religion, because it envolves God. Right?\"', '\"ID is actually identical to\\'scientific creationism \\', but spruced up with more scientific terminology to attempt to pass\\'seperation of church and state \\'. Let\\'s just say that I.D. is an attempt to teach Creationism in school.\"', '\"If Literal Creationism is indeed true, why do we not find strata with species from all eras mixed together?\"', '\"so does the Creationist hold that certain absolutes exist regarding Creation, such as a personal God created all that is. We understand science can\\'t prove God which is a huge stumbling block for the evolutionist, but isn\\'t one at all for us because we can see the spiritual with evades the scientific perspective at all levels of understanding.\"', '\"The creationists are hammered into a squelchy mess on every single occasion!\"', '\"Creationists are so incredinly intellectually incompetnetn that they do not even understand the very basics of evolution while attacking in.\"', '\"Creationists are very open about the relationship between belief and science in the study of history.\"', '\"The creationists fight back with their own museums\"', '\"Generally creationists follow an ideology which forbids questioning of beliefs, sometimes explicitly, sometimes implicitly..\"', '\"Why do these creatures have the right to live at the time you give for question b.\"', '\"What scientific criteria was employed to determine how long ago the Cretaceous period ended?\"', '\"science carries along with it an invisible affirmation of uncertainty. Crick can claim this as fact, but it should be interpreted as `` so far the evidence supports this, and nothing more ``. science only wants to describe observable, natural things. if you think there is more than what we can observe, why do you have to change science? why can\\'t you just start a new school of thought?\"', '\"the cricket in the pliers feels pain... When you start to squeeze a cricket with a pair of pliers, it starts to wiggle and tries to get away so as not to get crushed by the pliers. Is it because the cricket feels pain?\"', '\"I think this might be the wrong thread for this discussion. Something like this belongs in the crime debate area, where I\\'m currently handing Jo his head over and over again.\"', '\"Violent crime rate. 1989 = 666.9 1999 = 523.0 2008 = 454.5\"', '\"Private ownership of guns may indeed add to the number of weapons held by criminals, but it is not their major source of weapons. They buy them. The market will never go away. The manufacturers will not cease making them.\"', '\"What i think is very un-neccessary is the fact that religion has caused so much death and destruction in the name of god.\"', '\"I think we\\'re seeing a culture war. Hardly seems a fair fight though, since only one side has any.\"', '\"I\\'ve been in quite a number of situations where I believe a guardian angel or the hand of God kept me from serious harm.\"', '\"If you cut the gun supply and make it harder to get guns criminals will have less access.\"', '\"it fails to show that reproduction is a requirement in order to call something living : that living things would disappear as a result of their not reproducing doesnÃ\\x82 â\\x80\\x99 t show that they are not living before they disappear.\"', '\"Darwinism, which from Darwin\\'s day down to our own has been used to justify radical changes in moral norms in areas such as eugenics, abortion, and -- in the case of Nazi Germany -- even racial extermination.\"', '\"I am not amazed at the fallout caused by President Bush\\'s comments about Intelligent Design. Darwin evolution nuts - I mean intellectual scientists - contend Intelligent Design is untested and untestable by scientific research.\"', '\"Darwinists are the authors of deceit and have pulled a masterful bait-and-switch on society.\"', '\"I wouldn\\'t want to make my daughter do anything in this scenario. I \\'d be careful to explain all her options as free from bias as possible, and then let her choose.\"', '\"The rate of recidivism that produces dead innocent victims by paroled criminals far out weights the number of executed innocent men.\"', '\"It deals with the death penalty... really the court is one vote away from getting rid of it because some liberal judges don\\'t like it.\"', '\"Research Shows Gay Marriage Reduces VD An associate professor in the Department of Economics at Swarthmore College has written a paper for the National Bureau of Economic Research that shows how in Europe, where same-sex relationships have been granted legal recognition since 1989 ( beginning in Denmark ), there is a correlation between same-sex marriage ( or civil unions ) and a decline in the rate of at least one sexually transmitted disease, syphilis.\"', '\"In theory the preventative care provided would allow us to catch conditions sooner, resulting in decreased utilization of hospitals, specialists, and equipment.\"', '\"Defense of Marriage Act, or DOMA, is the short title of a federal law of the United States passed on September 21, 1996 as Public Law No. 104-199, 110 Stat. 2419. Its provisions are codified at 1 U.S.C. Ã\\x82Â§ 7 and 28 U.S.C. Ã\\x82Â§ 1738C. The law has two effects : 1. No state ( or other political subdivision within the United States ) needs to treat a relationship between persons of the same sex as a marriage, even if the relationship is considered a marriage in another state. 2. The federal government defines marriage as a legal union exclusively between one man and one woman.\"', '\"is evolution defined as the development of new body parts on organisms?\"', '\"Define intelligence.\"', '\"You know what the definition of a \\'hero\\'is? Someone who gets other people killed.\"', '\"Your definition is that those creatures with survival advantages and characteristics will survive.\"', '\"I just made a claim about non-existent. Yet I\\'m still typing, how can this be???\"', '\"I\\'m surprised some YEC didn\\'t already post this in favor of their arguments.\"', '\"Democracy is not binary, it\\'s a continuum.\"', '\"You often sound like it is possible when you complain incessantly about our Constitution, our Rights and the laws of this nation governing the peaceful use and ownership of firearms.\"', '\"Oh, derrrr!\"', '\"We take reality and describe it in our minds and thus form it into abstract concepts which we can operate with.\"', '\"That men would vote on a law that can place a womens\\'life in peril, is beyond me.\"', '\"Personally I believe that the developing fetus becomes a person only when it is able to survive outside the womb.\"', '\"Spencer developed an all-embracing conception of evolution as the progressive development of the physical world, biological organisms, the human mind, and human culture and societies.\"', '\"Did I create a god? When?\"', '\"What is \\'toddler homicide\\'and how is it already legal?\"', '\"I didn\\'t have to CHOOSE to be heterosexual. It\\'s the natural inclination, unlike homosexuality.\"', '\"You mean what you got was an eye opening shocker into the world of leftist propaganda, and I can see that like a good sheeple you swallowed it hook line and sinker.\"', '\"I did not know that. Facinating!\"', '\"This is what has caused such events as the Columbine Highschool shootings. The ones who did the murders did the shooting on Hitler\\'s birthday on purpose.\"', '\"Nope not at all. Did you even read Genesis 1 and 2?\"', '\"Did you expect a creationist to understand the definition of Honesty?\"', '\"Did you know prior to humans it was at.018 %?\"', '\"Makes quite a difference. Still a third trimester baby.\"', '\"What\\'s the difference between humans and chimps?\"', '\"There are lots of people who would and do give full support to civil rights, but not to issues of homosexuality.\"', '\"I never said that it would `` impose `` on me or `` diminish `` my life.\"', '\"The dino would be to heavy to glide or fly with them if they weren\\'t fully developed, and even then only a few yards could be gained when jumping off a hill, ect, and when not fully ready. the would hinder the dino by hunting, by giving it a larger profile, and something else to get wounded for no benefits in return.\"', '\"I have read the opinions and conclusions reached in several internet entries and I can see how they would largely persuade someone to think that the side-by-side dinosaur and human prints in stone do not exist.\"', '\"Direct evidence for ID/Creationism has never been established so there is no reason to suppose it to be true.\"', '\"Evolutionists have been searching for any direct evidence of the theory of evolution since the 1800\\'s.\"', '\"The woman who is conducting the training sessions for docents is a prominent atheist, Eugenie C. Scott, director of the misnamed National Center for Science Education.\"', '\"I don\\'t understand why pro-lifers dismiss pregnancy as easy and/or suggest that it\\'s a wonderful snuggly thing that\\'s just the best thing in the world.\"', '\"you are dismissed.\"', '\"This would disprove your atheism.\"', '\"Today\\'s various forms of dissolution of marriage, free unions, trial marriages as well as the pseudo-matrimonies between people of the same sex are instead expressions of anarchic freedom which falsely tries to pass itself off as the true liberation of man, `` he said.\"', '\"That distinction may be irrelevant since they do say that no god that any religious person believes in exists. And that is what I was getting at originaly. Still I think that the idea that the existence of all religious gods can be ultimately refuted based on the logic you bring up is invalid.\"', '\"I do, indeed, know who planned parenthood is.\"', '\"Go do a Google search and find out.\"', '\"Yeah, and why should any of us have to do anything to be saved?\"', '\"Write, in your own words, two paragraphs. One explaining the electromagnetic spectrum ( and the visible spectrum\\'s place in it ), and one discussing rods and cones in the eyes.\"', '\"Just curious what the Poll results here on this forum will be. 1 ) Yes, I want the Bill to pass - as is. 2 ) No, I don\\'t want any kind of government-run, mandatory health care 3 ) Maybe, if it is tweeked\"', '\"I don\\'t believe I know Collin. And I\\'ve never been really certain of what a troll is. I\\'m just looking for information.\"', '\"You can believe it all you want... If you don\\'t believe in abortion and you don\\'t believe in any kinda of birth control then that is your belief... it doesn\\'t contradict itself.\"', '\"If only people would do what is right, there would be no abortions and thus no need to debate this issue.\"', '\"Don\\'t expect Scalia to be too friendly to this case, and of course whatever Scalia does Thomas does.\"', '\"I personally don\\'t know how exactly this world came to be, but if it was created, then I would like to compare it to buying a car.\"', '\"I don\\'t know that she is any nuttier than the next person. However I think her opinion is wrong. I also think her argument is not correct. A person can not impose themselves on your property without your consent - and you CAN remove them, and even kill them if they are a threat to you.\"', '\"Don\\'t like it when the person you\\'re arguing against can be as sarcastic as you are, huh? I understand, I get these types of whines all the time.\"', '\"I don\\'t recall the Bible saying you can rob from people you think are evil but you seem to think thats ok.\"', '\"I don\\'t have the right to make accusations about logical fallacies and how do you know I don\\'t know what they mean. Explain. I don\\'t remember correcting your spelling, please refresh my memory.\"', '\"no proof of it exists if the earth was millions of years old than there would be no fossils of dinosaurs and people and don\\'t say preseservative\"', '\"Don\\'t tell me `` the sun is not the mecanics... `` tell me what is the mecanics.\"', '\"I really don\\'t think the big pro-life vs pro-choice argument is about where life begins or whether or not life is precious.\"', '\"I don\\'t think that a Supreme Court decision necessarily shuts down the debate.\"', '\"Which is why he was found guilty... I don\\'t think you will find many reasonable people thinking it should be anything different.\"', '\"You don\\'t want to do it because you don\\'t want to do that to your body.\"', '\"they don\\'t want to except that there is something/someone more powerful than them\"', '\"Why don\\'t we have a competition to come up with the best suggestion for a display or show at this theme park?\"', '\"Don\\'t worry about me being affected by the leftist media either. I really don\\'t care to listen to their lies and over emotional rantings too often.\"', '\"don\\'t you think that omnipresence might imply eternality at least if not omniscience?\"', '\"I do not believe it is right, but the life of the woman is more important than the unborn,\"', '\"I do not know all that much about peppered moths, just the story and why it is a fraud and even if it was not, why it does not support evolution over creation.\"', '\"It seems that many posters do not take you seriously. This seems unfair. You must be very frustrated after putting so much intelligence and effort into gathering this information.\"', '\"Do pro abortion people support euthanasia as a reason for abortion?\"', '\"So why should you care about their non-scientific beliefs in a debate on science?\"', '\"do u favor abortion? Yes. Maybe. No.\"', '\"Do we really need to charge someone being tried for armed robbery or worse with an additional petty weapons charge?\"', '\"Do you believe that, if we have the technology, we should resurrect the dead to walk the Earth as zombies?\"', '\"Do you deliberately come up with these innane comments to try and frighten people aware from a decent debate?\"', '\"I would like to know where the topic starter stands in this debate, so that a reasonable debate can take place.\"', '\"Do you have any evidence that would show that law-abiding gun owners are overwhelming the ones that\\'re out there killing and committing other crimes against the people?\"', '\"What answers do you have to address these points?\"', '\"Do you support laws that warrant the impunity of infanticide women, based on arguments such as `` post partum depression ``?\"', '\"Hello everyone, first off I \\'d like to say I\\'m an evangelical Christian, so of course I believe in Jesus\\'existence, just as I believe the Word is the infallible Word of God.\"', '\"What then do you think of the idea that they stop you taking a gun onto a plane\"', '\"IÃ\\x82 â\\x80\\x99 m against gay marriage and have been happily married for 31 years, thereby disproving your BS.\"', '\"Doctors said Savannah\\'s blindness was caused by a condition known as optic nerve hypoplasia. Insurance wouldn\\'t pay for the experimental treatment, but the family received more than $ 50,000 from fundraisers to pay for the medical bills. Savannah will soon visit her eye doctor to measure her vision.\"', '\"So let me get this straight - you admit that you are wrong, and you want me to provide documentation to prove this admission correct?\"', '\"DOD rejects DODEA\\'s new policy on same-sex partner transfers | Stars and Stripes Looks like the DOD was following the law, something the DODEA should have done in the first place.\"', '\"Does any part of the theory of evolution give an accounting of how we transitioned from quadruped movements of the ape to biped?\"', '\"Does anyone believe that PRIVATE GUN OWNERSHIP keeps us ( in the U.S. ) free?\"', '\"why do you make such a big issue of this? if you\\'re in this forum, and you\\'ve seen this post, then creation vs evolution obviously strikes a nerve with you- why?! what is so fascinating about something you \\'ll never live long enough to witness if it does exist and that you\\'ve seen all there is to see of if it doesn\\'t exist? does anyone here really lack in something to validate themselves so much that they have to turn to a bunch of dead animals to find a reason for living?\"', '\"Does he also accuse the public schools of neglecting to teach that Hitler was an avid Christian?\"', '\"no guns, no shootings!! Does it get any simpler?\"', '\"Please correct me if I am wrong, but does it not take a number of signatures to even get it on the ballot?\"', '\"Does it require only council approval or is a public vote necessary? What is council/public sentiment?\"', '\"\"', '\"Or perhaps Mach just doesn\\'t understand the concept of an \\'analogy. \\'\"', '\"regardless of whether many religions accept evolution, as it stands, such does not fill the holes in evolution.\"', '\"Mere ownership does not give me the right to kill innocent people whom I find on my property, and indeed I am apt to be held responsible if such people injure themselves while on my property.\"', '\"What about a fat women? Fat women are not as atractive as slimmer women, but bigger women tend to have much larger breasts, which is what most men go for. Does that mean fat obese large breasted women are genetically viable. I think your theory needs to be worked on, you should try and EVOLVE your theory into a more factual one based on facts.\"', '\"So does this mean they have to get tougher on gun control or softer before the results go their way?\"', '\"you are doing what evolutionists do best and that is to take things out of context.\"', '\"Doncha knows that tha bible is fo believahs! Yas got ta believah furst! That\\'s right, if you read it without believing first, you \\'ll see the flaws and contradictions. You need to magic indwelling spirit of Suspension of Disbelief to fully understand what they bibles about.\"', '\"The mother will have the ability to force the father into paying for something he didn\\'t consent to!\"', '\"dreaming up imaginary what if situations doesnt prove anything, youve got nothing\"', '\"When we drive our cars, the fuel emits into the air, causing global warming.\"', '\"I think dropping trou for illicit gay sex has nothing to do with genes. It\\'s a deliberate behavior.\"', '\"And you STILL have yet to provide one.\"', '\"Why do you think the dude in the article said how `` depressing `` all this is?\"', '\"Pelosi indicated that new regulations might entail registration and prohibitions on transporting some firearms across state lines.\"', '\"Easily understood when man created his own god.\"', '\"How did a lizard evolve an avian lung?\"', '\"If echolocation is superior to vision, why haven\\'t more animals evolved this fantastic ability?\"', '\"Were it a sacrifice avoid employing children, children-employers would have a competitive advantage. Yet they virtually died out in every developed market before any law was passed.\"', '\"Hershey\\'s is repulsive, and snickers is bland and greasy.\"', '\"Real people matter. Not tiresome maxims of blind, unquestioning faith.\"', '\"Education in that sense has proved worthless. Safe sex has also proved worthless. I don\\'t think pregnancy rates began to drop until abstinence education began to emerge.\"', '\"It failed so it proves you and others wrong. Ultimately, the efforts of the Jewish resistance fighters proved insufficient against the German forces.\"', '\"the theory of evolution can explain the DNA change with fewer assumptions.\"', '\"In the many years that have supported abortion rights I have never found a single pro-lifer who could prove, outside their opinion and others, how a fetus has an interest in being born.\"', '\"If the butterfly had changed into another creature then it would have been somethin worth noting. The butterfly stayed as a butterfly. It\\'s just like a Mexican and an American Indian having a child. It would have a different skin color and facial features and stuff like that, but it would still be a human.\"', '\"We the elite rights-givers of the United States will now exercise our supreme power by determining who deserves rights and who does not.\"', '\"You employ what I would call a narrative interpretation : design as a means to an end, contrasted with evolution having no ultimate goal.\"', '\"The enemies of freedom do not argue ; they shout and they shoot.\"', '\"The energy within everything is it\\'s consciousness.\"', '\"What does this have to do with nations like England having lower murder rates?\"', '\"Even if they are women. Time and time again I am disgusted with the callousness in which so-called `` pro-life `` persons seek to ignore the plight of women around the world who have suffered enormous health consequences from pregnancy.\"', '\"is the epitome of arrogance.\"', '\"However, a better set of inequalities is as follows : c + e > c - e e - c > e + c * * * * * * * * * * * * * * * * * * * * * * * * * * * * * * * * * * * * * Oops, I think YOU made a mistake here on the second one. This is the correct inequality based off of my original equation. e-c < e+c So, start over again.\"', '\"The reality is erectus skulls are smaller because the people were SMALL\"', '\"The errors can only be arbitrary and random\"', '\"Makes George Carlin\\'s plan to use the state of Kansas as a prison even more appealing.\"', '\"Site at least two sources that were written within 200 years after the supposed resurrection date of A.D. 33\"', '\"the medical establishment has made it illegal to treat any disease in this country with anything other than FDA approved drugs or surgery. It\\'s all about the money, man.\"', '\"Eugenics alive and well : http : //news.yahoo.com/s/ap/20070112/... us/embryo_bank\"', '\"Even a semiautomatic version of an assault rifle can be fired at an amazingly rapid rate.\"', '\"why would its pain be more worthy of protection than the mother\\'s?\"', '\"Even if you do want to make the argument, however, you have to look at the origin of life. Whether you want to admit it or not, creation is about exactly that. Creation. It all starts with God creating the heavens and the earth and Adam and Eve. We, creationists, believe that and admit that. My question is... where does your \\'belief\\'start?\"', '\"I disagree with your decision. It would have been better if you sucked it up and kept the kid.\"', '\"I do think however, that wanted pregnancies should be a part of the abortion debate, even though as you say, they usually are not.\"', '\"And yet, for most pro-choice folk on these forums, this question really is meaningless. For, even when it is assumed by these folk that the embryo has rights, they nevertheless argue that abortion is still acceptable.\"', '\"The problem is that the US has, in the past, refused funding to any organisation that, even as part of its activities, offered advice to women regarding abortion.\"', '\"Have you ever been everywhere at once to see there\\'s no Zeus?\"', '\"Have you ever read Darwin?\"', '\"Evolution is able to be disproven in so many ways.... here\\'s a simple, lethal disproof : Ever since Darwin came along, evolutionists have claimed that the human race is evolving.\"', '\"The Planned Parenthood Motto is `` EVERY CHILD A WANTED CHILD. \\'\"', '\"Just about every other location in America has no problem with this being the standard.\"', '\"I live in Utah and every public school has a building on the grounds called the seminary.\"', '\"I have tons of pics of my `` wedding `` in September and I look like a dork in everyone one of them. Every single shot, I have some dumb goofy expression on my face..... I have deep sympathy for anyone who has to look at pics of their own ceremony if they hate the pics of themself\"', '\"Now kill all the boys. And kill every woman who has slept with a man.\"', '\"You still haven\\'t showed us where he is a self proclaimed Conservative Christian rather than just a conservative republican OP.\"', '\"Everything that happend in the universe happens according to `` laws. ``\"', '\"Where are the laws to protect the innocent from people like them?\"', '\"I do know that\\'s it\\'s true. There\\'s a mountain of verifiable evidence backing up evolution, some of which has been pointed out to you.\"', '\"Extinction is easly visable easly tangeable and undenably evident.\"', '\"Evolution claims nothing that is outside the realm of the knowable\"', '\"One misconception is that Evolution doesn\\'t explain how life formed originally or came to be.\"', '\"I accept that the theory of evolution explains the observations both gentically represented and those of the fossil record.\"', '\"It would be more accurate to say that evolution has selected for reproduction and death over immortality and self-repair\"', '\"I have been thinking recently `` What is evolution? `` Sounds an easy enough question to answer, but all of my sources are kind of contradictory.\"', '\"I mean scientist know evolution isn\\'t 100 % absolute truth\"', '\"This is why I oppose evolution even though I may not understand it fully. Evolution is only around because those who created evolution created it as a rejection of the God that I serve and as it were the idea that all of creation shared before Darwin came along.\"', '\"Evolution is the study of the origin of life from a completely naturalistic point of view.\"', '\"Evolution looks to explain itself by the succesive iterations of morpholgoy and functionality.\"', '\"Evolution surely has a heritable component\"', '\"Through evolution we have been able to trace how life has evolved ( which even ID admits ) through time. We have been able to understand genetics and how genetics factor into our physical appearance by studying the evolution of humans through time by examining the fossil record.\"', '\"Why must we make more assumptions based on what will happen in the next 10,000 years?\"', '\"ur definition of evolution is incorrect.\"', '\"This is one of the most hilarious things that Charles Darwin has said.\"', '\"Evolutionary science has succesffuly hoodwinked the public into believing that dinosaurs are millions of years old\"', '\"evolutionary science is science and creationism is not?\"', '\"Evolutionist brilliance on display. I\\'m not mistaking nothing for nothing. I know my stuff. You obviously know nothing and don\\'t care to learn it.\"', '\"This isn\\'t exact but here\\'s the basics I think are right : Evolutionists : We base our belief the Universe was formed 20 billion years ago.\"', '\"Now, these evolutionists also believe that the matter, which should have been evenly distributed all over the universe in complete disorder, formed into incredibly complex solar systems, and, what most people find hardest to comprehend, earth. The planet earth is incredibly complex.\"', '\"Evolutionists are always making assumptions. They assumed that the tonsils and the appendix were remnants of previous species from which humans had evolved and were totally useless.\"', '\"Evolutionists are simply brilliant at deceiving people.\"', '\"So please do not ask questions where you know that people most likely can\\'t give you a definite answer\"', '\"why haven\\'t evolutionists given up already..\"', '\"Evolutionists may talk of actual selection as if it had a mind of its own and does the work of evolution on purpose\"', '\"Where does one need faith, exactly, to make claims about evolution\"', '\"I am very interested to know exactly how they haven utterly disproven YEC?\"', '\"They are exactly the same.\"', '\"Exactly what parts need to be substantiated?\"', '\"He was examining the structure of the sentence to determine whether an individual right or a collective right was being recognized.\"', '\"Was this peppered moth not hailed as an `` example of evolution in action ``? If so, this implies that it is proof of evolution.\"', '\"I need only ONE example to show you what happens when the Gov\\'t disarms its Citizens but I \\'ll give you two ; one historical : UK, Postban firearms crime is now SEVEN TIMES HIGHER than preban.\"', '\"Like most natural history museums, this one has exhibits showing dinosaurs roaming the earth. Except here, the giant reptiles share the forest with Adam and Eve.\"', '\"Except in the Dred Scott case the court wasn\\'t trying to determine whether slavery was a collective or individual right, or what the constitution applied to in regard to slavery.\"', '\"They excuse aborting a fetus of a feckless mother by citing the angst of the expectant mother that concieved through rape.\"', '\"If God exists, and he wanted his existence proven, he could prove it.\"', '\"The Numbers quote has nothing to do with who or who isn\\'t valuable to God. That\\'s like saying counting people over the age of 40 years old means everyone below is not a person.\"', '\"Experience is the only interaction we have with existence. If some aspect of existence exists ( ex. some hypothetical parallel universe ) that never manifests itself in human experience then we have no way of knowing its existence.\"', '\"One item that shoud be mentioned is that this expidition set out in this area specifically to find the transitional form between land and water creatures.\"', '\"How can you attempt to explain the appearance of something by the dissapearance of others?\"', '\"Explains a lot why people are making ridiculous claims about `` death panels `` and the lot...\"', '\"I thought it would be nice to start a thread where people can express their views on the issue of abortion in a more detailed way than they might when responding in a debate.\"', '\"Legally there is a difference. But let\\'s just toss that out for a second. The end result is exactly the same. Eyes fogged over no longer care whether it was fun or self defense.\"', '\"That is why they are failing.\"', '\"for faith has no merit where reason has proof from experience.\"', '\"Faith is as natural as love or expression.\"', '\"FALSE!\"', '\"It\\'s a false dichotomy that some critics of religion have cast religion in by saying that submitting to spiritual authority and thinking/reasoning are going to be juxtaposed.\"', '\"The title of the thread gives a false impression by stating that a Christian Pastor believes that bigotry blocked Gay Marriage.\"', '\"More guns enable more people to defend themselves against attackers ;\"', '\"You know what is far worse than murder itself? Executing people to save some money.\"', '\"Federal judge rules police can not detain people for openly carrying guns\"', '\"Atheism has nothing to instruct us in immorality.\"', '\"We have got to stop treating sex like a dirty little secret.\"', '\"Fetuses do not have memory even with mental existance. My sister did not exist until somewhere in the third trimester. My sister is her mental existance, physical appearance is nothing to me. Nothing but cells existed before the third trimester. There was nobody. No brain, no consciousness. Stop twisting my arguments and using strawmen to try to get your weak point across.\"', '\"Just thought I would ask ( for fun ), what are your ideas for a same sex wedding ceremony that is not religious and is also not to `` heterosexual `` but is still is a nice ceremony?\"', '\"\"', '\"I support your right to own firearms for your self-defense\"', '\"Those who have firearms in their homes are more likely to die of murder\"', '\"Taken to its logical extreme, we might argue that, just as a federal felon, serving time, has some First Amendment rights to the press, petition and religion, or Eighth Amendment rights not to be subjected to cruel punishment, so too, a prisoner might claim some second amendment right.\"', '\"Why are trying to prove that God exists or does not exist based on the design of our eye?\"', '\"First you have natural selection Ã\\x82â\\x80\\x93 which is essentially a weeding out process.\"', '\"First you say that gun bans are Constitutional. When it\\'s proven that gun bans are unconstitutional, you say `` f * * * the Constitution. `` Leftism at its finest. Chicago & # 8217 ; s handgun ban failure - chicagotribune.com So let\\'s see these statistics to prove that hundreds were saved. For issues in Chicago, I \\'d trust a source that\\'s actually from Chicago sooner than I \\'d trust CNN.\"', '\"Do you have the right to exercise your faith in any way you see fit?\"', '\"\"', '\"Larval anurans have demonstrated phenotypic plasticity in response to variation in food availability\"', '\"For instance the Yucca plant has a moth that waits dormant for 80 to 150 years beside it to pollinate it on the one day it blooms in all that time. How did that evolve? Or was IT that did it?\"', '\"Why don\\'t you try to make George Walker Bush feel a little guilt and trauma for destroying the nation of Iraq\"', '\"Thus, for pro-lifers, human beings hold rights by virtue of what they are ( human beings ), not by virtue of what they can do ( think or speak? ). Thus, for pro-lifers the only question that is important in the abortion debate is whether the embryo is a human being.\"', '\"my my you are up on the current events. Thanks for shedding light on this for everyone here.\"', '\"For some reason I am unable to reach my other post `` What drive evolution? `` I am always `` timed out `` and my computer is cut off from the wet site. So I \\'ll start over here.\"', '\"For such an important branch of human investigation and understanding, people here seem very reluctant to offer positive affirmations in terms of \\'laws \\', \\'constants \\',\\'regularities \\', \\'principles \\', \\'facts \\', \\'forces \\', and whatnot, wrt the phenomenon.\"', '\"For that matter where did the environment of space come from? This is the basic problem I have with evolution.\"', '\"is that for you to use these primate fossils as any actual evidence at all that a REAL chain of lineage from those ancient primates to modern man exists is impossible to prove.\"', '\"You know what I find amusing here... your entire argument revolves around how it will affect your wallet.\"', '\"Wishful thinking by a midtwenties female who just went through the most horrifying experience of her life, forgive me if I didn\\'t clarify well enough.\"', '\"No Personal attacks, insults, name calling, offensive generalizations, or labeling.\"', '\"Nothing will replace fossil fuels until they reach a market price that favors an alternative.\"', '\"What they are saying is that the fossil record does not show evolution\"', '\"If you are unhappy about the peppered moth, try the Polar Bear. The fossil record is remarkably complete, and the mechanism of the evolution of the Polar Bear from the Brown Bear remarkably clear.\"', '\"This right of privacy, whether it be founded in the Fourteenth Amendment\\'s concept of personal liberty and restrictions upon state action, as we feel it is, or, as the District Court determined, in the Ninth Amendment\\'s reservation of rights to the people, is broad enough to encompass a woman\\'s decision whether or not to terminate her pregnancy.\"', '\"Oh damn that free market! We should get rid of peoples\\'choices and tell them what they can and can\\'t do. We should enforce centrally controlled economic 5 year plans and strip people of any notion of markets. People should be TOLD what to buy, where to buy it, from who to buy it from and the Gov\\'t should set all prices and quotas! DOWN WITH THE FREE MARKET!\"', '\"This link is to the free summary of the JBC article\"', '\"I \\'d like to see freedom and equality myself. I \\'d like to see Uncle Sam get out of the business of social engineering, restricting my personal freedom and enslaving my children and grandchildren with ever-growing debt. maybe gays and Conservatives should join forces and bring about changes that will benefit all of us and make us all happy.\"', '\"You failed to mention `` Freedom From Religion. ``\"', '\"There is one part in here about the French \\'navy\\'and Churchill you really should read\"', '\"From CNN I\\'m glad to see that at least some pastors in this world have integrity and are not bigoted and want all citizens to have the same rights.\"', '\"Intelligent Design is nothing more than Animism.\"', '\"funny that all proponents of abortion for unwanted pregnancies talk about abortion as if being a political statement : I control my body.\"', '\"It\\'s kind of funny that they claim this happened, but can\\'t get the woman to come out and say it?\"', '\"Legal abortion rocks my socks.\"', '\"on what basis can we study the world in any coherent way and come to sensible conclusions about it?\"', '\"Furthermore, law abiding citizens can sell their guns to criminals in private transactions.\"', '\"Galalieo lets just say you get rid of all guns in citizens hands.\"', '\"The New Jersey Senate late Thursday passed sweeping amendments to the state\\'s domestic partner law that would, upon a partner\\'s death, give the surviving partner control of the estate and inheritance in the absence of a will.\"', '\"Marijuana is a gateway drug.\"', '\"Gay marriage is outlawed in Texas and many other states. It\\'s not a `` right `` around these parts, and never will be.\"', '\"Right now, the majority of Americans DO believe that gay marriage IS wrong.\"', '\"What do you see as your enemies view point? Is your only opinion that the view of your enemy says : gay marriage takes away the value of a regular marriage?\"', '\"Majority backs gay marriage, ballot measure in poll : DC Agenda Keep in mind that this is an opinion poll, so take it for what its worth, but it seems to indicate that the people of DC wanted to vote on this issue.\"', '\"Its really sad what these gay predator priests did to those children and they should be punished to the full extent of the law\"', '\"I\\'ve never quite understood why so many gay rights advocates give such leeway toward Democrat candidates.\"', '\"Hey, have you printed your name on the inside waistband of you dungarees yet so when you pull your head out from where the sun don\\'t shine you \\'ll know who the heck you are?\"', '\"Gee I wonder if it\\'s bad for a father or mother to provide for their kids, since members of the KKK may do that too and agree with it.\"', '\"Origin of mankind. source : Genesis. Ray M.\"', '\"I guess my question is, which account are you speaking of? You can\\'t say `` Genesis `` because the book, the combination of Genesis, is man-made, 2 seperate and different accounts were forced together to make `` Genesis ``. How do make the choice on which account you believe ( the Jehovists or the Elohists )?\"', '\"If the feds had not intervened, citizens there would still be drinking from separate water fountains and riding in the back of busses.\"', '\"It should be illegal for women to have sex.\"', '\"Gunman kills 15 in German school rampage - Europe- msnbc.com Well isn\\'t that interesting. Germany has much stricter laws than America does when it comes to gun ownership, and their school shootings resulted in more death and devastation that Columbine. It\\'s funny in a way, because the country with the tighter regulations is seeing more killings on school grounds than America, even though our laws aren\\'t as strict. I guess that means all the nonsense about `` more gun laws make people safer `` is nothing but bull.\"', '\"it means you can join the national guard, get a clue.\"', '\"The girl\\'s username is a long string of consonants with a single\\'o\\'in the middle. She might be able to fit a couple of\\'e\\'s in there.\"', '\"Given this, the question then becomes `` who encoded the DNA? \\'\\'.\"', '\"How many babies have you supported killing?\"', '\"Go read a biology book.\"', '\"In several of my other post I have stated that I do not seek legislation concerning abortion.\"', '\"God\\'s mind, just by his thoughts created all matter.\"', '\"What\\'s wrong with God being the explanation for the unexplanable, comfort for those affraid of death, and the meaning for life?\"', '\"If god could create the world in 7 days then he sure as hell could get someone pregnant.\"', '\"God created all things in Ã\\x82 â\\x80\\x9c KindsÃ\\x82 â\\x80\\x9d Ã\\x82â\\x80\\x93 a supergiant group.\"', '\"The Bible says that God created every thing in 6 days. That does not neccensaraly mean it only took 6 days. The meaning of the word `` day `` in the language the Bible was written in means basicly `` a long period of time ``. That would explain why some fossils are millions of years old. That does not how ever prove evolution.\"', '\"God doesn\\'t take away sinful desires.\"', '\"if the only choices we can possibly make are the one God approves, then we dont have free will, because we can not free choose the option that God does not approve of, which means we are forced to only choose the options that God approves of. this is not free will\"', '\"God existed BEFORE time.\"', '\"God has created man \\'in his own image \\'.\"', '\"Your question itself is a problem. God is \\'He who is \\', not a \\'what \\'.\"', '\"If god is all knowing and all powerful, why does Satan exist?\"', '\"Suppose that God is in fact all-powerful. If he is all-powerful, then he can do anything. Yet this raises the question, `` If God can do anything, can he make a rock so hard that he himself can not break it? `` If the answer is yes, then God can not break this rock, so there is something he can not do. If the answer is no, then he can not make such a rock, and thus there is also something he can not do. Therefore, it is impossible that God can do everything, and it is thus impossible for him to be all powerful. I can\\'t claim originality for this proof, but I have never heard any good refutation of it, and yet people still act as if God is all powerful despite the absurdity of such a notion. If there is a refutation, then I \\'d like to hear it.\"', '\"Where are those organizations with such scientific rigor? If they truly do exist, they must be in the position to understand the God of the Gaps they\\'re worshipping has become microscopic.\"', '\"It is impossible for mankind to alter God\\'s plan. That would make man more powerful than God. Everything that happens is part of God\\'s plan, which is why it is so difficult for me to believe in God. Why would God create man, give them free will, then punish those who actually exercise their free will and choose not to believe in God?\"', '\"We in the pro-choice camp salute and respect the choices you make ; now we demand equal respect from you for the choice we make.\"', '\"One of the biggest arguments against gun control is that if the government became too oppressive, the people wouldn\\'t have the capacity to carry out a successful rebellion.\"', '\"the government is doing its job\"', '\"Well the government track record in health care isn\\'t too good.\"', '\"The government was right to tighten up the law governing the ownership of firearms after the 1996 Dunblane massacre. But Derrick Bird met the new criteria in the 1997 legislation and duly held licensed weapons. Comments by those who knew him centre around a common theme : it was totally unexpected. That nice, agreeable man simply flipped. But if the post-Dunblane legislation failed to prevent someone like Bird from holding firearms legally, then it is equally clear that it has had no effect on the supply and availability of illegal guns, including automatic rifles and other repeat-action weapons that are used routinely in gang activity in urban areas. Even if, as a result of Cumbria, the government were to make it virtually impossible for farmers and other rural folk to own guns, it would have no impact whatsoever on our efforts to tackle gun crime in urban areas. We would succeed in widening the divide between the two societies, but we would fail in keeping more of our young people alive. And we would only lend credence to those who suggest that the gang members who make guns their weapon of choice are simply congenitally prone to commit violent crime. The real killers in our society are those dealers in death who put illegal firearms in the hands of our young people.\"', '\"I \\'ll trust anybody that\\'s not government funded, with a gun. Hell I \\'d even trust drug dealers sooner than I \\'d trust the government in terms of being armed. Governments all around the world have killed millions of their own people in genocides after disarming them, proving that government should never be armed.\"', '\"What makes you think doctors are paid badly in a national healthcare system?\"', '\"On what grounds do you seek to redefine the institution of marriage from it\\'s accepted standard in this country?\"', '\"Guards and officials at a prison in northern Mexico allegedly let inmates out, lent them guns and allowed them to use official vehicles to carry out drug-related killings, including the massacre of 17 people last week, prosecutors said Sunday.\"', '\"there are infinite different possible explanations available to check and so the chances of coming across the correct one are effectively zero.\"', '\"Guidance by humans in the blind Watchmaker does not stop it being a reasonable analogy for his idea that no higher intelligence is in evolution but it can produce.\"', '\"Gun control is NOT about a government trying to disarm a people so that government can be tyrannical.\"', '\"The only gun control laws that I really support are the laws stating that you may not carry a gun in certain places.\"', '\"How did Poplawski gun down three armed police officers so easily with a weapon that according to the gun lobby only differed from other firearms in its scary looks?\"', '\"If more gun-control means more lives saved then more gun-control means more self preservation.\"', '\"then why in the world can\\'t guns be regulated to protect against murder?\"', '\"I\\'ve had an abortion, at 9 weeks gestation. I\\'m not proud of it, but I\\'m not ashamed of it either - it was the best decision for me at the time. And I remain pro-choice. My choice was not \\'just\\'my rights at the time, it was the priority of my existing family and our lives. Just about the rights of the mother? It\\'s interesting to note that the mothers rights ( and the rights of her family, her children? ) are obviously of much lower value to you than the rights of a fetus.\"', '\"The Planned Parenthood Motto is `` EVERY CHILD A WANTED CHILD. \\'\"', '\"We\\'ve had plenty of people claiming that being on the no fly list, or the suspected terrorist watch list, should be all the criteria necessary for denying a person the right to buy a gun.\"', '\"Half of the people who are part of ( or at least vote for ) the Republican party are homophobic\"', '\"This happened to both these guys who I know are straight shooters ( no pun intended ). Where is the justice in that..\"', '\"The problem with happenstance origins is that there is no evidence, and it\\'s simply not possible to falsify it.\"', '\"Hardly created equal.\"', '\"The President hates his country! It\\'s so obvious! How did nobody notice till now!\"', '\"Some animals also have ( superficially ) changes species - eg wolves to dogs. Finally, fossil records show clear evidence of\\'macro\\'evolution.\"', '\"If you have a problem answering the questions then don\\'t.\"', '\"Well you haven\\'t proven that you don\\'t support the idea of a dictatorship.\"', '\"My point is that viability is not a hard and fast rule. It can and has changed with increased medical technology.\"', '\"I actually haven\\'t seen those pictures in school but I \\'ll take your claim that most kids have as true. No one says that Apes turned into men, but they did say that man and apes share a common ancestor.\"', '\"When two gay men get together and have sex that produces a kid is the day I will defend gay marriages.\"', '\"Then you got the benefits of being a weed addict like all you can do is have weed addict friends because you don\\'t have time for anything else.\"', '\"Having a baby, even giving it up, causes a lot of emotional and phisical pain,\"', '\"Having asserted that transitional fossils abound, Isaak ( a widely known evolutionist ) proceeds to cite Archaeopteryx\"', '\"You think you deserve special rights?\"', '\"Or perhaps Mach just doesn\\'t understand the concept of an \\'analogy.\\'No one was claiming they want \\'rights restricted\\'because of of bathrooms.\"', '\"The one where he bragged about defeating Henry Morris, a Christian?\"', '\"He was declaring war on an unclean people whom He commanded the Jews to wipe out in a time of WAR.\"', '\"You\\'re saying that if it were legal to these Indians that would have solved the problem?\"', '\"There is no evidence in your eyes. There is tremendous evidence that the universe and everything in it was designed\"', '\"How did they know that the `` vapors `` of the earth rise to create moisture, that is seeded by lightning with nitrogen and then falls as rain to fertilze the soil?\"', '\"The parole board refused to grant Tony Martin an early release because he & # 8220 ; has shown no remorse and would continue to pose a danger to any other burglars. & # 8221 ; Martin was eventually released from prison after spending years in prison and being vilified by the anti-gun groups in the UK for shooting criminals who had broken into his home.\"', '\"Isaac Newton sought out the hand of God, through science. He is a prime example of what I mean.\"', '\"In my opinion, this guy is basically saying that if you had a bunch of bricks and mortar, a building could be built. He just leaves out how you get the bricks and mortar, which is the whole problem.\"', '\"He may have been referring to the hundreds of thousands of kids who can\\'t get adopted because they\\'re not healthy, white infants.\"', '\"Nice job moving the goalpost, and changing the subject also. Show where in BCR\\'s post which you quoted above, he said even spoke to the issue of genes? He said no new functions have evolved in a population in which it hasn\\'t existed before. And regarding your fallacious example regarding nylon eating bacteria, are you suggesting that the chemical ingredients that make nylon never existed before man combined them to create nylon? The bacteria works on a microscopic level and couldn\\'t care less what product we have made from those chemicals which it thrives on. So your example is both fallacious and moot.\"', '\"The inanity in defence of guns continues unabated.\"', '\"He was a gun owner and a terrorist.\"', '\"I can\\'t think of any good reason to qualify the delivery of healthcare other than need for a physician. Where one lives or doesn\\'t live, makes no difference, and neither does the fact that a person has broken the law. Health care is a civil and human right in a democratic society.\"', '\"Who wants healthcare run by large corporations that have rigged the market for cost twice as large as in other developed countries?\"', '\"Obviously you wouldn\\'t like it. Heaven forbid equal rights. Heaven forbid tolerance. Heaven forbid actually treating people you don\\'t like as HUMAN.\"', '\"You can\\'t take the tail end of a story and say that Jesus was saying to have them killed in front of Him.\"', '\"my State is going to heII in a handbasket since these lefties took over.\"', '\"How about a sin tax of $ 100 each time you buy a gun and $ 10 each time you buy a bullet? Its fair because it would help pay for all the damage guns do to society. Rights come with responsibilities.\"', '\"Here\\'s a cartoon : http : //images.yuku.com/image/pjpeg/3... 214ee23f7.pjpg\"', '\"Thing is, Truthsay, I was a wanted child, a desired child. My parents planned for me. They wanted me. I wasn\\'t an accident. I\\'m here because of their desire for me. Otherwise, I wouldn\\'t be here.\"', '\"You seem to have trouble creating working links. Here is a corrected link to your quote.\"', '\"Here is a link about people who were released prior to the death penalty due to being shown to be innocent\"', '\"Here is a link to what everybody is up in arms about,...\"', '\"We need to teach morals to our students. Person two. Well if you do that, who\\'s morals will you teach? I may disagree. No one could answer that question so they taught no morals. I think we should start by agreeing that things like, but not exclusively, murder, stealing, and hate is wrong. Teach that in which we can agree!\"', '\"They are both equally new.\"', '\"I resemble that remark!\"', '\"Hey I\\'m new. I am also pro-life 100 %. No Exceptions.\"', '\"Why do you HATE our Constitutions Bill of Rights? Why do you persecute people who can pass a background check not only once, but every time they purchase a new gun?\"', '\"please incurage him to post his report. or if he would not like to, would you ask him is people can request a copy?\"', '\"His method appears to be good, i.e. using observations and experimental data, as well as repeatability.\"', '\"If morality is relative and not absolute then nobody can say Hitler was wrong for the things he did.\"', '\"without Jesus there mightn\\'t have been the various Inquisitions, the invasions of the New World for purposes of exploitation of the New World\\'s resources and peoples, the witch burnings, the stupid religious wars amongst the various Christian sects, very likely the Holocaust would not have happned, the two World Wars waged by Christian nations -- except for the notable exception of Japan. Hmm, a peaceful world, largely, without the desolation of war. What an interesting proposition. Alas, it seems that Jesus did not come into the world to bring peace.\"', '\"So, when we believe the gospel, the Holy Spirit baptizes us into ChristÃ\\x82 â\\x80\\x99 s body, and our sins are forgiven through His shed blood.\"', '\"Same-sex marriage will open wide the door to homosexual adoption, which will simply lead to more children suffering the negative consequences of growing up without both a mother and a father.\"', '\"homosexuals join to practice a religion that hates them just so they can gain access to children.\"', '\"Jesus Christ existed : you admit that much. Why will you not believe in Him?!\"', '\"so why did ToE ignore horizontal gene transfer for so many decades?\"', '\"It is horribly oppressive of women, though, to oppose both abortion and contraceptives.\"', '\"How can a Christian not be? Picking an choosing what one likes out of the Bible doesn\\'t mean they know God.\"', '\"How can CREATION be evidence of god if there is no evidence of CREATION?\"', '\"Is this the sort of thing that is being taught at that bastion of liberal science, MIT? How can this be presented as fact rather than theory? New and improved nuclear fuel created Nuclear fission, neutrons and protons, and even the atom itself are just theories. No one has ever seen an atom or a neutron. No one has ever observed an atom split. Why are our liberal news media allowed to present this as fact? Moreover, aren\\'t nuclear reactors designed by intelligent humans? I also notice that this research was funded by our hard earned tax dollars without requiring that the benevolence of God also be researched in equal time. This is yet another shameful example of the godless attitude of science.\"', '\"So how do creationists account for this : ERVs in humans match those in apes. ERV = useless code in DNA, but present in all members of a species Basically it goes like this. Viruses inject their DNA into the hosts DNA. This means that if the cell is able to replicate itself, it also replicates the viral DNA. As we all accept, creationists as well, sometimes things go wrong during this replication process. Sometimes, the viral DNA is rendered inactive. This is inconsequential as the cell dies and the error dies with it. But sometimes, this can happen to sperm cells that just happen to end up fertilizing. Therefore, the organism that is born from the fertilized egg carries this viral error ( ERV ) permanently and then passes it on. Since we can sequence viral DNA and have sequenced the entire human genome, we can go hunting for these viral sequences that have actually been propagating for millions of years. This is testable, every human on the planet has the same ERV\\'s each of which has resulted from a SINGLE little virus doing its thing at some point in our evolutionary history. For evolution to be false, and this is a golden opportunity for creationists to prove it false, you would have to see that in apes none of these ERVs are present and they would have their own unique set of ERVs. When we looked, we found them and in the exact right place out of billions of sequences. The only way this can currently be explained is with evolution. We have the same error in our DNA that all apes have. Each of these errors has a cause that we can trace to a single event. How can you deny that that single event took place in a common ancestor?\"', '\"How can you possibly equate prostitution to gay marriage?\"', '\"If god made human from dirt, how come there are still dirt around?\"', '\"How do they know for sure there weren\\'t different species of horses.\"', '\"How do we know that there are not many other senses that exist which evolution will show us one day?\"', '\"You do realize that the vast majority of firearms used in crimes are stolen no?\"', '\"Or that they are dead, say from a genetic disease. So you are saying that genetics has nothing to do with genetics?\"', '\"How many threads are you planning on creating regarding this event, Simone?\"', '\"ItÃ\\x82 â\\x80\\x99 s amazing how science can cure diseases, smash the atom, and create nuclear explosions, yet be so wrong about everything thatÃ\\x82 â\\x80\\x99 s mentioned in the Holy Bible.\"', '\"The right to have a choice IS a legal issue. We don\\'t live in russia Women in this country have the same rights as men. How special, now all you have to do is prove that a glob of cells has rights\"', '\"Yes, how terrible it is to live in a country that gives a woman liberty over her own body.\"', '\"how these issues are often treated as interchangeable by those advocating ID in the classroom.\"', '\"I don\\'t see how this makes her as an anti-gun candidate.\"', '\"How would I fill in some of the gaps?\"', '\"How would you know about who winds up dead more?\"', '\"Whenever a decision does not go our way, the first reaction should not be turn to the courts especially since there are other methods at your disposal.\"', '\"I can not really think of any area within the Bible where it explicitly says you can not rape someone.\"', '\"I do think a legislature could legitimately establish a preference in this area, and if they did, it would be up to the court to enforce that preference.\"', '\"Talking about `` proof `` and science in the same sentence is pretty much a creationist thing. When one asks for or claims proof of a scientific theory, it is a pretty good sign that we are dealing with a scientific illiterate. Science does not prove, it explains. Proof is a matter of mathematics and booze.\"', '\"I got a good idea. however, they do tend to stay with their own.\"', '\"However,\"', '\"Yes i believ in a young Earth. However at the end of the creation week it was fully mature. I can easily see why men can say it looks old.\"', '\"The Myth of the Gay Gene, by Nicanor Austriaco, OP\"', '\"It\\'s not just the Americans that confuse religion with science, it would appear.\"', '\"http : //news.yahoo.com/s/ap/20070531/... NfpmCZaggE1vAI\"', '\"We\\'ve gotten to where we lay down too easily and let ourselves get run over too easily by immoralism.\"', '\"I agree that the 98 % statistic is not central to Lott\\'s book.\"', '\"The reason I post this is not to proclaim that evolution is dead or anything like that.\"', '\"This is sickening....\"', '\"I \\'d love to live in a world where abortions were never necessary, that doesn\\'t mean I think it\\'s a bad thing.\"', '\"Human\\'s wrote the bible. Not all words in the bible were inspired by God. They are simply fallable man\\'s interpretation of a greater intelligence. Human\\'s little finite minds can not comprehend this greater intelligence in all concepts.\"', '\"if the laws of logic are human constructs then how can they be absolute since humans think differently and often contradictorily. If they are produced from human minds, and human minds are mutually contradictory, then how can the constructs be absolute? Therefore, the laws of logic are not human constructs.\"', '\"Hydrothermal vents [ 4 ] are described in two books of the Bible written before 1400BCÃ\\x82â\\x80\\x94more than 3,000 years before their discovery by science.\"', '\"I just wanted to point out the obvious hypocrisy of everything your side represents, and nothing more.\"', '\"I \\'d love to see proof of this ]\"', '\"I \\'d not punish anyone. I don\\'t think punishment does well at teaching children.\"', '\"What makes you think you have the right to have your marriage recognized by gov\\'t.?\"', '\"I \\'ll let you know to what extent the movie documents it.\"', '\"If you have a link for that, please show it, otherwise I \\'ll take that as yet another dishonest statement on your part.\"', '\"She is saying, and I\\'m agreeing that at every stage of development a human possesses inherent value and dignity.\"', '\"I\\'m always right,...... except when I\\'m wrong\"', '\"I\\'m for gun control. I believe you should have a steady hand, firm grip, calm breath, and a smooth pull. The more control, the better the shot.\"', '\"i should be able to work hard at something and make a REAL contribution to society without being poor.\"', '\"Just because you don\\'t have a handle on what civil rights are doesn\\'t make the phrase arbitrary.\"', '\"I\\'m not against concealed carry in principle but open carry seems silly to me. I smell posers.\"', '\"I\\'m not going to get into a religious debate, but I can appreciate someone taking a religious stance against it.\"', '\"I\\'m not sure what you mean by saying that it provides for two seperate things. Could you please explain?\"', '\"I\\'m sorry but the baby is a part of both of them. Should it be that the mother decides to keep the baby and the father want\\'s her to terminate the state will still come chasing for child support.\"', '\"You can deny it all you want -- and I\\'m sure you will because you have completely brainwashed yourself.\"', '\"I\\'ve advocated photographing and fingerprinting for all handgun purchases.\"', '\"I\\'ve given yout a way to control crime and violence. At the same time not trample on the Constitution.\"', '\"I agree. Lets argue what we value or don\\'t value and why - not definitions.\"', '\"People complain about imports but then buy them. People complain about the little toys in Wal-Mart being made by cheap labor while they drive their imported cars.\"', '\"Let\\'s take care of them first then we can take care of the unborn.\"', '\"I think I already won Radio Towers Bulldozed by Eco-Terrorists Tuesday September 8, 2009\"', '\"I also think it is noteworthy that the pro-life movement is really making a difference\"', '\"I am a gay Christian woman, live in Northern CA, and am VERY happily MARRIED to my wife as of June of 2008. It is NOT a sin to be GLBT, but I would say that homophobia is definitely one.\"', '\"In this post I am also going to destroy Toe by showing that the Neandertals did not evolve their physical characteristics through random mutations and natural selection. Instead, they developed them GodÃ\\x82 â\\x80\\x99 s way Ã\\x82â\\x80\\x93 the intelligent way. IÃ\\x82 â\\x80\\x99 m going to weave all these things together to create a filthy collage that depicts what the theory of evolution really stands for. This post will tie everything together and will make more logical sense than any conveluted-writing Darwinist author ( Dawkins, Mayr, Eldredge and Darwin himself ) could ever dream of presenting. Not everyone is willing to say these things. But IÃ\\x82 â\\x80\\x99 m not afraid to speak my mind. I have an inner desire to uncover and expose the raw truth Ã\\x82â\\x80\\x93 of which evolutionists hate.\"', '\"There is a lot of discussion regarding the validity of evolution on this board and some against creation.\"', '\"ias for partial birth abortion i am firmly against it!\"', '\"I am interested in the NOW - the moment when the determination is being made.\"', '\"I AM interested in what Supersport thinks about how his ideas will get wider respect and how he thinks this will change our society.\"', '\"What I am is someone who appreciates the value of the scientific methodology\"', '\"\"', '\"i am just saying that i can tell you are a good person.\"', '\"Now we all know that I am made in the image and likeness of God and since God is perfect, that image and likeness must also be, as a logical consequence, perfect. To state less would mean that God is not perfect. So if I am the image and likeness of God, then either I am perfect or God is not.\"', '\"I support gay adoption only as a last resort.\"', '\"I just wanted to add one more thing to clear up some stuff and make sure I have the standards set correctly before we delve into a hardcore debate of facts.\"', '\"I am not suprised that Marc lives such a short distance away from where it is being built.\"', '\"I believe that a person becomes such at conception and should be considered as such when debatin their rights or lack thereof. More simply put ; I am pro life.\"', '\"what I am talking about is not a death penalty trial as we have today, but after the person has received a 100 year or more sentence. The cost would be only the method of death.\"', '\"It seems that you would be willing to grant that and unborn baby has the same rights you have\"', '\"Tell me one proof of evolution.\"', '\"I believe God created Adam genetically superior Ã\\x82â\\x80\\x93 yet after sin entered the world Ã\\x82â\\x80\\x93 and after his offspring began inbreeding with close relatives, the long march of unending genetic degeneration via mutations started occuring.\"', '\"Sorry to just barg in but I believe in our forefathers and I realize not every one does but hey, they did start a country people. So if anyone disagrees that the signers didn\\'t mean it as a individual right I\\'ve got more proof then I know what to do with.\"', '\"There isn\\'t a single law in America based on anything from the Bible.\"', '\"I can disprove theism in a wink, but I can\\'t prove atheism.\"', '\"I have been an atheist, more or less, since I was 13 or thereabouts. I find the devaluing of our experience and the rationale behind our rejection of religion and divinity to be the most perplexing aspect of my dealings with believers. I came to my present working assumptions after a lifetime of soul-searching. I reject the mythology because my mind leaves me no alternative.\"', '\"I care where that speck came from. Where did it come from? It had to come from somewhere.\"', '\"I certainly think it was excessive. I guess I must not be pro-life by your illogic.\"', '\"while I definatly don\\'t like to see people close to me killed, it is no surprise when it happens, since, as I already said, my opinion of the human race is pretty low.\"', '\"Will an anti-gunner explain to me how I increased crime last night?\"', '\"I didn\\'t misunderstand you at all. Like I said, you are for persecuting religious people if they don\\'t agree 100 % with you.\"', '\"Now you are making assumptions. I said God did not tell them the different categories of animals, I did not say that God deliberately kept information from them.\"', '\"I disagree with you because the logic you have used to prop up your assertion that your philosophy mirrors reality is clearly faulty.\"', '\"The argument addresses reality and women in reality are surprised by their pregnancy if they did not have sex with the intent to become pregnant ( say, a BC failure ). Perhaps women shouldnÃ\\x82 â\\x80\\x99 t be surprised, but they certainly are in many cases.\"', '\"What\\'s your definition of pure? Has it? This says different : http : //skepdic.com/homeo.html I do know of recent studies that show that minute amounts of toxic substances are beneficial and therapeutic. I don\\'t know if one can consider this homeopathic medicine though. I guess I don\\'t know what\\'s being called homeopathic medicine these days. If someone comes up with something that works can they just call it homeopathic medicine and say that homeopathic medicine works?\"', '\"I don\\'t agree with the very first assertion in the audio clip, that all life is derived from a SINGLE ancestor.\"', '\"I don\\'t agree with this either/or binary logic.\"', '\"Personally i don\\'t believe in abortion. It\\'s morally wrong and i think it\\'s good that it\\'s illegal.\"', '\"If you mean starting from scratch with absolutely no genetic material at all as part of the formula or equation, then I don\\'t believe man will ever accomplish that.\"', '\"I don\\'t believe you are a gun owner, My b r o t h a. Your illogic on the whole purpose of the militia aside\"', '\"I don\\'t know, yours is overwhelming, who gave it to you?\"', '\"I don\\'t know about that listed range, however. The maximum effective range listed is 800 meters. Then again that might be wrong and these short action calibers might have a 1,500 meter effective range, meaning that the claimed abilities of the.50 BMG are mediocre in comparison.\"', '\"I don\\'t see any claim being made about those types of weapons being sold in US gun stores.\"', '\"I don\\'t think any man should ever be legally required to pay child support.\"', '\"The whole point of my post was that researchers did not have any reason to get embryonic stem cells. how do you know? maybe they do, but you\\'re just too close-minded to know. then again, i may be wrong, but.... Perhaps you don\\'t get this. I want stem cell research. i can not describe how much I want. I do know some people that could really use these stem cells. I just don\\'t want researchers to harvest the cells from our children. Not only is it a sick and perverted way of medicene and science, but it doesn\\'t work. Embryonic stem cell research does not work. We haven\\'t even dared trying to test them on humans yet. When we tested them on mice, the mice grew tumors and died. You see, I want the stem cells to come from our own bodies. the stem cells in our own bodies are called adult stem cells and they really work. In the first post, it states that there have been treatments for over 56 diseases. Embryonic stem cells have done nothing like this. Not to mention the umbilical cord stem cells have worked really well too. well, since the ubilical cord stems have worked really well, then how come the scientists and doctors are also doing embryonic stem cell research? again, they have their reasons to. they wudn\\'t choose 2 use the embryonic cells if they didn\\'t have to. i\\'m no science wiz, and a lot of the science stuff that i\\'m saying might be wrong, but the rest of the stuff are the things that i\\'m using based off of logic, and my knowledge. common sense, that\\'s wat it\\'s called. I\\'m not like that. I could list a few hundred people that I know that are not like that.\"', '\"I don\\'t think the point was to come up with an exact number of gun laws.\"', '\"Why do you want the people to vote to take other people marriages away?\"', '\"The point is a gun took his life!\"', '\"i dont care about seperation of church and state, the U.S. was based on the Bible and the Christian religion.\"', '\"So what is your answer to the thoughts I got about some things?\"', '\"When you can find someone that is lodgical about the subject you will find out but until that time it is like looking for a needle in a hay stack.\"', '\"I to have been wondering exactly how same sex marriages would pose a danger to male-female marriages.\"', '\"I have never attacked you personally, never said anything like what you accuse me of saying.\"', '\"That\\'s a good one. And I always just thought they were socialists....... Hey, guys, where did all our liberal punching bags go, and why aren\\'t there any new ones?\"', '\"I honestly don\\'t know why else they object to evolution, What is this other reason?\"', '\"If when I was in the military, I had suddenly stood up and said, `` Woah! Hey! I joined the military but it is against my religious beliefs to hurt others, and this plan of action will hurt other people. `` Should that be respected and I keep my `` job ``?\"', '\"i just think that it\\'s a bit selfish to kill an unborn baby when you are cabable of looking after it.\"', '\"\"', '\"I look forward to be edumacated on the subject. Waxy\"', '\"Between the rabbit and the hobbit the evolutionists have a lot on their plates.\"', '\"Where are the big red ants? I don\\'t know -- I never see them anymore. The fire ants obviously ran them off or killed them.\"', '\"By L. LEWIS WALL MOTHERHOOD is a blessing, but in many parts of the world childbirth leaves women permanently injured and turns them into social outcasts.\"', '\"I pointed out the author\\'s bias by assuming it was geneticwithout any demonstrable proof.\"', '\"In my post I presented several reasons as to why they should have changed\"', '\"I put to you that you are the one discriminating on the basis of someone\\'s size and development, since you would have it that a small, slightly developed person has a right to inhabit a womb, while a fully grown adult does not.\"', '\"Scrap the damn thing, start over and WORK with Republicans to actually make this work before more people die due to bitter party line politics...\"', '\"I said the Brady Campaign and other gun control groups made the statement of California being safe. Their message is that gun control makes people safer. They gave California an A rating for their high levels of gun control. Putting those two facts together they\\'re endorsing California as being a safe state.\"', '\"I see far to many religious people that know absolutely nothing about the universe they live in as a result.\"', '\"I simply am stating that the theory of evolution is as much of a religion as the theory of creation.\"', '\"Why do we put up with this? It was hard enough to come to this decision in the first place without walking through all of that and having no other option but to take it, walk through it.\"', '\"I think it\\'s nonsense interpretation developed by people who were afraid that if they fought for guns as valiantly as they did for free speech, they wouldn\\'t receive any donations.\"', '\"i think it is because you are too logical because with people things do\\'nt have to make sence\"', '\"I think that it is time to force the second amendment debate on the supreme court.\"', '\"I think you confused yourself. You more supported my argument than hurt it.\"', '\"I think you could teach gun-control at a gun-free school, too.\"', '\"I thought the idea of starting threads on a topic was to start a discussion on that matter.\"', '\"This movie is rivetted with evidence for the Moses account in the bible.\"', '\"I vote ZERO.\"', '\"I was under the impression this article was referring to the Roman Catholic Church.\"', '\"i will pray for you all right now\"', '\"I wish the pro-infanticide zealots could experience being dismembered and having their skulls collapsed and their brains sucked out so they \\'ll know what an innocent baby feels when it\\'s being aborted.\"', '\"It seems to me the corollary of the phrase `` abortion is murder `` is `` miscarriage is manslaughter ``, and that any consistent pro-life advocate must urge any mother who accidentally loses her child due to actions she undertook, be charged with manslaughter. I wonder, is this actually the case?\"', '\"I wonder how a modern court would view the testimony of 500 credible witnesses to a supernatural event?\"', '\"I wonder if anti-abortion folks ever consider that?\"', '\"I wonder if Kenneth Miller will see the movie, and comment on it. I wonder if he \\'d have refused to be a part of it.\"', '\"if there\\'s carbon in them bones you guys are screwed. Gee, I wonder why they don\\'t run these tests. Corruption? Yes, that\\'s it... corruption... oh, and dishonesty. Chickens.\"', '\"I would be interested in know who was the first creationist to finally accept that natural selection is a real phenomenon, and when they accepted it.\"', '\"The Christian Creationist who expounded the idea of natural selection before Darwin did is called Edward Blythe.\"', '\"I would have to say that whoever told you about\\'macro-evoution\\'from a science perspective obviously did not explain things properly.\"', '\"I would like to see them come up with some situation where this was done to a heterosexual family.\"', '\"What you are talking about here is the * potential * to exist being important. I would personally also thinking that potential existence is important, but not nearly as important as an existing person.\"', '\"There is simply no benefit to the scientific community if ID is accepted.\"', '\"if a creature evolves into a new species wouldn\\'t the old species not exist any more?\"', '\"If a god allowed people to make choices that could hurt them, he might be called benevolent if those choices taught the people a lesson. If a god were to cause pain and suffering, that would be different.\"', '\"If a married couple doesn\\'t want a child, surgeries can take place to remove the possibility.\"', '\"so what if a minority of americans wanted to legalize murder. this is rediculous.\"', '\"if a pro-choice person had posted a similar item from a pro-choice website, you would have dismissed it out of hand.\"', '\"If all life evolved from a common ancestor, then there should be countless instances of new body parts evolving.\"', '\"If all marriage was illegal, would that violate civil rights? No. It would be a denial of a different right, the right to be free of oppressive laws that would destroy society - but that right is not unique to marriage.\"', '\"No, this is not about abortion, and I think that is very clear.\"', '\"If it\\'s wrong then prove why it wrong.\"', '\"Why has the vast majority of intelligently designed life ceased to exist?\"', '\"If it were up to you, what would background checks look for to see if someone is qualified to own a firearm?\"', '\"If life itself is a form of energy, then it must either be constant at all times\"', '\"If one accepts the Intelligent Design movement\\'s form of ID,...\"', '\"If one agrees to a discussion without using the Bible as some people insist, then they have set the terms of the debate.\"', '\"rich people can take away poor peoples freedom thats why marx was so important he showed us that goverment can be the great equaliser because if only government owns property then nobody will be rich and we will all be equal\"', '\"If only she \\'d been allowed to have a gun she could have what? Shot or threatened to shoot someone? \\'\\' Boys and girls as young as 10 ``, the story says. They threw `` rocks and eggs `` at her house. They don\\'t kill you for that in England, Texas maybe.\"', '\"Statistical averages say we should see a few hundred within the last two centuries, at a minimum.\"', '\"its not a fair comparison.\"', '\"if that were true it would have happened 4000 years ago when our planet was a whole lot hotter.\"', '\"If the American system of government is so terrible, why do we have one of the highest standards of living on earth?\"', '\"If the cost of initiating gay marriage is > $ 50Million, then it is an unfunded mandate by definition and as the CBO calculated, the costs will far exceed $ 50Million.\"', '\"Other branches of science have been bent to accommodate Darwinian evoluton. That\\'s the only reason they would be flawed. If the evolutionist bible, the \\'Origin of Species\\'isn\\'t involved, then I trust science.\"', '\"the fetus is definatley a part of the mother. if the mother dies, the fetus dies and NOT vice versa. the fetus is dependent. it shares blood and food.\"', '\"if there is a god in this world, there is a god in all worlds 2. there being a god is a possibility 3. If there\\'s a god in all worlds, there\\'s a god in this one 4. There not being a god in all worlds implies that there\\'s isn\\'t a god in any world ( all or nothing ) 5. There is either a god in all worlds or there isn\\'t a god in all worlds 6. from 4,5 there either is a god in all worlds or no god in any world 7. if there\\'s no god in this world then there\\'s not a god in all worlds 8. There\\'s either a god in all worlds or there is no god in any world. 9. Since god is a possibility we know the statement < there is no god in any world > is false. 10. Since there\\'s a god in all worlds there\\'s a god in this one from 3 Is this the right interpretation? If it is there is one flaw in it. # 9 is flawed. Just because there\\'s a possibility of a god doesn\\'t mean that there is a god in some world, just that there\\'s a possibility of him being in some world.\"', '\"If they can stage jihads in school, teach `` acceptance `` of `` different `` religions and beliefs, and teach our children that evolution is a fact, they can sure as heck teach creation along with everything else.\"', '\"If they did, you probably wouldn\\'t know about it.\"', '\"If they remain striaight then it\\'s they were never really gay. Talk about biases.\"', '\"Substantially, that logic dictates that much of radioactivity shouldn\\'t be taught as we didn\\'t come up with it. If we decided based on heritage what we should teach in science, we \\'d be leaving out vast amounts of chemistry, biology and physic from science.\"', '\"Is there any reason to respond to this guy at all? If we ignore him, maybe he \\'ll go away again.\"', '\"If we look into the Bible, we can find that there are many instances where it talks of things we never knew of before until today.\"', '\"What if the jury is wrong?\"', '\"If you base your beliefs on science you will almost always have to change them so are they really beliefs?\"', '\"If you can\\'t eliminate demand you could try to limit supply and control access to that supply.\"', '\"It appears that a Law or theorem is fundamentaly based on faith.\"', '\"If you draw a gun on someone holding a gun and don\\'t shoot straight away then you\\'re likely to get shot yourself. Without a gun you\\'re not a threat.\"', '\"If you ground him from using the phone, you\\'re a terrible father for tapping him on the wrist. In other words, you aren\\'t showing love.\"', '\"If you have a position please share it. No need to start new threads as some sort of news service.\"', '\"You\\'re arguing against a position that no one has raised here.\"', '\"There are some incedents that are beyond your control. If you own a rifle or large handgun, it\\'s at your own risk.\"', '\"If you think IÃ\\x82 â\\x80\\x99 m nuts, then check this site outÃ\\x82â\\x80¦. ( this is fascinating! -- and DEADLY to evolutionists. ) http : //www.aramaicpeshitta.com/Cool/evolution.htm It destroys the theory of evolution. Plain and simple\"', '\"You\\'re all over the place and your writing skills need to be improved.\"', '\"As for the intellectuals who wait to have birth later in life, watch Idiocracy starring Luke Wilson.\"', '\"If your knowledge of the bible, and your understanding of Gods holy nature is so limited as to not know the answer to these questions Matthew, then me answering them isn\\'t going to change your mind about anything you currently believe.\"', '\"They obviously love to ignore you and then go off on a tangent, throwing you a little red herring to keep you busy.\"', '\"ignoring my rebuttal doesn\\'t make you right.\"', '\"ill let you think about that\"', '\"Ive read that story, and many, many people have been killed and suffered with Bush\\'s policy in africa. Just because you never heard of it, doesnt mean it hasnt happened.\"', '\"Im preventing people from getting shot so they can enjoy their rights in the BOR, What are you doing?\"', '\"They are simply insane and no dialogue is possible with them. They are immune to reason.\"', '\"In Antarctica, penguins had plenty of fur, enough to die when they progressed to the tropics.\"', '\"no one here has missed the fact that you\\'re trying to divert attention from the real issues by beating one minor issue into the ground.\"', '\"In developed nations with stricter gun laws there are less murders.\"', '\"It is not. It is baseless conjecture. In fact, it is in contrast to generally accepted biological rules ( life does NOT come from nonliving matter ).\"', '\"In fact, Rhodesian man, in less than 85 years, ages from approximately 11,000 years old to up to 400,000 years old! Ã\\x82â\\x80\\x93 all in the name of political correctness. ItÃ\\x82 â\\x80\\x99 s the epitome of what they stand for.\"', '\"who knows but recent studies do show an increase in depression/substance abuse ( and things of that nature ) after abortions\"', '\"You have to know everything in order to say, boldly, `` There is NO God! Religious people are fools who believe in fairy tales. ``\"', '\"In other words youre happier because the old man did something criminal and broke the law. Admit it.\"', '\"We owe it to our readers to present everybodyÃ\\x82 â\\x80\\x99 s ideas equally and not to ignore or discredit theories simply because they lack scientifically credible arguments or facts.\"', '\"in the end God will win\"', '\"Reading the opinions in McDonald v. Chicago, you might think it was as much a civil-rights case as a gun case.\"', '\"In the theory of evolution, what did it all start with?\"', '\"In the third case, you would have killed Ethel Waters, the great black gospel singer.\"', '\"Incapable of arguing without relying on the fallacy of changing the subject, false dichotomies ( if not A, therefore B ), and generally unable of actually discussing their beliefs on those beliefs\\'merits?\"', '\"Your argument is not rational, or logical, it is insanity, although it is far better than I expected.\"', '\"Indeed the court\\'s reasoning may have been as racist as your own.\"', '\"Some use the fact that an infant is in the womb as a basis for killing that infant.\"', '\"\"', '\"Intelligent Design -- it\\'s not what you think\"', '\"The irony is that we all fall somewhere on the line of pregnancy from no abortions at all to minutes before birth\"', '\"Irreducible complexity proves this is incorrect,\"', '\"The thread over there is a compilation of the over half-dozen debate boards SS has been preaching his ignorance on, usually reusing his arguments on each board and then leaving once they get disproved and torn apart to go on to another board and preach some more of the same exact ignorance. It really is very sad.\"', '\"Whats is difference between the avian lung and a giraffes neck, that is not just long it has to have fancy blood vessels that contract and expand so the pressure in its brain is the same when its head is bent down to drink or raised up high to feed?\"', '\"What is the proposed progression in macroevolution?\"', '\"Is murder still illegal in your humanistic world?\"', '\"Nope. There really isn\\'t. 100 %\"', '\"isn\\'t it a good feeling wake up, log on to the internet, and see your theory smoked?\"', '\"Isn\\'t the point pretty obvious-\"', '\"Your take on this entire thing is ridiculous and unamerican. There is no evidence whatsoever that anything improper took place here.\"', '\"What disturbs me, though, are all the blacks, whites, and Hispanics who claim to be Christians, plus those who claim to be followers of the Jewish Tanakh, and who apparently think voting for a man ( Obama ) who is an abortion enabler, is ok with God.\"', '\"This statement is wrong. People from hundreds of years before Jesus was born prophesied that a baby would be born, in Bethlehem, of a virgin.\"', '\"One is right the other wrong. It can not be both ways.\"', '\"O.J.? Is that you?\"', '\"This thread is just aimed at watching the dances. Would I be getting the insults I & # 8217 ; m getting in this thread if they all didn & # 8217 ; t find this troubling?\"', '\"Is there some sort of a symbolic potent phallic aspect to holding a gun in one\\'s hand?\"', '\"Is there not a consensus among Christians concerning creationism?\"', '\"Is there really a difference between this and the theory of spontaneus generation?\"', '\"Is there some sort of a symbolic potent phallic aspect to holding a gun in one\\'s hand?\"', '\"The grey area is of course if they lie and say it\\'s not religion, it\\'s just `` ethics ``, or `` whim ``.\"', '\"jackamarrahow is this relevant to the philosophy discourse?\"', '\"Marriage is to promote children bearing and making a family unit.\"', '\"One of the specific ploys I\\'ve seen them use time & amp ; again is to say that natural selection is either a tautology...\"', '\"That, my friend, is where the wisdom of interpretation - makes sense of the data.\"', '\"Reason does not imply truth, it\\'s a method of seperating truth from what is false, and you can quite easily ( and do every day ), reason something to a false conclusion. 2. You can believe whatever you like, and it can certainly impact your life ( faith ), however it can not be said that faith is based on rational belief, or takes part in reason, in any way, it is the opposite of reason.\"', '\"My personal opinion is it\\'s a mistake for Pro-lifers to bring religion into it because it fuels the hatred of the God-less Left\"', '\"It\\'s easy to defraud a petition drive, it\\'s hard to defraud a general election.\"', '\"My maybe vote therefore means I think the US system needs to be nationalised, it\\'s much more efficient to do that.\"', '\"it\\'s rather rude not to\"', '\"it\\'s the other way around :\"', '\"The VPC did not used to be HCI. The Brady Campaign to Prevent Gun Violence used to be HCI. It\\'s true that the VPC is somewhat extremist, but the Brady Campaign to Prevent Gun Violence is much more moderate on the issue.\"', '\"They also believe somehow that until a child breathes its first breathe, it can\\'t be called or considered a PERSON.\"', '\"My point here is that it could be argued very reasonably as to whether or not a fertilized egg, a zygote, an embryo, fetus, etc., is a Someone.\"', '\"It doesn\\'t matter whether it is religous or not.\"', '\"Your analogy is very flawed. One, it does not involve me living off of your organs and life processes.\"', '\"It does seem that the dominoes are starting to tumble.\"', '\"It does unless you believe IT did it.\"', '\"No, not COULD happen, it HAS happened already, this is the reality of the situation.\"', '\"Then it is also not the place for abiogenesis, and so many other forms of science that presuppose that there is no God. Yet they are there, so ID should be there.\"', '\"It is also undisputed in the scientific/biological community that the point of conception is the commencement of the biological life of a member of it\\'s species.\"', '\"People have raised scientists to undeserved heights. It is clear that scientists can affect their experiments and observations, even in spite of their best efforts.\"', '\"Perhaps studies should be done to find out why women would disregard nature and have an abortion in the first place. It is completely abnormal for a woman to not want her child.\"', '\"It is in no way as foolish as the YEC theory, or even the strict creationist theory, but there are certianly hole in the theory.\"', '\"It is much more important that you concern yourself with the destiny of your soul, not how many years you can stay on the earth.\"', '\"it is not possible to study anything that has absolutely no effect on us by any means, not even logic and philosophy\"', '\"yes it is reasonable to expect a quality of life ethic to take the backseat to a sanctity of life ethic.\"', '\"One reptile has a type of third eye, but it isn\\'t for sight nor is it permanent.\"', '\"it just goes to show that you don\\'t want to marry you only won\\'t to destroy the meaning of the word.\"', '\"it means you can join the national guard, get a clue.\"', '\"This new cosmology is proposed as a creationist alternative to the big bang theory.\"', '\"It really piques me when someone attempts to assume what my opinion is without asking me.\"', '\"You say that like it was a bad thing.\"', '\"Why do we put up with this?\"', '\"Indeed, the article describes how the court\\'s reasoning was even a surprise to the police officers\\'attorney because it was so out of line with what is expected of conduct during arrests.\"', '\"You need to read what people say more thoroughly, and think about it before you respond. When he said `` can `` ( and there are not many simpler words than that! ) It didn\\'t mean `` will ``, `` must ``, or `` shall `` be more aggressive. It has been shown that in some cases it `` CAN `` happen. It may not have happened with you. It still might, we don\\'t know. We might even say that it is not likely to happen, but we can\\'t say that it won\\'t, because sometimes some people do behave more aggressively when they have a gun.\"', '\"No but it will be funny to see what sex tapes this tramp did too....\"', '\"So it would make sense that a mold ( which is a type of fungus ) shares the same common ancestor that other fungi share, and would have a lot of biochemical similarities with them which it would not share with bacteria.\"', '\"Its good to see the senate isnt agreeing.\"', '\"Japan and the former Soviet Union had/have very high rates of abortion because of the lack of birth control - neither country made such a decision because of religion.\"', '\"The day you became a person is the first day of you life that you can remember.\"', '\"Why do you find it necessary to misrepresent what everyone says?\"', '\"Look to this site, which does not credit Keynes with the above, for other statements by Keynes\"', '\"Liberal states didn\\'t push the rest of the country to follow like sheep to a slaughter.\"', '\"just because something is banned or made illegal doesn\\'t mean that it \\'ll have an affect on reducing the numbers.\"', '\"just cause you dont buy it doesnt mean it is not true.\"', '\"Then politicans should just drop the whole issue.\"', '\"More power too ya but, that\\'s just your opinion.\"', '\"Strawman. Key phrase `` until you can prove them `` when its really `` until science can prove them ``.\"', '\"The KKK use of firearms isn\\'t a legal and lawful use, as dictated in the Heller ruling.\"', '\"Science is knowledge, all knowledge, that is, anything we find to be true.\"', '\"The lack of transitional series can not be explained as being due to the scarcity of material.\"', '\"So what\\'s worse, evolutionits??? My posts or your latest digital prostate exam?\"', '\"law abiding\"', '\"The `` laws of consequences ``? What would those be?\"', '\"She thinks the university & # 8217 ; s leaders should have been more open about their failure to provide the killer with adequate counselling, among other things.\"', '\"The wewll-known scientist, Lee Spetner, picks up on this dishonesty\"', '\"What would be the legal precedent to stop non-Indians from performing or receiving abortions on sovereign lands?\"', '\"What matters is YOU and what YOU are going to think about yourself in 5 years.\"', '\"Marriage is also legally binding. Tax breaks? Ever hear of the Marriage Penalty?\"', '\"The point is that they think the current ban is ineffective so they want to change the ban and make it stricter so that it is effective.\"', '\"Why do YOU believe?\"', '\"let\\'s have an up or down vote on your marriage rights too\"', '\"Most pro-choice advocates think that intelligence is when human life starts, or consciousness or self awareness is what makes an embryo have rights.\"', '\"You still fail to address the fact of liberal firearm owners.\"', '\"Woman [ sic ] have already been liberated ( well, definitely in the West ), have you not noticed?\"', '\"Which lie is that?\"', '\"Like in your sect. You do expect complete obedience, do you not? No questioning of your authority?\"', '\"Like the `` pursuit of happiness ``?\"', '\"You provide no proof for this.\"', '\"after reflecting on the long history of misrepresentation and manipulation of scientific fact regarding God, that our world actually is worse off as a result of religious faith.\"', '\"Many mutations are recessive and a population over time accumulates a lot of genetic variation that can become useful if the environment changes. The founder population of lizards, for example, could have had at most, 20 alleles for any gene locus, since each lizard can only have 2. The new ones evolved by mutation. Sometimes, we can even observe that happening, or trace the mutation back to a known ancestor. Would you like to learn about it?.\"', '\"Ludacris and many others in the hip hop scene disrespect women with their lyrics and videos. Much of what hip hop puts out contributes to unwanted pregnancies.\"', '\"The only people practicing equivocation are those seeking to lump abiogenesis in with evolution\"', '\"The lung liquid that fills the potential air spaces of the lung ( 20 to 30 ml/kg ) is quite distinct from amniotic fluid or plasma\"', '\"Uzi Machine Toy Gun Amazon.com : Toy Gun and Holster Set for Kids : Clothing Home Plastic Toy Machine Gun - Party Time - 800-822-6332 Big Tex Pistol : BF62 - Buy.com\"', '\"So we can make machines to see better than we do? I wonder what would happen if one of our machines dismantled something that Galileo or Einstein saw?\"', '\"They are MAD that a Black Man! Is in the White House!\"', '\"That I guess is one of my main stumbling blocks in believing in evolution.\"', '\"You keep bringing up the Red Cross. The majority of donators to the Red Cross are most likely Christians as well, so what\\'s your point?\"', '\"No, you\\'re branded as a religious zealot when you make arguments that people who don\\'t share your exact beliefs should have their rights taken away.\"', '\"The Earth has done wonders for all of man-kind for millions of years.\"', '\"To re-iterate - the police face mandatory training and testing, continuous psychological and physical assessment and a character check before they even enter the force.\"', '\"Nobody considers a petri dish pregnant, but, thats not the point. Many people consider conception to be the beginning of life and anything that prevents that life from continuing to grow an abortion.\"', '\"They\\'re hoping that in a few years gays will actually get full rights. We can only hope.\"', '\"Then why do marijuana addicts tend to end up on heroin?\"', '\"So much for marriage\\'s `` religious origins. \\'\\' Freethought Today, November 2008\"', '\"The term `` marriage `` is not exclusively reserved for a union between man and woman. The term can also describe the joining of anything ( ie. \\'\\' the marriage of words and music in a hit song ``, `` new lipstick is a beautiful marriage of fragrance and texture ``, `` marriage of these companies will be successful ``, etc ). Is it not possible marriage can also be used to describe gay unions?\"', '\"We may not get abortion made illegal,\"', '\"what do you mean by opinion?\"', '\"So theists can choose, either to discuss meaningless things ( unknowable ), or to admit that there is no god by classic definition.\"', '\"Meanwhile there are school shootings happening in Germany no matter how much they tighten their overreaching gun control laws.\"', '\"mechanical formulas won\\'t explain an immaterial reality\"', '\"Slugs and/or snails melt as they move. somewhat true, have you ever paused to watch?\"', '\"That men would vote on a law that can place a womens\\'life in peril, is beyond me.\"', '\"Michael Moore\\'s work treads a fine line between documentary journalism and commercial film making. The sensationalist way in which he tackles the subject matter is possibly undermining any social message he is trying to get across.\"', '\"The modern misstatement of the Razor is incorrect.\"', '\"This is the VPC they claim to be for `` moderate gun control laws `` They used to be HCI. This is one of the largest anti-civil rights groups operating in the US\"', '\"Then when we did see the descendants of the fossils and it got changed, that\\'s how science works, when better data is found, the theories are changed.\"', '\"New information applies to my definition of evolution, i.e. molecules to man evolution.\"', '\"Waiting until they are born likely gives them no more chance of surviving than killing them in the womb. What chance does an unexpecting child have against a grown person intent on killing him?\"', '\"What evidence do you have that having an abortion is\\'a mortal sin \\'?\"', '\"More often than not, the unarmed home owner is the one who winds up dead. So your presented example proves nothing.\"', '\"True - most abortions are not due serious health/life risks\"', '\"Most beaks close to average size, some larger than average, some smaller.\"', '\"Most of the time one should be able to tell the sex of the baby by about 20 weeks and very often even at sixteen. Second trimester starts at 12 weeks. You canÃ\\x82 â\\x80\\x99 t get an abortion after determining the sex because its illegal. Where are you getting your data?\"', '\"Most of their mothers died giving birth or soon after Ã\\x82â\\x80\\x94 something that, in poor countries, leaves newborns at great risk of dying, too. The children are here just temporarily, to get a start in life so they can return to their villages and their extended families when they are 2 or 3 years old, well past the fragile days of infancy and big enough to digest cowÃ\\x82 â\\x80\\x99 s milk and eat regular food.\"', '\"Most of them are still getting killed with guns.\"', '\"Most people are probably not aware that NY has had a gun registry for what?\"', '\"Most premature baby survivor :\"', '\"Most pro-abortionists I\\'ve met have said yes, however I \\'d like to make sure.\"', '\"The mother along with the father made the baby\"', '\"You mean on the road shared with the adjacent property they claim as tribal land? Mr. Brown was able to attend ball games. Not exactly held captive was he?\"', '\"much of the grain going to these animals is essentially the trash left over from other production to begin with, unfit for human consumption.\"', '\"My point wasn\\'t to show that the unborn is a person but to show that the real question isn\\'t `` Who gets to determine the future of a woman\\'s pregnancy, the woman herself or some nameless faceless bureaucrat? `` but whether or not the unborn is a person.\"', '\"Mythology doen\\'t include historcally correct and factual prophecy. The claims made in the Bible can all be see in secular history.\"', '\"The National Guard interpretation of the militia is totally false.\"', '\"National Health System and Public Education? Yeah, you\\'re right. No socialism here. Move along...\"', '\"Show me even one instance of the National media coming out with a story that questioned Darwinism or explained the other side of the debate.\"', '\"Natural selection isn\\'t anything to do with evolution,\"', '\"Natural selection is not proof of evolution by any means.\"', '\"Natural selection is not proof of evolution by any means.\"', '\"Why would they `` necessarily `` be Christian organizations?\"', '\"Some argue that the mountains werenÃ\\x82 â\\x80\\x99 t that tall yet. That makes no sense whatsoever given the rates of tectonic plate drift.\"', '\"When the needs of the two are in conflict this is unavoidable.\"', '\"You\\'re never going to convince pro-lifers that the intential termination of a pregnancy is ok\"', '\"so why do people keep coming up with new ways to prove evolution right??\"', '\"Next thing you know, we will be labeled `` domestic terrorists ``... heavy sigh\"', '\"no, just overturn roe vs wade.\"', '\"No, she misrepresented studies and took statistics out of context. Very right-wing.\"', '\"No a foetus shouldn\\'t.\"', '\"The facts speak for themselves, and no amount of geneticist/darwinist hand-waving is going to change what they say.\"', '\"No child should be used as a punitive measure against a woman for her sexuality. You claim to care for babies with a statement like this?\"', '\"Please NO Crackpots serious responders ONLY!!!!!!!!!!!!!!!!!!!!!!!!!!!!!!!!!!\"', '\"Thats what I thought..... no defense for your perverse behavior.\"', '\"There ain\\'t no doubt about it in my mind\"', '\"The problem with ID is that there is no evidence, and it is simply not possible to falsify it.\"', '\"No more need be said. http : //www.4forums.com/political/365910-post53.html\"', '\"Why do people on the pro-gun side continuously try to oversimplify the issue?\"', '\"No one said he invented guns!\"', '\"No ownership society for women when they can\\'t even claim autonomy over their own bodies.\"', '\"Then you would have to be believe that out of the supposed millions upon millions of people who walked the Earth none of them were pregnant and there were no newborns either.\"', '\"nonsense and here are some quotes.\"', '\"not a single one talks about Creationism as valid based on its own merits.\"', '\"Not beyond the pale and not impacting on TOE.\"', '\"Not much of anything else either, it would seem.\"', '\"Not owning a gun makes me safer and two cherry picked 911 calls does not disprove that.\"', '\"That is why they will not reply.\"', '\"There is nothing about the theory of evolution that precludes a God.\"', '\"There\\'s nothing magical in the word `` marriage. ``\"', '\"Notice how the places where guns are banned have the most massacres.\"', '\"Second, in this very thread Arch has deliberately tied the two as one. There are at least three posts here where he has just done that. You \\'ll notice right off the bat, despite a distinct clarification of YEC, and NOT Christanity as a whole, that Arch deliberately takes the discussion on YEC as a discussion on Christanity.\"', '\"Now we come to the problem with the `` theory `` of intelligent design. There simply has been no thinking involved.\"', '\"US heritage/ancestry of US residents has nothing to do with `` numerous other origin stories of non-biblical religions `` so they shouldn\\'t be taught publicly in US scientific origins speculations.\"', '\"Obama and his cronies can\\'t stay in office forever, they\\'re eventually going to * * * * up and the conservatives will soon be in control once again.\"', '\"Object to the mother needing to raise a child she did not want to have.\"', '\"Objective Moral values\"', '\"There was a first animal to fly, a first mammal to take to the water, a first multicellular creature.\"', '\"On the fourteenth day of the first month the mothers egg appears.\"', '\"The problem is that you have wack jobs and zealots on both sides of the issue.\"', '\"ON the topic of evolution and creation it is relgion verus relgion because evolitn is just a relgion.\"', '\"You telling me that one day I could have claws come out of my hands?........ SWEET!\"', '\"The ORIGIN has EVERYTHING to do with evolution.\"', '\"One person\\'s opinion\"', '\"The only reason someone wouldn\\'t breed would be because they\\'ve either chosen not to, or because they haven\\'t had the fortune of meeting the right person.\"', '\"What couints is the functioning of the system as a whole.\"', '\"Or you can leave them both in the scientific theory category, which is what they are - theories, based off of assumptions and extrapolations - neither of which are void of error.\"', '\"The organism can survive in the environment by a loss of genetic information\"', '\"You do not know who you are aborting, they could be a future presidant or a nobel peace prize winner.\"', '\"Our world is rolling downhill like a giant bolder [ sic ] rolling down a mountainside.\"', '\"why don\\'t we just outlaw convenience abortions?\"', '\"Outrage at the tactics of `` The Advocate `` in 3... 2... 1...\"', '\"They prefer their own pleasurable self-indulgence over the care and sanctity of the life they created.\"', '\"Since you disagree with the way the poll was run ( dividing a pregnancy into trimesters ), how would YOU have run that poll? Specifically, how would you phrase a poll to determine people\\'s views about the stage of pregnancy or fetal development they think is morally critical enough to outlaw abortion?\"', '\"Why should people be allowed to vote on my marriage?\"', '\"People truly in love with themselves should be able to marry themselves.\"', '\"This is a push to promote lawlessness. The San Francisco fiasco is the prime example. People with certain agendas are refusing to follow the laws. This is a devastating precedent for our Nation.\"', '\"Perhaps another unwanted child spending a childhood is state supported homes?\"', '\"The phobes were right about same-sex marriage leading to polygamy!!! : -P\"', '\"Senior citizen yachties stand little chance of defending themselves against pirates. Piracy needs to be dealt with using military might.\"', '\"SuperSport, plagiarism is a crime.\"', '\"Plague ships weren\\'t protected under the Second Amendment during colonial days. This was the closest thing there was to a WMD, Americans could\\'ve used them do devastate Britain and kill everyone. So why wasn\\'t the possession of plague infested ships protected?\"', '\"Please don\\'t waste my time with these biased, dishonest gun advocates any further.\"', '\"Why do I think they are popular books, and not peer reviewed scientific articles?\"', '\"so why is population control a good arguement for abortion?\"', '\"Pregnancy is a very expensive thing\"', '\"Pregnancy isn\\'t expensive at all unless you\\'re conned into thinking it has to be. If it were, poor people couldn\\'t have the kids they do. Medical costs can be paid for by others. It\\'s the luxuries many yuppy types seem to think they need that makes the after effects costly. In most cases of putting a pregnancy up for adoption, there is NO cost incurred to the mother.\"', '\"President Obama signed legislation letting people carry concealed weapons in national parks and in checked luggage on Amtrak trains, adopted the gun lobbyÃ\\x82 â\\x80\\x99 s empty rhetoric about just Ã\\x82 â\\x80\\x9c enforcing the laws on the books, Ã\\x82 â\\x80\\x9d and muzzled Cabinet members who expressed support for stronger gun laws. In addition, the White House voiced no objection to people carrying guns near Presidential events and his White House staff removed statements from the White House website that declared support for gun violence prevention laws. What a traitor!\"', '\"The Pro-lifers advocate force, just like the slave advocates did. The pro-choicers advocate freedom and choice, just like the abolitionists.\"', '\"The tactics pro-lifers use make the Nazis look like the little league.\"', '\"Problem with your logic is thus. Step two is not based on step one. It is a second premise. The fact that a being is all powerful precludes step two. Therefore, contradictory PREMISES. Therefore, fallacy of the inconsitency.\"', '\"Slugs and/or snails melt as they move. somewhat true, have you ever paused to watch?\"', '\"The Breyer-Sotomayor-Ginsburg dissent questioned why some restrictions would be acceptable but not the Chicago handgun ban :\"', '\"What makes a rape and incest baby any less precious then a regular baby and why it is okay to abort them but not the later?\"', '\"You can not begin to hold a rational debate about the unknowable.\"', '\"You realize the constitution does not cover everything for our society right?\"', '\"So registration has at least a few benefits.\"', '\"There the remains of a dead aniomal\"', '\"These thing are completely useless on a dino, they evolve right the hell away.\"', '\"You\\'re the one who\\'s clueless if you think Republicans had zero to do with this legislation.\"', '\"Someone\\'s right to life, again as I understand it, trumps any other rights that other people may have.\"', '\"Your right to swing your fist ends where my nose begins.\"', '\"South Africa\\'s highest court has ruled in favour of same-sex marriages, which are banned under current legislation.\"', '\"Sarah Brady is a straw purchaser then. She knowingly broke the law by buying a gun for somebody else instead of letting them go through the NICS check system. Who knows what else she\\'s done and who she\\'s supplied guns to.\"', '\"science\\'s job is not to figure out why the flood story gets so much attention, we already know why.\"', '\"The scientific method must stick to the measurable, observable and testable otherwise it stops being, well, science.\"', '\"The global flood should have left homogenous sediment layers across the world, similar to the Iridium layer that the asteroid that wiped out the dinosaurs left on the Earth. No such layer of sediment exists for that time period.\"', '\"This sedimentary layer would show signs of being layed down in water.\"', '\"the intiative didn\\'t say `` gay marriage is banned. `` That\\'s actually a misrepresentation of the language of the initiative.\"', '\"Yeah, there are those who scream that self-defence is not a valid reason for gun ownership.\"', '\"What tells you he has a sense of humor?\"', '\"What should we argue for as a result of these senseless killings?\"', '\"my opinion, their banning a gun because of the way it looks they seem to think an ak47 is worse than a regular gun because it looks like a military gun the only true ( assault weapon ) is fully automatic i have. sereral ak47s but their semi -auto thats not an assault weapon!\"', '\"There are several fallacies with Darwin\\'s theory of evolution :\"', '\"Sex is a norman part of a healthy relationship.\"', '\"Yep and watch an increase of sexual activity among teens.\"', '\"Susan Smith shocked the nation with the murder of her children.\"', '\"whatever happened to good \\'ol Dr. Seuss?\"', '\"You shouldn\\'t kill children unless absolutly necessary\"', '\"Show me how a cell could evolve randomly :\"', '\"Why would you want to prove your belief system to be true?\"', '\"Since the time when it became widely available ( 1960s I would guess ), have abortions decreased?\"', '\"This is the situation as it is in Britain.\"', '\"You snipped most of my remarks because you were unable to address them.\"', '\"where is your tautology,\"', '\"So in the end, the evolutinists win.\"', '\"There is so much to gain for so little effort.\"', '\"So the stats come from John Lott.... Wasn\\'t he the one who got caught making up statistics and impersonated a woman for three years to support the pro-gun cause?\"', '\"So this eliminates Neanderthal from being an ancestor to homo sapiensÃ\\x82â\\x80¦Ã\\x82â\\x80¦.do you have any idea of the implications of this?\"', '\"You throw personal insults more than I do. So when will YOU grow up?\"', '\"Some materialists claim free will is an illusion, doesnÃ\\x82 â\\x80\\x99 t actually exist. They insist that what we see as spontaneous responses are merely chemical reactions and deterministic brain interactions.\"', '\"Some people doesn\\'t mean a typical gun owner. Would it be reasonable to say that black people are robbers because a group of three black kids robbed a convinience store?\"', '\"Some theorize that T-Rex was actually a scavenger that didn\\'t chase anything down because it had a very large area in the brain for processing odors.\"', '\"Sounds like you are talking about a human being.\"', '\"You got so many things wrong here it would take a book to cover them all and you can\\'t read.\"', '\"those sporting teabags.\"', '\"SS\\'s theory predicts that DNA is unpredictable since there is no requirement that some designer entity would be required to abide by some nebulous rule as to the form of DNA.\"', '\"Stabbing yourself is not ok, but that doesn\\'t mean it should be illegal.\"', '\"The SGC ( Standard Genetic Code ) has an EM ( Error Minimization ) value ( see Methods for calculation ) of 60.7. Ten thousand random codes have an average EM value of 74.5, and only 0.03 % of these have equal or greater optimality than the SGC. These calculations once again illustrate the remarkable Ã\\x82 â\\x80\\x98 optimizationÃ\\x82 â\\x80\\x99 of the genetic code for EM.\"', '\"Thought I \\'d start a new thread dedicated to this myth..\"', '\"Statis is the norm not the exception.\"', '\"The Finns were de facto allies of Nazi Germany, out of necessity, during the war.\"', '\"Strike Four.\"', '\"Stuart Taylor Jr.\"', '\"What some courts have done is to say that such a definition violates some part of the Constitution.\"', '\"What is supposed to take thousnds/ millions of years for populations of animals to evolve has just taken a swift punch to the gut by David Reznick.\"', '\"The Third Reich did not need gun control ( in 1938 or at any time thereafter ) to maintain their power.\"', '\"Teach the Controversy is absolute bull * * * *. The idea that we should be teaching our children all of the ideas and beliefs is not a bad idea if the ideas and beliefs have evidence.\"', '\"Teaching students to be responsible! What a crime!\"', '\"We, and the law, must stand firm against terrorists like Scott Roeder.\"', '\"What kind of effect does testosterone have on behavior?\"', '\"The issues involved will likely occupy us for a long time to come.\"', '\"That\\'s not a bad read. You should read it.\"', '\"This is unrelated to genetics. The fact that I ( or anyone else ) can suppress bad habits does not mean that I do not want to practice them anymore.\"', '\"That is not true you can believe in both. You can not believe in both if you believe in the literalness of the bible.\"', '\"That website starts off with the rumor that there are over 20,000 gun laws.\"', '\"That won\\'t happen...\"', '\"What is it that you find hard to understand?\"', '\"Yes and the continents moved about 2000-3000 miles in less than 4000 years only about a mile per year.\"', '\"Why must the anti-abortion crowd use such fallacious images to sell their point?\"', '\"The greatest scientist in history said about the order of the universe : The Author of the system must have found it convenient.\"', '\"Where\\'s the barf smiley when you need it? What guntotin\\'god lets stuff like this happen?\"', '\"The Brady Center has released a report on President ObamaÃ\\x82 â\\x80\\x99 s performance called President ObamaÃ\\x82 â\\x80\\x99 s First Year : Failed Leadership, Lost Lives. The PresidentÃ\\x82 â\\x80\\x99 s concessions to the Ã\\x82 â\\x80\\x9c guns anywhereÃ\\x82 â\\x80\\x9d mentality of the gun lobby and lack of leadership for common-sense gun laws has earned him a grade of Ã\\x82 â\\x80\\x9c FÃ\\x82 â\\x80\\x9d.\"', '\"the child in the womb feels pain.. when you put the needle up there to try to give the child anestesia in the womb, the child moves away to not get stuck by the needle. Its because it feels pain.. this is after 18 weeks. this is a child in the womb..\"', '\"The evidence is adequate for me and for much of the world\\'s population\"', '\"The evolutionist zealots are essentially pushig to remove any possible religous connotation from evolutionary teaching.\"', '\"The later of course can be eliminated as it does not fit the provable criteria of the question, and at the same time defies provable logic.\"', '\"the later the better, it seems to me\"', '\"The only mind you need to know in this particular thread is your own. The only awareness you need concern yourself with to answer the question `` what does it take to change YOUR mind on abortion?\"', '\"Therefore, the population control claim lacks sufficient reason to be a justification for abortion.\"', '\"The toxic spewings of the collective have a corrosive effect on society generally, validating and empowering in their own minds the estranged and paranoid.\"', '\"The truth is out there...\"', '\"Yes, the unborn are being dehumanized. They\\'re `` babies `` when the mothers want to have them, and `` blobs of unviable tissue mass `` when they don\\'t.\"', '\"You are just playing dumb, right? There will be fewer technicians and fewer orders for equipment PER INSURED.\"', '\"These last two cases are of course not the norm, but they indicate the wide-range of ideas that can be routinized by the judicious quoting of scientific authority.\"', '\"They appear to me to be legitimate safety tests to assure quality of manufacture and assembly.\"', '\"They didn\\'t `` prove `` anything!!\"', '\"You didn\\'t answer her question, nor did you address her point. You simply sidestepped them because they make your argument look as stupid as it really is.\"', '\"To be an atheist, one must have absolute knowledge about everything ; they must be omniscient.\"', '\"Yep, he holds to the position of over 50 % of people in this country. You act as though that\\'s somehow a dangerous or far worse view than it is -- as if they\\'re KKK members or something and that it\\'s going to cause violent behavior. They simply see marriage differently than you. This firefighter had the view that most people have.\"', '\"This error becomes immediately evident if we amend Thompson\\'s illustration. What if the mother woke up from an accident to find herself surgically connected to her own child?\"', '\"This fact makes me think that you are NOT here to learn, rather, you only wan na throw an argument that you think is like the top anti-creationist argument in the world, and you probably think that you already won the whole debate.\"', '\"This isn\\'t interesting at all. What did these magical `` light-sensitive cells `` evolve from?\"', '\"What did these magical `` light-sensitive cells `` evolve from?\"', '\"What\\'s this to do with Gun Control?\"', '\"This would also explain why gradualism is not found in the fossil record.\"', '\"Too bad evolution is a scientific theory and an empirically verified fact.\"', '\"Who are you to tell me which `` tools `` I need?\"', '\"Two gun deaths per 100,000 population per year instead of fourteen?\"', '\"what\\'s to explain, none of those contradict with theistic evolution, at all.\"', '\"When that occurs is variable.\"', '\"Viva La Liberty!\"', '\"We are adapted to living longer.\"', '\"We would have more crime, less morality\"', '\"Well done, martini guy!\"', '\"What about them? Is this a question?\"', '\"What are you referring to here?\"', '\"You needn\\'t be far left to support reasonable gun regulation.\"', '\"What did the bear replace?\"', '\"What guntotin\\'god lets stuff like this happen?\"', '\"What price activist judges?\"', '\"What should the world look like with the very different set of phy [ s ] ics, chemistry and biology principles?\"', '\"What would you like?\"', '\"whatever.\"', '\"While this baby 21 week baby is living in one hospital room, down the hall a 22/23/24/25/26 ect week baby is being aborted because it was in the wrong place at the wrong time.\"', '\"Who on earth worships the Koran?\"', '\"Why do some of you guys insist on being rabid haters of anyone who cares about the enviroment.\"', '\"Why should Alice and Bob not be permitted to kill this chronically ill child?\"', '\"Why so many what?\"', '\"Why would someone make that up and pass it off as a real event?.\"', '\"You once said that you had done a detailed study of evolution, `` with an open mind. `` You never did tell me at what university. What books and papers written by real scientists did you read - by the way - real scientists don\\'t have ministries. I suspect that you weren\\'t being truthful when you made that claim.\"', '\"Woodward was a fraud, and I recall that was actually about the Piltdown man.\"', '\"Would you accept civil unions even though they were less then marriage?\"', '\"You are betraying your belief system.\"', '\"You are in a loud minority, railing against the irrational hoards about you.\"', '\"You bet your XXX that \\'d make me happy.\"', '\"you say `` f * * * the Constitution. ``\"', '\"Your answers were without content or meaning. There was no sarcasm.\"']\n",
            "['\"If so, why do we still have apes, and why are there no transitional species that we can currently observe.\"', '\"Of course. The makers of Expelled were within their right to expel the very same people that they were attempting to demean in the film.\"', '\"Oh, I would wager about like Mexico, about 80 % fewer than guestimated. Funny you would ask that when the puts the finger squarely on gangs. How is that drug war working out in Mexico or Canada for that matter. Think the gangs are for smuggling dope or guns? What causes the problems? Dope but they also have guns. I wonder how a national dope registry would work\"', '\"Pickup strikes group of four youths | Houston & amp ; Texas News | Chron.com - Houston Chronicle Darn pickups! One dead and 3 injured. This is America! You don\\'t need no stinkin\\'motive. You love your truck and just got to see what it wll do in 4 wheel drive...\"', '\"I believe there is a point at which we ( society ) must be prepared to protect the fetus from his/her mother.\"', '\"The bible is not a science textbook. I do not treat it as such.\"', '\"According to your logic, an infant would have no right to suck nutrients from a woman\\'s breast.\"', '\"Oh irrational-boy, please do try to understand basic concepts.\"', '\"I \\'d say no to the first part, and yes to the second.\"', '\"Well isn\\'t that interesting.\"', '\"In the same sense that shooting an intruder when he\\'s charging at you is the same, in principle, as shooting a fleeing intruder.\"', '\"It didn\\'t say ~some~ supernatural entities, did it?\"', '\"So then the law is flawed because criminals could just as easily get their hands on select firearms, ban or no ban. You\\'ve just admitted that the bill did nothing and thus there\\'s no justification for it to be reinstated.\"', '\"Well, I was just giving a different perspective from a witness who was also there, so obviously not everyone sees the events the same way.\"', '\"Yes there is a reason to opposing it.\"', '\"That is an interesting point- from what I have read of ID there are a number of tenants it does not oppose\"', '\"I\\'m glad you made the same correlation I did. ToE is a substitute for # # # # in this case.\"', '\"Really. For that reason, we, antiabortion atheists, hold that abortionist are really religious nuts who believe that a soul exists and penetrates into a body along with the first air breathing.\"', '\"It means life is holistic, not reductionist.\"', '\"More like the wrong side of the issues, ever in search of more money with the health insurance industry, I \\'d say. Off the blood of your fellow Americans. Shoot down sounds appropriate though.\"', '\"Well, that\\'s because all those things happened during the Age of Law\"', '\"That\\'s ridiculous. The purpose imposed by man is what makes it artificial in the first place.\"', '\"my my you are up on the current events.\"', '\"it might be hard to convince people that you aren\\'t ignorant of some of the facts\"', '\"Well here is a christian who supports abortion.\"', '\"I consider my arguments to be `` anti-elective abortion `` not `` pro-life. ``\"', '\"I think that laws, like history, are written by the victors.\"', '\"No. Anyone who sticks to beliefs that a god created the earth just 6,000 years ago is an XXXXX.\"', '\"Can\\'t you read?\"', '\"But I suppose the Pope is going to hell\"', '\"But what if it is unconstitutional, like Prop. 8?\"', '\"Try a new experience. Check these names from that list ; David Catchpoole, Emil Silvestru, Gary Parker, and Carl Wieland. I found them quickly - there are probably others like them who were once atheists, who became scientists, and subsequently creationists.\"', '\"In the latter case, that\\'s because more fornicators are shacking up rather than getting married, which is why there\\'s fewer divorces. If a state allows gay marriages their spirituality is in the toilet. Gay sex sin is a perversion and an abomination according to the Bible.\"', '\"Apparently you want to talk molecular chemistry whereas I was hoping to discuss organismic evolution.\"', '\"And you\\'ve never hesitated to make it sound like we want to do away with law, when in fact, we\\'re just pointing out that criminals won\\'t follow them if they\\'re passed.\"', '\"It isn\\'t a person because it doesn\\'t have a higher brain necessary for a mind to form in.\"', '\"I don\\'t think people have a right to kills themselves\"', '\"I think extraordinary claims require extraordinary evidence. There is not `` overwhelming documentation `` for the gospel story. There is next to none.\"', '\"This was not a very well thought out thread. Your points are extremely well taken.\"', '\"And there are plenty of people who smoke who don\\'t develop lung cancer. You\\'re cherry picking.\"', '\"Why would that even be expected?\"', '\"yeah, you could say that\"', '\"The cultic flaw in Ayn Rand\\'s philosophy of Objectivism is not in the use of reason, or in the emphasis on individuality, or in the belief that humans are self motivated, or in the conviction that capitalism is the ideal system.\"', '\"Is the bible our constitution?\"', '\"So why are you here? Do you have anything to offer of any substance?\"', '\"But it is OK to teach your religion in public school classrooms?\"', '\"The article is saying that it was genetic changes.\"', '\"Number the children of Levi after the house of their fathers, by their families : every male from a month old and upward shalt thou number them.\"', '\"And how do you know what other animals can analyze?\"', '\"That interpretation is fine except that God says, `` I WILL make a helper suitable for him. ``\"', '\"Oh boy, trying to tie Bayesian statistics to the number of assumptions!\"', '\"So its basicly an argument against those who wants to ban weapons without changing the constitution?\"', '\"Actually, Simone, if you spend more time on their website and research a little deeper, you will find that they are also `` right wing wingnuts\"', '\"No, but my Mom was, and my Sis was and my Wife was.\"', '\"You can not point to one word Jesus spoke that gave any person the right to interfere with the female reproductive process which God, in his infinite wisdom, placed within the female body.\"', '\"Any belief system is a religion loosely defined.\"', '\"Read the post, IF I can do A, then I am allowed to do B. I can not keep morphine responsibily, then I can not own morphine.\"', '\"barren women can not have a valid point of view nor women in the stage of menopause because it does not affect them personally.\"', '\"You don\\'t see how gun-control interferes with self-preservatlion?\"', '\"That\\'s questionable.\"', '\"Exactly where it is from. Great movie.\"', '\"So now name calling and accusations as to my mental health are what you concider as rational thought?\"', '\"The VPC is hardly a real source. If any thing what this shows is the real and pressing need to close the border.\"', '\"Tell this to those infants and adults in the netherlands who are being euthanized against their will. this is a logical conclusion of a quality of life ethic without a sanctity of life basis.\"', '\"Where has it been shown? How is it used to make predictions about species chances of survival for the future?\"', '\"And would guns in the hands of citizens have stopped that? Or does publicity, which has only increased since those events, stop them? Your selective reading ability is at work.\"', '\"Actually it does.\"', '\"But you know that this is not what I was saying : We have a basis for comparison.\"', '\"So where in there does Behe say that brute luck is actually impossible?\"', '\"Well, you will find claims amoung this group that \\'If Jews understood their own scriptures, they would accept Jesus as their Lord and Savior \\', and `` Christians are fullfilled Jews ``.\"', '\"I can\\'t help but wonder if current majority public sentiment against alternative lifestyles, and other change\"', '\"Thou Shalt Not Kill. Seems to be a pretty convenient verse to throw around.\"', '\"It seems apparent that you didn\\'t understand what you read. What you are saying is that a pressure regulatory valve on a steam engine is responsible for moving the train.\"', '\"I did not say that they did not recommend abortion... they do offer it as an option, but I have never heard of anyone being \\'forced\\'to have one by Planned Parenthood.\"', '\"Well the main difference is under the law ( and I don\\'t want to get into the right or wrong of the law ) a fetus isn\\'t a person yet so they aren\\'t making \\'life and death\\'decisions.\"', '\"Well, that last bit applies to me, but scientists otherwise epitomize rationality, as opposed to the sky-fairy, Noah\\'s-Flood, angel-packing crowd.\"', '\"As Kronus explained, there are an infinite number of `` colors, `` because `` color `` is a function of wavelength.\"', '\"On Faith : Murder is Murder and Abortion is Not\"', '\"Well right there, you used an oxymoron, `` Great `` and `` Evangelist `` got together about as well as Military Inteligence.\"', '\"You know what? You\\'re starting to remind me an awful lot of reverend Jackson and reverend Phlaeger ( the one who said they were going to kill anyone that didn\\'t support their ideas of gun control ).\"', '\"Cereal factories aren\\'t that big of polluters.\"', '\"You really have been paying attention to the Democratic smear campaign of the healthcare insurance industry, haven & # 8217 ; t you?\"', '\"oh sure there is. you would just have a lot of angry off people though.\"', '\"I\\'m not arguing that gun control will change the nature of men- though guns may make them more willing and confident to engage in crime.\"', '\"But people start threads here all the time against Christianity regardless of whether someone claims something here about it or not.\"', '\"So then if I owned a business or a piece of property I could then refuse to sell or accommodate fundamentalist anti gay Christians and `` That it has been `` open to all for years `` carries no weight whatsoever. `` It is my property and I don\\'t like the immorality of fundamentalist anti gay Christians.\"', '\"Did contraception fail?\"', '\"And where is their source?\"', '\"So if you\\'re really interested in enforcing gun laws, don\\'t support the NRA.\"', '\"First off, it\\'s not punishment, it\\'s taking responsibility for your actions.\"', '\"Oh he won\\'t read that... This American in exile ( does not even live here anymore ) just disappears for a while whe the heat is on only to resurface with his same propaganda after the heat has died down.\"', '\"answered above.\"', '\"And can you please tell me the difference between nonrandom variation and directed variation?\"', '\"Did I ever say that?\"', '\"Answers include but are not limited to : Ã\\x82â\\x80¢ People need a solution for the Problem of Evil. Ã\\x82â\\x80¢ People want to have an `` objective `` standard for good and evil. Ã\\x82â\\x80¢ God said it, I believe it, that settles it.\"', '\"If you wrote this in response to my post, please note that I said that there is no PHYSICAL evidence that suggests that God exists without the mindset that God exists.\"', '\"And only a `` miniscule and negligible fraction of the total wild moth population `` has even been observed resting anywhere else.\"', '\"Up for parole in 15 years? well about 14 by now? and with records like that.I\\'m not telling anyone to, but me personally I \\'d find something on the blackmarket. When it takes 9 hours for the police to get around to it, face the horror, your just on your own.\"', '\"Just curious, how legal is that?\"', '\"You dont like the fact that planned parenthood performs abortions, and so you feel the need to slanderize them. Some rabid pro=lifer told you that, and you swallowed it hook, line and sinker. You obviously have no clue into the idea of customer service- which is the field I work in. You try to do whatever is in the best interest of the customer, even if it sends them to your competition. IN the case of planned parenthood, it is against their policy to recommend that a patient do anything but dicuss it with their own support system, be that friends, family, clergy or whatever. Any employee of theirs who breaks that policy is making them liable for legal recourse, and will also be likely to lose their job. I wonder, does your high school offer logic courses? Please do us all a favor and invest in one.\"', '\"My first line of defense for up to 300 yards is an M4 ( specops m16 ) flattop with an ACOG scope and tritium backup sights, 14.5 barrel with a 1/7 twist with mccluek ( sp ) muzzle brake to make it the legal 16 inches. foward pistol grip and a surefire light mounted to my knights RASII. I keep 45 grains in the clips so they frange and not penatrate walls. I keep a second clip with 77gr noslers in a mag-cinched clip for longer range shots. I use a long range Shephered scope on my.308 chambered m14 for shotting zombies out to 1000 yards. And to compliment my defensive ability I keep a romanian AK in my bugout bag with a surefire light and an OKO red dot scope for quick egress when reliability is of most importance and close range firefight is likley. ( this in not to mention the plethora of pistoles and handguns I keep for home defense also ). THe m4 is 1.5 MOA, The M14 ( m1a ) is sub MOA, and the AK is a typical 3-4moa. BTW. I have had military and civilian training in all of these weapons I also keep a well trained Caucasian Mountain dog roaming the house at night so if anyone where to make it inside I doubt there would be anything left of him by the time I got there... Preparedness my friends... Now VoR probably keeps his Rechargable phone next to his bed and a whistle around his wifes neck and a fancy pug roaming the house... Dear Mr. Criminal, Which house would you like to break into. SIncerely, 1 constitutional rights violator and 1 law abiding citizen.\"', '\"So both daughters get daddy * * * * * *, shag him and get pregnant.\"', '\"I believe you mean pro-choice, don\\'t you. A pro-life mod might agree with you.\"', '\"Well.. other people think the same way. That\\'s why this incident happened Man Shoots Fiancee Day Before Wedding - CBS News\"', '\"So you have a scumbag democrat screeching hate speech and we are supposed to believe its true!\"', '\"So, in order to be against gay marriage, a person has to be faithful in his own marriage?\"', '\"People with big egos have libidos that keep up. what\\'s new? It\\'s an unfortunate accompanying characteristic. The only reason that this was even posted was because it was another attempt to discredit anyone that is against gay marriage.\"', '\"A Jungian might suggest such a stance.\"', '\"We have got to stop treating sex like a dirty little secret.\"', '\"What\\'s your point? Of course they will be bound by Heller just as the courts are bound by Roe v. Wade.\"', '\"Because hopefully you\\'re going to shoot the guy, drop your gun, and put your hands out, not run around in circles waving it like a maniac for a a couple of minutes.\"', '\"I hardly see why you feel called upon to explain how a hypthetical entity that does not in fact exist requires an explanation at all!\"', '\"Good. The less moronic `` spirituality `` in each state the better.\"', '\"Because you say so?\"', '\"You wish. I doubt that it shall be so.\"', '\"You consider the county to be like Rosa Parks???\"', '\"The attacker is usually armed in spite of gun control laws.\"', '\"and thats different and contrary to what jyoshu posted.\"', '\"Thanks for clearing that up Mutz. I\\'ve always known that putting every living species on the earth in one boat is a heckuva lot easier to believe than those foolish fossils.\"', '\"CALIFORNIA : Legal with restrictions. Subject to certain restrictions, Section 12403.7 of the Penal Code provides & # 8220 ; & # 8230 ; any person may purchase, possess or use tear gas and tear gas weapons for the projection or release of tear gas if the tear gas and tear gas weapons are used solely for self-defense purposes\"', '\"So, if a baby is having trouble breathing that\\'s been born already, you don\\'t consider it a \\'person \\'?\"', '\"So you\\'re actually claiming that it is a lie to say that the UK has a lower gun crime rate than the US?\"', '\"And pro- `` choice `` doesn\\'t distort?\"', '\"You know that, I know that, but the creationists do not know that.\"', '\"True, but what i was trying to state is that the bible has little to do with christianity if you dont believe in it.\"', '\"Well, Google is your friend here - try fossil and see what you get.\"', '\"Just so you don\\'t shoot them!\"', '\"Electrical engineers in general have a pretty poor track record when discussing issues that have nothing to do with... electrical engineering.\"', '\"See above I guess.And if you read the article ( if ) what about the other half?\"', '\"Generally... And when one does?\"', '\"And yet the Brady Campaign and Violence Policy Center can come up with only a handful of incidents where a concealed carry holder assaulted another.\"', '\"Just like no one is really `` for `` abortions, but they think that it\\'s the woman\\'s right to decide.\"', '\"And here we have a leading YEC showing how he starts with his preexisting religious position and is not about to change it, no matter what the scientific evidences show.\"', '\"It may not seem linked to the topic but something you said brought it up.\"', '\"If our core is our mind, what is the mind?\"', '\"So can women can cure themselves?\"', '\"But can you answer simone or jito\\'s argument\\'s successfully and counter their posts?\"', '\"More evidence of your selfish motives, which is not necessarily a bad thing, but it sort of disqualifies you from being objective and reasonable about the abortion issue.\"', '\"What is true, Ricker says, is that gun manufacturers have long known that distributors and retailers supply thousands of guns each year to criminals\"', '\"Neither are yours\"', '\"So the argument there seems to be that gun crime has been rising despite the strict gun laws of England.\"', '\"Well, I was kind of hoping that my questioning would encourage you to provide a quote to show us exactly what Dembski himself said\"', '\"Don\\'t you think any gay person posting here already knew that?\"', '\"I\\'m not even going to comment on the \\'6000 years old\\'statement.\"', '\"If one believes slavery is wrong then what right does he have to impose that on someone else?\"', '\"I personally think you go after the butcher abortion doctor and prosecute him\"', '\"So, one set of creationists are XXXXXX, but the others are not?\"', '\"and thus a reason to support balanced reporting. true, there are indisputable facts. say 3000 died. but the interpretation of the facts are subjected to bias. the 3000 deserved to die as collaborators vs the 3000 were innocent and did not deserve to die.\"', '\"Well I suppose I could\\'ve always put up a sign that said `` Trespassers will be held with legal counsel, robbers will be shot, survivors will be shot again `` but you\\'re just welcoming trouble with that.\"', '\"So the entire Catholic Church is nothing more then a social club?\"', '\"Yes, she walked down the wrong alley, alone. Would she have done so if she were not packin \\'?\"', '\"This is a false dichotomy.\"', '\"Yes, a foetus is human, made of human cells, and possessing of DNA.\"', '\"No, it is not counter to any agenda, it is a historical fact!\"', '\"Oh ohhh! Appeal to authority! Appeal to authority! There\\'re no authorities in science. ONly logic and evidence.\"', '\"I think this is a fair conclusion.\"', '\"And this would be true. If he is allowed to have the belief that it is wrong or a sin then others are also free to have the belief that he is an progressive or enlightened\"', '\"ya i am trying to work on that stuff. ummm my debate is to get ppl to read it and argue what i have so i can help them\"', '\"Nobody but you has suggested that the schools are out any money except for you, and you have presented no evidence whatsoever that they are.\"', '\"You forgot to fully quote John 8:18. here is the rest : and the Father that sent Me beareth witness of Me.\"', '\"http : //www.reasons.org/resources/apo... raveling.shtml http : //www.trueorigin.org/rh_connpage1.pdf and I like this page that mentions it : http : //www.kent-hovind.com/hovfaq/starbright.htm\"', '\"And if that was the accepted rule for Constitutional interpretation we would still have Jim Crow and the 14th Amendment would be as useful as the 3rd.\"', '\"You seem to forget we already tried this standard. And it\\'s for this reason that the 14th Amendment came into existence ; because allowing local communities to disregard the constitution on the basis that it didn\\'t apply to them, was a massive failure and outright racist.\"', '\"Because she, like every other political figurehead, thinks it\\'s alright for her to carry a gun, but not anybody else.\"', '\"This is not nearly as uncommon as people seem to think. i am guilty of it myself.\"', '\"How big is the universe? Are there two divisions - the observable, and the unobservable? Is the unobservable predictable, just more galaxies and groups of galaxies, going on forever and forever and forever? If itÃ\\x82 â\\x80\\x99 s all that endless and limitless, there would have to be an endless, limitless number of planets exactly like this one. Same number of grains of sand, same number of blades of grass, same number of humans who look exactly like each one of us, doing exactly the same things at exactly the same times. Anything anyone could imagine would HAVE to be out there somewhere. There would be planets exactly like this only dogs rule, or others exactly like this where cats rule. The God I believe in would have no problem creating it and ruling over it all, but it would get a little more complex if the identical humans on the other planets were sinners, needed salvation, etc. to differing degrees. I donÃ\\x82 â\\x80\\x99 t believe there are any more earths like this one. I donÃ\\x82 â\\x80\\x99 t believe there are any planets where dogs rule. I believe there is some kind of limit to the universe somewhere. I\\'m not afraid of being mocked because of it.\"', '\"I think I hear a bell dinging!! Ding! Ding! Let the round begin. Your giving me the invite, and I\\'m willing to take it. Now I\\'m not going to make any comments on your ex, or whatever he is to you. Because I don\\'t know him enough to assume anything about him. But I will make general statements on the effects of gay marriages on children. I have seen so many documents, on teens the are confused about their sexual orintation, because of living i the house with their gay parents. On girl wondered if she was gay because her mother was with another woman. She felt that was normal behavior. And started to concider being with girls herself. But was confused when she started to like men. She actually thought that liking men was abnormal. Until others told her it is normal to like men. A boy had almost the same experience, he did not know if he too should like men, because his father did. Often he would fight back desires for females, because he thought he needed to be with men. Not only that by he was ridculed by classmates because of his father being gay. Alot of children endure harassment because of living in a house made up of parents of the same sex. Just because it did not happen to your son, dose not mean that it dose not happen. And your experience is only a fraction of 1 % of the experiences that children go through because of having gay parents. It is impossible to say that it dose not happen. If it dose not happen to a few, then thats fine. But the majority suffers, and that far outweighs the few that don\\'t suffer because of having gay parents.\"', '\"I know you think I was acting emotional with my post and it really is hard to tell whether someone is being emotional over a forum since it is so impersonal.\"', '\"So even though you can legally conceal carry right up to the gate of the national parks, and you can legally hunt within the parks, somehow concealed carry in the parks will become more dangerous?\"', '\"She didn\\'t buy a gun for a criminal.\"', '\"wow.... there is a real person under there. Good luck on your recovery, chemist.\"', '\"So, in summary, you aren\\'t against the death penalty on principle.\"', '\"You don\\'t seem to understand the concept of overpopulation.\"', '\"Well, it worked. I was hoping the debate could be raised above spouting platitudes and you stepped up and met the challenge with maturity and and openness.\"', '\"Nonsense. The most widely accepted idea is that these epics were oral traditions that were finally recorded in writing\"', '\"The original statement didn\\'t address anything about the difference between a pre-birth and post-birth human.\"', '\"No, it\\'s not\"', '\"So do you think that the earth is hundreds of millions of years old?\"', '\"says the one making stuff up. Creation is so wrong on so many levels it boggles the mind how people can take it seirously.\"', '\"This is not to say that every current dictionary includes such a definition... yet... but a number of major on-line ones demonstrably do, and to my knowledge human civilization has yet to suffer any negative effects.\"', '\"Yes, and their final report was essentially that, while they did not review every piece of data used in the book, every single piece that they did review had been falsified or tapmered with.\"', '\"so what about jesus\\'life is credible if the source is unreliable?\"', '\"You mean Priests? Because I hear the ladies are crawling all over them, can\\'t get enough of that catholic loving...\"', '\"So, some parts of the Bible are erroneous oral history after all! What a refreshing admission.\"', '\"You mean like music?\"', '\"Well they are of people and if logic is followed, contradiction does not occur.\"', '\"Actually they are what make us animals.\"', '\"Yes, the article said it succinctly and I felt no real need to expand on it.\"', '\"Intelligent design comes in many flavors too. ID that submits as a designer something that has any quality of the unknowable is irrational.\"', '\"A sign like that would hardly be nessecary where I live. We have very restrictive gun-laws and hardly anyone owns a gun.\"', '\"Hobbes specifically said that this is not the case.\"', '\"I believe the question was `` who? `` I\\'m christian and I believe in evolution.\"', '\"We don\\'t `` bleed `` people to make them well ; we don\\'t have barbers performing surgery and we usually have a trained physician in the delivery room.\"', '\"Where is your evidence of `` no God `` Atheism is a curse!\"', '\"How does anyone deny someone the right to believe something?\"', '\"Where am I getting with this? The bill that would allow the Attorney General to deny a firearms purchase to anyone and everyone if their name is on the secret suspected terrorist watch list.\"', '\"Thanks.... I was too lazy to look it up....\"', '\"Someone who does evil things isn\\'t simply not doing good things, he is specifically doing evil. Evil is not the absence of good.\"', '\"Plenty of problems with that `` study `` and parts of it are just hilarious.\"', '\"The only thing different there was skin color, the only thing different here is that it has no brain, no thinking skills, no memory, and no way to feel physical pain. You can\\'t say that about the slaves.\"', '\"Is there a point here? Didn\\'t the dissenting Justices all agree that the right is an individual right, claimable and enforceable by individuals?\"', '\"This will be interesting. I\\'m Keeping my fingers crossed.\"', '\"Both are ok by me\"', '\"To each his own... if you got it - flaunt it. Think of all the pretty, fashionable gun rigs that would spawn.\"', '\"it may surprise you that I believe that it is deviant to believe that same-sex marriage is immoral\"', '\"And if they\\'re stolen that means that they\\'re illegally possessed by a currently illegal supplier.\"', '\"And where, pray tell are you pulling THIS strawman from?\"', '\"Yes, abortion is used as contraception unfortunately.\"', '\"Oh, that explains a lot. I actually forgot who she was, had to google the name.\"', '\"Yes, but our cells, are functional. It\\'s cells are not yet functional beyond dividing.\"', '\"Don\\'t count on it. Republicans do not believe in equality, individual freedom, or human rights.\"', '\"You mean with brand new machineguns that no civilian can possibly own?\"', '\"So, what is the current treatment and how effective is it?\"', '\"Well that does make sense given that one would not expect you to understand environmental pressures on mutations if you can\\'t even understand erosion.\"', '\"Actually, it is. There are multitudes of known characteristics that have been shown to be the result of a single point difference in the gene.\"', '\"all people are biased, so all science is wrong\"', '\"Sarah Brady is a straw purchaser then.\"', '\"So we shouldn\\'t treat people equally??\"', '\"And what `` basic science `` would that be? Did you look up `` self organizing systems `` yet?\"', '\"I know that sometimes when a woman is on the pill, and they happen to get pregnant anyways, it will cause you to miscarry\"', '\"Actually, if you bothered to pay any attention whatsoever, it actually goes against your point entirely.\"', '\"Why don\\'t you just sum it up with `` If you\\'re not a fundamentalist Christian ``? You also fail to consider Christian agnostics.\"', '\"So what\\'s wrong with the lineages provided? Define `` melding ``.\"', '\"Your use of the word `` replace `` reveals your ignorance of evolution.\"', '\"Nothing but unfounded assertion. No evidence at all.\"', '\"But the law of angular momentum does not require that all parts of a spinning object spin in the same way now does it.\"', '\"He\\'s been avoiding this challenge for months. It should be really easy to do if he were correct, yet... nothing.\"', '\"Yet without it the vessel is just worms, mud, then dust, like rock & amp ; tree houses, not made to endure, yet, the life force, energy, back to the cosmos/source, converted, capable of being rewinded, paused, and fastfowarded, like a movie screen amongst the stars, revealing our lives.\"', '\"And just how does your description differ from materialism not one bloody jot - unless you intend to admit of supernatural hypotheses which are untestable empirically.\"', '\"Thank you.\"', '\"Because they\\'re hoplophobe sissies.\"', '\"Under then bill pushed through in the middle of the night : 1.a healthy 25-year-old in Milwaukee will see his costs rise by 178 %.\"', '\"I \\'d love to live in a world where abortions were never necessary, that doesn\\'t mean I think it\\'s a bad thing.\"', '\"Well, one person got it right... where in the constitution does it say something about health having to be protected?\"', '\"Well, they still do account for a fair bit of our observations of evolution.\"', '\"interestingly, single-celled organisms and `` simple organisms `` ( those with less functionality ) look more alike than they do to mammals and other more `` complex `` organisms...\"', '\"Both are suggesting primate two-way evolution. Hence \\'connection\\'is established.\"', '\"Manslaughter involves a direct action that causes an unintentional death. Miscarriage is involuntary ; besides the person suffering a miscarriage might well want to keep the baby. To equate miscarriage with manslaughter is preposterous.\"', '\"respectfully I have to disagree with you\"', '\"I believe that explains everything very well.\"', '\"You know what I find amusing here... your entire argument revolves around how it will affect your wallet.\"', '\"The first sentence is inaccurate, as is the first part of the second sentence. Therefore the quesion of \\'are you not teaching your opinion, sir?\\'is moot.\"', '\"First you assume that since I have liberal views on this subject, I agree with the actions of all other liberals, and second you assume that all other liberals commit the same actions.\"', '\"So they told Galleo, all you have to do is print out our news releases on firearm related boards and we will pay you xxx dollars.\"', '\"So are you saying that the people of India aren\\'t upset about what happened and how the police chose to hide instead of engage the enemy and thus let hundreds of people be violently murdered?\"', '\"Maybe you \\'ll have to clear up the difference between `` understanding `` and `` knowing. `` I know what I think the difference is, but I need to know what you mean when you say `` I understand that there is definitely no god. ``\"', '\"Because evolution is how God created. Sorry, but we can\\'t lie to our kids. We can\\'t tell them creationism is true when God tells us it is false.\"', '\"What? Sinjin Dude! Your devotion to the Democratic Party, and sticking up for your guy is admarable, but come on!\"', '\"This essay is so amazingly full of amazingly large holes that a systematic debunking of it requires alot of time and effort.\"', '\"BECAUSE I SAID SO! LOL,... I\\'m so silly. I just had to post it.\"', '\"Actually, I\\'ve been posting more than ever... just not here.\"', '\"You don\\'t believe in inherited traits?\"', '\"Believe me, marc, we certainly can.\"', '\"They need to keep their opinions to themselves and out of the law the effect gay peoples lives.\"', '\"Different version here too. \\'\\' No one born of a forbidden marriage nor any of his descendants may enter the assembly of the LORD, even down to the tenth generation. ``\"', '\"Well, who knows? I hope at that point our society will be more accepting of diversity.\"', '\"I believe once you have the rights granted persons that they may not be taking away because you are asleep or in a coma.\"', '\"So Biden was against gay marriage there too?\"', '\"And not that much longer for segregation in many states. No. But the resultant unwanted children would be an equally distressing social and financial cost. My point was the fruitlessness of antiquated belief system morality driving moral legislation that defies a woman\\'s civil liberty and common sense.\"', '\"Actually I really don\\'t depend on the entertainment industry to give me a realistic picture of anything.\"', '\"It is possible that I, in a coma, might be having mental processes in the form of dreams and memories.\"', '\"If echolocation is superior to vision, why haven\\'t more animals evolved this fantastic ability?\"', '\"Oh, yes : they often say that sin and evil should exist because of free will, but they also condemn Eve for eating the apple.\"', '\"But doesn\\'t the walking fish still exist?\"', '\"Depends on the usage. Generally, it just refers to the Theory of Evolution or a change in allele frequencies in a population.\"', '\"Although I\\'m not keen on them describing things as living fossils\"', '\"I wonder why Asian scientists and businesses are going so great guns into emryonic stem cell research?\"', '\"So we don\\'t know if it is a fact\"', '\"Jesus! Another scientific illiterate. The facts are the observations.\"', '\"Then why do you believe in it?\"', '\"many here think everything is opinion so whether it is a religious opinion or not shouldn\\'t matter.\"', '\"I apologize for that statement. I just thought that his air of superiority when he was preaching to be simply sickening.\"', '\"I am one of these so called paranoid people... But it is not paranoia it is vigilance.\"', '\"That\\'s right, a higher view of the fetus than there currently is typically in our culture.\"', '\"That would most likely ( imo ) reduce the number of abortions performed.\"', '\"Many of the gun hating crowd also own guns.\"', '\"why the comparison of gun owners yo violent killers and serial rapists?\"', '\"I will formally invite them here\"', '\"Maybe you need to take a hard look at where your rights start infringing on the rights of others.\"', '\"And if you don\\'t think it was justified? It\\'s a public alley, she can walk down it whenever she wants without justifying herself to anyone.\"', '\"But your proof didn\\'t claim that God could do anything possible.\"', '\"Yes - drug use is another arena where you, the morality police and big brother can also bugger off.\"', '\"Because A BALANCE needed to be struck! It doesn\\'t go entirely in either direction.\"', '\"Many ( all? ) other religions have the idea of a creation event by one or more gods at the beginning.\"', '\"Your premise is faulty -- as is the whole premise of Toe.\"', '\"Looks like the Wistar engineers of 37 years ago forgot all about SELECTION, just like modern probability-hawks do...\"', '\"Actually, it doesn\\'t.\"', '\"Why is this relevant?\"', '\"Well, you just don\\'t understand. Now, instead of one long stretch of missing links, we now have two shorter missing links, one on each end.\"', '\"I would say, based on # 1, that any social structure that gives rise to acceptable and unacceptable behavior is an example of a moral system.\"', '\"Judge challenges backers of gay marriage ban - Crime & amp ; courts- msnbc.com It\\'s funny. I have been making these types of comments FOR YEARS to refute that pathetic attempts trying to give a constitutional justification for why the government should be able to discriminate against gay marriage.\"', '\"The Hippocrates? I was under the impression that Hippocrates was the name of a single person.\"', '\"They were both created on the sixth day according to Genesis 1.\"', '\"Oh, and good to see you here! I notice we got some new posters and greetings to all.\"', '\"I think it best not to jump to conclusions about things you don\\'t know.\"', '\"Is this not illegal?\"', '\"Kudos on the arrogant, hateful stereotyping, wabbit. Ask around. Not all of the `` infidels `` on IIDB are atheists.\"', '\"Is this what you guys are after?\"', '\"Thank you for your reply kelvin90701. I will give my thoughts on all of your points soon, for now, I am just leaving, so I will just inquire as to what you mean on part of your post.\"', '\"Creationists intentionally misrepresent what was found. It was not blood, not whole proteins.\"', '\"Really? Funny, my son, even before I `` came out `` didn\\'t think gays were bad or being gay was bad.\"', '\"I think an open mind is the best thing to have when it comes to theories. I think there is some truth in everything.\"', '\"But we have an enumerated Constitutional RKBA. Apples to oranges.\"', '\"Yeah, it normally isn\\'t that a woman seeks out someone to abuse them\"', '\"Actually, it\\'s not `` different `` at all in that there is nothing in the gay article that is shown wrong or incorrect.\"', '\"Really? The first description is of a Hippo?\"', '\"And the same people that believe that are the ones that keep saying that teaching about alternative lifestyles isn\\'t.\"', '\"Are you saying shoes evolved or were the result of intelligent design?\"', '\"Damn fine job!\"', '\"A fairly good explanation, toned down a bit from Darwin\\'s explanation\"', '\"The guy sounds like he\\'s trying to make a political argument out of this so he can sell more books.\"', '\"This assumes brain-dead is a logical choice to consider one dead.\"', '\"You mean like a tapeworm? Should removing tapeworms be illegal too?\"', '\"Thus, the properties of the code allow it to maintain its own functional integrity.\"', '\"So what? I don\\'t care! Gun ownership is an individual right and that\\'s the end of it!\"', '\"So 1052 voters is a majority of california voters?\"', '\"Purposefully communicating information as a means to an end... wound healing.\"', '\"So despite his long article Behe is still working on the same assumption I stated above : function is only a product of conscious design : there is no other valid explaination of the structure and function of life.\"', '\"Well survival of the fittest was not Darwins term- although he may of used it it the later editions of the Origin.\"', '\"One wonders if there wasn\\'t an element of racism involved.\"', '\"Unfortunately, Michael Moore is a XXXXX. While a thousand gun control laws couldn\\'t prevent 9-11, if there weren\\'t ANY gun control laws, 9-11 would surely have been preventable. But, Michael Moore, being a XXXXX, would never be able to draw such a logical conclusion. It isn\\'t `` liberal `` enough for his tastes.\"', '\"After. Christian fundamentalism is somewhat recent.\"', '\"So you carry grenades and 75 pounds of gear, all while wearing camouflage fatigues and can call in an airstrike bombing?\"', '\"If blacks are offered a bus ride, why does it matter where they sit while they are on the bus?\"', '\"Why would gun haters like gun hater pilot say there are reasons to have guns?\"', '\"you are bent on harping on creationists arguments at whatever the cost.\"', '\"Good questions : points for question one. God might have made the universe, but he left reproduction to follow the aggressive laws of nature.\"', '\"Because those who are pro life are against a womens right to own her own body.\"', '\"From that site :\"', '\"Yeah, I \\'d say you are wrong.\"', '\"It is entirely possible for a man armed with one hand grenade, and yes, hand grenades can be bought, to not only take out a tank, but kill everyone inside.\"', '\"I believe it is merely all known living species against those known by the fossil record and extinct.\"', '\"Actually, none of those are predictions that creationism makes, and what\\'s more, they\\'re all disprovable.\"', '\"In what universe is there a right to murder?\"', '\"The press shys for lots of reasons : -\\\\ There has been no effort to either confirm or deny this story, probably because she won\\'t come forward one way or the other.\"', '\"And here you are, claiming that judge Urbina ruled favorably to either Heller or for the side of the Second Amendment Rights?\"', '\"it can\\'t always be cared by anyone.\"', '\"Yes.... 10 % of the population has a disorder ( homosexuality ) that they refuse to deal with in the proper way\"', '\"Usually, but most of this has been quoted out of context by creationists and answered so often that it is an old story.\"', '\"Twelve out of literally millions. That\\'s far too small a number to justify your position.\"', '\"You are wrong in your claim.\"', '\"You\\'ve forced me to get out of my chair and dig through the bookshelf.\"', '\"Because they knew full well that the bulk of the confiscated weapons never came from the United States!\"', '\"It won\\'t.\"', '\"That is the premise of my question. On what basis can one claim that the Constitution makes this arbitrary designation with respect to the death penalty?\"', '\"Evolution wasn\\'t introduced until 1859. When did abortion become popular?\"', '\"No, but they were used for burial.\"', '\"From a book review of BETTER FOR ALL THE WORLD : The Secret History of Forced Sterilization and America\\'s Quest for Racial Purity by Harry Bruinius : http : //www.nytimes.com/2006/02/26/bo... w/26satel.html Hmmm, Teddy Roosevelt, Winston Churchill, the Rockefeller foundations, millions of Americans, the State of Indiana... all these embraced the concept of EUGENICS. Interesting, yes?\"', '\"So what? It\\'s old news. You don\\'t seem all that broken up about the Bath School Disaster, which was the deadliest assault to ever take place on school grounds, back in 1927.\"', '\"But But But, he was just 6 years old then and the really smart people didn\\'t get all their wisdom written into that sham of a bill which is said to be law but is fast starting to have to face the Constitutional challenges.\"', '\"More guns, more Concealed Carry and Violent Crime and Murder is down to it\\'s lowest levels since they started to record it. So how can these studies be credible or considered in anyway correct.\"', '\"Add these preliminary figures. For Release December 21, 2009\"', '\"Don\\'t think so. Provide an example of an `` unbridaled capitalist `` system operating in the 19th century.\"', '\"So the FBI is known for making mistakes?\"', '\"These types of verses are anthropomorphic in nature, meaning that the writer is attributing human characteristics to God.\"', '\"I must warn you though that you have argued so perfectly and similarly all of the points I just argued on another thread about abortion\"', '\"A year before me!\"', '\"So, what you\\'re saying is we shouldn\\'t look at evidence and refine our methods and calculations when more accurate data allows for more accurate outcomes?\"', '\"They predicted 600,000 gay couples would want to get married it allowed.\"', '\"Oh god I guess you know where this is headed?\"', '\"And you condemn people for dancing in the blood of the victims?\"', '\"This obviously depends on the person. Both are not good\"', '\"Origins of science, whether truly started by those of faith or not, is irrelevant.\"', '\"Right on! A real man supports those he loves, through thick and thin.\"', '\"Most doctors will not perform an abortion this late without threat to the mother.\"', '\"Actually, this data point is perfectly meaningless.\"', '\"I have to agree with Jo Bennett here Fracas, you\\'re simply injecting your personal opinion about morality into a conversation on statistics.\"', '\"A rock may be useful for shattering a window, but shattering a window is not a rock\\'s purpose\"', '\"So law-abiding citizens are being considered gang-bangers in California?\"', '\"Actually in Australia it\\'s der... people used to say `` Well der Fred `` ( didn\\'t matter if you were called Fred ). But no, other than that I had nothing to say. Why? Do you want me to?\"', '\"maybe, but see, that does not match the materialist universe?\"', '\"Yes, in my view, it would be morally correct since it has no brain and, in my definition, is not a person with rights.\"', '\"And if left to market forces they can charge whatever they want.\"', '\"Well I heard it was a big concern in la amoing gang circles as the drive by was becoming `` cowardice ``. So there was a movment by both the bloods and crips to each lead charges by bayonet.\"', '\"But the point you miss is that a caterpillar is NOT a butterfly ; a puppy is NOT a full grown dog ; a ZYGOTE and a FETUS are NOT children.\"', '\"Just a newly-evolved structure. It happens.\"', '\"I think you sound rather immature.\"', '\"The argument that the baby is not a parasite, but is rather \\'in its natural environment\\'seems a false dichotomy\"', '\"The simple fact is that people don\\'t want the immense responsibility that logically pertains to their voluntary actions actions\"', '\"But there are some evangelical Christian churches that don\\'t do that. You don\\'t seem to understand or recognize that evangelicalism is a very varied movement.\"', '\"Misleading : having complex eyes in trilobites in no way contradicts evolution.\"', '\"Unless they successfully implement legislature based on religious dogma that breaches religious freedom of non-believers.\"', '\"Yes, it is human, biologically. However, it isnÃ\\x82 â\\x80\\x99 t a human being as it isnÃ\\x82 â\\x80\\x99 t alive.\"', '\"I believe Sinjin is right. Children are citizens once they are born. Citizens are naturalized or natural born.\"', '\"Yes\"', '\"And I believe they should ban religious speech the defame gays or ban religion all together as a public nuisance and protect the public from its drug like effects.\"', '\"now I \\'d like to know why Lappster thinks evolution has anything to do with morality?\"', '\"Please go to http : //www.talkorigins.org/indexcc/ and do research. You will find some hard to understand articles and some easy ones. All of them, however, are very informative.\"', '\"I think this is the first time I\\'ve ever heard anyone claim that the pro-choice movement is for the sake of the child.\"', '\"This is different than stating that abortion is the same, in principle, as killing a born child.\"', '\"So let me make sure I have it right, in order to be a family-man/Catholic, I must be anti-abortion and against the rights of homosexuals.\"', '\"Same in the US. The father does not have the right to choose.\"', '\"You don\\'t view infants as people either?\"', '\"The question still remains as to whether this is negative intrusion\"', '\"Could it be that the Supreme Court does not view the right protected by the Second Amendment as being fundamental?\"', '\"Not if they give him the death penalty, then it\\'s apeals till your ears bleed.\"', '\"Yes, After getting educated, we can realise that \\'GOD\\'as we view it is just the anthromorphising of our hopes and fears.\"', '\"If it happened in a\\'very short period of time \\', I don\\'t see how, by definition, we can call it \\'gradual \\'.\"', '\"To those who are sympathetic to gun control. Can we get anyone to listen and change society, ooooor will you just use this problem, and these under trained and under socialized kids to persecute the 2nd Amendment!\"', '\"A gun death is a gun death, whoever pulls the trigger?\"', '\"I keep a fire extinguisher in my house, and I keep it full. That doesn\\'t mean that I\\'m expecting my house to burn down. I\\'m just ready for it.\"', '\"We don\\'t need another one that does the same thing, and can put an honest gun owner in a jam.\"', '\"And there is also no question that sleeping doctors are harmful. I\\'m saying that owning a gun is less dangerous than seeing a doctor.\"', '\"What makes you think I am using Ã\\x82 â\\x80\\x9c themÃ\\x82 â\\x80\\x9d as a source?\"', '\"You have \\'gone over to the dark side \\'. Too bad. I hope it\\'s a temporary lapse, but if not, our debate was quite good while it lasted.\"', '\"You just made my day Nato!\"', '\"A SWAT officer, a member of the `` best of the best `` team as far as police forces go, left a weapon behind where it could\\'ve been snatched up by any two bit criminal and used on a crime spree as people were mowed down by true automatic firepower.\"', '\"actually many argue this. More argue that the human fetus is not a person.\"', '\"Another lie they told was that churches would be forced to perform gay marriages regardless of their religious desires.\"', '\"One could easily say that the heart is when life begins, because the heart is what all living things have.\"', '\"The only state is Mass. and unless you use a friend\\'s address, they won\\'t marry out of state couples.\"', '\"Those who care enough to read the above and understand what the authors have studied will hardly jump on the bandwagon and declare that Genes are Dead.\"', '\"Well... one could make that argument about anything -- voting for instance.\"', '\"I think it is simply been more socially acceptable for women to cry openly.\"', '\"Are you trying to make a point here? Or are you just spewing forth your hoplophobic tendencies because you\\'re got nothing better to do?\"', '\"So tell me.... knowing that the human race is 99.9 % the same, and that `` No matter how scientists today scrutinize a person\\'s genes, they can\\'t determine with certainty whether an individual is from one `` racial `` group or another ``.... how can you justify how the racist scientists can hold up a skull and make judgements about it? How could they possibly construct a human phylogenetic tree if traits are modified by enviornment, not dictated by randomly mutating genes? How can the pigs in science proclaim that Neandethals were a different `` species `` based not on their genes -- which are 99.9 % similar as ours -- but their receding chin and large skull? Evolutionary science is full of nothing but good-for-nothing, monkey-loving, chance-worshipping, racist fools.\"', '\"How many people were killed last year in the U.S. by all those combined?\"', '\"You know, I make a poll about how creationists assume if not A, therefore B, and all you can do is fall directly into that?\"', '\"Just because somebody calls it `` therapy `` doesn\\'t mean it\\'s about fixing a `` disorder ``.\"', '\"This is a false assertion.\"', '\"When is wealth redistributed on a whim?\"', '\"Now you are being insulting. Evolution makes no statments about your god.\"', '\"The Biologist must have been thinking that a `` giant mushroom `` was the cause and evolve it. Now, that\\'s very funny!\"', '\"Well it seems as if he is referring to the origin of man, I would like to do a debate on teaching creation\"', '\"And why not?\"', '\"With all the debt Obama has generated for our nation, he deserves to be filibustered into the ground.\"', '\"If you says so. http : //www.publicagenda.com/issues/f... ortion & amp ; list=16\"', '\"Gliding/Flying?\"', '\"How special, now all you have to do is prove that a glob of cells has rights\"', '\"Well if it saves my life what is the problem?? Aren\\'t we pro life here?????\"', '\"Why is it that evolution cant be considered as a mythical tale?.\"', '\"Really? Why? Bacteria don\\'t need to see to exist.\"', '\"As Mach pointed out, you ( Montalban ) are arguing with yourself here. You stated that `` bacteria needing nylon to survive `` is put forth as evidence for evolution.\"', '\"I dunno, maybe it was in the third trimester?\"', '\"Yes, I would.\"', '\"And more people have died from anti-gun Senator Ted Kennedy\\'s driving than will ever die from my AR-15.\"', '\"Very true, especially since when someone asks `` is there a God `` they are most likely really asking `` does the God in which I believe exist ``\"', '\"It seems that the high priest of Global Warming is so unconcerned about its reality\"', '\"So you deny that this man is a victim?\"', '\"I see -- in your opinion is it is `` illegitimate ``, therefore it must be so.\"', '\"No they don\\'t.\"', '\"You didn\\'t bother to read the link, I see, which said : `` During the 70-year Babylonian captivity, from 606-537 B.C., the southern kingdom of Israel, Judah, had lost it\\'s national sovereignty, but retained it\\'s tribal staff or national identity.2 It is very significant that in the book of Ezra we read that during the 70-year Babylonian captivity the Jews still retained their own lawgivers or judges.3 The Jews maintained their identity and judicial authority over their own people even during 70 years of slavery. The scepter had not been lost during the Babylonian captivity. ``\"', '\"What can ya expect when they killed free speech in favor of hate speech tribunals?\"', '\"If freeing slaves meant that the former slaves could live of other\\'s organs without their desire or consent, putting their health and possibly life at risk... while at the same time having no perception of self, no brain, no mind, no consciousness... I would side with the slaveowners. Once anotherÃ\\x82 â\\x80\\x99 s right to live becomes greater than my right to my own body, I become the slave.\"', '\"Holland hasn\\'t legalised, its decriminalized.\"', '\"Actually new organs are developed only by MODIFICATION of existing ones.\"', '\"That\\'s a pretty tortured comparison What exactly makes the forecaster\\'s error one of measuring distance?\"', '\"What I saw was that if the finch are evolving a smaller beak because of the larger billed `` recent immigration\"', '\"Did you get another cracker polly?\"', '\"Sucide? Isn\\'t that a mental health issue? If you take a gun from a sucidal and depressed person, does that cure depression?\"', '\"So you use the site to try and make a point and then call the site biased\"', '\"I don\\'t know how this can be true. Thank God that I didn\\'t grow up with my biological father. I\\'m not really interested in being a jerk.\"', '\"Reading Difficulties, huh? There\\'s a cure for that. It\\'s called school. Perhaps you should go there.....\"', '\"Wrong and right. Evolution is both a verified phenomenon and a biological Theory.\"', '\"Some people would think I\\'m in cahoots with the creationists. I predict their behavior and then they go and do it.\"', '\"Million year old moths didn\\'t have the same capabilities as a present day moths.\"', '\"You would have been better served researching the scientific method directly.\"', '\"Oh please - and the prolife side doesn\\'t do this? All the pics they distribute of aborted babies aren\\'t the very rare late term ones?\"', '\"Keep in mind that this is an opinion poll, so take it for what its worth, but it seems to indicate that the people of DC wanted to vote on this issue.\"', '\"I think the FSM threw these guys a bone. They cherrypicked which taxa would give them the most statistically significant results.\"', '\"That\\'s not entirely true.\"', '\"And it provides no real insight to the issue.\"', '\"And I suppose you feel it would\\'ve been better if she died at the hands of a knife-wielding killer?\"', '\"This is absolutely the worst analogy you could possibly use.\"', '\"Quote Mining. You got to love it. Always fascinating when stuff is dishonestly taken out of context.\"', '\"Darned Swiss gun laws!\"', '\"Yet you have defined what unknowable is, therefore you know something of it ; that it is unknowable.\"', '\"Could be phrased in a more polite way. Probably the whole name of this forum should be changed from creation versus evolution to creationism versus alternatives.\"', '\"Not all evolution takes place over billions of years.\"', '\"A zygote is just as viable as a human being as a born baby. ``\"', '\"And here it is, corrected to remove that little hint of sensationalism that you feel is needed to drum up support for your cause.\"', '\"That\\'s right! Everyone of the fundamentalists are on the band wagon about abortion being murder.\"', '\"By spreading lies and misinformation. Tell me, if the cause is so just why do pro-life sites lie so much?\"', '\"If you think that it\\'s OK when the Mother\\'s life is in danger. Why wouldn\\'t it be OK when her life isn\\'t in danger?\"', '\"So 5,000 to 10,000 women dying from illegal abortions isn\\'t high?\"', '\"If you define a fetus as a child, as AMD seems to by his/her statement, then yes, it does fit the definition.\"', '\"the point of this thread is to help you understand what the argument is, not to give analogies to abortion.\"', '\"If you literally mean `` kill, `` then you are right.\"', '\"Yea, and so is gardening. Both are `` murdering `` living things.\"', '\"The one thing Dobson can\\'t answer logically relates to incest and rape.\"', '\"That depends on the circumstances. Only she can know.\"', '\"I personally opted for abortion over adoption for two main reasons.\"', '\"Not wanting to appear insensitive, but XXX is she doing having a 4th child if she can\\'t even support the first 3?\"', '\"Well, I can\\'t speak for anyone else, but I support any choice that the woman wants to make.\"', '\"Do `` unwanted, unborn [ fetuses ] `` make up a `` national, ethnical [ sic? ], racial, or religious group ``?\"', '\"Precautions occasionally fail. You can make an argument against the `` irresponsible `` pregnancies, but you can\\'t lump every abortion into the group.\"', '\"They also went through the `` stage `` of being an unfertilized ovum.\"', '\"Actually I pretty much agree with you here.\"', '\"What I\\'ve been saying here, and after awhile - the guilt, depression, etc - will get buried, deeper & amp ; deeper - but no negative/damaging experiences leave people.\"', '\"Well the oldest fossils are ( IIRC ) 3.8 billion years old\"', '\"It was a joke.\"', '\"It is DNA which makes one a human, it is the mind which makes one a human being, a person.\"', '\"If you want to argue that facts can change with our understanding, ie the world being flat, and are therefore not absolute, then you must also allow that 2+2 is not necessarily equal to 4 depending on our understanding, and therefore not absolute. Philosophically, I\\'m not sure there are any absolute absolutes. Waxy P.S. I\\'m beginning to understand the point you\\'re trying to make, ie where did the `` absolutes `` we observe in the physical world, and extend to the abstract, come from? You say God. I believe the problem with your line of reasoning lies in your definition of atheist, as unkerpaulie and others have pointed out to you.\"', '\"More power too ya but, that\\'s just your opinion.\"', '\"Its not very risky anymore...\"', '\"How can they?\"', '\"If the laws of logic exist, then show me. For one thing, atheism can not account for a universal concept that is not material, and does not depend on our thinking. In addition to that, I am using the same argument atheistÃ\\x82 â\\x80\\x99 s use against the existence of God to get the atheist to show me the existence of the laws of logic. Atheists say, Ã\\x82 â\\x80\\x9c Show me GodÃ\\x82 â\\x80\\x9d I can not see him. Theist describe that the universe can not exist without God by showing the affects of God in the material universal ( design ) Show me the laws of logic, where is it? I can not see it. Using apples is describing it is not the law itself. Just like I describe the evidence of Gods existence. The laws or logic are not universal? Again, you are using matter to show something that is non-material, I can look at fruit until I am blue in the face but that only describes concepts, it is not the laws of logic itself.\"', '\"NO I mean every word of what I type. If they institute these rules I will back off gay claim to marriage and accept that marriage is about children.\"', '\"Well, here is the article from the BBC yesterday. That article puts it here. Eusthenopteron - > Panderichthyes - > Tiktaalik - > Acanthostega - > Ichthyostega There are other examples of transitionals in the gap where they have placed Tiktaalik.\"', '\"So you\\'re admitting openly that what is a normal occurrence within the human species is offensive to you.\"', '\"Not many creationists accept it.\"', '\"You keep starting all these threads on gays, that & # 8217 ; s called obsession.\"', '\"What this highlights is that the laws of the land are ignored and some people try to place the blame on the victims.\"', '\"Hold up, your changing your argument.\"', '\"Accidents happen, that\\'s just how life works. They\\'re tragic, and they\\'re upsetting, but there\\'s no way to avoid them.\"', '\"Why do people on the pro-gun side continuously try to oversimplify the issue?\"', '\"Whether the steps of evolution have been observed is unrelated to whether evolution complies with the Scientific Method.\"', '\"Well, those who keep using that story can\\'t see the real sins of those cities.\"', '\"Add `` without her consent `` and you get my position.\"', '\"So you still choose to believe that someone who\\'s a victim of crime should be punished as if they committed the crime themselves?\"', '\"Judicial activism? What brand of stupid is it that you use?\"', '\"Never? Not even when used by Richard Dawkins? Talkorigins? American Atheists?\"', '\"Actually, yes it is sickening.\"', '\"No it doesn\\'t.\"', '\"Of course they didn\\'t see it walk, it\\'s a different genus altogether.\"', '\"Sure.\"', '\"So you think it is a good idea for public schools to assume the role of parents?\"', '\"I asked you to back up your claim that gun control is racist.\"', '\"so we would penalize financially those who want to have kids?\"', '\"An interesting analysis of that article you keep quoting from the World Net Daily.\"', '\"actually, the only valid question plotter asked is about the existence of dinosaurs\"', '\"Now I must ask you to furnish reasons for your claim that `` evolution is a theory that has disguised itself as science ``.\"', '\"There\\'s no adding of firearms going on, because they\\'re already there!\"', '\"Guns in our society increased.\"', '\"She is not going to be punished now for aborting a kid 30 years ago.\"', '\"How many children have you adopted?\"', '\"So what if a bunch of rich lobbiest got together and found a way to overturn that?\"', '\"Actually gun crime in the UK is at a very low level.\"', '\"So what are some examples of restrictive gun laws in South Africa?\"', '\"Not really. It just means that Homo erectus was around in Africa 200,000 and 125,000 years ago.\"', '\"But a fetus in the womb is far more important than the lives and health of these women.\"', '\"Well, first of all, the 2nd Amendment is quite regulated, so don\\'t think regulations are an answer.\"', '\"Just like we waited until after society decided how it would view civil rights for blacks?\"', '\"Again? What do you mean? I am talking about different sciences per se. What is your question?\"', '\"I think some people will and have argued that. I \\'ll work on finding a quote, but I believe it was somebody here who argued that, because of the recent SCotUS ruling, home invasion in DC would decrease because criminals would be more worried about encountering a homeowner with a gun. You do have a point about preventing a worse crime from occuring, though.\"', '\"What if a 13 year old girl comes up to you and asks for sex, and you agree? Are you forcing yourself on to her?\"', '\"Well, who was the head of FEMA appointed by?\"', '\"maybe firstly you should explain how god works?\"', '\"It varies. Sometimes elementary/middle school kids and sometimes older minors like high school kids. I not talking about gangbangers if this is where you\\'re going.\"', '\"Here\\'s some advice, if you\\'re going to try and crack on me, make your \\'jokes\\'( I \\'ll be nice and call them that ) less passive and more active, grammar-wise.\"', '\"Oh, I get it. So you believe, but you don\\'t exactly `` believe ``.\"', '\"What do you mean everyone knows who made everything.\"', '\"The article as a whole never made that argument either.\"', '\"That wasn\\'t my question. My question wasn\\'t what you said, but what you believed.\"', '\"This is a common creationist trick.\"', '\"I look into the clouds and see a cow. Clouds aren\\'t telling me to have a steak.\"', '\"This quote also shows that the supposed `` friends `` were women who lived in the same complex as the woman, not necessarily anything more than neighbors.\"', '\"Ha! That is classic! So Nihilism proves God???\"', '\"And how exactly do you propose this suggestion actually be enforced?\"', '\"For years I\\'ve tried to get one of our resident gay members to debate me on that fact.\"', '\"No. Monkeys are modern animals.\"', '\"a waist is a terrible thing to mind.\"', '\"You\\'ve asked a good question cash, the way you know that is by all of the excuses you\\'re getting rather than any attempts to actually answer you directly with solid evidence.\"', '\"This argument is not valid, although it is widely used, and even believed as valid by some that use it.\"', '\"and section 6\"', '\"Homo-erectus and Neandertals had different bone structures. How could they be fully human when their anatomy is fundementally different?\"', '\"Stevens said that bear arms has a military meaning. So was he saying that the right is individual but existed in connection with militia service?\"', '\"But then of course nearly every idea not your own generates a DUH from you.\"', '\"Is that a trick question? No, the tabloid and other gutter press keep going on about how bad it is, because they sell papers by fanning fear and hatred, and fear of crime is one of their biggest markets.\"', '\"Actually, creation explains nothing.\"', '\"Did you notice the word `` tend `` in there? Humans ( in general ) are actually very careful about protecting their young.\"', '\"I think maybe you have hit yourself in the head with the Bible a few times too often.\"', '\"And this from the person who when I used to debate him and did something like this complained about `` parroting ``? Hypocrite much?\"', '\"Agreed that they are still the same species\"', '\"Well, they are in the minority no matter what.\"', '\"I believe you are thinking of orders, not denominations.\"', '\"So if Jitobear\\'s mother had the option to abort Jitobear in utero, you want Jitobear to have the same option with any children she carries?\"', '\"Well are there 4 or are there none?\"', '\"Even if they work together sometimes, the times that they don\\'t is enough to make your claims nonsense.\"', '\"So, you aren\\'t going to post any proof here. How typical. You also didn\\'t address the rest of my post.\"', '\"They affect you too.\"', '\"Proof? All I can think to say is that a mind is a terrible thing to waste.\"', '\"Oh yes, of course. But thatÃ\\x82 â\\x80\\x99 s assuming that the unfit populations actually survive long enough to breed.\"', '\"exactly how do you think they were supposed `` to protect `` these thugs?\"', '\"Oh it has happened. But that is not a problem with my son, me or his father - it is a problem for the pathetic hate-mongers who carried out the acts of harrassment.\"', '\"oh, must have missed it. Obviously I wouldn\\'t have done that on purpose. what\\'s the name of the thread?\"', '\"Of course, this is because marc himself doesn\\'t understand the alleged `` gaps. ``\"', '\"Well, that just means I\\'m a more capable lump of cells now than I was when I was first conceived.\"', '\"You must be thinking of physics... last I looked, biologists weren\\'t trying to explain the the creation of the universe.\"', '\"I could imagine someone plotting the data, making a straight line fit, then extrapolating back 5000 and 4 billion years, then waving their hands significantly, as if the graph proved something.\"', '\"That clearly went whooshing over your head.\"', '\"Actually, yes.\"', '\"One point I would like to make is that rockets are not legal to own\"', '\"So you\\'re saying all of these people have created a propaganda site?\"', '\"There is nothing racist about the truth.\"', '\"So, everyone who dies in a stabbing/beating/shooting is just, stupid?\"', '\"But don\\'t you see? They aren\\'t sure. They don\\'t know. They didn\\'t `` prove `` anything!!\"', '\"Yes you are right : chemical reactions are not random.\"', '\"What do you mean by other definitions? Before you stated `` Creation is.... `` thus it is implicit in this that you are arguing against a single homogonous construct.\"', '\"What a good mum you must be.\"', '\"Even though I am for gay marriage I do agree. Correlation is not causation.\"', '\"Oddly enough, the Mass constitution reads : Article XVII. The people have a right to keep and to bear arms for the common defence.\"', '\"The source I cite is a Japanese Admiral who survived WW2, who took part in December 7. Those were his exact words, `` We were not fools to step in quicksand ``. Meaning the officer was quite aware of civilian owned guns and yes they were afraid of grannies point shotguns out of kitchen windows. In China were there are no guns, the army was quite comfortable to rape and kill women and children at will. Iraq is handing the 82nd Airborne thier hinnie as we speak. The militia is not going to stand head to head on a battlefield. That is the job of the standing army, not the militia. The civilians and irregulars in Iraq are doing EXACTLY what the militia will do in the USA agains a forgein invader. If you haven\\'t noticed more solidered have been killed from the irregualrs than on the battlefield. Sorry for the slow response I have been trying to prevent the homeless from freezing on the streets at night. I would not be going into the places where the homeless frequent at night if I did not have a gun. So there is one more reason why I carry a gun, to protect me while I save the homeless on the street.\"', '\"Anti-gunners. Why do you HATE our Constitutions Bill of Rights?\"', '\"What a crock. I find myself loving when you go on and on so that I can continue to wail on you with the Truth Stick of No Mercy & # 8482 ;. It\\'s usually you who is responsible for shutting yourself up.\"', '\"well then back up your claim. Saying Ã\\x82 â\\x80\\x9c IÃ\\x82 â\\x80\\x99 m sure thatÃ\\x82â\\x80¦Ã\\x82 â\\x80\\x9d doesnÃ\\x82 â\\x80\\x99 t make it true.\"', '\"Whats the point of having ammo in a sealed pack?\"', '\"Actually, a few studies I\\'ve seen suggest exactly that.\"', '\"In regard to your friends\\'actions... do you agree with abortion being a last resort `` birth control `` when contraceptives or humans fail?\"', '\"See?\"', '\"But only if they\\'re willing to receive one. Most aren\\'t.\"', '\"I \\'ll try to be nice since you wrote it in 7th grade.\"', '\"Are you sure? What about animals that had a combination of both long and short hair.\"', '\"You can not create the general from the specific, only the specific from the general\"', '\"Alleged isn\\'t the same thing as hard and provable evidence.\"', '\"WND is not some guy on the internet who is 30 years old and has only had summer jobs on his resume.\"', '\"I did not say that I agree with a tax incline, and perhaps that is a discussion for a different time.\"', '\"Would the lack of a concealed carry permit have stopped these people from illegally concealing a weapon and then going out and killing regardless?\"', '\"Actually, there is a LOT that the pseudo-Christian glosses over so as to still maintain the title of \\'Christian\\'but the respectability of the secular.\"', '\"Are you sure? Use your google.\"', '\"Well, `` reasonable `` is clearly subjective\"', '\"You know what the funny thing is about all of the `` links `` that they have found between ape and man?\"', '\"I believe itÃ\\x82 â\\x80\\x99 s there, but IÃ\\x82 â\\x80\\x99 m certainly no one to push that belief on anyone.\"', '\"Not between nonrandom variation and directed variation : between nonrandom amounts of variation, and directed variation.\"', '\"Where in Canada is it illegal to defend yourself with a firearm, given sufficient threat?\"', '\"Confirmation records that you were a Christian?\"', '\"Actually he doesn\\'t believe in a liar God like you\"', '\"But the responsibility does not end with the woman who experiences the pregnancy.\"', '\"Is the Ammo Shortage the Result of a Government Conspiracy or an NRA Marketing Campaign?\"', '\"And it contains many scientific and historic inaccurate lines in it. What was your point?\"', '\"Because it was found below the K/T boundary, a geologic layer that exists around the world that has been dated by several methods that all agree.\"', '\"YES I HAVE!\"', '\"Sure. Bring on the free machineguns to every male of military service and the paper tape.\"', '\"And yet the species that exist today are the exact same as the species during the high oxygen content?\"', '\"You don\\'t beleive that it is possible to do something wrong to prevent a larger number of wrongs in the future?\"', '\"God is asinine enough to kill what your ilk calls `` innocent foetuses ``, etc., so I wouldn\\'t put anything past him.\"', '\"So, a human-mother is equal to the abilities/wisdom of God now?\"', '\"Can\\'t be dissapointed if I know not to expect more\"', '\"Actually, we have a pretty good idea of how life populates islands.\"', '\"Very well-executed skewering of Galileo.\"', '\"Yet again, ignoring the point of the article. Are you not familiar with the Grants\\'work?\"', '\"And if she doesn\\'t she could\\'ve just made a terrible mistake.\"', '\"Because Africa isn\\'t one big homogeneous ecosystem.\"', '\"Look Bell - your point is made.\"', '\"The main cause of so much hate and disrespect is the phony war we\\'re fighting and our tactics in violation of international law, our attitude of superiority in the world, and our outright bullying of others, all of which are being pushed the most by -- you guessed it -- not liberals.\"', '\"And yet the article is about a legal matter.\"', '\"It may not be scientific to begin at step two or step three.\"', '\"But it, along with the uranian tapeworm hypothesis, is just as valid as intellegent design as a hypothesis.\"', '\"Can you really see that Grizzly? It would literally cause a revolution in certain States.\"', '\"Since the words had meaning.\"', '\"And until you realize it isn\\'t hearts and minds that need to be changed to reduce the need for abortion you will fail - regardless of whatever law is passed.\"', '\"I presume that is a joke. Criminals have always had guns ban or not\"', '\"That\\'s right. It merely has the capacity to make errors which sometimes slightly improves function in a particular environment.\"', '\"Helpful mutations\"', '\"True, but the one after this one will be.\"', '\"But there\\'s no evidence here for creation.\"', '\"You\\'re babbling.\"', '\"So how is misuse of science a valid argument against the correct application of the scientific method?\"', '\"and the pro-choicers claim pro-lifers appeal to emotion too much. Nevertheless, I think the embryos would probably be dead if they were just sitting on a counter somewhere so you then save the child.\"', '\"I know one thing, anything that happens, politically motivated people will demonize us, anyway!\"', '\"In point of fact, the low birth rate in most of Europe is not due to the availablity of abortion, but to good sex education and the ready availablity of effective contraception to everyone who needs it.\"', '\"Right. Please, reread your argument.\"', '\"The same ones you\\'ve been told about, what, a few dozen times now?\"', '\"Except several rligious organizations around the country have financed, and gathered signatures to put anti gay marriage amendments on the ballot.\"', '\"There are no objective reasons to condemn gays.\"', '\"How is that a strawman? Your challenge directly relies upon something you assume to be proven, but has not been.\"', '\"Because the soundbite `` survival of the fittest `` was coined to explain evolution to the stupid masses.\"', '\"Apparently your experience on the internet is quite shallow.\"', '\"So you mean you can not show me where I\\'ve said anything about my healthcare.\"', '\"It works.\"', '\"Yes, the university one is quite possibly the most nonsensical.\"', '\"I think you need to read the book of Job.\"', '\"So why don\\'t you just say, `` I don\\'t think there is a distinction between humanhood and personhood ``?\"', '\"We can\\'t pick both? Why the hell not?\"', '\"Actually National Geographic is more accepting of the truth than biased for the argument.\"', '\"Andrea Yates - Profile of Andrea Yates Cybererratus, is Gary Ridgway something of a hero to you?\"', '\"And yet the post-Dunblane handgun ban happened after only one event.\"', '\"The correct answer to this question is no.\"', '\"They should be discredited, and their hypocrisy should be exposed.\"', '\"Ah, you\\'ve engaged in the grammarian nitpick function of debate.\"', '\"And statistically a school massacre by someone with a concealed carry permit is just short of being nonexistent, but that fact still doesn\\'t mean a thing to you.\"', '\"But it does restrict criminal access to such items. And it has nothing to do with Tyranny.\"', '\"Since when were proteins no longer structures?\"', '\"Because we give straight answers, yet never recieve them.\"', '\"Why should I prove anything, you never do.\"', '\"Almighty nature? You mean you believe in the universe?\"', '\"So which is it : the action is moral, the action is immoral, or there is no answer? You seem confused.\"', '\"You mental midgets insult my intelligence when you aren\\'t even aware that the word omnibenevolent isn\\'t even found in the Catholic Online - Catholic Encyclopedia. In fact, the word isn\\'t found in any popular dictionary what so ever. It\\'s an urban slang with no historical usage in theological studies or history at all. I ought to know, because it never came up in Bible College, ever. But here it is in the famous and highly referred to URBAN DICTIONARY : Urban Dictionary : omnibenevolent Once again guys, get a clue before you start spouting off your criticisms which you haven\\'t an actual clue about.\"', '\"Archy is just being christian by trying to impose his twisted morality on everyone.\"', '\"Look at the % of threads that I start thast are anti-gay, then look at the % of gay posters\\'threads that are anti-Christian.\"', '\"We actually got nut jobs like this in government postions.\"', '\"The liberal hysteria about the tea parties and town hall protests, kicked off by the Obama administrationÃ\\x82 â\\x80\\x99 s issuance of a Homeland Security bulletin warning of right wing terrorists and extremists, has led to a lot of hyperbole on the left about how, well, extreme and terrorist-like the right is becoming.\"', '\"Well, there\\'s plenty of scientific evidence about fetal development, such that we can confidently say no `` person `` is established up to a certain stage in a pregnancy.\"', '\"I think such a move would qualify as a recognized declaration of war.\"', '\"Just to point out, while not reconized by the feds, NY state will reconize it.\"', '\"Well, that may be your personal approach to \\'Evolution by Intelligent Design \\', but I believe that most people [ and the majority of human beings are not geneticists and/or molecular chemists ] would say that \\'biological evolution \\', [ to their way of thinking and mine ], is about whole organisms, not molecules.\"', '\"And this one too ( abeit watered down- having to wear a to church ) Goes to show just when you thought we had gone all progressive there are some people wanting hiding blatant sexism behind the veil of religion. But with regard to your point I agree entirely- the bible is interpreted in different ways, depending on the person.\"', '\"That was... interesting.\"', '\"i think anyone that tries to take away a women\\'s right to her own body is a sexist and has no respect for human life\"', '\"Today\\'s students are tomorrow\\'s scientists.\"', '\"We know this because the kids destroyed all the interactive exhibits within a day when the Earth Gallery opened.\"', '\"And so have animals. Plants have been wiped out in the great extinctions too.\"', '\"France\"', '\"So would genetic enhancement 100 years ago! Peace,\"', '\"You have a lot of choices.\"', '\"Yes, just like banning marijuana in the 1930s has turned this nation into a nation of several hundred million criminals.\"', '\"It worked just fine for the first half of the 20th century. And training should never be a requirement for exercising a constitutional right.\"', '\"I actually agree with you here.\"', '\"\"', '\"They don\\'t live in an environment where such events are likely.\"', '\"Including the mentally ill, those with previous violent felonies, and children?\"', '\"the answer is in your question... legally own means just that. can carry it without further permission. but my question asks, is permission required to legally own firearms?\"', '\"What basis do fundamental rights derive from? In other words, how can we tell whether something is a fundamental human right?\"', '\"And I maintain that your belief is dangerous to America and people like you should be deported to less civilized countries so you can truly appreciate what you had.\"', '\"\"', '\"Why, if one wants to have an abortion, should one be FORCED to view a sonogram?\"', '\"Thanks, Clive, you\\'re a good sport. Of course I can\\'t agree with the XXXXX part.\"', '\"I believe I stood my ground quite well, otherwise I wouldn\\'t be posting now.\"', '\"How the hell could these people have been able to tell the difference?\"', '\"i\\'m truly sorry to hear about your pain and i hope your recovery comes soon.\"', '\"and this :\"', '\"How about rationality? It is not the same as intelligence\"', '\"\"', '\"So apparently nothing was stopping this from taking place then.\"', '\"Yup. Give me an example of a true inaccuracy, instead of working to poke fun.\"', '\"And that\\'s why I think you are a troll. There really aren\\'t any experts here.\"', '\"That\\'s not something you can really blame on the pro-life movement.\"', '\"Doesn\\'t count. Took place in a `` gun free zone ``. By law no guns are allowed there, so by law this incident couldn\\'t take place.\"', '\"If it turns into a tumor then it was never a true blastocyst. therefore your whole statement and the premise of your claim is fallacious.\"', '\"Or helpful.\"', '\"Reference please.\"', '\"You seem to be arguing that a corpse is a human.\"', '\"and finally...\"', '\"No they\\'re not.... do zoos document the changes in phenotype that no-doubt occur?\"', '\"Let\\'s see you show that the God that you believe in is that God\"', '\"Of course.\"', '\"You seem to like this little blurb, I\\'ve seen it several times in various forms.\"', '\"Only in this country? You ( purposely, no doubt ) overlooked the issue of whether they are `` people. `` Hell, by menstruating, women murder every month according to your logic.\"', '\"Not at all, more stories that have been fed to you.\"', '\"Actually, the reason people dismiss the concept of a diety is often not because of \\'lies \\', but because there is no objective evidence of any diety what so ever.\"', '\"As it stands in the uk a father has no sat whatsoever in the welfare of the baby/fetus if his partener wants to terminate he need never even be told.\"', '\"It\\'s not a theme park. It is a museum similar to the Natural History Museum in London, the only difference being that they take a Biblical stance of our origins rather than an evolutionary view.\"', '\"Your claim is not supported in the least.\"', '\"Well, we really don\\'t know.\"', '\"I still haven\\'t heard an answer to this yet?\"', '\"A little of both.\"', '\"If atheism is a religion, than yes and atheism.\"', '\"How could mutations and natural selections produce the changes necessary and how could the intermediate be viable?\"', '\"No, but they can change laws if they are unconstitutional.\"', '\"I think if Islamic fundamentalism shows us nothing else it\\'s that...\"', '\"You\\'re right, I think he has made such comments. Sorry. I think he\\'s wrong and went too far.\"', '\"But my relationship is between a man and woman. You would be asking marriage to be redefined to do that. Remember, part of what defines marriage is that it is between a man and woman.\"', '\"This is the line that caused me to butt in, walking-fish.\"', '\"It\\'s still the same argument. A fetus is a citizen, it\\'s intrustion on the fetus,\"', '\"I see. Then what you are claiming is that creationists are the ones who should define the vocabulary to be used by evolutionary biologists.\"', '\"Because it is a bulleted list.... Surely you have Microsoft Word on your computer. Open it up.... go to Format and you will see `` bullets and numbering `` as it is a way to do a list.\"', '\"Actually, there is a great deal in question, even in the passage at issue. It continues to amaze me how little you distinguish `` the scriptural point of view `` from your view of scripture.\"', '\"But you seem to have failed to grasp what science is and how it works.\"', '\"But did you consider it relative when you posted this on another thread? :\"', '\"So your point is there are developed nations that are not developed because their government has little control of a part or portion of it?\"', '\"On the flip side, you should never let anyone force you into carrying out a pregnancy you do not want.\"', '\"It\\'s an odd article for Telegraph, though I haven\\'t noticed this Bob Carter bloke before.\"', '\"if thats what we have to do to keep guns in the hands of americans then so be it.\"', '\"Actually the room, straps, and table are all multi-use. And the drugs only cost Texas $ 86.08 per execution as of 2002.\"', '\"Nothing that prevents it communicating in theory, but I have covered the communication aspect already in this post.\"', '\"So do Ludwig and Cook. One problem, they really could not find anything wrong with it.\"', '\"Have you seen who our current President is?\"', '\"I think it is more cut and dry than you think.\"', '\"Once again you either pervert our opinion or outright lie as you misrepresent our perspective.\"', '\"I don\\'t see how this is not a debate about abortion.\"', '\"First, you wouldn\\'t use a handgun against an F-16 fighter plane.\"', '\"Finally an inkling of intelligence.\"', '\"And because this man said it, it must be true? A simple appeal to authority.\"', '\"the last time a state started recognizing gay marriages, suddenly there was more support for a Federal Marriage Amendment than ever, Democrats lost more seats in Congress, the minority Democratic leader was defeated after years in office, a protestant presidential candidate carried the Catholic vote against a Catholic candidate, evangelicals in the country were energized, the pro-FMA candidate WON re-election even though his approval rating was 50 %, and the state that recognized gay marriage fell under a slew of legal challenges to the point where it\\'s up in the air again. The more you push you agenda through activist judges, the closer you get to the people having to pass an amendment. At least New York was smart enough not to do it right before an election.\"', '\"Speaking of hog wash, who said this, EVER? Not me! But thanks for revealing how twisted and corrupted your thinking is to even imagine I have said or implied such an idea anywhere.\"', '\"Now consider a different, somewhat special meaning of the word Ã\\x82 â\\x80\\x9c carryÃ\\x82 â\\x80\\x9d Ã\\x82â\\x80\\x93a meaning upon which the linguistic arguments of petitioners and the dissent must rest.\"', '\"That would depend on how the poll was done, and what education levels were compared.\"', '\"I\\'m a little surprised by this. The polls I\\'ve seen show that Mass voters favor gay marriage.\"', '\"Throw just a few more genes into the soup, stir the DNA pot a bit, and POOF!\"', '\"Again you have nowhere to go without anything to start... so your hypothesis has no weight.\"', '\"You are going on Plato saying that not beleiving in Zeus, Mars, Apollo, et al. is like a diease in the brain as supporting Christianity?\"', '\"All sin undermines society, including illicit gay sex sin.\"', '\"I know of entire families in which the anestry isn\\'t very tall at all, on both sides. As far back as the old timers can remember there has never been a Jones over 5\\'8 ``. All of a sudden one grew to 6\\'3 ``. How can this be!?!?!?? The first 10 lizards didn\\'t have cecal valves. This evolution theory really is going to put us back in the dark ages. When lizards morph in different environments and the explanation is mutating something that adds up to the mystical rapid evolution, rather than the common sense discoveries Mendel made. We are definately moving backwards. The bigger the BS the more the grant money from the US.\"', '\"I hope I\\'m not the only person who went directly to your source to check it out.\"', '\"It\\'s kind of funny that they claim this happened, but can\\'t get the woman to come out and say it?\"', '\"Whose hands do they have?\"', '\"Not sure why you think this is science or how it is supposed to apply to a discussion of creationism v evolution. Science is not materialistic but naturalistic.\"', '\"Actually it would be impossible for the monblock to spin. There is NO PLACE OUTSIDE OF IT from which to observe!\"', '\"When did you choose to be heterosexual?\"', '\"Please off one scientific piece of evidence in support of biblical creation.\"', '\"And oddly enough you have been given several on silver platters. Perhaps you need to visit a neurologist and get checked for memory problems?\"', '\"Actually, this guy was an ex-con. It\\'s illegal for a convicted felon to own firearms.\"', '\"Right now, I might consider it, as I am now a few weeks away from my graduation.\"', '\"And SS\\'s hypothesis is demonstrably false.\"', '\"I think you have a somewhat odd definition of `` assumption, `` but I see your point.\"', '\"Why didn\\'t they `` fire `` and `` bar `` him in the sixties?\"', '\"You forgot the evolution of the motorcar, the evolution of Christianity, the evolution of the computer, the evolution of the trumpet, the evolution of... The word evolution is used in everyday terms to mean change ( normally for the better ). Biological evolution, ie the theory of evolution, is unrelated to this everyday use of the term. \\'\\' Astronomical evolution ``, just like `` Trumpet evolution `` has nothing to do with the theory of evolution. When you grasp this simple concept, you will have made your first step toward becoming knowledgable about the theory. At the moment, you are stuck on the start line boasting about the end of the race : you are a YEC supporter in other words.\"', '\"\"', '\"Recent comparisons between the complete chimp genome and the human genome have found that possibly fewer than 3 million nucleotide differences exist in functional DNA.\"', '\"So I pray to chance every night before I go to bed?\"', '\"I don\\'t usually agree with you, but I agree with you on this one.\"', '\"So he `` overlooks `` plate tectonics twice?\"', '\"No, ID isn\\'t about God. We don\\'t try to identify THE Intelligent Designer.\"', '\"Didn\\'t supersport openly admit he could not prove his own beliefs in divine creation?\"', '\"Nope. Life began at some moment of abiogenesis, billions of years ago.\"', '\"Granted\"', '\"For someone who believes the following : `` One can not /should not/ought not to force their own personal moral beliefs onto others, `` it is indeed ridiculous to try and tell somone else : `` You can not /should not/ought not to force your own personal morals on people. `` To do so would be to force a personal moral belief onto somone else, which would render the statement absurd. I\\'m not exactly sure what you mean when you say `` the whole moral thing, `` but I doubt it breaks down. Because there are people who hold the position that one can force morality onto someone else, even if only in certain circumstances, it is the case that somebody\\'s moral belief ( s ) will be forced onto someone else.\"', '\"But you have dodged the question? My specific question that I would like you to answer is why don\\'t you believe in the Buddhist god, Buddha?\"', '\"Then surely you can see that happenstance origins taught in science classes on the level that it is today comes dangerously close to violating the establishment clause of the first amendment!\"', '\"Over 100 Million dead in Germany, Russia and China.\"', '\"A curse? If you don\\'t agree with it that\\'s one thing.\"', '\"again, please review the definition of an atheist humor can not be observed by apparatus that test the physical realm.\"', '\"Uh oh, Mr. Poe\\'s proclamation crashes and burns right there - the Bible says no such thing.\"', '\"So atheists are capable of goodness, love, kindness, generosity and sympathy but they have no meaning unless one conforms the the fundamentalist christian morality.\"', '\"You are no Christian, if you doubt the Holy Word in this subject.\"', '\"And Atilla\\'s army of as many as 1/2 million men was beaten and forced into retreat by the Romans and Visigoths in 451AD.\"', '\"And it is. The ToE is a theory, however. It explains evolution, which has been observed. Do not attempt to deny that.\"', '\"Is that not the whole impetus of the `` Intelligent Design `` movement?\"', '\"Does personal autonomy = liberty?\"', '\"The rich dead leave this world by giving Uncle Sam a boatload of undeserved cash. It\\'s called The Estate Tax.\"', '\"At your service : Comparison I could\\'ve just circled the whole thing, but this makes it clearer. Plus it\\'s overall body shape is `` fatter ``\"', '\"Given that the fetus can feel no pain ( in the vast majority of abortions ), whose pain should I be concerned about?\"', '\"So you are pro-life and you hate liberals?\"', '\"And also so much more to get us far off the reality track eh?\"', '\"Total of denials = 761,814 Violent Crime and Murder rate decreased.\"', '\"Just like mathematicians refuse to accept that.5+.5 = 1 and is not just two halves...\"', '\"Here is what your link says.\"', '\"Yes. I believe it\\'s a matter of personal individual freedom.\"', '\"But she murdered her child. There are laws in Austrailia ( and hopefully someday in the U.S. ) against killing your pre-birth children.\"', '\"He was at various different observatories. I\\'ve never heard of Mt. Carmel. He worked at Lick and Palomar. ( Wait I think Lick is on Mt. Carmel maybe? ) Who cares. When and where was he BARRED from using these telescopes? Please provide a link. When and where was he BARRED from presenting his evidence?\"', '\"Based on their definitions. It has nothing to do with opinion. A circle can not be a square.\"', '\"The article cautions on blithely using natural selection as an explanation for the features of the genetic code.\"', '\"All else you said has been rehashed in other threads and you know my view.\"', '\"Pregnancy involves risk.\"', '\"If all you got in school was that the Spanish Inquisition was `` at times very strict `` than you have been a wee bit undereducated to put it mildly. Let me give you the cliff notes version- the purpose of the Spanish Inquisition was to find anyone who didn\\'t believe exactly what the Church told them to and if they were found to be `` heretics, `` they were gruesomely tortured until they said they believed, or if they didn\\'t they were killed. Now I hope you can see why saying the Spanish Inquisition was `` at times very strict `` is a GIGANTIC understatement.\"', '\"Basic law 101 : You can drive by 15 1/2 with A LICENSED ADULT OVER 25 IN THE CAR.\"', '\"There are flood stories carried by many cultures, however they don\\'t match in the details with noah flood myth.\"', '\"If this thread is intended to be read only by those with a technical expertise in logical analysis, then my low-tech approach will make you groan.\"', '\"Is that what all of this says to you?\"', '\"these studies and facts are no Epinios dot com, but I suspect some will think them credible. No? The answer is Drug Dealers!\"', '\"Actually, they didn\\'t. The whole tragedy was caused by gun control.\"', '\"Didn\\'t we supposedly evolve from apes?\"', '\"And seven-point harnesses are the best types of seat belts. But most people are perfectly happy with the seat belts that come standard in most cars.\"', '\"Hello Aivlis, my name is Joe. Please let me tell you a little about my self.\"', '\"Just like when you have an abortion, it cleans out your uterous so you can have another baby if you wish.\"', '\"That\\'s just not true. It is a logical fallacy.\"', '\"Their hormones are all the encouragement they need.\"', '\"Well it all depends on who is going to determine `` right ``, isn\\'t it?\"', '\"It also allows SCOTUS to strike down State laws that violate constitutional rights\"', '\"You wan na compare foreign nations even though no two stats are comparable or similar?\"', '\"You complain about the 90 % figure being erroneous and then make an unsupported statement like this?\"', '\"So you\\'ve never repeated a sin?\"', '\"A being is something that is conceivable as existing... or something that actually exists.\"', '\"Many of us view humanity with mental existence as important. The only ones you are protecting that our view does not are those human living entities with no mental existence.\"', '\"Said like a cruel evil person who has no concern for his fellow man.\"', '\"The Republicans have just discovered that 80 % of hip replacements are done through Medicare and that the waiting time is much shorter than in Canada.\"', '\"Congratulations. You are now part of a minority group. Marriage tends to either work or it doesn\\'t.\"', '\"I didn\\'t know this had already been posted. Like I said I don\\'t really follow the gun thread that often.\"', '\"This seems beside the point.\"', '\"Yes it is. It will be funded by government money, the taxpayer will foot the bill.\"', '\"Actually, it is quite correct.\"', '\"What are you talking about? How was I begging the question?\"', '\"Elephant/Hippo. \\'Nuff said.\"', '\"Only if she\\'s piloting at the same time.\"', '\"The day you became a person is the first day of you life that you can remember.\"', '\"You may see a vast differene, many do not. The `` moral `` grounds for many is simply the justification for their homophobia.\"', '\"Oh how wonderful for you. You can say something like this so easily without having to consider anything but what someone else would have to do.\"', '\"Ah, so I take it you are saying is it possible to reconcile a belief in God ( of some sort ) with the discoveries of science?\"', '\"Well memory is NOT something that is immaterial is it.\"', '\"My outburst was meant to show that even a seven year bombardment of religious propaganda can be ineffective if no reasons whatever are advanced for reaching the conclusions that the theists desire. Theology is a bogus `` study `` of infinite pretensions and of an unknowable `` reality ``. Yet I wouldn\\'t describe atheism as a religion : essentially it\\'s a disbelief in the existence of God because there is no good reason for doing so and there are good reasons not to.\"', '\"I believe you, OTHERS pick and choose what you believe.\"', '\"Why, is there something wrong with being pro abortion?\"', '\"Woman\\'s choice\"', '\"But recognition of the big bang as a very good explanation of cosmology isn\\'t limited to evolutionsits.\"', '\"And i dont really believe in god because he has shown us NO compelling evidence of his existance.\"', '\"Well, it does take some scientific knowledge to understand the evidence for evolution. One doesn\\'t expect Creationists to possess it.\"', '\"And what special rights are we given?\"', '\"Actually, Dembski is known for his useless maths. As you so enjoy reading Berlinski, do you agree with his take on ID?\"', '\"Actually the details of HOW embryogenesis proceeds is becoming increasingly understood.\"', '\"To be honest I wouldn\\'t mind too much missing old age\"', '\"That\\'s your argument? \\'\\' Just surrender your guns now, you can still get them illegally later on? ``\"', '\"So what generates morphology?\"', '\"Is it correct to assume that in the presence of the precursors of the standard genetic code ( e.g. intermediates of glucose degradation and the citric acid cycle ), the intimate relationship between these molecules resulted in the inevitable organization of the genetic code ( global optimum of the system )?\"', '\"\"', '\"The church is unfit to rule on abortion because it acts on what benefits them or they\\'re ideas.\"', '\"Try Islam. Even though many wars have been waged under the guise of Christianity, Jesus never preached that humans should force people to believe as we do.\"', '\"Though it doesn\\'t really say why, the Bible says that is what will happen.\"', '\"And those who respect themselves and others don\\'t need that book of morality.\"', '\"Now you\\'re being ridiculous. The big bang is not the evolution of the universe.\"', '\"Wow, you PROVED the Big Bang to be a big dud?\"', '\"Personally I won\\'t wait around, shoot both, sort it out later.\"', '\"So taking peoples rights away is an american value?\"', '\"Because what inspired my argument/debate challange was the Questions for both sides thread, it was full of vague/popular laymans usages of the term\"', '\"Note the key word `` also, `` which admits that it\\'s human\"', '\"And would you care to tell us just what those `` official ideological goals `` are and where we might find a certifiable copy of them?\"', '\"Oh really... biology : a branch of knowledge that deals with living organisms and vital processes I don\\'t see the synonym `` evolution `` anywhere in that definition. Some biologists may study evolution, but biology is NOT evolution.\"', '\"Oh, is THAT where you are getting your anti-evolution information\"', '\"Not one that a solid case can be made for.\"', '\"You\\'re the people who want the Separation of Church and State, remember?\"', '\"You have ignored a third option, my denier of all that is right and good.\"', '\"Every relationship does entail moral obligations in one way or another, but the argument is that there is no relationship that morally obligates one to share ones body.\"', '\"Which would tend to prove that they population at large needed MORE guns.\"', '\"So why did you say pot was worse than alcohol?\"', '\"But Oswald did not shoot Kennedy.\"', '\"Reasonable people would look for justification for their beliefs.\"', '\"I\\'m not in denial about anything and don\\'t think Evo\\'s are stupid because they don\\'t agree with me.\"', '\"But isn\\'t the price of giving up your rights worth eventually becoming a socialist state where every aspect of your life is controlled by the government?\"', '\"Wow, now THAT \\'S spooky. And makes much clearer statements and much clearer parallels than INRI\\'s post.\"', '\"THE STATE v. BUZZARD. Buzzard decided 2:1 to uphold a law restricting concealed carry.\"', '\"Sounds like the same skeptic argument above. I don\\'t know about you Nu Leader, but when I\\'m certain my mind exists. Are you not certain? You are actually required to be, to deny you exist would require existence, and that would be logically contradictory.\"', '\"Yes, I know what it is. I also know of mothers who have never breast-fed.\"', '\"Because you introduced him to the definition of `` internet troll ``. It\\'s all your fault!!\"', '\"You\\'re telling us we\\'re soft on crime?\"', '\"So Bush is responsible for the death of Third World mothers now?!\"', '\"The thing is, Bush didn\\'t live in Canada.\"', '\"Isn\\'t that exactly what we would want : people who conduct legal business instead of illegal business?\"', '\"Sandy do you understand that if a star is one light year away, then we see the light from that star that left the star one year ago? So the star must be at least one year old.\"', '\"The deliberately out-of-context quotes again that directly contradict the conclusions of the authors.\"', '\"You\\'re very welcome\"', '\"At least you are honest and portend to know little of what our Constitution is or does as for it\\'s role in American government.\"', '\"And that part of the decision ( not allowing for the woman\\'s health to be taken into account ) is why I do not agree with nor do applaud this decision\"', '\"Yes, to follow his commandments to love God and to love one another.\"', '\"That ad is a flat out distortion of Palin\\'s view.\"', '\"I see. Then you have none?\"', '\"We can add to this list, Singin\\'s desire of criminalizing gun owners who don\\'t report gun thefts in a required time and to lock up all guns in a manner that will prevent thefts.\"', '\"Gary Ridgway, the serial murderer of some 60 or more women, possibly more.\"', '\"just cause you dont buy it doesnt mean it is not true.\"', '\"Only in your mind.\"', '\"The difference, Eddie is simply this. If the Constitution needs to be changed, the founders instigated a means to do so.\"', '\"Also another example put forward is a bacteria that can only sustain itself by eating Nylon.\"', '\"So what was the common ancestor of the Old World Monkeys and the Apes, and what did it look like?\"', '\"You mean Exodus 21:22-23 and you are using a contemporary translation of itÃ\\x82â\\x80¦not tradition.\"', '\"Which abiogenesis theory do you ascribe too?\"', '\"Again, ecological factors play an important role.\"', '\"Besides being terribly wrong, that\\'s not evolution and has nothing to do with evolution.\"', '\"What are you talking about? Please define information. What does `` new `` information have to do with natural selection or evolution?\"', '\"Don\\'t tell me, tell the darwinists!!\"', '\"What is so sacred about this type of `` information `` that it can not be produced randomly?\"', '\"So that no girl, underage or otherwise, refuses to seek treatment for fear of what their parents will think or say.\"', '\"Well, that\\'s what I was doing too\"', '\"So after misrepresenting me, you compound that dishonesty by pretending that you are innocent of the whole thing.\"', '\"This is more of a legal question involving whether or not it was negligence\"', '\"Where are those organizations with such scientific rigor? If they truly do exist, they must be in the position to understand the God of the Gaps they\\'re worshipping has become microscopic.\"', '\"And you keep purposefully neglecting to add in the\\'selection\\'part, which is far from accidental.\"', '\"You know, I think that you are rather an evil person, trying to create guilt where no guilt exists, where no guilt is necessary.\"', '\"So you\\'re a historian now?\"', '\"How? What exactly did they say, that God didn\\'t invent every living thing individually?\"', '\"Well done Monty. Mark that up as your first ever 100 % honest and accurate post here.\"', '\"Making abortion illegal goes against common sense?\"', '\"Link me to one saying weed \\'addiction\\'is worse than alcoholism please.\"', '\"Well, the claim isn\\'t that they were identical, just that they preceded Jesus and were very similar.\"', '\"They can if they\\'re Catholics since Evolution is accepted doctrine now in the Church.\"', '\"Again your failure to understand what science is and how it works.\"', '\"And what evidence do you have, aside from a set of books written between 1900 and 2800 years ago that there is even a \\'God\\'to box with.\"', '\"Just laugh ok, it\\'s my first attempt at making up a joke lol\"', '\"Where has this been shown? Darwin did marry his first cousin and his offspring didn\\'t seem the worse for wear.\"', '\"You mean like showing what the Scientific Method is, and why this invalidates all creationists claims of doing science as outright lies?\"', '\"How would you like to have a parasite in your body and not be given treatment to remove it based solely on the fact that even parasitic organisms are living things and deserve life?\"', '\"It\\'s bad enough that you claim to oppose evolution when you don\\'t even know what it is, but to correct someone on logic and get it backwards is really silly.\"', '\"Some mathematical definitions can be precise, but then others can be unprecise, because of one little thing a person like you would never be able to understand, and that is, humans are not perfect.\"', '\"But that\\'s not science. Are you so easily taken in by salesmen?\"', '\"A perfect example of why Christian fundamentalismm and evolution can\\'t co-exist.\"', '\"No. You\\'ve not understood what I said.\"', '\"And how is your think group any different, you all think alike just as gun owners all think alike.\"', '\"You may have missed the context from the other thread I referred to.\"', '\"Having human DNA does not necessarily make one a human being.\"', '\"Perhaps there may be a certain satisfaction in strangling the sh # # out of a burglar, however I shall stick with a 9mil. thank you.\"', '\"any divine intervention will count as creationism\"', '\"I think the reason for the law would be that there\\'s no reeason to have the ban in the first place ( ok, no GOOD reason ).\"', '\"My point exactly. Carbon dating is by no means accurate, there it does not refute creationism.\"', '\"That\\'s because its sophistry. Its an inherent contradiction and it simply means we don\\'t have the capacity to understand it.\"', '\"First you say you don\\'t believe in killing children unless it\\'s `` absolutly ( sic ) necessary ``, then you say you can\\'t imagine a time that it would be absolutely necessary. Can\\'t you make up your mind?\"', '\"Because you are a Darwinist - this predictible insult testifies to my rightness.\"', '\"You can\\'t reconize the fairy tale you live in.\"', '\"Explain to me how copying something is creating something new.\"', '\"That wouldn\\'t be friendly.\"', '\"Because Apes, monkeys and chimps are on different paths.\"', '\"Can you tell us what you would accept as `` proof ``?\"', '\"The points individually have already been answered but actually you will find out that there is no complete proof for anything.\"', '\"Because it works. How much money is pumped into microchip design and production?\"', '\"Quite true. This is pretty funny.\"', '\"Well i am sure somebody over here in the Nanny state of Australia is trying to ban soap!!\"', '\"I think your idea has merit.\"', '\"well this is reasonable response. But you have yet failed to show me how genetic variation applies to phenotypic evolution.\"', '\"I think the energy ( essence of the human life ) always was\"', '\"But it\\'s not detecting any `` new `` wavelength. It\\'s just detecting a wavelength that our eyes are incapable of detecting.\"', '\"Gee, is endless ranting about SEIU Rush Limberger\\'s latest talking points?\"', '\"http : //www.silentnomoreawareness.org/ http : //www.rachelsvineyard.org/ http : //www.feministsforlife.com/\"', '\"Honestly I\\'m not sure if it was ever said in the Bible, but I sure have heard a lot of the Bible thumpers saying free will is a gift from God.\"', '\"No need.\"', '\"Well if you already know you\\'re for guns, then you should know the basic reasons, right?\"', '\"No one insists they are `` descendants ``. No one insists they are ancestors either.\"', '\"All I know is Obama and Biden both have a bad history of voting agains law abiding gun owners, if they are given a gun ban bill to sign, they will almost certainly sign it.\"', '\"Simple. The big government people will tell you that it\\'s in everybody\\'s best interest. The criminals will just kill you without debate.\"', '\"So? He had a shotgun. You\\'re saying that if it were legal to these Indians that would have solved the problem?\"', '\"I don\\'t know? How about a person from a group known to do almost anything to get money, but also realises the pain they would bring to a child if they had one.\"', '\"Oh get off it. PC is * * * * and you know it.\"', '\"They are safer.\"', '\"JUST A THEORY do u even know what a theory even is?\"', '\"So the bishops finally did it.\"', '\"This is correct.\"', '\"I take it as read then that you\\'re not Catholic. Why don\\'t you believe in hell? We are supposed to worship God because He is good, and it is right to praise goodness.\"', '\"Then why don\\'t you : 1 ) explain exactly how my second statement is wrong\"', '\"That\\'s why I voted as I did as well. Ideally I \\'d prefer the `` none required `` policy.\"', '\"Depends on which cell you mean.\"', '\"That is neat, but one catch is that I am an atheist.\"', '\"And this is relevent how?\"', '\"It is not true that science has `` found `` the mitochondrial Eve, nor is it true that it shows that one person can have all the DNA necessary for all the variation in human population.\"', '\"That is not quite what the\\'mitochondrial Eve\\'hypothesis posits.\"', '\"You are correct, but contingency must be in place to deal with it when it occurs.\"', '\"Exactly and if you accept that animals have been on the Earth for millions of years then why can\\'t evolution be a process that God created and controls?\"', '\"Science has laready defined the exact nature of the difference\"', '\"And Moore couldn\\'t give a reason for why Heston should apologize for the death of that one child either.\"', '\"Since you bring it up, I do think that you are a nut.\"', '\"Not really. It is just another matter that you spoke with authority about without actually learning the facts.\"', '\"Aside from the obvious logical fallacy, if alien life were precious ( which it isn\\'t ) and assuming we ignore the chestburster since that doesn\\'t happen in a pregnancy then I \\'d say you can\\'t remove it.\"', '\"Oh, but you do.\"', '\"And it was. Anybody with a brain can understand that. Mayor Daley is white. A large portion of the Chicago population is black. Ergo Daley was keeping the blacks unarmed and helpless.\"', '\"What exactly are the age ranges of these `` children `` in the news stories?\"', '\"But does not evolution say that there can be NO difference in kind, simply differences in degree?\"', '\"Way to make a controversial, unsupported assertion, Winston!\"', '\"So you\\'re saying that only Christians can get married?\"', '\"Please stop making statements that have nothing whatsoever to do with the debate at hand. We\\'re not talking about Christian fundamentalism and `` reality ``.\"', '\"Are you referring to yourself as a Christian or Steeeeve being a Christian?\"', '\"Well maybe that will teach him to get a education for once.\"', '\"People like this guy, and Henry Hyde, Newt Gingrich, Robert Livingston, and so many others happen to be right wing republicans.... isn\\'t that peculiar?\"', '\"So now you\\'re lying?\"', '\"ItÃ\\x82 â\\x80\\x99 s always interesting to see atheists making profound statements about billions of years, and mocking the Bible as being Ã\\x82 â\\x80\\x9c very, very oldÃ\\x82 â\\x80\\x9d. Okay, enough about that Ã\\x82â\\x80\\x93 IÃ\\x82 â\\x80\\x99 m now going to condense the various atheist explanations that have been presented to me at 4forums over the years. Is the following a parody, or is it the real thing?\"', '\"But do you have any proof at all? What is the basis of their beliefs in God, Jesus etc. without use of the Bible?\"', '\"This is like saying that since I oppose the assertion that blacks are inferior to whites, I must think whites are inferior to blacks.\"', '\"So what\\'s your point? What does a charity\\'s balance sheet have to do with health care? It\\'s charity.\"', '\"Yes, but reason and dogma are not the same standard.\"', '\"Gun registration schemes have been disabled for criminals because requiring them to register a gun they are forbidden to own would violate their 5th Amendment rights.\"', '\"But private citizens run background checks on other citizens all the time.\"', '\"But the civil war wasn\\'t fought for slavery.\"', '\"Possibly, depends on what you read and by whom. Still, the war wasn\\'t aganist slavery.\"', '\"I know you don\\'t. So what?\"', '\"Because the modern application of gun control is to target everyone. But that doesn\\'t change the fact that gun control began as a purely racist concept.\"', '\"hey, watch yourself......... watch it..\"', '\"I counted the cases listed, not the body counts of each case.\"', '\"Because you don\\'t deny the truth of its claims.\"', '\"No, that example dealt with how goverment should deal with it.\"', '\"So what are you doing here? look at mahatma ghandi. he was a pacifist and he freed india\"', '\"Do you want to debate this too? Do you support the 2nd Amendment or do you think exceptions should be made?\"', '\"No dissonance - you just can\\'t see past your strawmen.\"', '\"It\\'s a lot more than what you\\'ve come up with. What evidence do you have that indicates the Iraq population wasn\\'t heavily armed?\"', '\"What was the difference, in climate terms, between 1400AD and 1600AD?\"', '\"If they\\'re voting then they should be paying taxes too.\"', '\"But it\\'s not a `` fact `` unless you\\'ve defined what you mean by `` person. `` If you define `` person `` as `` the combination of a fertilization event, `` then all you have is a meaningless tautology.\"', '\"Really? I have argued that God is an epic liar?\"', '\"What you quoted is what Answers in Genesis said.\"', '\"I live in NH and I can truly say it is a great place to be!!\"', '\"common sense `` what makes your common sense better then mine? how do you know your common sense is correct? common sense is relative, not absolute.\"', '\"Actually it was a watch on the heath. Yes, you can see the difference, but what is that difference?\"', '\"Well, in that case I would go for the US government any day.\"', '\"Socialsim and Communism in the Soviet Union failed because the USSR spent its entire existence recovering from war.\"', '\"Thank you? Im assuming thats not sarcasm, right?\"', '\"I see you are being a typo nazi. I see. You shouldn\\'t talk to the Jewish people on how to interpret their scriptures\"', '\"Socialist lunatic fringe view that human lives are only worth what the government says its worth....\"', '\"spend three months pregnant and then get an abortion, then you lose only one `` potential `` human instead of four.\"', '\"Actually, the fiercest competition comes from within the same population. Not all organisms born can possibly survive.\"', '\"but why do you use the word concept for both evolution and intelligent design?\"', '\"Soul? Pray tell good man, in which lobe of the brain does the soul reside?\"', '\"In reality, there are no concrete\\'reasons\\'for believing in God.\"', '\"Rarely has truth ever supported one side of a political movement.\"', '\"Many of the Christian denominations are ignoring them the same way they ignore the prohibitions against pork, mixed cloth, and stoning your children to death because they sass you.\"', '\"I think they should, and I hope it passes.\"', '\"Good lesson! Always take the easy way out to try and avoid consequences of actions.\"', '\"So what are you trying to do here - smother everyone with bafflegab?\"', '\"Oh, so God\\'s design prowess is comparable to that of we mere humans?\"', '\"Keeping porn legal and accessible on the internet, keep taxes high, keep abortion legal.... keep people voting democrat. Send as many people to hell as possible.\"', '\"Sounds good.\"', '\"http : //www.evolutionnews.org/2006/01... rica.html # more\"', '\"But faith is not religion. Religion is the expression of belief in a god or higher being or power of the supernatural.\"', '\"you\\'ve got to be kidding me. This has got to be one of the absolute dumbest things I have heard.\"', '\"Not being able to change something would be an indication of not being omnipotent.\"', '\"of course he says `` might ``, science always tentative.\"', '\"this statement isn\\'t logical.\"', '\"\"', '\"The best succinct representation of the scientific method is probably circular :\"', '\"Well, that is not what your colleagues quoted herein seem to feel... and that certainly is not what empirical evidence is bearing out.\"', '\"We don\\'t live on carbon dioxide. We live from the energy stored in carbon compounds when we break them down.\"', '\"So is it safe to say you may be for pro-ignorance?\"', '\"You should have said that. I might have agreed with you.\"', '\"Can you imagine two snipers, a mile apart taking shots at each other with these babies?\"', '\"I \\'d be happy to.\"', '\"So we think we have designed GPS systems?\"', '\"That\\'s incorrect. The Constitution begins with Article 1 which does not contain the Bill of Rights.\"', '\"Medicare is a type of health coverage.\"', '\"You mean their society didn\\'t implode due to giving civil unions to all\"', '\"I would hope not, since that would imply that god was the first to practice cloning, and it would be Adam and Adam instead of Adam and Eve.\"', '\"Just imagine Noah\\'s checklist! There.\"', '\"Actually, the whole basis for modern science depends on the assumption that the universe was made by a rational creator.\"', '\"And how exactly was that done and why do only you know this?\"', '\"Oh, we could let them in I guess. How much room would it take up in a textbook, two pages maybe?\"', '\"But a scientist makes his bones by clashing with what people want to hear and being correct.\"', '\"Apparently not.\"', '\"Evolution is a science. \\'\\' Evolutionism `` is a word coined by creationists to make evolution sound more like a matter of faith than science.\"', '\"Well, if that is your perspective, yes, I can see why you would think they are the same idea.\"', '\"we do...... most fossils found are surface finds -- which means anything found on the ground probably contradicts uniformitarian principles because every fossil found laying on the ground probably -- according to ToE -- did not die at the same time. For example, many mammal bones are found on the surface -- yet so are dinosaur and other `` ancient `` bones from animals that supposedly lived millions of years beforehand. Of course evolutionists will come back and claim `` erosion `` with no evidence of such, not to mention how rock can be removed from bone after millions of years of being cemented to it. I\\'ve got a 900-page book called `` Hidden Archeology `` ( Cremo ) that dives into hundreds of fossils and artifacts that are in the `` wrong `` strata. Your assertion is blatantly false.\"', '\"So it\\'s not about what\\'s scientifically correct\"', '\"OH! And I just finished breakfast... Can anyone say, `` Fly By! ``\"', '\"Max has outed himself as a hillbilly who can not spell or incorporate correct punctuation.\"', '\"HA!\"', '\"Creationsists may call it a museum, but in reality in it a mythology theme park.\"', '\"Oh.. that makes sense. Because, it sounds exactly like modern day republicans.\"', '\"Because that\\'s when the law says that they have the \\'right to live.\\'Rights are legal terms that are fabricated by humans. They are not constant, but rather change whenever we wish to change them.\"', '\"Well, the 40Ar/39Ar method was used to say that it was 65 mya.\"', '\"See above with regards to changing science.\"', '\"If you feed me a lot of caffinated coffee i start to wiggle and squirm too. I\\'m not really in any pain.\"', '\"You lie. You keep saying the same things over and over again, that doesn\\'t make them true.\"', '\"That is the lowest number on the whole chart! Murder and -- nonnegligent manslaughter rate\"', '\"If you can\\'t eliminate demand you could try to limit supply and control access to that supply.\"', '\"Well, exactly. The point is that where culture has moved on, so has religion : the Catholic Church is notable now for not burning people.\"', '\"Oh sinj.don\\'t let it get you down, it don\\'t mean nothing\"', '\"Well you better hurry up. Aren\\'t you like 113 years old or something?\"', '\"Criminals get guns from strawman purchases.\"', '\"EVEN NOW WITH REPRODUCTION cheetahs and birds and so on will eventually die out. Does that mean they arenÃ\\x82 â\\x80\\x99 t living organisms?\"', '\"If I argue that all babies should be killed, and you don\\'t think all babies should be killed, does that mean that all babies aren\\'t really babies?\"', '\"And finally, my own letter to the editor, which was printed in this week\\'s Sunday paper ( 08/28/2005 ).\"', '\"Well, that was a bait-and-switch but it wasn\\'t very masterful.\"', '\"Me, too. I \\'d probably throw in some counseling as well, just for starters.\"', '\"But you are forgetting life-without-parole ( and I do mean WITHOUT parole ). With life without parole, there is also no recidivism.\"', '\"I think if that happened, Texas probably will go back to being the lone star state.\"', '\"Yes, and it reduces a much needed population growth too.\"', '\"Well this doesn\\'t answer my question though. With this bill, where is the money coming from? Are we cutting doctors jobs?\"', '\"Defense of Marriage Act - Wikipedia, the free encyclopedia This very discussion could very well lead to the recognition that the federal DOMA itself is unconstitutional.\"', '\"I think his point is paulie, that if evolution is actually as evo defines it, as changes made by way of random mutations, then why doesn\\'t life reflect those random mutations?\"', '\"I think the OP said it pretty well. If an organism or cell can process information and then make decisions based on that information, that\\'s intelligence.\"', '\"Just imagine for a second that you were armed when two individuals showed up with shotguns.\"', '\"No. That\\'s not what I said. I said that natural selection is differential reproductive success.\"', '\"If a square is opposite to a circle ( and it isn\\'t, by the way ), then gas/liquid/solid must be opposites therefore you contain opposites ( by your own argument ), in that you contain elements that are in these \\'opposite\\'states. It\\'s an argument I raised before, you said they weren\\'t opposites, now you cite non-opposites! Why do you keep refuting previous arguments they YOU have made?\"', '\"\"', '\"Such as?\"', '\"The major problem is that Sodini and others IDed as CCW holders are in fact not permit holders.\"', '\"That should be, `` duh ``. I knew what you meant. A bit of humor is ok. But I guess you don\\'t have anything to say about the implications of this study.\"', '\"This is my understanding as well.\"', '\"not bad for a procedure that doesn\\'t exist.\"', '\"You just say this because you want to murder helpless wromb-trapped human beings.\"', '\"And then you ask :\"', '\"Yes you did, your very own god that fits what you wish to believe.\"', '\"Fetal Homocide? Toddler Homicide? A human in different stages of development\"', '\"And I didn\\'t have to choose to be homosexual. It is a natural inclination.\"', '\"Actually Archie it was neither left nor right. he went after both democrat and republican and took a center tone to the entire issue at hand.\"', '\"It appears that peddler is finally open to learning new things!\"', '\"An amount of violence miniscule in comparison to the violence caused by Christians intolerant of other religion\"', '\"Oh sorry, I didn\\'t understand what you were asking.\"', '\"Just making sure that everybody is aware of his evasion, misrepresentation, and dishonesty.\"', '\"This one is particularly eggregious.\"', '\"yeah, i misread it. still.... the point is the same.\"', '\"Well, both are b -- -- y nuisances and one is a bit shorter and hairier than the other.\"', '\"So please, feel free to leave this thread to those who DO wish to discuss the issue.\"', '\"So the real victim here is that society won\\'t be as you WANT it to be\"', '\"The fact that they were too heavy, is simply untrue, see previous post.\"', '\"Sounds pretty neat. I\\'ve never been there but I \\'ll keep it in mind for a road trip some time. So you are of the belief that dinosaurs and man lived at the same time?\"', '\"What you must realize is that is the case for evolution as well, we don\\'t have enough evidence to know\"', '\"Look at Hawaiian Honeycreepers. Willful ignorance is a way of life.\"', '\"Misnamed? Explain please. I may have missed something.\"', '\"I don\\'t remember ever hearing a pro-lifer say that pregnancy was a wonderful snuggly thing or the best thing in the world.\"', '\"Run away little man. Run away...\"', '\"And you determined that I am an atheist exactly how?\"', '\"Just can\\'t satisify `` them thar\\'Moralizers. `` I remember the election of 1960, and how many were worried about JFK taking his `` orders from Rome. `` Maybe that is why we are a land of laws, not of men.\"', '\"HereÃ\\x82 â\\x80\\x99 s the thingÃ\\x82â\\x80¦ this is my thought processÃ\\x82â\\x80¦ and probably the thought process of a lot of other agnostics and atheists.\"', '\"I\\'m posting this here with the hopes that others will add their input in reference to our debate in the Challengers Corner. How long can a self described \\'intellectually honest\\'person such as yourself ( Iangb ) maintain denial and dismiss without ( aparent ) consideration source after source that proves against your claims? I claim that \\'biologically speaking, a human individual\\'s life begins at conception.\\'I have provided ( among others ) a source from no less than Planned Parenthood which supports my claim. And you not only dismiss the definitions but question Planned Parenthood\\'s accuracy / conclusions. Frankly, I would like some input from our readers to see if any of them want me to continue belaboring this point.\"', '\"Are you a little bit retarded or something?\"', '\"Well I don\\'t know about you guys, but I was baptized so I\\'m out of that eternal damnation thing.\"', '\"Write me an essay on Obamanomics.\"', '\"Who wants healthcare run by large corporations that have rigged the market for cost twice as large as in other developed countries?\"', '\"He made a post suggesting you were a troll, it has been removed it seems.\"', '\"It is horribly oppressive of women, though, to oppose both abortion and contraceptives.\"', '\"You mean like allowing for, and funding, comprehensive sex education, birth control, and parenthood planning?\"', '\"As I understand, Scalia and Thomas are some of the most conservative members of the court.\"', '\"So your god is like a used car salesman?\"', '\"haha so we are all nuts then huh\"', '\"Not at all.\"', '\"Where do you get that impression from?\"', '\"I do think you corrected someone\\'s spelling and if you didn\\'t it was another creationist.\"', '\"I won\\'t say `` preseservative, `` whatever the hell that is.\"', '\"Here is a paper dealing with the formation of long chains of amino acids using a simulated volcanic vent.\"', '\"I think this is where the pro-life and pro-choice people really get things messed up\"', '\"Well you think wrong. The Second Amendment is individual, it\\'s tied to all lawful uses of firearms, and the game is over. You lost.\"', '\"While I\\'m not going to consider Dr. Tiller a pillar of society, I\\'m certainly not going to condone his murder.\"', '\"The fact you always ignore is your not just doing it to your body\"', '\"You\\'ve got ta love when ignorance lends itself to incredible mistakes like the above statement.\"', '\"I have an idea!\"', '\"That\\'s refreshing. And I am being serious.\"', '\"first up excuse me if what I say makes no sense as I have never tried to really formulate my thoughts on this\"', '\"So you\\'re saying that God is a `` respector ``? -of-persons - iow, the mom\\'s `` more `` -important to * God *? than the unborn.\"', '\"You seem to feel that scientists care about `` creation `` more than they do.\"', '\"He is not taken seriously because he gathers information only with his Morton\\'s demon in full control.\"', '\"I think you need to look up euthanasia, and not only for the correct grammar.\"', '\"If a scientist doesn\\'t believe his test results are accurate, and expects me to place my life savings on his project would that not be pretty stupid.\"', '\"I don\\'t favor abortion but I favor a woman\\'s right to choose abortion.\"', '\"Actually, in regards to possession by felons, they are not petty weapons chargesÃ\\x82â\\x80\\x94at least in Virginia.\"', '\"good question.\"', '\"Well you haven\\'t proven that you don\\'t support the idea of a dictatorship.\"', '\"OS is so consumed with vitriolic hatred of me he is incapable of realizing that I did not start this thread.\"', '\"I don\\'t understand your question. If law-abiding gun owners were overwhelming those who should not have access to guns\"', '\"Refine the system to include birthdates?\"', '\"Upon the case, and how far in she is. I will never believe in it, however my views upon what would happen AFTER she gave birth to the baby.\"', '\"I believe Jesus is a role model for the human race.\"', '\"Actually Kelvin wants people to be able to bring guns onto planes.\"', '\"Ahah! The exception that proves the rule!\"', '\"It\\'s wonderful that we as humans can do to help others through procedures like this.\"', '\"So Gup20 wants to play word games.\"', '\"No argument there. I wasn\\'t asked if I wanted my federal tax dollars to go towards same sex benefits in violation of DOMA.\"', '\"HOW we transitioned is by mutation and natural selection.\"', '\"Kelvin\\'s already proposed that the armed population of America has given serious protection to the US, specifically he mentioned Japan deciding not to invade.\"', '\"Well, thank you for this thread Santafeur. I must say though that I peruse various threads just to read stuff. The C vs. E topic does not strike a nerve with me. In fact, I also wonder what it is about the human mind that makes people so desperate to want to know how we came about. What difference does it make? We are here now. Could we possibly just accept that we got here somehow, and just move on?\"', '\"And lets not neglect the fact that he was tetotal and a vegetarian to boot.\"', '\"Actually your posts are providing increasing evidence for just how simple folks can get.\"', '\"Yes it does.\"', '\"City council vote only, not sure about public sentiment, but from what I gather, most people don\\'t care because they don\\'t own guns.\"', '\"Actually, no, that is not what I said.\"', '\"False and irrelevant. How about you correct your position and support your claim with justification rather than just rambling on with rhetoric about what I do and do not understand?\"', '\"But that doesn\\'t make Creationism correct either.\"', '\"But we certainly have the right to evict such persons. But then, regardless, the embryo is not a person.\"', '\"Well since we seem to be having a problem with obesity, maybe this supports the theory.\"', '\"So then will you go the way on liberty ( repeal stoopid laws ) or tyranny ( enact more unconstitutional laws )?\"', '\"Actually, that honour is reserved for the usual representations of those who advocate young earth creationism.\"', '\"Well, I guess you got something there......can\\'t put the cart before the hose!!\"', '\"Actually you could look at this issue in several different ways.Lets start with welfare.Lets say the mother of a newborn who is responsible to finacially and physically take care of her child gets on state aid and agrees to not take child support from the father if he chooses to * opt out * Okay thats fine and dandy but if you think the goverment is going to support HIS child bucause he chooses not to, well HAHAHA YOU HAD BETTER THINK AGAIN! Anyways things will NOT be equal until a man can actually carry and give birth to a child.Comparring the right to choose abortion and the right to choose not to pay support are completely two different issue that are not comparable.A women has to risk her possible life long health to either choose pregnancy/birth OR abortion a man does NOT risk either in his choice to support or not.This issue doesn\\'t even touch on abortion for rape/incest or health reasons of the mother and or fetus. seems to me a deadbeat dad is using the pro-choice position to get out of paying support when HIS body isn\\'t even in the issue.\"', '\"Then why do you keep hyperventilating about the so called `` terrorist loophole ``?\"', '\"It\\'s not just cars and catalytic converters have greatly decreased emissions.\"', '\"Oh OK, I get it! ItÃ\\x82 â\\x80\\x99 s not being gay that is a sin ; itÃ\\x82 â\\x80\\x99 s the gay sex that is a sin.\"', '\"And he has still yet to provide one. If more gun-control means more lives saved then more gun-control means more self preservation.\"', '\"Possibly because it\\'s a bit like nearing the top of a mountain and seeing a still taller one looming ahead. It doesn\\'t undo your accomplishment, but there is that \\'yeah, figures\\'moment.\"', '\"Here is a video of the interview. ABC News\"', '\"Indeed true. God created man in his own likeness and man returned the favor.\"', '\"Yep it is easy. Lizards didn\\'t evolve an avian lung.\"', '\"Very many have : dolphins and whales, for example, and some cave-dwelling birds.\"', '\"Source? Children were regularly employed in the UK well into the 19th Century, and laws restricting child labour were passed as early as 1802.\"', '\"Well, it is probably a different taste from what you are used to.\"', '\"I\\'m not convinced that the fund people didn\\'t turn their heads in China, but I am otherwise in agreement with the editorial.\"', '\"You think wrong.\"', '\"And it still took an entire month for that whole division of well armed nazi soldiers to defeat a group of holdout jewish citizens, who were poorly armed compared to the nazis.\"', '\"So what?? Who cares what the number of assumptions are?\"', '\"I can\\'t prove that you have an interest to be alive right now.\"', '\"But, it is a new TYPE of butterfly. It would be more like if a bonobo and a human had a child.\"', '\"Oh, right. And what would yours be? \\'\\' We the humble people of the human species have decided to break away from Britan rule and form our own bubble community.\"', '\"Yes, I use `` design `` in a teleological sense.\"', '\"And Eisenhower :\"', '\"Oh, I get itÃ\\x82â\\x80¦ Flashlights and I-Pods have souls and consciousness.\"', '\"Did you read the TOPIC? Evidently not!\"', '\"After a Devastating Birth Injury, Hope By DENISE GRADY DODOMA, Tanzania & # 8212 ; Lying side by side on a narrow bed, talking and giggling and poking each other with skinny elbows, they looked like any pair of teenage girls trading jokes and secrets.\"', '\"Since the last statement isn\\'t true, I can\\'t see how it equates to arrogance.\"', '\"Oh, and keep your lie - I mean, explanation - consistent with your entire post!\"', '\"So you know how foolish you are and hope that name calling will distract from that being recognized by everyone. Erectus skulls were smaller because the brain was smaller.\"', '\"Yep. Darwin\\'s discovery was that natural selection was the reason that evolution wasn\\'t random.\"', '\"Yes, kind of reminds me of Abraham Lincoln\\'s thought : `` Better to remain silent and be thought a fool than to speak out and remove all doubt. ``\"', '\"The Jesus myth came out of Hellenistic Judaism already heavily imbued with the ideas of the suffering servant ( Isaiah 53 ) and the son of God subject to a shameful death ( Wisdom of Solomon Ã\\x82 â\\x80\\x9c Let us condemn him with a shameful deathÃ\\x82 â\\x80\\x9d ). Paul refers to the Ã\\x82 â\\x80\\x9c archonsÃ\\x82 â\\x80\\x9d, the evil heavenly rulers of the age, as those who crucified Jesus ( 1 Cor 2:8 ) and extols the justice of the Romans ( Ro. 13:1-3 ). The earliest layers of Q material do not refer to a death or resurrection ( Kloppenborg ). No earthly Jesus, no crucifixion, no death. It is all myth, man.\"', '\"You apparently know as much about law as you do about science.\"', '\"Oh for dumb. It\\'s almost more ludicrous than anything else. What they are trying to sell can never be guaranteed. Stupid stupid people.\"', '\"So who cares? Last time I checked there was no law against guns with a high cycling rate.\"', '\"i think slave holder\\'s asked a similar question to people who believed slavery was wrong. \\'\\' what are they worth anyways?? why do they deserve to be treated like us? `` hmm\"', '\"I don\\'t have any belief in this area. I don\\'t know how life started and accept that I probably never will know. It might have started through a God `` magicking `` the first cell into existence, it may have started through purely random natural processes or anywhere in between the two. One only has belief and faith in this regard when one claims to know how life started. \\'\\' I don\\'t know `` is not belief.\"', '\"Clearly you have never lived on the streets, and clearly you have never done any kind of study into the social ramifications of being homeless and/or living in constant poverty.\"', '\"I would also like to see women choose and want to have their babies instead of terminating their pregnancies\"', '\"I don\\'t get you here.\"', '\"Good, it isn\\'t a federal responsibility.\"', '\"First, take a visit to Mount Olympus. Secondly, Greek myths were written for entertainment. Lastly, if Zeus or any other mythological gods existed, why wouldn\\'t they/it preserve their worshippers?\"', '\"Yes, have you?\"', '\"Ok, now show your evidence. If you have any, that is.\"', '\"If that\\'s truly what the organization says, then it\\'s a hypocrite of an organization.\"', '\"Mother Says D.C. Police Shot, Injured Boy Holding Toy Gun|ABC 7 News L.A. Police Shoot Boy Carrying Toy Handgun Boy with toy gun fatally shot by West Memphis police\"', '\"Actually, the Mormon seminaries aren\\'t `` on the grounds, `` although they may be on an adjacent, privately owned piece of property.\"', '\"I know what you mean, my Girlfriend says I always put on a goofy grin every time I get my photo take or if I don\\'t do that I seem to close my eyes just as the picture is taken.\"', '\"Obviously not about abortion.\"', '\"In case you were wondering, no one here has missed the fact that you\\'re trying to divert attention from the real issues by beating one minor issue into the ground.\"', '\"Do you have to work at becoming so scientifically illiterate?\"', '\"There are none. Men are automatically assumed guilty whenever the wife or girlfriend is involved.\"', '\"I believe that microevolution can not be reasonably disputed.\"', '\"Buffalos are\\'nt extinct. They are even raised in farms for Buffalo burgers.\"', '\"Materialistic evolution claims nothing that is outside the realm of the material ``.\"', '\"Among the icons ( idols ) of modern mysticism there is one that reigns supreme. It is the myth of evolution.\"', '\"And it explains observations about morphology and physiology, about successions of flora and fauna. It explains coloration. It even explains why pandemic diseases arise and why they fade. It explains why an apparently harmful allele for a particular gene can increase in a population. In short, the theory of evolution explains biology.\"', '\"without reproduction and natural selection, an organism wouldn\\'t be able to adapt well enough anyway to remain immortal.\"', '\"No, thats not right.\"', '\"\"', '\"You sure about that? I think you will find that that view is oversimplyfied and not in accordance with the history of the subject.\"', '\"Actually, evolution, as used by biologists, is not the study of origins of life.\"', '\"You are missing the fact that the theory of evolution is the explanation for the observations.\"', '\"I\\'m glad to see you\\'ve finally come around.\"', '\"That\\'s true, but how much have we actually learned, and how much have we theorized, with an atheist presupposition, the only presupposition currently allowed?\"', '\"Oh, we don\\'t have to - sorry, I wasn\\'t clear enough there. What I\\'m trying to do is correct your misapprehensions concerning common descent.\"', '\"Actually, his definition of evolution is exactly correct.\"', '\"Really. Please cite where Darwin discussed `` Macro Evolution. `` What paper or book, and what chapter? What did he say about it that is hilarious.\"', '\"Actually it wouldn\\'t. Since there is no rational, believable evidence for creationism, it wouldn\\'t be any more believable if evolution were disproved.\"', '\"oh ye of little faith..... i pity you\"', '\"you mistake one hominid for another and cite the words of a known fraud on the piltdown man instead of the other hominid.\"', '\"Actually, you are misreprenting the scienctific answer in the following manner\"', '\"I think that you should check with cosmologists, astrophysicists, astronomers and the like to see why most scientists accept the findings of those sciences, even evolutionists.\"', '\"Well, this is a strawman.. I am not really sure what you are trying to prove except maybe you think it sounds impressive?? The line \\'they assumed that the tonsils and the apendix were rements of previous specious\\'is a total nonsense sentance, and renders the entire paragraph worthless.\"', '\"Really? Why for heavens sake would they do such a thing?\"', '\"That was the whole point of asking the questions, to prove evolution isn\\'t an absolute truth.\"', '\"Because there are people who are trying to deny the theory of evolution it\\'s place as a vital part of public school\\'s biology curriculum.\"', '\"No, they don\\'t. Creationists do. \\'\\' Why haven\\'t all animals turned into humans? ``\"', '\"The big bang, life from non-life, the progression of life from the simple to the complex, just to name a few. None of these can be proved ( even on the balance of probabilities ) to be true by operations science. All of these contradict scientific observations of the present. As a result, you must take them by purely blind faith.\"', '\"\"', '\"They are not. Read carefully. Try to look at the big picture rather than limit your thinking to such a narrow concept.\"', '\"All of them since I don\\'t know what quotes you are referring to at all.\"', '\"So you think that only the sentence structure needs to be examined and not the meaning of the words?\"', '\"No, it doesn\\'t. It is an example of how one part of the theory of evolution works to effect changes in a population.\"', '\"Can you show me the stats for this, are we dealing with 2003/4 numbers compared to before the ban, or the year after?\"', '\"So will they be in front of or behind a leaf?\"', '\"Stop moving the goal posts. My point was that the Supreme Court has been wrong before so assuming that the Supreme Court is always correct about an issue is unjustified.\"', '\"There are some very rare cases where abortion is legitimately allowable by society. However, most abortions do not fall under this catagory.\"', '\"We can not prove the existence of God for, by definition, he dwells in a reality outside our own.\"', '\"A divinely appointed prophet from the womb : Jeremiah 1:5 & # 8211 ; & # 8216 ; Before I formed you in the womb I knew you, before you were born I set you apart ; I appointed you as a prophet to the nations. & # 8221 ; Psalm 139:13 & # 8211 ; & # 8216 ; For you created my inmost being ; you knit me together in my mother & # 8217 ; s womb. & # 8217 ; Of course, the question here is : What divine insight does the pro-abortion crowd think they have to where they can destroy in a mother & # 8217 ; s womb that which God is somehow instrumental in creating? ( righterreport.com ) Stop the infanticide of abortion.\"', '\"One of these aspects of existence which we arbitarily believe in is cause and effect.\"', '\"I think that is the most interesting part. This wasn\\'t just a lucky find. This demonstrate the power of theory, that it is predictive.\"', '\"Natural Selection ( plus genetic variation ).\"', '\"So your point is that there are a lot of stupid people out there?\"', '\"Following the original purpose of this thread, I will summarize my own views on abortion.\"', '\"Well before there was a law someone came up with a difference, I didn\\'t ask if they end result was the same, I asked if there was a difference in the two. Maybe a moral difference or something.\"', '\"And they should. It seems that they are not too bright.\"', '\"The theory of evolution is based on evidence, the existence of god, is not..\"', '\"It is? If a child grew up never hearing the words religion, gods, spirits, etc. would this child still have faith of some sort?\"', '\"Indeed! At least you recognize the nature of your own statement.\"', '\"Yes. It\\'s not logical to simply cite, `` the Bible tells me so, the Bible was written by God, `` and consider that an argument.\"', '\"false impression by stating that a Christian Pastor believes that bigotry blocked Gay Marriage. ``\"', '\"Because that\\'s the simple truth.\"', '\"You know what is far worse than not executing murderers?\"', '\"\"', '\"And I have left them feedback to see what happens.\"', '\"Well I do agree that some people are going too far in treating sex like a dirty secret\"', '\"But, aren\\'t you glad they nurtured you and sis?\"', '\"The lutheran ceremony is pretty cool just change a few words to gender nutral.\"', '\"So now Wiesmann\\'s barrier is the most important thing to the ToE?\"', '\"And as ruled by the Supreme Court, that right includes personal defense and the ownership of modern weaponry.\"', '\"would that be legaly owned guns, or criminals who have guns ( and also ues guns ) for there crimes?\"', '\"BUt felons do not have full first amendment rights, there are a lot of rights that convicted felons forfeit, and this guy knows it.\"', '\"Except for possible exception of a couple evangelistic atheists, the design argument is from the creationist side.\"', '\"No. Differential reproductive success.\"', '\"I wish you guys would quit trying to `` muddy the waters `` by introducing facts that contradict my claims, innuendo, cliches and WAG.\"', '\"Actually no, when laws are made based on one specific concept of one paticular faith system, if FORCES all CITIZENS to live by that faith.\"', '\"So, he\\'s immune to new information that contradicts his beliefs.\"', '\"ThatÃ\\x82 â\\x80\\x99 s pure animal behavior. ThatÃ\\x82 â\\x80\\x99 s no more logical than saying since I saw a car on the street and moved out of the way that evolution is wrong.\"', '\"What are you talking about? A dog can\\'t have a cat. That\\'s retarded.\"', '\"probably because this is an abortion forum and not a forum about the Iraq War.. not only that, there is no parallel.\"', '\"And thus, pro-choicer are more mathematical and scientifical. We are more logical than the pro-lifers, and just don\\'t blindly make assumptions about human life, because of its consequences.\"', '\"The the price of freedom = vigilance.\"', '\"So there you have an example of a deterministic system acting to suprise you with unpredictable behavior.\"', '\"But `` laws `` are just observations that may be part of theories.\"', '\"Spacetime has been expanding since the Big Bang.... but what does that have to do with biological evolution?\"', '\"See above regarding the nature of proof. What other plausible explanation is there?\"', '\"And an even funnier thing is it won\\'t affect his wallet at all.\"', '\"I forgive you.\"', '\"I fail to see where I broke any of those rules, no names were called, there was no labeling, there was no none of it.\"', '\"And the government can find a way to heavily TAX that alternative without a public outcry.\"', '\"And they are wrong.\"', '\"Way back when I was an undergraduate my professor of evolutionary biology told us about a careless zoo keeper that put polar bears and brown bears in the same pen during a remodeling. The result was a litter of hybrid offspring. It seems that polar bears and brown bears are perfectly interfertile. Not only that, it has been shown that the offspring are also interfertile with either species. DNA analysis has been able to distinguish brown bears from polar bears except in the case of the brown bears of the ABC islands. They are indistinguishable from polar bears. And yet, even if a brown bear where white or a polar bear were brown, they are so obviously different in morphology that they would be classified as separate species. The differences go far beyond color.\"', '\"So, the Supreme Court rested its decision not on the 9th Amendment as the District Court had done, but chose instead to base it on the 14th Amendment.\"', '\"OH FREE MARKET???? IM goin to take the embryos and fetuses slain in abortion centers and turn it into a new food source and sell it at the grocery store!!!!!!!!!!!!!!!!\"', '\"On the one hand, science articles written for the general public are generally useless and often outright wrong.\"', '\"Well, many argue that pro gay rights is a conservative.\"', '\"Sorry, but that\\'s not in the Establishment Clause of the First Amendment. Try again.\"', '\"We all know that the French Army was capable of dropping their rifles just as fast as the Italians in WWII.\"', '\"So true, and just like the mormon church.\"', '\"Oh no, it\\'s not too complex for us to understand.\"', '\"Which, we suppose, in your mind releases the sperm donor of any responsibility whatsoever, right?\"', '\"Why on earth would a woman come out now, admit to an abortion she had 30 years ago, when it was illegal, and become the focus of unscrupulous media attention for the next year?\"', '\"I dunno, we have 365 days to find out... there won\\'t be a 66 I know that\"', '\"Why so many claims in opposition?\"', '\"So ban guns? That is like curing the headache by cutting off the head.\"', '\"That\\'s not the leftist agenda.\"', '\"http : //www.365gay.com/Newscon06/01/010606njPartner.htm\"', '\"No, it isn\\'t.\"', '\"Actually, gay marriages will probably be recognized everywhere in the US within a decade or so. They may not be performed everywhere, but they will be recognized.\"', '\"Well, certainly I don\\'t expect to change the minds of millions of Americans, and that is not my goal. My goal is to convince readers of my writing that Americans SHOULD agree with same-sex marriage because it is morally correct to do so.\"', '\"Yes there is honor in marriage but we are talking about a piece of paper that defines who is considered your family in the eyes of the law.\"', '\"let\\'s have an up or down vote on your marriage rights too\"', '\"Homosexuals are attracted to adults of the same sex. Pedophiles are attracted exclusively to children.\"', '\"Because it\\'s all quite clear. Decades of effort from the religious right, conservative republicans, and their like have made gay rights a poisoned topic.\"', '\"So are we to understand you had a healthy sexual relationship with a man?\"', '\"And many KKK members are fond of puppies. That doesn\\'t make their politics any less abhorant.\"', '\"So you are saying that genesis is a scientific fact.\"', '\"The entire Bible is `` man made ``. When you start believing that parts of the Bible are infallible, where does it end?\"', '\"Well try Arkansas ( 75/25 ), Georgia ( 76/24 ), Kentucky ( 75/25 ), Michigan ( 59/41 ), Mississippi ( 86/14 ), Montana ( 67/33 ), North Dakota ( 73/27 ), Ohio ( 62/38 ), Oklahoma ( 76/24 ), Oregon ( 57/43 ), and Utah ( 66/34 ). All of these margins were well above the percentage of votes cast for Bush and Kerry, respectively. Ohio, for instance, went to Bush by 2 %, but the ban was passed by 24 %. Bush lost Oregon by 4 %, but the ban passed by 14 %. Bush lost Michigan by 3 %, but the ban passed by 18 %. The margin of victory for each of these states exceeds George Bush\\'s margin of victory in that state. Those extra votes had to come from somewhere, and it seems like many people other than the `` religious right `` feel the same way.\"', '\"Not very persuasive, for an argument even in \\'41.\"', '\"Actually it is events like these that led the two most exhaustive studies ever done gun control to conclude this. 51 of the best gun control studies the WORLD had to offer\"', '\"I dont believe I need a clue, so I will let you have it instead Brady.\"', '\"Sorry, I shouldn\\'t have jumped to that conclusion Sometimes this forum gets the best of me... sorry again.\"', '\"Actually the question is `` is DNA close enough to conventional codes to justify the term `` code `` being applied.\"', '\"None. Embryos aren\\'t babies.\"', '\"wonderful. Go read our decleration of independence.\"', '\"your goal is not to reduce abortions?\"', '\"And, if he is perfect, and perfection can not arise spontaneously, did he create himself with his own thoughts?\"', '\"Well nothing, other than the fact that I don\\'t believe it to be true!\"', '\"Well, that aughta shut you up, eh Hank? LOL! Way to disprove the virgin birth, IMRAHIL. Of course neither the virgin birth story or the creation story are true.\"', '\"Do you have any evidence for that? And still, I don\\'t know what you mean by kind.\"', '\"So how would you explain fossils, pro-con?\"', '\"Yes, God does take away sinful desires.\"', '\"Your right, this is not complete free will.\"', '\"Given my last paragraph it should be clear why I don\\'t agree with this.\"', '\"I\\'m always interested in arguments where \\'image\\'assumes physical likeness.\"', '\"You\\'ve avoided the question. God does not fill the word `` who `` because to most accounts he is not a person, or being. But for your sake I will restate the question. Who is God? Describe God to me. What is that you believe in?\"', '\"Satan was invented to explain why there is evil in the world\"', '\"To be able to do `` anything ``, including things outside the knowable, is unintelligble.\"', '\"How has God become microscopic?\"', '\"Maybe He doesn\\'t punish them.\"', '\"Beg pardon. I guess that after a re-read that did sound pretty pompous.\"', '\"Not quite. To be more correct regarding government and guns, the right to own weapons is for the right to revolt and revolt with violence.\"', '\"So, evidently, you believe the `` government\\'s job `` is to hound, pester, and harrass its citizens?\"', '\"Actually it is.\"', '\"So those who will allow more gun control, shouldn\\'t you first have to justify the need, then prove that what you want and propose, will work as advertised before we allow you to burden our Inalienable Right as protected by the various Constitutions?\"', '\"That doesn\\'t prove the government shouldn\\'t be armed.\"', '\"I don\\'t think I said they \\'d be paid badly.\"', '\"How about getting the government out of marriage entirely?\"', '\"So somebody try and tell us, that with stuff like this going on, that America still needs to overhaul its gun laws to bring them more in line with those of Mexico.\"', '\"But that\\'s not even how `` creation science ``, or any religiously motivated science works.\"', '\"Again, it\\'s not the point. There are many who don\\'t deny evolution, they believe it was guided.\"', '\"I find this a fairly accurate summation of the goal of HitlerÃ\\x82 â\\x80\\x99 s Ã\\x82 â\\x80\\x9c final solution.Ã\\x82 â\\x80\\x9d Of course, Brady, you offer no evidence of how widespread individual firearm ownership became in the 5 years before Hitler Ã\\x82 â\\x80\\x9c rose to powerÃ\\x82 â\\x80\\x9d when it became legal to possess firearms again. One would think that your argument would have at least considered this factorÃ\\x82â\\x80\\x94but I wonÃ\\x82 â\\x80\\x99 t fault you because all you have done is borrowed an un-sourced argument. Brady, this is just more cut and paste, this time largely from the website guninformation.org.\"', '\"And just how are the criminals and terroists to be kept from entering a school while armed?\"', '\"Because all guns are lethal in nature, all of them are capable of being used to kill someone if used improperly.\"', '\"But gun control doesn\\'t mean more lives saved so therefore, your entire statement is wrong.\"', '\"Because murder\\'s already illegal and there\\'s nothing more that can be done about it.\"', '\"I am very sorry to hear that.\"', '\"And if you\\'ve ever read any of the speeches by PP\\'s founder, you \\'d also know that every child should be a WHITE CHILD, too.\"', '\"Maybe you could mention some of these plenty people.\"', '\"And what do you specifically mean by your use here of `` homophobic? `` It\\'s one of those words that carries an enormous range of degree. To some degree, probably most of society is homophobic, so I\\'m not sure your statement really means much.\"', '\"We got ta GET them law-abiders for having the audacity to believe the Constitution\\'s Bill of Rights!\"', '\"Please explain to me how radiometric dating is based on the presupposition that there is no God.\"', '\"According to who? Though it may not have been practiced to its fullness, it in no way follows that all men are not created equal.\"', '\"He may not hate it, but he sure does some strange things WRT it.\"', '\"I\\'m not surprised that no one on your side of the debate would correct you, but wolves and dogs are both members of the same species.\"', '\"If you have a problem with the answers, then don\\'t bother to ask.\"', '\"And you haven\\'t proven that you don\\'t support the idea of obligatory lobotomies for all redheads.\"', '\"Well, viability now is around 23-25 weeks gestation and really is based on weight more than age.\"', '\"You just provided good evidence that schools use an atheist presupposition - that atheism is entrenched in public schools.\"', '\"So producing a child is the defining characteristic of a marriage?\"', '\"Now this is a totally inaccurate generalization.\"', '\"And you think that killing your baby doesn\\'t cause any emotional and/or physical pain?\"', '\"Who was Isaak? Where did he say this, when did he say this?\"', '\"This whole riff where people talk about preventing employers from firing gays JUST cause they are gay as a `` special right `` is something that seems to fool those who are prejudiced against gays...... but for most people, they recognize it as a propagandic phrasing with little merit. I think our laws should include something that prevents people from firing employees based on the employee\\'s sexual orientation. But to utilize your phrasing Archie, do you think that religion is something that deserves `` special rights ``?\"', '\"I believe it is YOU who is being `` incredibly dense `` in your insistance of `` traditional marriage ``.\"', '\"you didn\\'t read the part where he distanced himself from atheism?\"', '\"And if God was so against killing the unborn, why did he fail to make an exception for the pregnant women?\"', '\"Yes that would solve the problem wouldn\\'t it, worked the first time around\"', '\"There is a massive amount of evidence that points to things being designed via evolution rather than a concious designer\"', '\"WHAT? I don\\'t see anything regarding that. Seriously, what are you talking about?\"', '\"That\\'s appalling! In the US, if you don\\'t want to go to prison or get shot, don\\'t go around breaking into people\\'s houses.\"', '\"Do you mean someone who was wrong?\"', '\"Would you care to explain exactly what was lacking?\"', '\"So we kill the baby instead? Interesting idea. How about instead we reform the fostor and adoption care system.\"', '\"And the ability to digest nylon is not a new function??\"', '\"Oh shut up! You\\'re just sore because your side lost in the McDonald case and now you\\'re left with absolutely nothing.\"', '\"So your point is that gun owners are terrorists?\"', '\"Just by being something man made, this can not be a right.\"', '\"President Obama!? What did I win!?\"', '\"Heaven does forbid it!\"', '\"And I didn\\'t. Did you note how I explicitly put [ Jesus said ] for the first two quotes from the Bible, but not for the third one?\"', '\"Well since Bush took office the mantra has bee `` Local Control `` has it not.\"', '\"Should all drivers have to help pay for harm done by irresponsible drivers?\"', '\"So you\\'re saying that it\\'s better to just let the criminals stay armed and the good people should remain unarmed?\"', '\"you know what.. you are right, any unwanted person should be killed.\"', '\"You seem to think one example is the norm.\"', '\"So again, this points to the fact that the appeals system is effective at preventing `` innocent `` people from being executed?\"', '\"And justifiably. If you don\\'t see the problem, then you are the problem.\"', '\"These things are being taught in schools every day.\"', '\"Yep that is the problem. You canÃ\\x82 â\\x80\\x99 t tell.\"', '\"My apologies for an unintended slight. However, I must blame my ignorance.\"', '\"Does that mean that you are against the death penalty?\"', '\"youre more concerned about those 22 to 30 thousand gun laws but Im more concerned about the 22 to 30 thousand lives taken by gun violence each year and when youre dead guess what? then BANG! you dont have anymore rights protected by the bill of rights because youre dead so if youre really pro american and pro bill of rights then you should worry more about getting good gun control laws passed to protect peoples lives so they can enjoy their rights without having to worry about being shot and losing all their rights maybe youve just been decieved and dont understand what youre supporting\"', '\"Working on it. Apparently we are still waiting for to to be graded\"', '\"Not sure how you can tell that since very little is mentioned about his methods.\"', '\"And yet that is not the case.\"', '\"Just think, without Christianity and its preservation of science during the Dark Ages, we lost out on the opportunity to reinvent the wheel.\"', '\"considering how ambiguous and contradictory the Christian scriptures are, I guess this interpetation makes as much sense as any of the others.\"', '\"I know many people at my high school alone raised with 2 fathers or 2 mothers.\"', '\"Let me for a moment frame my blasphemous take on Christianity, the trinity, etc.\"', '\"Because there is no reason to do so.\"', '\"It did not because it was not clear till the 1970s that horizontal gene transfer was something to be considered.\"', '\"If everytime I say something you ( you in the general sense ) bring out `` that is oppressive to women `` then please don\\'t bother posting.\"', '\"Because bibliolaty doesn\\'t equal Christianity.\"', '\"I mean nature itself.\"', '\"Thankyou for bringing to my attention that atoms, neutrons and protons are merely scientific assumptions.\"', '\"Is there anyone who doesn\\'t think species come from earlier species?\"', '\"You said who would it hurt? I\\'m asking you who would it hurt if there was prostituion?\"', '\"I got ta admit, I got a real chuckle out of this one.\"', '\"Because specific species of horses only exist at certain periods in the geological record.\"', '\"I believe there are a few fish that rely on electro magnetic fields to detect what is around them.\"', '\"Proof please.\"', '\"The dead ones can\\'t, and things like Cystic Fibrosis or Severe Combined Immunodeficiency are going to kill you easily before you reach sexual maturity without medical care.\"', '\"He is concerned that you are taking things to far, Simone.\"', '\"Really no more amazing how science can cure some diseases\"', '\"The purpose of this thread is to introduce ourselves and have a Q & amp ; A about the basis for each others views etc. If you want to debate the specific differences we may have in our views, either open a new thread and invite me over, challenge me, whatever... But I\\'m not going to debate it here. I think this thread is a great idea. People should introduce themselves, lay out their views however they see fit and let others do the same.\"', '\"What I find hard to believe is that politicos will place their decision above the health of a woman ; only for political expediency.\"', '\"I canÃ\\x82 â\\x80\\x99 t think of another subject on this planet that has the interchangeability that evolution does.\"', '\"So, you don\\'t see how stating that in a functioning democratic society guns belong only in the hands of the state is not anti gun??\"', '\"Well, again, the best resource I could think of is wikipedia, just do a few searches there ( I suggest starting with `` Human evolution `` ) and I\\'m sure most of your questions will be answered. Bear in mind though that even this will only give you a basic overview. If you really want to go in depth, take a college course on evolution. Another good site would be TalkOrigins Archive : Exploring the Creation/Evolution Controversy\"', '\"Would you rather be armed or unarmed?\"', '\"I think it would be more valid to say `` Whenever a decision does not go our way, the first reaction should not be turn AGAINST the courts\"', '\"Thou shalt not commit adultery. I\\'m to lazy to look for anyone dealing with premaritial sex. Adultery and premaritial sex are sin, because God says not to participate in them.\"', '\"Yes, that\\'s true, the legislature very well could.\"', '\"But you need proof to back up a explantion.\"', '\"By your own admission you havenÃ\\x82 â\\x80\\x99 t \\'hung out\\'with stoners for a while and you\\'re making generalisations about them to people who do spend a lot of time with stoners?\"', '\"There goes said intelligence...\"', '\"But because your book of mythology tells you about a week of creation, you prefer that ( because it requires less thought ) to examining reality.\"', '\"You\\'re quoting another RELIGIOUS article, pretending to speak on the issue of science.\"', '\"Yes, I\\'ve met enough `` British `` creationists to know.\"', '\"Wonderful News. Nice to see that at least some of the states here in the US have some common sense and are at least heading towards equality for gay couples.\"', '\"You know that what you call `` immoralism `` is my life.\"', '\"And yet no other portion of lotts work has been refuted. His methodology has been scrutinized and found to be legitimate. YET, you are willing to completely disregard his work because of an unrelated comment?\"', '\"So, if one person says that `` Neo-darwinism `` is dead, and many people say that it is quite well supported by the evidence and show said evidence, we are supposed to believe the one?\"', '\"It isn\\'t sickening. Somewhat irresponsible, maybe, but not sickening.\"', '\"Then why would you want abortions to be rare if you don\\'t consider abortion to be a bad thing?\"', '\"Oh I quite agree.\"', '\"If I search long enough, I can probably find someone who doesn\\'t think 2+2=4. Does that invalidate it as being correct?\"', '\"If you can get past the fact that Noah is 600 years old, I guess it\\'s not much of a leap to think that `` fountains of the deep `` equals a valid description of hydrothermal vents.\"', '\"Oh, there\\'s no hypocrisy involved, just you being your usual self and not even looking at the actual information\"', '\"Are you denying that the African Eve model was not born on a computer??\"', '\"Pain is the best teaching tool.\"', '\"What makes heteros think they have that right?\"', '\"Good, you can address the claims made here, too.\"', '\"So false accusations are now your lie-du-jour?\"', '\"So if this entity is not born, does that mean it\\'s not a person?\"', '\"So far, you\\'ve been nothing but wrong.\"', '\"Very well put.\"', '\"Oh, so business owners don\\'t make `` real `` contributions to society?\"', '\"So basically, you\\'re saying you know they have a legal criteria for what constitutes civil rights\"', '\"Cops do it routinely.\"', '\"No, I wasn\\'t looking for religious morality, I was looking for general morality, so your argument was the kind I wanted to debate.\"', '\"It enshrines marriage as a hetero institution 2 It bans civil unions and all relationships between same sex people.\"', '\"What the father wants is ultimately irrelevent. It\\'s the woman\\'s body that carries the fetus.\"', '\"Actually, it\\'s because I fail to understand you point.\"', '\"Sex offenders who rape and kill children are required to be photographed and fingerprinted.\"', '\"You donÃ\\x82 â\\x80\\x99 t want me to trash the constitution, yet the constitution allows terrorists to take guns onto planes and really makes it easy for them.\"', '\"well, whatever works I suppose.\"', '\"Just so you know, the majority of Japanese cars sold in the US are also assembled in the US and thus provide Americans with thousands of jobs at these plants.\"', '\"Its better then being dead\"', '\"Good news for the Second Amendment : Wicker Amendment Passes Overwhelmingly\"', '\"Funny, didn\\'t hear them complaining about the Iraqis dying in the street.\"', '\"Congrats, may your marriage continue to be a happy one.\"', '\"Oh what a corageous maverick you are.\"', '\"Well, all Arch could do was attack Evolution.\"', '\"You need to do a little reading. What you are describing is not what is generally referred to as `` partial birth abortion ``\"', '\"In which case you are thinking on a different tack to myself ; I\\'m considering life in its entirety within time where reproduction is an essential characteristic.\"', '\"That\\'s certainly your right, but supersport is interested in hawking a religious agenda, not a scientific one.\"', '\"you assume that science and the scientific method equates to, is synonymous with, materialism/mechanism.\"', '\"Again that is a poor analogy. Congress does not have any powers NOT included in the Constitution. Quite the opposite, it specifically says that any powers NOT included in the Constitution is defaulted to the states and Congress is additionally prohibited from taking any more authority NOT named in the Constitution. Since there is no specific naming article saying Congress does not have the power to ban manufacturing weapons, in fact it DOES NOT. According to the 10th Amendment : The powers not delegated to the United States by the Constitution, nor prohibited by it to the states, are reserved to the states respectively, or to the people. Thus you have another poor analogy. Congress DOES NOT have the right to ban manufacture of guns.\"', '\"What has this got to do with praying for everyone, and what has praying for everyone got to do with the Creation -v- Evolution debates?\"', '\"think of it as a photocopy of a check for a million dollars. yes the copy is in the image and likeness of the original check, but it is not the check. you can not cash the photocopy, regardless of how accurate the copy is, it is not the check, only an image of it. that doesn\\'t mean anything is `` wrong `` with the original, and it doesnt mean that the copy has to have all the properties and function of the original. its just an image\"', '\"Kids can get teased for all sorts of reasons. Mother is too ugly. Mother is too hot. Father is a sanitation worker. Father is one of the teachers. Even family is too rich can be a source of teasing... I think a better solution would be to target the bullying / teasing itself, for all situations...\"', '\"Oh brother, here we go again.\"', '\"My thoughts exactly. Know your audience as they say........ Waxy\"', '\"Good for you!!! Now stand aside for those who think otherwise. We in the pro-choice camp salute and respect the choices you make ; now we demand equal respect from you for the choice we make.\"', '\"Oh that greatly changes the equation doesn\\'t it? Very unrealistic, but for the sakes of the debate, why not? Well, alledgedly, 23 innocent people have been put to death, and for sure two unrefutable cases. I don\\'t support killing people as a deterrent or as any means in a justice system.\"', '\"Sorry to hear you lost an hour\\'s worth of work... I hate it when that happens! ) I may not have made this clear, but here are the facts : 1 ) A unique human entity comes into existence at the point of conception/fertilization. It is pointless to argue this fact, because the evidence to suggest that this is true is insurmountable. The zygote/blastocyst/embryo/fetus/neonate/baby/child ( whichever label you choose ) is a member of the species homo sapiens sapiens. Period. 2 ) Just because something is human does not necessarily make it a \\'human being\\'or a \\'person.\\'These are not scientific terms. It is impossible to \\'prove\\'that a pre-birth human entity is a \\'human being\\'under all possible interpretations of a \\'human being.\\'The argument could be made, for example, that a \\'being\\'must have some sort of self-awareness. It would be quite difficult to find evidence that suggests that a developing human blastocyst has any self-awareness. So, to answer your question, regardless of what anyone believes, a post-conception entity formed from a human sperm and a human ovum is a unique human entity from that point on. My question to you : What do you consider to be the reason the pre-birth baby is a \\'human being\\'that deserves \\'personhood\\'according to the law?\"', '\"Sure, let\\'s start with the easy stuff : 1. We have a fossil record showing how life evolved\"', '\"Personally, I believe that god doesn\\'t exist, and I have a link, too!\"', '\"\"', '\"Well, sure there are, and to say that laws based on the Bible don\\'t exist is to deny reality.\"', '\"Ha! Show us your Anti-Theism!!! Bring it on!\"', '\"I know that I\\'m hardly unique in rejecting the pious life that my teachers held up as the ideal :\"', '\"Events prior to the Big Bang are unknowable, so why worry about them?\"', '\"Not as fanatically so then.\"', '\"What a defeatist attitude you have.\"', '\"Will an anti-gunner please explain me, what my contribution to the crime was last night?\"', '\"No, persecution of anyone preaching hate against anyone.\"', '\"No, they are the same.\"', '\"Your problem being that when you assert the assumption that your philosophy, [ materialism, etc. ], mirrors reality, my reasoning repeatedly shoots it full of holes, and, quite understandably, that # # # # # # you off.\"', '\"I think the three points I raised are relevant for the simple reason that Thomson\\'s argument is an appeal to moral intuition.\"', '\"Because of your question `` What is your definition of pure ``, I now know how to make soap.\"', '\"But it isn\\'t an assertion of absolute truth.\"', '\"Well, whatever. Behe and his buddies misuse probability in their arguments, which fall flat as a result.\"', '\"I think often abortion is wrong but I do not agree with criminalizing it.\"', '\"Well, man might someday gain the capability of fully synthasizing a molecule as complex as DNA from scratch.\"', '\"Ok : 1. Desert Eagle Pistol ( Israel Military Industries LTD ( IMI ).40 `` S & amp ; W UMC 40 S & amp ; W 180Gr. alternated every other one in the clip with Federal Hydrashoks.\"', '\"The comic relief doesn\\'t even recognize it has passed in on, or attempted to!\"', '\"Huh? With a 26 `` barrel the.50 is good out to 2100 yards.\"', '\"Not at all, I\\'m simply forcing those making the argument to address the undeniable facts.\"', '\"Just because a man pays support doesn\\'t mean he is part of the childs life\"', '\"oh really? so u wud choose 2 have... say... a close friend or relative who has a disease that wud probably be cured by stem cell research\"', '\"And your point was demonstrated to be specious using your own source.\"', '\"Because self-government loses its meaning totally if the people are prohibited from amending their constitution by persons other than themselves.\"', '\"And a lot of blacks were killed through hangings. Are you against rope vendors?\"', '\"Really would please prove this statement. I don\\'t recall the christian religion and the bible being mentioned in the constitution.\"', '\"Why? You \\'ll just call them\\'stupid \\'. And by doing so you will have effectively trumped all of the facts in one fell swoop. Right?\"', '\"Surely this question be easy enough to answer. Any rational thinking thiest want to give my question a shot?\"', '\"It has a financial impact on ALL taxpayers. To say that it has no impact on anyone else is disengenuous.\"', '\"If you truly believe this then I think you need to re-read your posts and put yourself in the shoes of those on the receiving end.\"', '\"what specific posts are you referring to when you talk about people pasting things from Handgun Control Inc?\"', '\"That\\'s simple. In contradicts their religious beliefs.\"', '\"But the military is pretty much all a volunteer thing. It\\'s not a hiring process -- employer/employee thing. That arrangement lends itself more to the soldier not volunteering for service in the first place.\"', '\"I think it\\'s selfish that you want a woman to not terminate a fetus that possibly could develop into a baby becaue you think that every woman is capable of looking after it.\"', '\"It is the same as you saying `` you can\\'t know anything of the unknowable ``\"', '\"Richard Dawkins examines Rev. William Paley\\'s ( the originator of Intelligent Design? ) theory in `` The Blind Watchmaker `` and takes it apart with ruthless logic.\"', '\"I\\'m not buying it.\"', '\"Either you know or you don\\'t. You can\\'t have it both ways. And if it is the fire ants, then why didn\\'t you post a source for your assertion.\"', '\"WouldnÃ\\x82 â\\x80\\x99 t it be wonderful if every woman in the world had access to decent prenatal care, if every woman in the world could be guanateed safe childbirth, wouldnÃ\\x82 â\\x80\\x99 t it be wonderful?\"', '\"Now read it again and don\\'t make a conclusion before you finish this time.\"', '\"They have changed.\"', '\"This isn\\'t discrimination because the adult once did have have the right to live in a womb until it could live otherwise.\"', '\"I think the Obama administration has been working with Republicans, and much too much.\"', '\"Actually, you said :\"', '\"Just because we interpret the available evidence differently, for you to assume from that, that we believers know nothing about the universe we inhabit is arrogance to the max.\"', '\"the theory of evolution is NOT a religion, it involves no magical deities, it takes nothing on faith.\"', '\"At least your husband and yourself survived the adventure.\"', '\"I think you are entirely correct.\"', '\"No, but some intelligence should be exercised when going to a court of law.\"', '\"Oh really, what specific rulings by the 1st, 3rd, and 10th circuit courts are you referring to?\"', '\"Because.....\"', '\"Gun owners had to take a school district to court to stop the anti gun/gun control advocates from preaching the anti gun side of the gun issue.\"', '\"Yes, that is logical\"', '\"Interesting. Where might one find this movie? Waxy\"', '\"But, but, but, how would you ever be able to prove your point that armed citizenry can not protect themselves?\"', '\"You\\'re not one of those people who doesn\\'t consider Catholics christians are you?\"', '\"I do too. However, it\\'s difficult to follow your argument.\"', '\"You mean like how you suck any rationale thought or discourse from a debate topic? Talk about ABORTING.\"', '\"What if it is by reason of genetic instability that the baby miscarries?\"', '\"A modern court requires signed affidavits or sworn testimony. These five hundred people remain unnamed and carry on with their lives as if it never happened. How would a modern court view the hearsay of 500 witnesses and no resultant effect of the allegation?\"', '\"Probably not.\"', '\"He didn\\'t refuse because the filmmakers specifically avoided having him a part of it.\"', '\"That\\'s rich from someone who doesn\\'t understand erosion.\"', '\"I do believe that natural selection was accepted before Darwin.\"', '\"From the link :\"', '\"Actually what sank that debate was a bunch of paleontologists from K state who started arguing for punctuated equilibrium.\"', '\"Yeah, but then they \\'d have to admit that the reason it was done to a `` heterosexual family `` is because that family was black, interracial, Jewish, or some other object of prejudice.\"', '\"Why not? Why shouldn\\'t they be given at least closer to equal weight?\"', '\"As Arthur Jones described in the copy/paste in my first post, there are benefits. You have not addressed what it said.\"', '\"No. Creatures don\\'t evolve. Populations evolve. If a portion of a paticular species gets isolated and evoves into a new species, what makes you think that the parent species has to die?\"', '\"So you actually know enough, you can see the beginning and end of time, you know what is inside each and every individual on the planet so much so that you can say God is wrong to do any given act?\"', '\"Really.\\'surgeons\\'shouldn\\'t go starving less, or should they.\"', '\"Murder violates the rights of the murdered by relieving them of their life.\"', '\"That is true but that is the procedure......... Do you deny it?\"', '\"you\\'re on the right track ; the problem with evolution is that it has no verifiable creator\"', '\"I don\\'t think you could say that it would destroy society.\"', '\"And no, it is not at all clear that this is not about abortion\"', '\"Well, I thought I did. Perhaps you didn\\'t understand.\"', '\"Could you be more specific?\"', '\"PENNSYLVANIA CONSTITUTION Section 21. Right to Bear Arms The right of the citizens to bear arms in defense of themselves and the State shall not be questioned. I don\\'t see the word `` qualified `` in there.\"', '\"The source/infinite determines the conversions/destruction or evolutions. Energy\"', '\"Can you explain to me what that is?\"', '\"This is where intuitive, ready agreement with the opening paragraph starts to get the reader into trouble.\"', '\"I believe that the theory you speak of is called slavery\"', '\"You have any examples of that? Shooting people for throwing rocks and eggs at houses that is.\"', '\"How are we to know that there has not been a few hundred, there are none in my neighborhood, how aboput yours???\"', '\"Actually, you make it clear that it is fair.\"', '\"Ice is stilll ice at -30 or -40. I agree with your point that the earth will not flood, however, your justification is bogus.\"', '\"GREED but what you fail to admit is that that standard of living comes at a price for someone.\"', '\"Yes, but what I meant about the legislature passing it is that the legislature could fund it.\"', '\"So you solely have a problem with the theory of evolution, but anything in science that doesn\\'t involve this theory seems sound to you.\"', '\"So, Gilligan, by the above criteria is a tapeworm considered part of an infested woman?\"', '\"i\\'m impressed! this is a very precise description, in regular english and yes, the deduction in 9 seems presumptious if all we state is God has a `` possibility of existence ``.\"', '\"But they do. There are lots of schools that teach creation right where it should be taught.\"', '\"Seeing as my information comes from active Canadian Forces members, both gay and straight, I \\'d say that I \\'d know about it.\"', '\"No proof anyone ever went from gay orientation to straight orientation.\"', '\"And once you build one straw man, you tend to substantially build even bigger ones.\"', '\"What is the fun in that?\"', '\"these verses prove nothing, and they certainly do not suggest creationism.\"', '\"Collateral damage. Just from what I\\'ve read and heard in the news, I know he\\'s guilty.\"', '\"If you think something is correct then you believe this. That\\'s all believe means. I believe the above statement is very true.\"', '\"Supply is already controlled.\"', '\"You really have a strange definition of faith.\"', '\"And without a gun you\\'re defenseless, why can\\'t you seem to understand that?\"', '\"So it would be more loving to severely beat the child... forever?\"', '\"the Vatican taking a proper moral stand is so rare and note worthy.\"', '\"I guess we just have different approaches then.\"', '\"Well yes.\"', '\"Because no new information is added to the genome? Well, it\\'s wrong, but interesting. It didn\\'t change whether I thought you were nuts.\"', '\"It was a pretty clear rebuttle of the idea that the ToE breeds social elitism, Marxism, and Nazisim.\"', '\"I\\'m not selfish, whether you or your buddy JP like to think so or not - I just look at actual reality rather than a fantasy world.\"', '\"So God gets to do these terrible things, but He gets a free pass because He\\'s God?\"', '\"So it\\'s alright for a Evo to insult you and go off on a tangent, and expect to get answer.\"', '\"Demolishing your `` rebuttal `` in post # 14 does, however. You missed it.\"', '\"I think about it enough to understand it. Clearly, you don\\'t. You don\\'t understand a damn thing.\"', '\"many many people have been killed in Africa because of the policies of the countries in the EU, South America, Asia, and so on.... this hypocrisy annoys me.\"', '\"How do your supported policies do anything to prevent criminals from getting guns and killing innocent people?\"', '\"This from a Sumo Spainiard barricaded in a basement?\"', '\"Actually, penguins are birds. Therefore, they don\\'t have fur, but feathers.\"', '\"No I\\'m not Kronus. I haven\\'t made excuses for him or denied what he did.\"', '\"Compared to what? The U.S.? That would be laughable if it wasn\\'t so serious, it is plain ridiculous.\"', '\"Why are you dishonest enough to claim that you aren\\'t trying to get YEC into the schools.\"', '\"In the past 85 years, dating has drastically improved.\"', '\"So which came first? The liquor or the egg?\"', '\"Mmmmm, not necessarily.\"', '\"In this case in NYC, the law did exactly what it and most gun laws do best... PROTECT CRIMINALS.\"', '\"And at last :\"', '\"Will win what? Against whom? I wasn\\'t aware there was some kind of contest...\"', '\"So you see, Brady, you\\'re wrong again.\"', '\"In the theory of evolution, it all started with life.\"', '\"Oh well. Life goes on.\"', '\"You mean Intelligent Design, and straight forward logical, rational, common sense arguments that require reason to move to the next step, instead of ideological consensus\"', '\"Well, since a working definition of `` insanity `` would be denying observable reality, I would say that your argument is insanity.\"', '\"Of course, anyone who disagrees with your knee jerk reaction to any issue must be a racist, be it me or the US Court of Appeals.\"', '\"Well, there\\'s a little more to it since the courts ruled that abortions have to be carried out in the first trimester when the fetus is much less developed than one that could survive outside the womb\"', '\"But I want to be fair to our government, and help America with this personal decision, on weather or not to become criminals.\"', '\"It may not be what I think ( after all, so-called `` intelligent `` designs really aren\\'t very intelligent ), but it\\'s exactly what I think it is : total garbage based upon religion shrouded in wannabe science.\"', '\"You know, this little phrase, `` minutes before birth, `` keeps popping up in reference to abortion.\"', '\"I need to pick you up on this as IC has never been identified.\"', '\"If I\\'m so pathetic why don\\'t you start debating my on my OP here.\"', '\"Can you be a bit more specific?\"', '\"Far too simplistic to be called accurate, there is some truth in this.\"', '\"Murder is ALWAYS illegal.\"', '\"so thats quite contradictory to me\"', '\"You\\'re the expert on that feeling\"', '\"Not with you Mr. Muddy Waters.\"', '\"So, you were there!! No where else was acceptable or just didn\\'t think you could get away with it anywhere else?\"', '\"But surely it\\'s ok to vote for a man who starts an unjustified war that results in the deaths of hundreds of thousands... right?\"', '\"The egyptians predicted his birth, death, WWI, WWII, and they have predict the supposed end of the world. Are you saying that this religion was wrong?\"', '\"Right. I \\'ll go with the observational data every time. I don\\'t think that mythology has much bearing on reality.\"', '\"So you have trouble with the American system of justice, do you?\"', '\"Not everyone reacts to repeated accusations of global scientific conspiracy, incompetence and corruption the same way. You ought to at least consider the possibility that you\\'re merely being offensive\"', '\"Anybody who thinks guns have a phallic aspect is obsessed with sex and needs serious mental help.\"', '\"No, there isn\\'t a consensus among Christians, at least not beyond the fact that God was responsible in one way or another for the universe existing. There is no consensus about method.\"', '\"Yes. Only the ignorant think not.\"', '\"Different sort of penetration, so no.\"', '\"It doesn\\'t matter whether it is religous or not.\"', '\"A direct reply to a post on this thread. YouÃ\\x82 â\\x80\\x99 d better have your morning coffee.\"', '\"But does anyone actually need a marriage to do this? No. Are there any laws stating one must be married before giving birth? No.\"', '\"I seem to take a different approach to this objection than most people.\"', '\"we\\'ve been very successful at interpreting the data.\"', '\"If information came into being by chance, how can we know that anything is true?\"', '\"Not all who are `` left `` hate God.\"', '\"Really? It must not be too hard to defraud a general election.\"', '\"Well it\\'s more efficient than the bill we just passed... I think we agree that much.\"', '\"Why?......\"', '\"So you are saying that we determine our DNA? Do you actually think before typing?\"', '\"Oh they are? Thats strange... I could not find where exactly they stand on any of thier numerous websites, just more restrictions... And the old HCI was not `` moderate ``\"', '\"You want to consider a ZEF a \\'person\\'- fine, let\\'s apply this so-called \\'logic\\'across the board.\"', '\"All of these examples are scientifically recognized as human life with a unique genetic code.\"', '\"Doesn\\'t matter? If you\\'re still on your straw man, whatever, if you are referring to an individual pharmacists not servicing based ON religion\"', '\"Actually, you are living off my organs and life processes.\"', '\"Yes it does but I have a feeling that it will take the bulldozer of the SCOTUS to make the 11 dominoes of the old confederacy +Utah fall down.\"', '\"How is symbiotic relations beteween plants and insects sign of creation?\"', '\"This bill is a long way from passing. Doesn\\'t seem to have great support beyond the `` plenty `` people you mentioned.\"', '\"This debate is on whether ID SHOULD be in the science curriculum as a valid alternative to evolution.\"', '\"You do realise that by your definition, identical twins are the same \\'life \\'?\"', '\"Right. And that is the reason for peer review. Creationists don\\'t subject their ramblings to peer review.\"', '\"I believe studies have already been done on that subject.\"', '\"Again, name one that is presented in high school. In fact, name several since you seem to think that there are several.\"', '\"If you can have both however\"', '\"you can not study the laws of logic.\"', '\"As I explained above, it is not reasonable to expect quality of life to take a backseat to the sanctity of life.\"', '\"There is no need for prey animals to grow a third or forth eye as a defense mechanism.\"', '\"See exhibit one, Matt.\"', '\"The Second Amendment protects an individual right to possess a firearm unconnected with service in a militia, and to use that arm for traditionally lawful purposes, such as self-defense within the home.\"', '\"The above came from the same link. Some still perfer the Mature Creation idea, but I am convinced as time goes on and IF the idea put forward in `` Starlight and Time `` is still a valid concept that they too might come and be a little more explorativein this new Relativistic Cosmology.\"', '\"I would like to point out that Pandion clarified that you seem to oppose science.\"', '\"business gets taxed for buying things and capital gains goes up to 45 % means that they sell a small retail location and make a modest profit that almost 1/2 gets wiped out with Obama\\'s redistribution of wealth means WHY bother expanding - we make enough money - screw those who have no jobs - IT IS NOT WORTH IT TO CARE since the government doesn\\'t care about ME keeping money to help them\"', '\"Not surprised. Violence breeds violence.\"', '\"Really? Show me that by quoting where the article says it.\"', '\"He stated that `` statistics show that firearms cause aggression in individuals ``, no mention of the word can anywhere in there that I saw.\"', '\"Oh God no. If there is anything more boring than twits talking, its twits\"', '\"But wouldn\\'t the biochemical similarities speak for themselves?\"', '\"Isn\\'t agreeing with what?\"', '\"That was the past. I\\'m speaking of now.\"', '\"So the start of personhood for a particular person is a variable, based on that individualÃ\\x82 â\\x80\\x99 s memory.\"', '\"Kerry is pro-choice. He is in favour of allowing abortions to continue.\"', '\"And your point is...?\"', '\"Actually, it has. The last time I checked, well still have gay marriages in Massachusetts. As a matter of fact, it seems that it is difficult for most politicians to be elcted in the state without being supportive of marriage equality.\"', '\"So you think that, if murders were legal, there would still be the same number?\"', '\"Just because you say it doesnÃ\\x82 â\\x80\\x99 t mean it is true either.\"', '\"Oh come on, we know they will never do that, they\\'re masters of WMD. \\'\\' Weapons of Mass Distraction ``\"', '\"Not just mine. I\\'m in good company. Let\\'s remember that most of the `` theories `` you reject were formulated by people steeped in the same Judeo-Christian traditions as you and I.\"', '\"I see you still don\\'t understand what a strawman is.\"', '\"Actually, as long as any group is not breaking laws, their ownership of guns is legal.\"', '\"Science is not all knowledge, it does not have the answer for everything that is the religion of scientism that believes that.\"', '\"If transitional species is a large issue to overcome, I will post my rather lengthy explanation of the lack of transitional species, but perhaps it should suffice to say that we have found some evidence of transitional species, and even if we had not, the lack of transitional species provides no evidence of creationism.\"', '\"I\\'m not sure what your point is. You mistake rodensia for piltdown. You cite Woodward, a known fraud. None of this is represented in the theory.\"', '\"he wouldn\\'t have been arrested if he was law abiding.\"', '\"Well, you frame the question as a quote from me\"', '\"Oh yeah right, like sociopaths who are bent on killing and slaughtering everyone around them, can be fixed with something as stupid as school counseling.\"', '\"Of course, when wabbit says `` dishonesty, `` he means `` oversimplification `` ; the NMSR webpage is clearly designed for the layperson, not the geneticist.\"', '\"I suppose the fact that Indian law only applies to its people.\"', '\"Exact, to the point, & amp ; beautiful.\"', '\"This past Saturday, my partner and I had a commitment ceremony or wedding if you say care to say..... In my state it is not legally bindingm we did it anyway\"', '\"Oh so then Brady got it all wrong according to the VPC.\"', '\"I believe in that which is. Because to believe in anything else is ultimately pointless.\"', '\"Fine by me. First, I don\\'t consider having a marriage recognized by government to be a `` right ``.\"', '\"And yet, for most pro-choice folk on these forums, this question really is meaningless.\"', '\"So would these liberal firearms owners fail an ethics exam?\"', '\"we let you work and we let you vote, even though you let us down\"', '\"That would be your outright lie that I advocate murder of anybody.\"', '\"Never had to think of it as my followers are universally incapable of independant thought to begin with.\"', '\"And we are preventing this how?\"', '\"Sigh... for the ill informed who understand nothing about their religion.\"', '\"So religion must be systematically abandoned and eradicated, not completely, just enough to be out of the public and political realm, leaving atheism as king.\"', '\"Yes. I would.\"', '\"I think hip hop and the arts are reflections of society.\"', '\"But common descent is your word Peeling.\"', '\"and\"', '\"Cute. And I can come up with about 5,000 to 7,000 examples that do have a bright orange muzzle.\"', '\"We can make machines that can interpret information that our unaided eye can\\'t. They don\\'t have to dismantle anything.\"', '\"Well, that statement would be half right\"', '\"I believe in what I have no evidence to support. That is faith. I do not believe in evolution.\"', '\"But is the Red Cross Christian? Obviously most contributors are Christian. That\\'s obvious as most Americans are Christian.\"', '\"The problem you are left with lyteboy, is that I didn\\'t try to do that at all.\"', '\"Homo Sapien hasn\\'t existed for millions of years. It would be more appropriate to say that the Earth has provided the basis for life for hundreds of millions of years.\"', '\"Just because they undergo training and testing doesn\\'t mean that they\\'re any better of a choice than regular people.\"', '\"But what are you aborting? You can\\'t abort something that hasn\\'t started yet.\"', '\"That\\'s good. You\\'re right, all we can do is hope and pray\"', '\"Because they are predisposed to addiction.\"', '\"Yet another anti-Christian post by a gay activist.\"', '\"So, when a comedian leaves the stage and say\\'s I killed tonight, then obviously killing people en-masse is just fine, right?\"', '\"Which wouldn\\'t make a darn bit of difference - apart from the tiny matter of women dying and suffering permanent harm, but don\\'t let that bother you. you \\'ll also have to amend the constitution to remove any references to bodily autonomy. get ready to donate your kidney!\"', '\"just how i said it... opinion... like, what you think of it\"', '\"Some theists are willing to ignore such discussions. It has nothing to do with whether God exists.\"', '\"Like, how many shooting in Germany? Like, what\\'s the ratio of shootings to population in the two nations of Germany and the U.S?\"', '\"And immaterial formulas will not explain material reality.\"', '\"Not at all true. They secrete mucous, they do not melt.\"', '\"We all know of course that the partial birth abortion procedure is never medically necessary to save the life of the mother.\"', '\"I agree\"', '\"But it is useful...\"', '\"And what do you consider yourself when it comes to gun rights?\"', '\"First of all, let\\'s compare the `` B `` specimen in this fossil link to the modern specimen and point out any significant difference to me.\"', '\"Then you don\\'t actually have a definition of information that is meaningful.\"', '\"I think they have more of a chance becasue, while many manage to delude themselves into believing that an unborn child is not a baby\"', '\"its killing a baby... now.. before 8 weeks, its not in the form of a human being.. at 4 weeks, its a fish.. at 5.. its a rodent.. but after 8.. its in the shape of a human... there is no way around that fact.\"', '\"How would you know about who winds up dead more? You don\\'t prove anything either.\"', '\"Well said Jitobear. I couldn\\'t agree more.\"', '\"Right. But in this case, there are two different populations\"', '\"In what country?\"', '\"But they are not fetuses, alas, so who gives a damn?\"', '\"Most of them happening in the inner cities of Illinois, New York and California - states where the restricted access of firearms is supposedly designed to keep acts like these from happening.\"', '\"Actually its one of the oldest gun laws on the books.\"', '\"Just amazing.\"', '\"Most people are not pro-abortion, they are pro-choice. No one here is going around demanding that women must have abortions.\"', '\"He\\'s pointing out that the situation is about the mother and the baby, and that the baby\\'s right to life ends exactly where the woman\\'s right to personal autonomy begins.\"', '\"Sinjin this appears to be a typically Liberal response to a man who is clearly in trouble.\"', '\"Nearly all the food humans eat today, even in the Western world is GM including maize, tomatoes, and soy, etc, etc. used as ingredients in products such some soymilk.\"', '\"I think there are two separate questions here. ( 1 ) When does personhood begin? ( 2 ) Who gets to make such arbitrary, moral decisions on behalf of a pregnant woman?\"', '\"Really? Let me see. Two creation myths and a global flood myth where 5 million `` kinds `` of animal were crammed into a big box that magically floats for a year - yeah, that\\'s secular history.\"', '\"Correct. The National Guard is nothing more than an \\'extension\\'of the Federal Army ( and Air Force ).\"', '\"If you havenÃ\\x82 â\\x80\\x99 t noticed we also have private education and private healthcare.\"', '\"Scientists pick holes in Darwin moth theoryÃ\\x82 â\\x80\\x9d by Robert Matthews in the Sunday Telegraph ( March, 1999 ) I\\'m not sure what you mean by the other side of the debate, though. ID? EAM? YEC?\"', '\"Actually, natural selection is one of the mechanisms of evolution.\"', '\"Nor was the peppered moth example ever meant to `` prove `` evolution.\"', '\"Of course not. No evolutionary biologist ever claimed that it was.\"', '\"Because most people are Christian.\"', '\"But even worse, even if there were some unknown mechanism to cause such movement, it would generate heat.\"', '\"It is so the womans decision.\"', '\"I am not really going to convince anyone in anything\"', '\"Because there are people who are trying to deny the theory of evolution it\\'s place as a vital part of public school\\'s biology curriculum.\"', '\"I believe Alan Keyes already have used that term on us.\"', '\"And then you can go pat yourself on the back and pretend it\\'s all better.\"', '\"Care to point out which facts she misrepresented?\"', '\"You didn\\'t answer the question jimmy-boy. Should the woman be forced ( because that is what you are advocating ) to bear a pregnancy that resulted from a rape?\"', '\"Yes the facts speak for themselves, they just don\\'t sing the song you think they do.\"', '\"Yes jitobear, pro-lifers value babies only in the sense that they punish evil women for their promiscous ways!\"', '\"Wouldn\\'t it have been better to educate yourself in the science you seem to oppose before you asked the questions?\"', '\"And you offer none for your\\'s.\"', '\"Not much of anything else either, it would seem.\"', '\"The problem with happenstance origins is that there is no evidence, and it\\'s simply not possible to falsify it.\"', '\"Wrong. http : //www.4forums.com/political/365915-post54.html Tell me, when God commands the Israelites to exterminate the Medianites, did he make an exception for pregnant women?\"', '\"Your XXX-umption that is a poor attempt to certify a false delimma has long been answered.\"', '\"Well then what the devil are you moaning about then?\"', '\"Which is precisely why the law must needs be silent when it comes to women choosing whether or not to continue their pregnancies.\"', '\"Or could it be possible that God, as the sovereign and just Creator of the universe, through his divine will, could have orchestrated the world in such a way, that there was not one pregnant person on the earth during this time period?\"', '\"Those quotes have nothing to do with abortion.\"', '\"actually some did talk about the complexity of life as well as irreducible complexity even though it may not be mentioned in the title\"', '\"But nonetheless fascinating!\"', '\"Translation = `` I\\'ve closed my brain off and I\\'ve got not nothing. ``\"', '\"Sure. The outcome of Heller vs DC and Florida Shall - Issue laws support that statement. According to Brady logic, the more helpless you are, the safer you are from criminals.\"', '\"I think you present a good point, but part of the test here is to see how my post is reponded to ; silence from certain people tells us things in inself. So far it seems my initial estimation of the issue is about right- the idelogy being upheld helps some people ignore the effect the punitive policy imposes.\"', '\"I did not say that evolution precludes God\"', '\"Then why are you and other `` antis `` so hung up on preserving it for your exclusive use?\"', '\"Your wrong. Airplanes and courthouses are gun free zones but these places never have massacres.\"', '\"So what you\\'re saying is that by mentioning both in the same post, I\\'m saying that unless someone is a YEC then they aren\\'t a christian?\"', '\"That\\'s NOT the equivalent of ID - you\\'re mixing causes & amp ; effects.\"', '\"So what are the Native Americans ( the actual residents ) - chopped liver? If anything it should be their creation stories of the Sioux, etc. that should be taught over that of Christians ( the invaders and slaughterers of the indigineous people ).\"', '\"Actually it is more than that.\"', '\"Object to the woman being required to remain pregnant when she does not want to be.\"', '\"Well, we can go through a list from Live human sacrifice, infraticide, slavery in the Roman empire, to sexual morality, and the treatment of Wmen - Mother\\'s and their children.\"', '\"And again, but no other animal that can fly has also conquered breathing under water as we have, or has learned to travel on land faster than the fastest mammal can run.\"', '\"Only approximate and really depends upon what day you start counting, before or after menses.\"', '\"But religion is not a topic for science classes.\"', '\"So you define religion as the following : 1 ) Testable 2 ) Based on Experiments 3 ) Based on empirical evidence 4 ) Open to change based on experiments and new evidence 5 ) Validity based on facts, rather then Faith If evolution is a religion, so is Chemistry.\"', '\"Just so we\\'re all clear... Wolverine\\'s mutant power was the ability to regenerate. The claws had nothing to do with his power but because of his power, he could automatically heal after retracting the claws.\"', '\"No, the origin of the universe has nothing to do with the theory of evolution.\"', '\"And who is it @ 1790 that said the right of the people to bear arms ONLY related to active duty militia members?\"', '\"Or that they are dead, say from a genetic disease.\"', '\"This is the best response you\\'ve got!?! What a loser!!\"', '\"But creation isn\\'t a theory and it\\'s definitely not science.\"', '\"Except that your picture is balderdash.\"', '\"You could also be aborting a future Hitler, Castro, Stalin, or Mao?\"', '\"Terrible analogy. Thermodynamics is not like a boulder rolling down a mountain.\"', '\"Won\\'t work. \\'\\' danger to the mother\\'s life `` has to cover allowing an abortion if there is a significant risk of psychological damage which might lead to suicide.\"', '\"Well, when I read the released portion of the transcript, it really looked like Kersey was acting on the understanding that the `` donor `` wanted to help African-American women who wanted to abort but couldn\\'t afford to go to an abortion clinic.\"', '\"You puritans are always getting your knickers in a twist because someone, somewhere, might be having a good time.\"', '\"Well, we should both agree that first off the generally public doesn\\'t exactly know what it thinks a lot of the time.\"', '\"This question is premised on an untenable assumption : that people should not be allowed to vote on particular issues.\"', '\"since the definition of marriage involves `` bringing together to make one `` then that doesn\\'t make sense.\"', '\"You\\'re going to have to do better then that.\"', '\"Butwhat of the fetus/babies that were wanted by daddy but not by mummy what does termination stop then?\"', '\"Bob!!!! You\\'re bad!!!!\"', '\"And you think the British would do that?\"', '\"Why do you claim that I forged this post?\"', '\"Evidence of plague infested ships being used as weapons?\"', '\"Well since you claim they are I simply don\\'t believe you.\"', '\"Because you know the peer review process is biased.\"', '\"I am with you here. It isn\\'t.\"', '\"Pregnancy isn\\'t expensive at all unless you\\'re conned into thinking it has to be.\"', '\"Oh, really, pregnancy is not expensive? Have you gone through a pregnancy?\"', '\"Forgive me for laughing ; no, not really ha, ha, ha ha ha Could it be that people here as well as Canada and the rest of the world has figured out your infantile `` grading system of States `` is a complete sham and your very reason for existing is but an anti-constitutional farce and has lost any claims you have or will make?\"', '\"really? Choice? I never heard a abolitionists saying `` you can choose to have a slave or not\"', '\"Little boy, you need to do a little study on Nazis.\"', '\"Technically, all syllogisms need two premises, first of all.\"', '\"I \\'ll assume this is figurative since they do not literally melt.\"', '\"Because some restrictions that might pass constitutional muster, don\\'t amount to an outright ban. How would impossibility ever be considered constitutional?\"', '\"No baby is more precious than another as far as my personal beliefs go it is no more alright to terminate a baby concieved through rape/incest than it is to terminate a baby classed as a mistake/inconvenience.\"', '\"SO you\\'re saying this debate is irrational?\"', '\"So you ARE a strict constructionist.\"', '\"The `` accomplishments `` you list are done with firearms trace data, which the ATF and law enforcement has access to.\"', '\"How do you explain the change of appearance of the animals over time, as recorded by fossils?\"', '\"Something that would let you become a better hunter or escape from hunters is `` completely useless ``?\"', '\"The legislation was written without their input, they only modified it to get the rest of their own party on board.\"', '\"My point here is that it could be argued very reasonably as to whether or not a fertilized egg, a zygote, an embryo, fetus, etc., is a Someone.\"', '\"The same can be said with a woman\\'s reproductive rights as well. Your right to tell her what to do ends at her body.\"', '\"http : //news.bbc.co.uk/1/hi/world/africa/4487756.stm\"', '\"Showing the RIDICULOUS nature of some gun laws!\"', '\"I know that also. I have said for years now that the study of earth will reveal things as we go.\"', '\"I agree with you completely.\"', '\"I see I jumped the gun. That was well stated.\"', '\"It has been shown in evidence all around the world with something as fragile as a leaf extending through multiple varves.\"', '\"The initiative `` didn\\'t say \\'gay marriage is banned\\'``.\"', '\"I think the only valid reason for owning a gun is because you want to.\"', '\"Part of his personality\"', '\"I think we should argue that it\\'s time to stop making people easy targets.\"', '\"I think you have your image of an assault weapon slightly skewed.\"', '\"But I \\'ll bet that you don\\'t know what any of them are.\"', '\"Yes, but it also has consequences.\"', '\"18-19 year olds anyway. It\\'s still illegal for over the counter under the age of 18.\"', '\"All born children, and every woman had the right to be rid of them.\"', '\"I think if you pay any attention, you \\'ll find only hetero characters in Dr. Seuss.\"', '\"Just when is it absolutely necessary to kill children?\"', '\"Very, very slowly, latterly from something almost like a cell, and before that from something a bit less like a cell, and so forth. The cell is not an irreducible organic \\'atom \\', and did not have to spring into existence in one go.\"', '\"Well, it happens in virtually every thread.\"', '\"That number is for the US. It was available readily in Europe for much longer. As for the number of abortions in the US, they increased when it became legal and since then has been decreasing.\"', '\"Private property rights are the most fundamental of all rights and the basis for any government at all.\"', '\"Actually, I snipped your remarks because 1 ) you twisted what I said and 2 ) I\\'m already spending too much time arguing with random complainers and I was in a hurry to do something more important at the time.\"', '\"I think that if Montalban is anything, he is opportunistic.\"', '\"wouldn\\'t it always be the creationists who win in the end?\"', '\"But the fact is, that son of God Jesus was a lier and that Bible was just a story book but we are all fool to deify them!\"', '\"And the Violence Policy Center is somehow more trustworthy?\"', '\"Yes I do. I wonder if you do. Neandertals aren\\'t claimed to be ancestors of Homo sapiens.\"', '\"\"', '\"Well humans if asked will tell you that they make choices among alternatives and this they may attribute to a capability which one can call free-will.\"', '\"So you disapprove of what these gun owners are doing?\"', '\"Well that\\'s interesting. I hadn\\'t heard of that. Are there any other clues to suggest this dinosaur was a scavenger?\"', '\"Yes, as IÃ\\x82 â\\x80\\x99 ve been debating about for the last four pages.\"', '\"Even if winnie the poo could read he simply doesn\\'t have the brain power to comprehend.\"', '\"Speaking of which, did you happen to see this image that someone kindly forwarded to me?\"', '\"But SS would say that neandertals are humans, right?\"', '\"I believe suicide is murder, no matter how you look at it.\"', '\"Thus, an important point is raised :\"', '\"how many animals do you think were on the Ark? how many species existed at the time?\"', '\"And that remark is relevant because?\"', '\"Nice try. If America was an Ally to Germany during WWII, to this day you wouldn\\'t forgive US Citizens no matter what excuse they have.\"', '\"This must hurt ( him, of course ).\"', '\"SNIP Stuart Taylor Jr. is NOT on your side.\"', '\"And if one accepts that gay citizens have equal rights under that Constitution, then one has to accept that a ban on gay marriage is intrinsically unconstitutional.\"', '\"Well, yes. Eleven years is quite swift, but it actually supports the theory of evolution through natural selection.\"', '\"And it gave them a good springboard with most of the work already done to.\"', '\"Another pretty important point is that, with respect to evolution there is, uh..., no Controversy to Teach.\"', '\"It\\'s not responsibility when you\\'re allowing the school to punish a legal activity that happens well beyond the boundary of the physical school.\"', '\"Roeder wasn\\'t a terrorist.\"', '\"A beneficial effect. Ever hear of testosterone replacement therapy?\"', '\"Yes, I believe there will be a lot more to come\"', '\"If you are talking to me, I did read it -- that\\'s why I posted it. Which makes me wonder what you did to it?!?\"', '\"You know, it\\'s funny that you make this claim, and then you link to a web-site that is titled `` peoplecanchange ``. Would you mind explaining why you linked to that web-site if my argument `` is unrelated to genetics ``?\"', '\"Well, why need Jesus then?\"', '\"So, you post a press release from the brookings institute, one that they could not even get any news agencies to pick up and print, and then accuse me of biased sources?\"', '\"Oh, ye man of little faith! I regard it as highly unlikely to happen, but one never knows...\"', '\"Ah the non human part.\"', '\"actually they probably drifted much faster than that..... probably upon a pole reversal.\"', '\"So you people will know what you\\'re supporting, and hopefully repent of it.\"', '\"That\\'s your answer is it : you believe your god just bodged together life in a convenient fashion rather than doing a proper job?\"', '\"why don\\'t you just take it for what its worth?\"', '\"Whoooeeee!! That is almost certain to cost him ( 4 ) four votes.\"', '\"Why should the woman be forced to care for this child against her will?\"', '\"I \\'ll wait for you to explain to what miracles you are referring before responding to this statement.\"', '\"Of course evolutionists want to remove any possible religious connotation from evolutionary teaching.\"', '\"But the latter is exactly what some ( especially in the U.S. ) propose as science and truth.\"', '\"Well you seem to use your head for something Addison48, unlike some we shall leave unnamed.\"', '\"Why don\\'t you take your own advice? What would it take to change YOUR mind on abortion?\"', '\"But then, the justification for abortion rests on the right to control one\\'s own body, not population control.\"', '\"What you fail to understand is that this is what the First Amendment was designed for!\"', '\"And amongst us\"', '\"I think you just made the point that they\\'re people after a certain degree of development takes place.\"', '\"Well then this doesn\\'t answer my question.\"', '\"And you have just described `` creation science. `` No application of the scientific method. No testing. The conclusions are known before the judicious quoting of scientific authority has even begun.\"', '\"You yourself said you don\\'t even know what the gun laws in California are. Yet you\\'re saying there you believe they have legitimate tests?\"', '\"Yes they did : ``... it ate itself. `` No wonder they\\'re extinct...\"', '\"And you people whine at me about using personal insults ( )... anyhow, once a fetus is eight months, I believe, they are fully developed and ready for a premature birth. I was born prematurely, so don\\'t tell me it doesn\\'t happen. So if you get an abortion at eight months, you\\'re not killing a fetus, you\\'re killing a baby.\"', '\"False. This is not a valid definition of atheism.\"', '\"Actually, most people do not hold the view that existing marriages should be dissolved.\"', '\"Although few mothers would do such a thing, I think that it is clear a mother would have the same right to do this as with a world-famous violinist.\"', '\"Actually, SkepticGunt expressed the opinion that the speed of light is the greatest anti-creationist argument.\"', '\"Just some interesting information I learned when we went caving a couple years ago ( a real cave, not one of the commercialized ones ). Bats actually have better eyesite than humans, but even they can\\'t see in pitch black. No eye can.\"', '\"I\\'m confused. Are you saying photo-sensitive bacteria aren\\'t scientifically possible?\"', '\"Everything basically. You\\'re held captive by hostile natives that have set up barricades and checkpoints around the property you live on.\"', '\"Uh, how?\"', '\"This argument is self-defeating. A theory is not a fact, no matter how much evidence may support the theory.\"', '\"Go get them Rev. It absolutely astounds me that there are Americans who feel that they can me people JUSTIFY things that other Americans want to do.\"', '\"versus how many suicides? Different strokes for different folks.\"', '\"So you don\\'t believe that God took a rib from Adam\\'s side to create woman?\"', '\"So why can not juvenile crimes which would otherwise be death penalty eligible be treated on a case-by-case basis?\"', '\"I see you Americans deal as loosely with the French and Spanish languages, as you do with English!\"', '\"No, we have adapted, but we are not intended to do so.\"', '\"Actually it couldn\\'t be any worse then it is right now.\"', '\"Actually not.\"', '\"Well, you\\'ve told me you do not believe, literally, in the book of genesis.\"', '\"this guy is so bad ad arguing and so good at alienating people that if we sent him into the abortion forum, it is likely, he \\'d be so ineffective at defending his pro-life position thathe \\'d actually be contributing to the pro-choice position...\"', '\"Reasonable gun regulation is an oxymoron like military intelligence.\"', '\"The redundant 0.3GHz version was replaced by a serial 0.7GHz upgrade which ironed out most of the problems of the older model.\"', '\"The same God that created a troll like you.\"', '\"I think you may have missed this part of the article.\"', '\"It wouldn\\'t. Altering any of the fundamental universal constants changes them all.\"', '\"I would like him to provide evidence in support of his repeated claim that posters here have frequently said `` that honest citizens will commit crimes if given guns. ``\"', '\"I\\'m not surprised.\"', '\"Ignoring your absurd claim that an embryo can choose its location, why does it matter.\"', '\"Muslims.\"', '\"\"', '\"See above.\"', '\"Different sciences. There are different spins on the data depending upon your socio-political background.\"', '\"Well, they did.\"', '\"So doing a detailed study of something requires that one takes a class for it in a university and reads books papers written on it by `` real scientists ``?\"', '\"do you have proof of such a statement?\"', '\"No... and you don\\'t have to either.\"', '\"Yep. ( I\\'m assuming that by `` belief system ``, you mean a methodology of gaining knowledge ) Science depends on evidence. I have to use a different belief system for understanding the supernatural, of course. Both belief systems are valid in their proper places.\"', '\"Being in the minority or in the majority is irrelevant. Belief has no bearing on reality.\"', '\"I probably wouldn\\'t bet my XXX, but whatever you say\"', '\"and gun nuts say f * * * the children when we have to decide between saving guns and childrens lives\"', '\"k\"']\n"
          ]
        }
      ]
    },
    {
      "cell_type": "code",
      "source": [
        "ans = pd.DataFrame({\"id\": test['id'], \"q\": q_ans, \"r\": r_ans})\n",
        "print(ans.head())"
      ],
      "metadata": {
        "id": "9utKwSKbBse5",
        "colab": {
          "base_uri": "https://localhost:8080/"
        },
        "outputId": "5b687f45-77c5-4a6c-8802-247c7f249cdb"
      },
      "execution_count": null,
      "outputs": [
        {
          "output_type": "stream",
          "name": "stdout",
          "text": [
            "     id                                                  q  \\\n",
            "0  6199                                              \"<s>\"   \n",
            "1  5807  \"a private screening of a film is a private sc...   \n",
            "2  8487  \"The guns these people have, they don't regist...   \n",
            "3  1760  \"You don't need no stinkin'motive! You got a g...   \n",
            "4  6228  \"This is the argument concerning 'choice'that,...   \n",
            "\n",
            "                                                   r  \n",
            "0  \"If so, why do we still have apes, and why are...  \n",
            "1  \"Of course. The makers of Expelled were within...  \n",
            "2  \"Oh, I would wager about like Mexico, about 80...  \n",
            "3  \"Pickup strikes group of four youths | Houston...  \n",
            "4  \"I believe there is a point at which we ( soci...  \n"
          ]
        }
      ]
    },
    {
      "cell_type": "code",
      "source": [
        "import os\n",
        "os.chdir('/content/drive/My Drive/AICUP') #切換該目錄\n",
        "os.listdir() #確認目錄內容"
      ],
      "metadata": {
        "id": "N3NvQgn9Dqaa",
        "colab": {
          "base_uri": "https://localhost:8080/"
        },
        "outputId": "13392960-755e-4049-c6ca-335b37c395fc"
      },
      "execution_count": null,
      "outputs": [
        {
          "output_type": "execute_result",
          "data": {
            "text/plain": [
              "['「roberta_5e-4',\n",
              " 'Batch_answers - train_data (no-blank).csv',\n",
              " 'aicup_model',\n",
              " 'aicup_model_takefirst',\n",
              " 'Batch_answers - test_data(no_label).csv',\n",
              " 'test-submit_ans.txt',\n",
              " 'test-submit_ans.csv',\n",
              " 'test-submit_copy.csv',\n",
              " 'distiltbert_model',\n",
              " 'test-submit_distiltbert.csv',\n",
              " 'roberta_model',\n",
              " 'test-submit_roberta.csv',\n",
              " 'baseline3epoch_model',\n",
              " \"don't_change_2022_AIcup_baseline\",\n",
              " 'test-submit_robertax3.csv',\n",
              " 'test-submit_robertax2.csv',\n",
              " 'test-submit_convbertx2.csv',\n",
              " 'convbertx2',\n",
              " 'convbertx2_model',\n",
              " 'convbertx3_model',\n",
              " 'test-submit_convbertx3.csv',\n",
              " 'test-submit_baseline3epoch.csv',\n",
              " 'convbertx3',\n",
              " 'distiltbert 的副本',\n",
              " 'electrax2',\n",
              " 'longformer',\n",
              " 'roberta 的副本',\n",
              " 'robertax2_3.5e-5_model',\n",
              " 'roberta_3.5e-5',\n",
              " 'robertax2_1e-5_model',\n",
              " 'robertax2_5e-4_model',\n",
              " 'robertax2_model',\n",
              " '「roberta_1e-5']"
            ]
          },
          "metadata": {},
          "execution_count": 30
        }
      ]
    },
    {
      "cell_type": "code",
      "source": [
        "ans.to_csv('test-submit_robertax2_5e-4.csv', sep=',', index=False, encoding='utf-8')"
      ],
      "metadata": {
        "id": "56E4bDNbC6T2"
      },
      "execution_count": null,
      "outputs": []
    },
    {
      "cell_type": "markdown",
      "source": [
        "## Grading"
      ],
      "metadata": {
        "id": "5SUC-vq-70Ye"
      }
    },
    {
      "cell_type": "code",
      "source": [
        "def nltk_token_string(sentence):\n",
        "    # print(sentence)\n",
        "    tokens = nltk.word_tokenize(sentence)\n",
        "    for i in range(len(tokens)):\n",
        "        if len(tokens[i]) == 1:\n",
        "            tokens[i] = re.sub(r\"[!\\\"#$%&\\'()*\\+, -.\\/:;<=>?@\\[\\\\\\]^_`{|}~]\", '', tokens[i])\n",
        "    while '' in tokens:\n",
        "        tokens.remove('')\n",
        "    tokens = ' '.join(tokens)\n",
        "    return tokens"
      ],
      "metadata": {
        "id": "S6QjZ3G5fL90"
      },
      "execution_count": null,
      "outputs": []
    },
    {
      "cell_type": "code",
      "source": [
        "def lcs(X, Y):\n",
        "    X_, Y_ = [], []\n",
        "    \n",
        "    X_ = nltk_token_string(X)\n",
        "    Y_ = nltk_token_string(Y)\n",
        "\n",
        "    m = len(X_)\n",
        "    n = len(Y_)\n",
        " \n",
        "    # declaring the array for storing the dp values\n",
        "    L = [[None]*(n + 1) for i in range(m + 1)]\n",
        " \n",
        "    \"\"\"Following steps build L[m + 1][n + 1] in bottom up fashion\n",
        "    Note: L[i][j] contains length of LCS of X[0..i-1]\n",
        "    and Y[0..j-1]\"\"\"\n",
        "    for i in range(m + 1):\n",
        "        for j in range(n + 1):\n",
        "            if i == 0 or j == 0 :\n",
        "                L[i][j] = 0\n",
        "            elif X_[i-1] == Y_[j-1]:\n",
        "                L[i][j] = L[i-1][j-1]+1\n",
        "            else:\n",
        "                L[i][j] = max(L[i-1][j], L[i][j-1])\n",
        " \n",
        "    # L[m][n] contains the length of LCS of X[0..n-1] & Y[0..m-1]\n",
        "    return L[m][n]\n",
        "\n",
        "\n",
        "def acc(full, sub):\n",
        "    common = lcs(full, sub)\n",
        "    union = len(full) + len(sub) - common\n",
        "    accuracy = float(common/union)\n",
        "\n",
        "    return accuracy"
      ],
      "metadata": {
        "id": "xYkzHmd6K9FY"
      },
      "execution_count": null,
      "outputs": []
    },
    {
      "cell_type": "code",
      "source": [
        "q_acc_sum = 0\n",
        "r_acc_sum = 0\n",
        "for i in range(test.shape[0]):\n",
        "    q_accuracy = acc(test.iloc[i][\"q'\"], test.iloc[i]['q_sub'])\n",
        "    r_accuracy = acc(test.iloc[i][\"r'\"], test.iloc[i]['r_sub'])\n",
        "\n",
        "    q_acc_sum += q_accuracy\n",
        "    r_acc_sum += r_accuracy\n",
        "\n",
        "print(\"q accuracy: \", q_acc_sum/test.shape[0])\n",
        "print(\"r accuracy: \", r_acc_sum/test.shape[0])"
      ],
      "metadata": {
        "id": "QCAUVxV7Kg2j"
      },
      "execution_count": null,
      "outputs": []
    }
  ]
}